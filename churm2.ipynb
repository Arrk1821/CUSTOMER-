{
 "cells": [
  {
   "cell_type": "code",
   "execution_count": 1,
   "id": "70e34c4d-e2e7-45dc-bb5c-8fca5d5ba0c7",
   "metadata": {},
   "outputs": [],
   "source": [
    "from imblearn.combine import SMOTETomek\n",
    "from imblearn.under_sampling import TomekLinks\n",
    "smt = SMOTETomek(random_state= 42)"
   ]
  },
  {
   "cell_type": "code",
   "execution_count": 2,
   "id": "2805f6bc-7a47-4297-aa5c-d51057ae1e75",
   "metadata": {},
   "outputs": [
    {
     "name": "stdout",
     "output_type": "stream",
     "text": [
      "Defaulting to user installation because normal site-packages is not writeable\n",
      "Requirement already satisfied: missingno in c:\\users\\arrkr\\appdata\\roaming\\python\\python310\\site-packages (0.5.2)\n",
      "Requirement already satisfied: numpy in c:\\users\\arrkr\\appdata\\roaming\\python\\python310\\site-packages (from missingno) (2.2.6)\n",
      "Requirement already satisfied: matplotlib in c:\\users\\arrkr\\appdata\\roaming\\python\\python310\\site-packages (from missingno) (3.6.3)\n",
      "Requirement already satisfied: scipy in c:\\users\\arrkr\\appdata\\roaming\\python\\python310\\site-packages (from missingno) (1.15.3)\n",
      "Requirement already satisfied: seaborn in c:\\users\\arrkr\\appdata\\roaming\\python\\python310\\site-packages (from missingno) (0.12.2)\n",
      "Requirement already satisfied: contourpy>=1.0.1 in c:\\users\\arrkr\\appdata\\roaming\\python\\python310\\site-packages (from matplotlib->missingno) (1.3.2)\n",
      "Requirement already satisfied: cycler>=0.10 in c:\\users\\arrkr\\appdata\\roaming\\python\\python310\\site-packages (from matplotlib->missingno) (0.12.1)\n",
      "Requirement already satisfied: fonttools>=4.22.0 in c:\\users\\arrkr\\appdata\\roaming\\python\\python310\\site-packages (from matplotlib->missingno) (4.59.0)\n",
      "Requirement already satisfied: kiwisolver>=1.0.1 in c:\\users\\arrkr\\appdata\\roaming\\python\\python310\\site-packages (from matplotlib->missingno) (1.4.8)\n",
      "Requirement already satisfied: packaging>=20.0 in c:\\users\\arrkr\\appdata\\roaming\\python\\python310\\site-packages (from matplotlib->missingno) (25.0)\n",
      "Requirement already satisfied: pillow>=6.2.0 in c:\\users\\arrkr\\appdata\\roaming\\python\\python310\\site-packages (from matplotlib->missingno) (11.3.0)\n",
      "Requirement already satisfied: pyparsing>=2.2.1 in c:\\users\\arrkr\\appdata\\roaming\\python\\python310\\site-packages (from matplotlib->missingno) (3.2.3)\n",
      "Requirement already satisfied: python-dateutil>=2.7 in c:\\users\\arrkr\\appdata\\roaming\\python\\python310\\site-packages (from matplotlib->missingno) (2.9.0.post0)\n",
      "Requirement already satisfied: six>=1.5 in c:\\users\\arrkr\\appdata\\roaming\\python\\python310\\site-packages (from python-dateutil>=2.7->matplotlib->missingno) (1.17.0)\n",
      "Requirement already satisfied: pandas>=0.25 in c:\\users\\arrkr\\appdata\\roaming\\python\\python310\\site-packages (from seaborn->missingno) (1.5.3)\n",
      "Requirement already satisfied: pytz>=2020.1 in c:\\users\\arrkr\\appdata\\roaming\\python\\python310\\site-packages (from pandas>=0.25->seaborn->missingno) (2025.2)\n"
     ]
    }
   ],
   "source": [
    "!pip install missingno"
   ]
  },
  {
   "cell_type": "code",
   "execution_count": 3,
   "id": "e7fb335a-bf1e-4566-9d9d-d750990f52c0",
   "metadata": {},
   "outputs": [
    {
     "name": "stdout",
     "output_type": "stream",
     "text": [
      "Defaulting to user installation because normal site-packages is not writeable\n",
      "Requirement already satisfied: xgboost in c:\\users\\arrkr\\appdata\\roaming\\python\\python310\\site-packages (3.0.5)\n",
      "Requirement already satisfied: numpy in c:\\users\\arrkr\\appdata\\roaming\\python\\python310\\site-packages (from xgboost) (2.2.6)\n",
      "Requirement already satisfied: scipy in c:\\users\\arrkr\\appdata\\roaming\\python\\python310\\site-packages (from xgboost) (1.15.3)\n"
     ]
    }
   ],
   "source": [
    "!pip install xgboost\n"
   ]
  },
  {
   "cell_type": "code",
   "execution_count": 4,
   "id": "634b8ca2-4f36-45e2-8da5-a3cb81ef26bb",
   "metadata": {},
   "outputs": [],
   "source": [
    "import numpy as np\n",
    "import pandas as pd\n",
    "import matplotlib.pyplot as plt\n",
    "import seaborn as sns\n",
    "import missingno as msno\n",
    "\n",
    "from sklearn.model_selection import train_test_split, cross_val_score, GridSearchCV, RandomizedSearchCV, StratifiedKFold, validation_curve, learning_curve, cross_validate\n",
    "from sklearn.linear_model import LogisticRegression, LinearRegression, Lasso, Ridge, ElasticNet, SGDClassifier\n",
    "from sklearn.ensemble import RandomForestClassifier\n",
    "from sklearn.svm import SVC\n",
    "from sklearn.preprocessing import MinMaxScaler, RobustScaler, StandardScaler, LabelEncoder\n",
    "from xgboost import XGBClassifier\n",
    "\n",
    "from sklearn.metrics import precision_score, recall_score, f1_score, roc_auc_score, accuracy_score, confusion_matrix, classification_report\n",
    "\n",
    "import warnings\n",
    "warnings.simplefilter(action = 'ignore')\n"
   ]
  },
  {
   "cell_type": "code",
   "execution_count": 5,
   "id": "8329fe1a-7979-4f97-914e-e9a4f8c0d9fd",
   "metadata": {},
   "outputs": [
    {
     "name": "stdout",
     "output_type": "stream",
     "text": [
      "✅ Encoding done. CSV saved at: C:\\Users\\arrkr\\OneDrive\\Desktop\\ai &ml projects\\df_encoded_churn.csv\n",
      "   CustomerID  Churn  Tenure  PreferredLoginDevice  CityTier  WarehouseToHome  \\\n",
      "0       50001      1     4.0                     1         2              6.0   \n",
      "1       50002      1     NaN                     2         0              8.0   \n",
      "2       50003      1     NaN                     2         0             30.0   \n",
      "3       50004      1     0.0                     2         2             15.0   \n",
      "4       50005      1     0.0                     2         0             12.0   \n",
      "\n",
      "   PreferredPaymentMode  Gender  HourSpendOnApp  NumberOfDeviceRegistered  \\\n",
      "0                     4       0             3.0                         3   \n",
      "1                     6       1             3.0                         4   \n",
      "2                     4       1             2.0                         4   \n",
      "3                     4       1             2.0                         4   \n",
      "4                     0       1             NaN                         3   \n",
      "\n",
      "   PreferedOrderCat  SatisfactionScore  MaritalStatus  NumberOfAddress  \\\n",
      "0                 2                  2              2                9   \n",
      "1                 3                  3              2                7   \n",
      "2                 3                  3              2                6   \n",
      "3                 2                  5              2                8   \n",
      "4                 3                  5              2                3   \n",
      "\n",
      "   Complain  OrderAmountHikeFromlastYear  CouponUsed  OrderCount  \\\n",
      "0         1                         11.0         1.0         1.0   \n",
      "1         1                         15.0         0.0         1.0   \n",
      "2         1                         14.0         0.0         1.0   \n",
      "3         0                         23.0         0.0         1.0   \n",
      "4         0                         11.0         1.0         1.0   \n",
      "\n",
      "   DaySinceLastOrder  CashbackAmount  \n",
      "0                5.0          159.93  \n",
      "1                0.0          120.90  \n",
      "2                3.0          120.28  \n",
      "3                3.0          134.07  \n",
      "4                3.0          129.60  \n"
     ]
    }
   ],
   "source": [
    "import pandas as pd\n",
    "from sklearn.preprocessing import LabelEncoder\n",
    "import os\n",
    "\n",
    "\n",
    "excel_path = r\"C:\\Users\\arrkr\\OneDrive\\Desktop\\ai &ml projects\\E Commerce Dataset 33.xlsx\"\n",
    "df = pd.read_excel(excel_path, sheet_name=\"E Comm\")  \n",
    "\n",
    "\n",
    "df.columns = df.columns.str.strip()\n",
    "\n",
    "\n",
    "cat_cols = ['PreferredLoginDevice', 'CityTier', 'PreferredPaymentMode',\n",
    "            'Gender', 'MaritalStatus', 'PreferedOrderCat']\n",
    "\n",
    "\n",
    "df_encoded = df.copy()\n",
    "for col in cat_cols:\n",
    "    le = LabelEncoder()\n",
    "    df_encoded[col] = le.fit_transform(df_encoded[col])\n",
    "\n",
    "\n",
    "output_folder = r\"C:\\Users\\arrkr\\OneDrive\\Desktop\\ai &ml projects\"\n",
    "os.makedirs(output_folder, exist_ok=True)\n",
    "\n",
    "\n",
    "output_path = os.path.join(output_folder, \"df_encoded_churn.csv\")\n",
    "df_encoded.to_csv(output_path, index=False)\n",
    "\n",
    "print(\"✅ Encoding done. CSV saved at:\", output_path)\n",
    "print(df_encoded.head())\n"
   ]
  },
  {
   "cell_type": "code",
   "execution_count": 6,
   "id": "f3931fff-c011-4fc6-b7c6-74028a0aed0e",
   "metadata": {},
   "outputs": [],
   "source": [
    "df_encoded = pd.read_csv(r\"C:\\Users\\arrkr\\OneDrive\\Desktop\\ai &ml projects\\df_encoded_churn.csv\")\n"
   ]
  },
  {
   "cell_type": "code",
   "execution_count": 7,
   "id": "15614f15-091f-42a0-8b5d-d410f3ca9068",
   "metadata": {},
   "outputs": [
    {
     "data": {
      "text/html": [
       "<div>\n",
       "<style scoped>\n",
       "    .dataframe tbody tr th:only-of-type {\n",
       "        vertical-align: middle;\n",
       "    }\n",
       "\n",
       "    .dataframe tbody tr th {\n",
       "        vertical-align: top;\n",
       "    }\n",
       "\n",
       "    .dataframe thead th {\n",
       "        text-align: right;\n",
       "    }\n",
       "</style>\n",
       "<table border=\"1\" class=\"dataframe\">\n",
       "  <thead>\n",
       "    <tr style=\"text-align: right;\">\n",
       "      <th></th>\n",
       "      <th>CustomerID</th>\n",
       "      <th>Churn</th>\n",
       "      <th>Tenure</th>\n",
       "      <th>PreferredLoginDevice</th>\n",
       "      <th>CityTier</th>\n",
       "      <th>WarehouseToHome</th>\n",
       "      <th>PreferredPaymentMode</th>\n",
       "      <th>Gender</th>\n",
       "      <th>HourSpendOnApp</th>\n",
       "      <th>NumberOfDeviceRegistered</th>\n",
       "      <th>PreferedOrderCat</th>\n",
       "      <th>SatisfactionScore</th>\n",
       "      <th>MaritalStatus</th>\n",
       "      <th>NumberOfAddress</th>\n",
       "      <th>Complain</th>\n",
       "      <th>OrderAmountHikeFromlastYear</th>\n",
       "      <th>CouponUsed</th>\n",
       "      <th>OrderCount</th>\n",
       "      <th>DaySinceLastOrder</th>\n",
       "      <th>CashbackAmount</th>\n",
       "    </tr>\n",
       "  </thead>\n",
       "  <tbody>\n",
       "    <tr>\n",
       "      <th>0</th>\n",
       "      <td>50001</td>\n",
       "      <td>1</td>\n",
       "      <td>4.0</td>\n",
       "      <td>1</td>\n",
       "      <td>2</td>\n",
       "      <td>6.0</td>\n",
       "      <td>4</td>\n",
       "      <td>0</td>\n",
       "      <td>3.0</td>\n",
       "      <td>3</td>\n",
       "      <td>2</td>\n",
       "      <td>2</td>\n",
       "      <td>2</td>\n",
       "      <td>9</td>\n",
       "      <td>1</td>\n",
       "      <td>11.0</td>\n",
       "      <td>1.0</td>\n",
       "      <td>1.0</td>\n",
       "      <td>5.0</td>\n",
       "      <td>159.93</td>\n",
       "    </tr>\n",
       "    <tr>\n",
       "      <th>1</th>\n",
       "      <td>50002</td>\n",
       "      <td>1</td>\n",
       "      <td>NaN</td>\n",
       "      <td>2</td>\n",
       "      <td>0</td>\n",
       "      <td>8.0</td>\n",
       "      <td>6</td>\n",
       "      <td>1</td>\n",
       "      <td>3.0</td>\n",
       "      <td>4</td>\n",
       "      <td>3</td>\n",
       "      <td>3</td>\n",
       "      <td>2</td>\n",
       "      <td>7</td>\n",
       "      <td>1</td>\n",
       "      <td>15.0</td>\n",
       "      <td>0.0</td>\n",
       "      <td>1.0</td>\n",
       "      <td>0.0</td>\n",
       "      <td>120.90</td>\n",
       "    </tr>\n",
       "    <tr>\n",
       "      <th>2</th>\n",
       "      <td>50003</td>\n",
       "      <td>1</td>\n",
       "      <td>NaN</td>\n",
       "      <td>2</td>\n",
       "      <td>0</td>\n",
       "      <td>30.0</td>\n",
       "      <td>4</td>\n",
       "      <td>1</td>\n",
       "      <td>2.0</td>\n",
       "      <td>4</td>\n",
       "      <td>3</td>\n",
       "      <td>3</td>\n",
       "      <td>2</td>\n",
       "      <td>6</td>\n",
       "      <td>1</td>\n",
       "      <td>14.0</td>\n",
       "      <td>0.0</td>\n",
       "      <td>1.0</td>\n",
       "      <td>3.0</td>\n",
       "      <td>120.28</td>\n",
       "    </tr>\n",
       "    <tr>\n",
       "      <th>3</th>\n",
       "      <td>50004</td>\n",
       "      <td>1</td>\n",
       "      <td>0.0</td>\n",
       "      <td>2</td>\n",
       "      <td>2</td>\n",
       "      <td>15.0</td>\n",
       "      <td>4</td>\n",
       "      <td>1</td>\n",
       "      <td>2.0</td>\n",
       "      <td>4</td>\n",
       "      <td>2</td>\n",
       "      <td>5</td>\n",
       "      <td>2</td>\n",
       "      <td>8</td>\n",
       "      <td>0</td>\n",
       "      <td>23.0</td>\n",
       "      <td>0.0</td>\n",
       "      <td>1.0</td>\n",
       "      <td>3.0</td>\n",
       "      <td>134.07</td>\n",
       "    </tr>\n",
       "    <tr>\n",
       "      <th>4</th>\n",
       "      <td>50005</td>\n",
       "      <td>1</td>\n",
       "      <td>0.0</td>\n",
       "      <td>2</td>\n",
       "      <td>0</td>\n",
       "      <td>12.0</td>\n",
       "      <td>0</td>\n",
       "      <td>1</td>\n",
       "      <td>NaN</td>\n",
       "      <td>3</td>\n",
       "      <td>3</td>\n",
       "      <td>5</td>\n",
       "      <td>2</td>\n",
       "      <td>3</td>\n",
       "      <td>0</td>\n",
       "      <td>11.0</td>\n",
       "      <td>1.0</td>\n",
       "      <td>1.0</td>\n",
       "      <td>3.0</td>\n",
       "      <td>129.60</td>\n",
       "    </tr>\n",
       "    <tr>\n",
       "      <th>...</th>\n",
       "      <td>...</td>\n",
       "      <td>...</td>\n",
       "      <td>...</td>\n",
       "      <td>...</td>\n",
       "      <td>...</td>\n",
       "      <td>...</td>\n",
       "      <td>...</td>\n",
       "      <td>...</td>\n",
       "      <td>...</td>\n",
       "      <td>...</td>\n",
       "      <td>...</td>\n",
       "      <td>...</td>\n",
       "      <td>...</td>\n",
       "      <td>...</td>\n",
       "      <td>...</td>\n",
       "      <td>...</td>\n",
       "      <td>...</td>\n",
       "      <td>...</td>\n",
       "      <td>...</td>\n",
       "      <td>...</td>\n",
       "    </tr>\n",
       "    <tr>\n",
       "      <th>5625</th>\n",
       "      <td>55626</td>\n",
       "      <td>0</td>\n",
       "      <td>10.0</td>\n",
       "      <td>0</td>\n",
       "      <td>0</td>\n",
       "      <td>30.0</td>\n",
       "      <td>3</td>\n",
       "      <td>1</td>\n",
       "      <td>3.0</td>\n",
       "      <td>2</td>\n",
       "      <td>2</td>\n",
       "      <td>1</td>\n",
       "      <td>1</td>\n",
       "      <td>6</td>\n",
       "      <td>0</td>\n",
       "      <td>18.0</td>\n",
       "      <td>1.0</td>\n",
       "      <td>2.0</td>\n",
       "      <td>4.0</td>\n",
       "      <td>150.71</td>\n",
       "    </tr>\n",
       "    <tr>\n",
       "      <th>5626</th>\n",
       "      <td>55627</td>\n",
       "      <td>0</td>\n",
       "      <td>13.0</td>\n",
       "      <td>1</td>\n",
       "      <td>0</td>\n",
       "      <td>13.0</td>\n",
       "      <td>3</td>\n",
       "      <td>1</td>\n",
       "      <td>3.0</td>\n",
       "      <td>5</td>\n",
       "      <td>0</td>\n",
       "      <td>5</td>\n",
       "      <td>1</td>\n",
       "      <td>6</td>\n",
       "      <td>0</td>\n",
       "      <td>16.0</td>\n",
       "      <td>1.0</td>\n",
       "      <td>2.0</td>\n",
       "      <td>NaN</td>\n",
       "      <td>224.91</td>\n",
       "    </tr>\n",
       "    <tr>\n",
       "      <th>5627</th>\n",
       "      <td>55628</td>\n",
       "      <td>0</td>\n",
       "      <td>1.0</td>\n",
       "      <td>1</td>\n",
       "      <td>0</td>\n",
       "      <td>11.0</td>\n",
       "      <td>4</td>\n",
       "      <td>1</td>\n",
       "      <td>3.0</td>\n",
       "      <td>2</td>\n",
       "      <td>2</td>\n",
       "      <td>4</td>\n",
       "      <td>1</td>\n",
       "      <td>3</td>\n",
       "      <td>1</td>\n",
       "      <td>21.0</td>\n",
       "      <td>1.0</td>\n",
       "      <td>2.0</td>\n",
       "      <td>4.0</td>\n",
       "      <td>186.42</td>\n",
       "    </tr>\n",
       "    <tr>\n",
       "      <th>5628</th>\n",
       "      <td>55629</td>\n",
       "      <td>0</td>\n",
       "      <td>23.0</td>\n",
       "      <td>0</td>\n",
       "      <td>2</td>\n",
       "      <td>9.0</td>\n",
       "      <td>3</td>\n",
       "      <td>1</td>\n",
       "      <td>4.0</td>\n",
       "      <td>5</td>\n",
       "      <td>2</td>\n",
       "      <td>4</td>\n",
       "      <td>1</td>\n",
       "      <td>4</td>\n",
       "      <td>0</td>\n",
       "      <td>15.0</td>\n",
       "      <td>2.0</td>\n",
       "      <td>2.0</td>\n",
       "      <td>9.0</td>\n",
       "      <td>178.90</td>\n",
       "    </tr>\n",
       "    <tr>\n",
       "      <th>5629</th>\n",
       "      <td>55630</td>\n",
       "      <td>0</td>\n",
       "      <td>8.0</td>\n",
       "      <td>1</td>\n",
       "      <td>0</td>\n",
       "      <td>15.0</td>\n",
       "      <td>3</td>\n",
       "      <td>1</td>\n",
       "      <td>3.0</td>\n",
       "      <td>2</td>\n",
       "      <td>2</td>\n",
       "      <td>3</td>\n",
       "      <td>1</td>\n",
       "      <td>4</td>\n",
       "      <td>0</td>\n",
       "      <td>13.0</td>\n",
       "      <td>2.0</td>\n",
       "      <td>2.0</td>\n",
       "      <td>3.0</td>\n",
       "      <td>169.04</td>\n",
       "    </tr>\n",
       "  </tbody>\n",
       "</table>\n",
       "<p>5630 rows × 20 columns</p>\n",
       "</div>"
      ],
      "text/plain": [
       "      CustomerID  Churn  Tenure  PreferredLoginDevice  CityTier  \\\n",
       "0          50001      1     4.0                     1         2   \n",
       "1          50002      1     NaN                     2         0   \n",
       "2          50003      1     NaN                     2         0   \n",
       "3          50004      1     0.0                     2         2   \n",
       "4          50005      1     0.0                     2         0   \n",
       "...          ...    ...     ...                   ...       ...   \n",
       "5625       55626      0    10.0                     0         0   \n",
       "5626       55627      0    13.0                     1         0   \n",
       "5627       55628      0     1.0                     1         0   \n",
       "5628       55629      0    23.0                     0         2   \n",
       "5629       55630      0     8.0                     1         0   \n",
       "\n",
       "      WarehouseToHome  PreferredPaymentMode  Gender  HourSpendOnApp  \\\n",
       "0                 6.0                     4       0             3.0   \n",
       "1                 8.0                     6       1             3.0   \n",
       "2                30.0                     4       1             2.0   \n",
       "3                15.0                     4       1             2.0   \n",
       "4                12.0                     0       1             NaN   \n",
       "...               ...                   ...     ...             ...   \n",
       "5625             30.0                     3       1             3.0   \n",
       "5626             13.0                     3       1             3.0   \n",
       "5627             11.0                     4       1             3.0   \n",
       "5628              9.0                     3       1             4.0   \n",
       "5629             15.0                     3       1             3.0   \n",
       "\n",
       "      NumberOfDeviceRegistered  PreferedOrderCat  SatisfactionScore  \\\n",
       "0                            3                 2                  2   \n",
       "1                            4                 3                  3   \n",
       "2                            4                 3                  3   \n",
       "3                            4                 2                  5   \n",
       "4                            3                 3                  5   \n",
       "...                        ...               ...                ...   \n",
       "5625                         2                 2                  1   \n",
       "5626                         5                 0                  5   \n",
       "5627                         2                 2                  4   \n",
       "5628                         5                 2                  4   \n",
       "5629                         2                 2                  3   \n",
       "\n",
       "      MaritalStatus  NumberOfAddress  Complain  OrderAmountHikeFromlastYear  \\\n",
       "0                 2                9         1                         11.0   \n",
       "1                 2                7         1                         15.0   \n",
       "2                 2                6         1                         14.0   \n",
       "3                 2                8         0                         23.0   \n",
       "4                 2                3         0                         11.0   \n",
       "...             ...              ...       ...                          ...   \n",
       "5625              1                6         0                         18.0   \n",
       "5626              1                6         0                         16.0   \n",
       "5627              1                3         1                         21.0   \n",
       "5628              1                4         0                         15.0   \n",
       "5629              1                4         0                         13.0   \n",
       "\n",
       "      CouponUsed  OrderCount  DaySinceLastOrder  CashbackAmount  \n",
       "0            1.0         1.0                5.0          159.93  \n",
       "1            0.0         1.0                0.0          120.90  \n",
       "2            0.0         1.0                3.0          120.28  \n",
       "3            0.0         1.0                3.0          134.07  \n",
       "4            1.0         1.0                3.0          129.60  \n",
       "...          ...         ...                ...             ...  \n",
       "5625         1.0         2.0                4.0          150.71  \n",
       "5626         1.0         2.0                NaN          224.91  \n",
       "5627         1.0         2.0                4.0          186.42  \n",
       "5628         2.0         2.0                9.0          178.90  \n",
       "5629         2.0         2.0                3.0          169.04  \n",
       "\n",
       "[5630 rows x 20 columns]"
      ]
     },
     "execution_count": 7,
     "metadata": {},
     "output_type": "execute_result"
    }
   ],
   "source": [
    "df_encoded "
   ]
  },
  {
   "cell_type": "code",
   "execution_count": 8,
   "id": "e94f28d2-1589-4e62-9260-38de862d389c",
   "metadata": {},
   "outputs": [],
   "source": [
    "df_encoded = pd.read_csv(r\"C:\\Users\\arrkr\\OneDrive\\Desktop\\ai &ml projects\\df_encoded_churn.csv\")\n"
   ]
  },
  {
   "cell_type": "code",
   "execution_count": 9,
   "id": "f13f8311-e1e0-429c-bb39-15e6b118f6d5",
   "metadata": {},
   "outputs": [
    {
     "data": {
      "text/html": [
       "<div>\n",
       "<style scoped>\n",
       "    .dataframe tbody tr th:only-of-type {\n",
       "        vertical-align: middle;\n",
       "    }\n",
       "\n",
       "    .dataframe tbody tr th {\n",
       "        vertical-align: top;\n",
       "    }\n",
       "\n",
       "    .dataframe thead th {\n",
       "        text-align: right;\n",
       "    }\n",
       "</style>\n",
       "<table border=\"1\" class=\"dataframe\">\n",
       "  <thead>\n",
       "    <tr style=\"text-align: right;\">\n",
       "      <th></th>\n",
       "      <th>CustomerID</th>\n",
       "      <th>Churn</th>\n",
       "      <th>Tenure</th>\n",
       "      <th>PreferredLoginDevice</th>\n",
       "      <th>CityTier</th>\n",
       "      <th>WarehouseToHome</th>\n",
       "      <th>PreferredPaymentMode</th>\n",
       "      <th>Gender</th>\n",
       "      <th>HourSpendOnApp</th>\n",
       "      <th>NumberOfDeviceRegistered</th>\n",
       "      <th>PreferedOrderCat</th>\n",
       "      <th>SatisfactionScore</th>\n",
       "      <th>MaritalStatus</th>\n",
       "      <th>NumberOfAddress</th>\n",
       "      <th>Complain</th>\n",
       "      <th>OrderAmountHikeFromlastYear</th>\n",
       "      <th>CouponUsed</th>\n",
       "      <th>OrderCount</th>\n",
       "      <th>DaySinceLastOrder</th>\n",
       "      <th>CashbackAmount</th>\n",
       "    </tr>\n",
       "  </thead>\n",
       "  <tbody>\n",
       "    <tr>\n",
       "      <th>0</th>\n",
       "      <td>50001</td>\n",
       "      <td>1</td>\n",
       "      <td>4.0</td>\n",
       "      <td>1</td>\n",
       "      <td>2</td>\n",
       "      <td>6.0</td>\n",
       "      <td>4</td>\n",
       "      <td>0</td>\n",
       "      <td>3.0</td>\n",
       "      <td>3</td>\n",
       "      <td>2</td>\n",
       "      <td>2</td>\n",
       "      <td>2</td>\n",
       "      <td>9</td>\n",
       "      <td>1</td>\n",
       "      <td>11.0</td>\n",
       "      <td>1.0</td>\n",
       "      <td>1.0</td>\n",
       "      <td>5.0</td>\n",
       "      <td>159.93</td>\n",
       "    </tr>\n",
       "    <tr>\n",
       "      <th>1</th>\n",
       "      <td>50002</td>\n",
       "      <td>1</td>\n",
       "      <td>NaN</td>\n",
       "      <td>2</td>\n",
       "      <td>0</td>\n",
       "      <td>8.0</td>\n",
       "      <td>6</td>\n",
       "      <td>1</td>\n",
       "      <td>3.0</td>\n",
       "      <td>4</td>\n",
       "      <td>3</td>\n",
       "      <td>3</td>\n",
       "      <td>2</td>\n",
       "      <td>7</td>\n",
       "      <td>1</td>\n",
       "      <td>15.0</td>\n",
       "      <td>0.0</td>\n",
       "      <td>1.0</td>\n",
       "      <td>0.0</td>\n",
       "      <td>120.90</td>\n",
       "    </tr>\n",
       "    <tr>\n",
       "      <th>2</th>\n",
       "      <td>50003</td>\n",
       "      <td>1</td>\n",
       "      <td>NaN</td>\n",
       "      <td>2</td>\n",
       "      <td>0</td>\n",
       "      <td>30.0</td>\n",
       "      <td>4</td>\n",
       "      <td>1</td>\n",
       "      <td>2.0</td>\n",
       "      <td>4</td>\n",
       "      <td>3</td>\n",
       "      <td>3</td>\n",
       "      <td>2</td>\n",
       "      <td>6</td>\n",
       "      <td>1</td>\n",
       "      <td>14.0</td>\n",
       "      <td>0.0</td>\n",
       "      <td>1.0</td>\n",
       "      <td>3.0</td>\n",
       "      <td>120.28</td>\n",
       "    </tr>\n",
       "    <tr>\n",
       "      <th>3</th>\n",
       "      <td>50004</td>\n",
       "      <td>1</td>\n",
       "      <td>0.0</td>\n",
       "      <td>2</td>\n",
       "      <td>2</td>\n",
       "      <td>15.0</td>\n",
       "      <td>4</td>\n",
       "      <td>1</td>\n",
       "      <td>2.0</td>\n",
       "      <td>4</td>\n",
       "      <td>2</td>\n",
       "      <td>5</td>\n",
       "      <td>2</td>\n",
       "      <td>8</td>\n",
       "      <td>0</td>\n",
       "      <td>23.0</td>\n",
       "      <td>0.0</td>\n",
       "      <td>1.0</td>\n",
       "      <td>3.0</td>\n",
       "      <td>134.07</td>\n",
       "    </tr>\n",
       "    <tr>\n",
       "      <th>4</th>\n",
       "      <td>50005</td>\n",
       "      <td>1</td>\n",
       "      <td>0.0</td>\n",
       "      <td>2</td>\n",
       "      <td>0</td>\n",
       "      <td>12.0</td>\n",
       "      <td>0</td>\n",
       "      <td>1</td>\n",
       "      <td>NaN</td>\n",
       "      <td>3</td>\n",
       "      <td>3</td>\n",
       "      <td>5</td>\n",
       "      <td>2</td>\n",
       "      <td>3</td>\n",
       "      <td>0</td>\n",
       "      <td>11.0</td>\n",
       "      <td>1.0</td>\n",
       "      <td>1.0</td>\n",
       "      <td>3.0</td>\n",
       "      <td>129.60</td>\n",
       "    </tr>\n",
       "    <tr>\n",
       "      <th>...</th>\n",
       "      <td>...</td>\n",
       "      <td>...</td>\n",
       "      <td>...</td>\n",
       "      <td>...</td>\n",
       "      <td>...</td>\n",
       "      <td>...</td>\n",
       "      <td>...</td>\n",
       "      <td>...</td>\n",
       "      <td>...</td>\n",
       "      <td>...</td>\n",
       "      <td>...</td>\n",
       "      <td>...</td>\n",
       "      <td>...</td>\n",
       "      <td>...</td>\n",
       "      <td>...</td>\n",
       "      <td>...</td>\n",
       "      <td>...</td>\n",
       "      <td>...</td>\n",
       "      <td>...</td>\n",
       "      <td>...</td>\n",
       "    </tr>\n",
       "    <tr>\n",
       "      <th>5625</th>\n",
       "      <td>55626</td>\n",
       "      <td>0</td>\n",
       "      <td>10.0</td>\n",
       "      <td>0</td>\n",
       "      <td>0</td>\n",
       "      <td>30.0</td>\n",
       "      <td>3</td>\n",
       "      <td>1</td>\n",
       "      <td>3.0</td>\n",
       "      <td>2</td>\n",
       "      <td>2</td>\n",
       "      <td>1</td>\n",
       "      <td>1</td>\n",
       "      <td>6</td>\n",
       "      <td>0</td>\n",
       "      <td>18.0</td>\n",
       "      <td>1.0</td>\n",
       "      <td>2.0</td>\n",
       "      <td>4.0</td>\n",
       "      <td>150.71</td>\n",
       "    </tr>\n",
       "    <tr>\n",
       "      <th>5626</th>\n",
       "      <td>55627</td>\n",
       "      <td>0</td>\n",
       "      <td>13.0</td>\n",
       "      <td>1</td>\n",
       "      <td>0</td>\n",
       "      <td>13.0</td>\n",
       "      <td>3</td>\n",
       "      <td>1</td>\n",
       "      <td>3.0</td>\n",
       "      <td>5</td>\n",
       "      <td>0</td>\n",
       "      <td>5</td>\n",
       "      <td>1</td>\n",
       "      <td>6</td>\n",
       "      <td>0</td>\n",
       "      <td>16.0</td>\n",
       "      <td>1.0</td>\n",
       "      <td>2.0</td>\n",
       "      <td>NaN</td>\n",
       "      <td>224.91</td>\n",
       "    </tr>\n",
       "    <tr>\n",
       "      <th>5627</th>\n",
       "      <td>55628</td>\n",
       "      <td>0</td>\n",
       "      <td>1.0</td>\n",
       "      <td>1</td>\n",
       "      <td>0</td>\n",
       "      <td>11.0</td>\n",
       "      <td>4</td>\n",
       "      <td>1</td>\n",
       "      <td>3.0</td>\n",
       "      <td>2</td>\n",
       "      <td>2</td>\n",
       "      <td>4</td>\n",
       "      <td>1</td>\n",
       "      <td>3</td>\n",
       "      <td>1</td>\n",
       "      <td>21.0</td>\n",
       "      <td>1.0</td>\n",
       "      <td>2.0</td>\n",
       "      <td>4.0</td>\n",
       "      <td>186.42</td>\n",
       "    </tr>\n",
       "    <tr>\n",
       "      <th>5628</th>\n",
       "      <td>55629</td>\n",
       "      <td>0</td>\n",
       "      <td>23.0</td>\n",
       "      <td>0</td>\n",
       "      <td>2</td>\n",
       "      <td>9.0</td>\n",
       "      <td>3</td>\n",
       "      <td>1</td>\n",
       "      <td>4.0</td>\n",
       "      <td>5</td>\n",
       "      <td>2</td>\n",
       "      <td>4</td>\n",
       "      <td>1</td>\n",
       "      <td>4</td>\n",
       "      <td>0</td>\n",
       "      <td>15.0</td>\n",
       "      <td>2.0</td>\n",
       "      <td>2.0</td>\n",
       "      <td>9.0</td>\n",
       "      <td>178.90</td>\n",
       "    </tr>\n",
       "    <tr>\n",
       "      <th>5629</th>\n",
       "      <td>55630</td>\n",
       "      <td>0</td>\n",
       "      <td>8.0</td>\n",
       "      <td>1</td>\n",
       "      <td>0</td>\n",
       "      <td>15.0</td>\n",
       "      <td>3</td>\n",
       "      <td>1</td>\n",
       "      <td>3.0</td>\n",
       "      <td>2</td>\n",
       "      <td>2</td>\n",
       "      <td>3</td>\n",
       "      <td>1</td>\n",
       "      <td>4</td>\n",
       "      <td>0</td>\n",
       "      <td>13.0</td>\n",
       "      <td>2.0</td>\n",
       "      <td>2.0</td>\n",
       "      <td>3.0</td>\n",
       "      <td>169.04</td>\n",
       "    </tr>\n",
       "  </tbody>\n",
       "</table>\n",
       "<p>5630 rows × 20 columns</p>\n",
       "</div>"
      ],
      "text/plain": [
       "      CustomerID  Churn  Tenure  PreferredLoginDevice  CityTier  \\\n",
       "0          50001      1     4.0                     1         2   \n",
       "1          50002      1     NaN                     2         0   \n",
       "2          50003      1     NaN                     2         0   \n",
       "3          50004      1     0.0                     2         2   \n",
       "4          50005      1     0.0                     2         0   \n",
       "...          ...    ...     ...                   ...       ...   \n",
       "5625       55626      0    10.0                     0         0   \n",
       "5626       55627      0    13.0                     1         0   \n",
       "5627       55628      0     1.0                     1         0   \n",
       "5628       55629      0    23.0                     0         2   \n",
       "5629       55630      0     8.0                     1         0   \n",
       "\n",
       "      WarehouseToHome  PreferredPaymentMode  Gender  HourSpendOnApp  \\\n",
       "0                 6.0                     4       0             3.0   \n",
       "1                 8.0                     6       1             3.0   \n",
       "2                30.0                     4       1             2.0   \n",
       "3                15.0                     4       1             2.0   \n",
       "4                12.0                     0       1             NaN   \n",
       "...               ...                   ...     ...             ...   \n",
       "5625             30.0                     3       1             3.0   \n",
       "5626             13.0                     3       1             3.0   \n",
       "5627             11.0                     4       1             3.0   \n",
       "5628              9.0                     3       1             4.0   \n",
       "5629             15.0                     3       1             3.0   \n",
       "\n",
       "      NumberOfDeviceRegistered  PreferedOrderCat  SatisfactionScore  \\\n",
       "0                            3                 2                  2   \n",
       "1                            4                 3                  3   \n",
       "2                            4                 3                  3   \n",
       "3                            4                 2                  5   \n",
       "4                            3                 3                  5   \n",
       "...                        ...               ...                ...   \n",
       "5625                         2                 2                  1   \n",
       "5626                         5                 0                  5   \n",
       "5627                         2                 2                  4   \n",
       "5628                         5                 2                  4   \n",
       "5629                         2                 2                  3   \n",
       "\n",
       "      MaritalStatus  NumberOfAddress  Complain  OrderAmountHikeFromlastYear  \\\n",
       "0                 2                9         1                         11.0   \n",
       "1                 2                7         1                         15.0   \n",
       "2                 2                6         1                         14.0   \n",
       "3                 2                8         0                         23.0   \n",
       "4                 2                3         0                         11.0   \n",
       "...             ...              ...       ...                          ...   \n",
       "5625              1                6         0                         18.0   \n",
       "5626              1                6         0                         16.0   \n",
       "5627              1                3         1                         21.0   \n",
       "5628              1                4         0                         15.0   \n",
       "5629              1                4         0                         13.0   \n",
       "\n",
       "      CouponUsed  OrderCount  DaySinceLastOrder  CashbackAmount  \n",
       "0            1.0         1.0                5.0          159.93  \n",
       "1            0.0         1.0                0.0          120.90  \n",
       "2            0.0         1.0                3.0          120.28  \n",
       "3            0.0         1.0                3.0          134.07  \n",
       "4            1.0         1.0                3.0          129.60  \n",
       "...          ...         ...                ...             ...  \n",
       "5625         1.0         2.0                4.0          150.71  \n",
       "5626         1.0         2.0                NaN          224.91  \n",
       "5627         1.0         2.0                4.0          186.42  \n",
       "5628         2.0         2.0                9.0          178.90  \n",
       "5629         2.0         2.0                3.0          169.04  \n",
       "\n",
       "[5630 rows x 20 columns]"
      ]
     },
     "execution_count": 9,
     "metadata": {},
     "output_type": "execute_result"
    }
   ],
   "source": [
    "df_encoded "
   ]
  },
  {
   "cell_type": "code",
   "execution_count": 10,
   "id": "16b01e6f-a0bc-494e-ae8f-3bf492954730",
   "metadata": {},
   "outputs": [],
   "source": [
    "X = df_encoded.drop(['Churn'], axis = 1)\n",
    "Y = df_encoded['Churn']"
   ]
  },
  {
   "cell_type": "code",
   "execution_count": 11,
   "id": "8477578e-01b5-4be1-91fe-660f0479b52f",
   "metadata": {},
   "outputs": [],
   "source": [
    "from sklearn.preprocessing import StandardScaler\n",
    "scaler_X = StandardScaler()\n",
    "scaled_X = scaler_X.fit_transform(X)\n",
    "X_scaled = pd.DataFrame(scaled_X, columns = X.columns)\n",
    "df_encoded = pd.concat([X_scaled, Y], axis=1)"
   ]
  },
  {
   "cell_type": "code",
   "execution_count": 12,
   "id": "8debc21b-5593-4b52-bcf8-79cf7c3876af",
   "metadata": {},
   "outputs": [
    {
     "data": {
      "text/html": [
       "<div>\n",
       "<style scoped>\n",
       "    .dataframe tbody tr th:only-of-type {\n",
       "        vertical-align: middle;\n",
       "    }\n",
       "\n",
       "    .dataframe tbody tr th {\n",
       "        vertical-align: top;\n",
       "    }\n",
       "\n",
       "    .dataframe thead th {\n",
       "        text-align: right;\n",
       "    }\n",
       "</style>\n",
       "<table border=\"1\" class=\"dataframe\">\n",
       "  <thead>\n",
       "    <tr style=\"text-align: right;\">\n",
       "      <th></th>\n",
       "      <th>CustomerID</th>\n",
       "      <th>Tenure</th>\n",
       "      <th>PreferredLoginDevice</th>\n",
       "      <th>CityTier</th>\n",
       "      <th>WarehouseToHome</th>\n",
       "      <th>PreferredPaymentMode</th>\n",
       "      <th>Gender</th>\n",
       "      <th>HourSpendOnApp</th>\n",
       "      <th>NumberOfDeviceRegistered</th>\n",
       "      <th>PreferedOrderCat</th>\n",
       "      <th>SatisfactionScore</th>\n",
       "      <th>MaritalStatus</th>\n",
       "      <th>NumberOfAddress</th>\n",
       "      <th>Complain</th>\n",
       "      <th>OrderAmountHikeFromlastYear</th>\n",
       "      <th>CouponUsed</th>\n",
       "      <th>OrderCount</th>\n",
       "      <th>DaySinceLastOrder</th>\n",
       "      <th>CashbackAmount</th>\n",
       "      <th>Churn</th>\n",
       "    </tr>\n",
       "  </thead>\n",
       "  <tbody>\n",
       "    <tr>\n",
       "      <th>0</th>\n",
       "      <td>-1.731743</td>\n",
       "      <td>-0.723420</td>\n",
       "      <td>0.100852</td>\n",
       "      <td>1.469771</td>\n",
       "      <td>-1.130026</td>\n",
       "      <td>0.325191</td>\n",
       "      <td>-1.227468</td>\n",
       "      <td>0.094846</td>\n",
       "      <td>-0.672900</td>\n",
       "      <td>-0.261904</td>\n",
       "      <td>-0.772992</td>\n",
       "      <td>1.251898</td>\n",
       "      <td>1.852616</td>\n",
       "      <td>1.584290</td>\n",
       "      <td>-1.281017</td>\n",
       "      <td>-0.396435</td>\n",
       "      <td>-0.683133</td>\n",
       "      <td>0.124931</td>\n",
       "      <td>-0.351465</td>\n",
       "      <td>1</td>\n",
       "    </tr>\n",
       "    <tr>\n",
       "      <th>1</th>\n",
       "      <td>-1.731128</td>\n",
       "      <td>NaN</td>\n",
       "      <td>1.509782</td>\n",
       "      <td>-0.715286</td>\n",
       "      <td>-0.895579</td>\n",
       "      <td>1.764521</td>\n",
       "      <td>0.814685</td>\n",
       "      <td>0.094846</td>\n",
       "      <td>0.303750</td>\n",
       "      <td>0.446658</td>\n",
       "      <td>-0.048392</td>\n",
       "      <td>1.251898</td>\n",
       "      <td>1.078430</td>\n",
       "      <td>1.584290</td>\n",
       "      <td>-0.192624</td>\n",
       "      <td>-0.924294</td>\n",
       "      <td>-0.683133</td>\n",
       "      <td>-1.243399</td>\n",
       "      <td>-1.144715</td>\n",
       "      <td>1</td>\n",
       "    </tr>\n",
       "    <tr>\n",
       "      <th>2</th>\n",
       "      <td>-1.730513</td>\n",
       "      <td>NaN</td>\n",
       "      <td>1.509782</td>\n",
       "      <td>-0.715286</td>\n",
       "      <td>1.683348</td>\n",
       "      <td>0.325191</td>\n",
       "      <td>0.814685</td>\n",
       "      <td>-1.290467</td>\n",
       "      <td>0.303750</td>\n",
       "      <td>0.446658</td>\n",
       "      <td>-0.048392</td>\n",
       "      <td>1.251898</td>\n",
       "      <td>0.691336</td>\n",
       "      <td>1.584290</td>\n",
       "      <td>-0.464723</td>\n",
       "      <td>-0.924294</td>\n",
       "      <td>-0.683133</td>\n",
       "      <td>-0.422401</td>\n",
       "      <td>-1.157316</td>\n",
       "      <td>1</td>\n",
       "    </tr>\n",
       "    <tr>\n",
       "      <th>3</th>\n",
       "      <td>-1.729897</td>\n",
       "      <td>-1.190904</td>\n",
       "      <td>1.509782</td>\n",
       "      <td>1.469771</td>\n",
       "      <td>-0.075011</td>\n",
       "      <td>0.325191</td>\n",
       "      <td>0.814685</td>\n",
       "      <td>-1.290467</td>\n",
       "      <td>0.303750</td>\n",
       "      <td>-0.261904</td>\n",
       "      <td>1.400807</td>\n",
       "      <td>1.251898</td>\n",
       "      <td>1.465523</td>\n",
       "      <td>-0.631198</td>\n",
       "      <td>1.984162</td>\n",
       "      <td>-0.924294</td>\n",
       "      <td>-0.683133</td>\n",
       "      <td>-0.422401</td>\n",
       "      <td>-0.877047</td>\n",
       "      <td>1</td>\n",
       "    </tr>\n",
       "    <tr>\n",
       "      <th>4</th>\n",
       "      <td>-1.729282</td>\n",
       "      <td>-1.190904</td>\n",
       "      <td>1.509782</td>\n",
       "      <td>-0.715286</td>\n",
       "      <td>-0.426683</td>\n",
       "      <td>-2.553468</td>\n",
       "      <td>0.814685</td>\n",
       "      <td>NaN</td>\n",
       "      <td>-0.672900</td>\n",
       "      <td>0.446658</td>\n",
       "      <td>1.400807</td>\n",
       "      <td>1.251898</td>\n",
       "      <td>-0.469944</td>\n",
       "      <td>-0.631198</td>\n",
       "      <td>-1.281017</td>\n",
       "      <td>-0.396435</td>\n",
       "      <td>-0.683133</td>\n",
       "      <td>-0.422401</td>\n",
       "      <td>-0.967895</td>\n",
       "      <td>1</td>\n",
       "    </tr>\n",
       "    <tr>\n",
       "      <th>...</th>\n",
       "      <td>...</td>\n",
       "      <td>...</td>\n",
       "      <td>...</td>\n",
       "      <td>...</td>\n",
       "      <td>...</td>\n",
       "      <td>...</td>\n",
       "      <td>...</td>\n",
       "      <td>...</td>\n",
       "      <td>...</td>\n",
       "      <td>...</td>\n",
       "      <td>...</td>\n",
       "      <td>...</td>\n",
       "      <td>...</td>\n",
       "      <td>...</td>\n",
       "      <td>...</td>\n",
       "      <td>...</td>\n",
       "      <td>...</td>\n",
       "      <td>...</td>\n",
       "      <td>...</td>\n",
       "      <td>...</td>\n",
       "    </tr>\n",
       "    <tr>\n",
       "      <th>5625</th>\n",
       "      <td>1.729282</td>\n",
       "      <td>-0.022194</td>\n",
       "      <td>-1.308078</td>\n",
       "      <td>-0.715286</td>\n",
       "      <td>1.683348</td>\n",
       "      <td>-0.394474</td>\n",
       "      <td>0.814685</td>\n",
       "      <td>0.094846</td>\n",
       "      <td>-1.649551</td>\n",
       "      <td>-0.261904</td>\n",
       "      <td>-1.497592</td>\n",
       "      <td>-0.253481</td>\n",
       "      <td>0.691336</td>\n",
       "      <td>-0.631198</td>\n",
       "      <td>0.623671</td>\n",
       "      <td>-0.396435</td>\n",
       "      <td>-0.342928</td>\n",
       "      <td>-0.148735</td>\n",
       "      <td>-0.538854</td>\n",
       "      <td>0</td>\n",
       "    </tr>\n",
       "    <tr>\n",
       "      <th>5626</th>\n",
       "      <td>1.729897</td>\n",
       "      <td>0.328419</td>\n",
       "      <td>0.100852</td>\n",
       "      <td>-0.715286</td>\n",
       "      <td>-0.309459</td>\n",
       "      <td>-0.394474</td>\n",
       "      <td>0.814685</td>\n",
       "      <td>0.094846</td>\n",
       "      <td>1.280401</td>\n",
       "      <td>-1.679027</td>\n",
       "      <td>1.400807</td>\n",
       "      <td>-0.253481</td>\n",
       "      <td>0.691336</td>\n",
       "      <td>-0.631198</td>\n",
       "      <td>0.079474</td>\n",
       "      <td>-0.396435</td>\n",
       "      <td>-0.342928</td>\n",
       "      <td>NaN</td>\n",
       "      <td>0.969195</td>\n",
       "      <td>0</td>\n",
       "    </tr>\n",
       "    <tr>\n",
       "      <th>5627</th>\n",
       "      <td>1.730513</td>\n",
       "      <td>-1.074033</td>\n",
       "      <td>0.100852</td>\n",
       "      <td>-0.715286</td>\n",
       "      <td>-0.543907</td>\n",
       "      <td>0.325191</td>\n",
       "      <td>0.814685</td>\n",
       "      <td>0.094846</td>\n",
       "      <td>-1.649551</td>\n",
       "      <td>-0.261904</td>\n",
       "      <td>0.676207</td>\n",
       "      <td>-0.253481</td>\n",
       "      <td>-0.469944</td>\n",
       "      <td>1.584290</td>\n",
       "      <td>1.439965</td>\n",
       "      <td>-0.396435</td>\n",
       "      <td>-0.342928</td>\n",
       "      <td>-0.148735</td>\n",
       "      <td>0.186920</td>\n",
       "      <td>0</td>\n",
       "    </tr>\n",
       "    <tr>\n",
       "      <th>5628</th>\n",
       "      <td>1.731128</td>\n",
       "      <td>1.497129</td>\n",
       "      <td>-1.308078</td>\n",
       "      <td>1.469771</td>\n",
       "      <td>-0.778355</td>\n",
       "      <td>-0.394474</td>\n",
       "      <td>0.814685</td>\n",
       "      <td>1.480158</td>\n",
       "      <td>1.280401</td>\n",
       "      <td>-0.261904</td>\n",
       "      <td>0.676207</td>\n",
       "      <td>-0.253481</td>\n",
       "      <td>-0.082850</td>\n",
       "      <td>-0.631198</td>\n",
       "      <td>-0.192624</td>\n",
       "      <td>0.131425</td>\n",
       "      <td>-0.342928</td>\n",
       "      <td>1.219595</td>\n",
       "      <td>0.034083</td>\n",
       "      <td>0</td>\n",
       "    </tr>\n",
       "    <tr>\n",
       "      <th>5629</th>\n",
       "      <td>1.731743</td>\n",
       "      <td>-0.255936</td>\n",
       "      <td>0.100852</td>\n",
       "      <td>-0.715286</td>\n",
       "      <td>-0.075011</td>\n",
       "      <td>-0.394474</td>\n",
       "      <td>0.814685</td>\n",
       "      <td>0.094846</td>\n",
       "      <td>-1.649551</td>\n",
       "      <td>-0.261904</td>\n",
       "      <td>-0.048392</td>\n",
       "      <td>-0.253481</td>\n",
       "      <td>-0.082850</td>\n",
       "      <td>-0.631198</td>\n",
       "      <td>-0.736821</td>\n",
       "      <td>0.131425</td>\n",
       "      <td>-0.342928</td>\n",
       "      <td>-0.422401</td>\n",
       "      <td>-0.166313</td>\n",
       "      <td>0</td>\n",
       "    </tr>\n",
       "  </tbody>\n",
       "</table>\n",
       "<p>5630 rows × 20 columns</p>\n",
       "</div>"
      ],
      "text/plain": [
       "      CustomerID    Tenure  PreferredLoginDevice  CityTier  WarehouseToHome  \\\n",
       "0      -1.731743 -0.723420              0.100852  1.469771        -1.130026   \n",
       "1      -1.731128       NaN              1.509782 -0.715286        -0.895579   \n",
       "2      -1.730513       NaN              1.509782 -0.715286         1.683348   \n",
       "3      -1.729897 -1.190904              1.509782  1.469771        -0.075011   \n",
       "4      -1.729282 -1.190904              1.509782 -0.715286        -0.426683   \n",
       "...          ...       ...                   ...       ...              ...   \n",
       "5625    1.729282 -0.022194             -1.308078 -0.715286         1.683348   \n",
       "5626    1.729897  0.328419              0.100852 -0.715286        -0.309459   \n",
       "5627    1.730513 -1.074033              0.100852 -0.715286        -0.543907   \n",
       "5628    1.731128  1.497129             -1.308078  1.469771        -0.778355   \n",
       "5629    1.731743 -0.255936              0.100852 -0.715286        -0.075011   \n",
       "\n",
       "      PreferredPaymentMode    Gender  HourSpendOnApp  \\\n",
       "0                 0.325191 -1.227468        0.094846   \n",
       "1                 1.764521  0.814685        0.094846   \n",
       "2                 0.325191  0.814685       -1.290467   \n",
       "3                 0.325191  0.814685       -1.290467   \n",
       "4                -2.553468  0.814685             NaN   \n",
       "...                    ...       ...             ...   \n",
       "5625             -0.394474  0.814685        0.094846   \n",
       "5626             -0.394474  0.814685        0.094846   \n",
       "5627              0.325191  0.814685        0.094846   \n",
       "5628             -0.394474  0.814685        1.480158   \n",
       "5629             -0.394474  0.814685        0.094846   \n",
       "\n",
       "      NumberOfDeviceRegistered  PreferedOrderCat  SatisfactionScore  \\\n",
       "0                    -0.672900         -0.261904          -0.772992   \n",
       "1                     0.303750          0.446658          -0.048392   \n",
       "2                     0.303750          0.446658          -0.048392   \n",
       "3                     0.303750         -0.261904           1.400807   \n",
       "4                    -0.672900          0.446658           1.400807   \n",
       "...                        ...               ...                ...   \n",
       "5625                 -1.649551         -0.261904          -1.497592   \n",
       "5626                  1.280401         -1.679027           1.400807   \n",
       "5627                 -1.649551         -0.261904           0.676207   \n",
       "5628                  1.280401         -0.261904           0.676207   \n",
       "5629                 -1.649551         -0.261904          -0.048392   \n",
       "\n",
       "      MaritalStatus  NumberOfAddress  Complain  OrderAmountHikeFromlastYear  \\\n",
       "0          1.251898         1.852616  1.584290                    -1.281017   \n",
       "1          1.251898         1.078430  1.584290                    -0.192624   \n",
       "2          1.251898         0.691336  1.584290                    -0.464723   \n",
       "3          1.251898         1.465523 -0.631198                     1.984162   \n",
       "4          1.251898        -0.469944 -0.631198                    -1.281017   \n",
       "...             ...              ...       ...                          ...   \n",
       "5625      -0.253481         0.691336 -0.631198                     0.623671   \n",
       "5626      -0.253481         0.691336 -0.631198                     0.079474   \n",
       "5627      -0.253481        -0.469944  1.584290                     1.439965   \n",
       "5628      -0.253481        -0.082850 -0.631198                    -0.192624   \n",
       "5629      -0.253481        -0.082850 -0.631198                    -0.736821   \n",
       "\n",
       "      CouponUsed  OrderCount  DaySinceLastOrder  CashbackAmount  Churn  \n",
       "0      -0.396435   -0.683133           0.124931       -0.351465      1  \n",
       "1      -0.924294   -0.683133          -1.243399       -1.144715      1  \n",
       "2      -0.924294   -0.683133          -0.422401       -1.157316      1  \n",
       "3      -0.924294   -0.683133          -0.422401       -0.877047      1  \n",
       "4      -0.396435   -0.683133          -0.422401       -0.967895      1  \n",
       "...          ...         ...                ...             ...    ...  \n",
       "5625   -0.396435   -0.342928          -0.148735       -0.538854      0  \n",
       "5626   -0.396435   -0.342928                NaN        0.969195      0  \n",
       "5627   -0.396435   -0.342928          -0.148735        0.186920      0  \n",
       "5628    0.131425   -0.342928           1.219595        0.034083      0  \n",
       "5629    0.131425   -0.342928          -0.422401       -0.166313      0  \n",
       "\n",
       "[5630 rows x 20 columns]"
      ]
     },
     "execution_count": 12,
     "metadata": {},
     "output_type": "execute_result"
    }
   ],
   "source": [
    "df_encoded"
   ]
  },
  {
   "cell_type": "code",
   "execution_count": 13,
   "id": "cdb0b9f1-055a-411c-944f-683c7a16529c",
   "metadata": {},
   "outputs": [],
   "source": [
    "X = df_encoded.drop('Churn' , axis = 1)\n",
    "Y = df_encoded['Churn']"
   ]
  },
  {
   "cell_type": "code",
   "execution_count": 14,
   "id": "44ac3f6b-f73f-4121-a17d-fcd92267b6c2",
   "metadata": {},
   "outputs": [
    {
     "name": "stdout",
     "output_type": "stream",
     "text": [
      "Defaulting to user installation because normal site-packages is not writeable\n",
      "Requirement already satisfied: imbalanced-learn in c:\\users\\arrkr\\appdata\\roaming\\python\\python310\\site-packages (0.14.0)\n",
      "Requirement already satisfied: numpy<3,>=1.25.2 in c:\\users\\arrkr\\appdata\\roaming\\python\\python310\\site-packages (from imbalanced-learn) (2.2.6)\n",
      "Requirement already satisfied: scipy<2,>=1.11.4 in c:\\users\\arrkr\\appdata\\roaming\\python\\python310\\site-packages (from imbalanced-learn) (1.15.3)\n",
      "Requirement already satisfied: scikit-learn<2,>=1.4.2 in c:\\users\\arrkr\\appdata\\roaming\\python\\python310\\site-packages (from imbalanced-learn) (1.7.2)\n",
      "Requirement already satisfied: joblib<2,>=1.2.0 in c:\\users\\arrkr\\appdata\\roaming\\python\\python310\\site-packages (from imbalanced-learn) (1.5.1)\n",
      "Requirement already satisfied: threadpoolctl<4,>=2.0.0 in c:\\users\\arrkr\\appdata\\roaming\\python\\python310\\site-packages (from imbalanced-learn) (3.6.0)\n"
     ]
    }
   ],
   "source": [
    "!pip install --upgrade imbalanced-learn\n"
   ]
  },
  {
   "cell_type": "code",
   "execution_count": 15,
   "id": "f429bcaa-e93a-4029-8e20-8e0a5b4e928e",
   "metadata": {},
   "outputs": [],
   "source": [
    "from sklearn.linear_model import LogisticRegression\n",
    "from sklearn.neighbors import KNeighborsClassifier\n",
    "from sklearn.svm import SVC\n",
    "from sklearn.tree import DecisionTreeClassifier\n",
    "from sklearn.ensemble import RandomForestClassifier\n",
    "from xgboost import XGBClassifier\n",
    "from sklearn.ensemble import AdaBoostClassifier\n",
    "import warnings\n",
    "\n",
    "warnings.filterwarnings(\"ignore\")"
   ]
  },
  {
   "cell_type": "code",
   "execution_count": 16,
   "id": "6becf6ed-e688-4e17-a3e3-cf5b63a44fea",
   "metadata": {},
   "outputs": [
    {
     "name": "stdout",
     "output_type": "stream",
     "text": [
      "CustomerID                       0\n",
      "Tenure                         264\n",
      "PreferredLoginDevice             0\n",
      "CityTier                         0\n",
      "WarehouseToHome                251\n",
      "PreferredPaymentMode             0\n",
      "Gender                           0\n",
      "HourSpendOnApp                 255\n",
      "NumberOfDeviceRegistered         0\n",
      "PreferedOrderCat                 0\n",
      "SatisfactionScore                0\n",
      "MaritalStatus                    0\n",
      "NumberOfAddress                  0\n",
      "Complain                         0\n",
      "OrderAmountHikeFromlastYear    265\n",
      "CouponUsed                     256\n",
      "OrderCount                     258\n",
      "DaySinceLastOrder              307\n",
      "CashbackAmount                   0\n",
      "dtype: int64\n"
     ]
    }
   ],
   "source": [
    "print(X.isna().sum())\n"
   ]
  },
  {
   "cell_type": "code",
   "execution_count": 17,
   "id": "f70a25ec-a00f-4b6a-a8a1-b3f391310553",
   "metadata": {},
   "outputs": [],
   "source": [
    "from sklearn.impute import SimpleImputer\n",
    "\n",
    "\n",
    "num_cols = ['Tenure', 'WarehouseToHome', 'HourSpendOnApp', \n",
    "            'OrderAmountHikeFromlastYear', 'CouponUsed', \n",
    "            'OrderCount', 'DaySinceLastOrder']\n",
    "cat_cols = ['PreferredLoginDevice', 'CityTier', 'PreferredPaymentMode', \n",
    "            'Gender', 'PreferedOrderCat', 'SatisfactionScore', \n",
    "            'MaritalStatus', 'Complain', 'CashbackAmount']\n",
    "\n",
    "\n",
    "imputer_num = SimpleImputer(strategy='mean')\n",
    "X[num_cols] = imputer_num.fit_transform(X[num_cols])\n",
    "\n",
    "\n",
    "imputer_cat = SimpleImputer(strategy='most_frequent')\n",
    "X[cat_cols] = imputer_cat.fit_transform(X[cat_cols])\n"
   ]
  },
  {
   "cell_type": "code",
   "execution_count": 18,
   "id": "73b8343f-ef01-48ce-b3dc-999b305b3b3a",
   "metadata": {},
   "outputs": [],
   "source": [
    "from imblearn.combine import SMOTETomek\n",
    "\n",
    "smt = SMOTETomek(random_state=42)\n",
    "x_smt, y_smt = smt.fit_resample(X, Y)\n"
   ]
  },
  {
   "cell_type": "code",
   "execution_count": 19,
   "id": "20a1ac56-cb95-477c-8d56-3629996dd6d4",
   "metadata": {},
   "outputs": [
    {
     "data": {
      "text/plain": [
       "((9362, 19), (9362,))"
      ]
     },
     "execution_count": 19,
     "metadata": {},
     "output_type": "execute_result"
    }
   ],
   "source": [
    "x_smt.shape, y_smt.shape"
   ]
  },
  {
   "cell_type": "code",
   "execution_count": 20,
   "id": "e4867789-f225-4646-b514-623fae64886b",
   "metadata": {},
   "outputs": [],
   "source": [
    "x_train_smt,  x_test_smt , y_train_smt , y_test_smt = train_test_split(x_smt , y_smt , test_size = 0.30 , random_state = 42)"
   ]
  },
  {
   "cell_type": "code",
   "execution_count": 21,
   "id": "53e807c7-795b-46c1-b31e-90f844a98d43",
   "metadata": {},
   "outputs": [],
   "source": [
    "logis_clf = LogisticRegression()\n",
    "svm_clf = SVC()\n",
    "dt_clf = DecisionTreeClassifier()\n",
    "rf_clf = RandomForestClassifier()\n",
    "XGB_clf = XGBClassifier()\n",
    "ada_clf = AdaBoostClassifier()"
   ]
  },
  {
   "cell_type": "code",
   "execution_count": 22,
   "id": "048d3fdb-5db7-439c-a82f-c21483387e1c",
   "metadata": {},
   "outputs": [],
   "source": [
    "clf_list = [logis_clf, svm_clf, dt_clf, rf_clf, XGB_clf, ada_clf]\n",
    "clf_name_list = ['Logistic Regression', 'Support Vector Machine', 'Decision Tree', 'Random Forest', 'XGBClassifier' , 'AdaBoostClassifier']\n",
    "\n",
    "for clf in clf_list:\n",
    "    clf.fit(x_train_smt,y_train_smt)"
   ]
  },
  {
   "cell_type": "code",
   "execution_count": 23,
   "id": "55313c07-bc2d-4ec7-b7d6-edb1b4bddf2b",
   "metadata": {},
   "outputs": [
    {
     "name": "stdout",
     "output_type": "stream",
     "text": [
      "Using SMOTETOMEK\n",
      "\n",
      "Using model: Logistic Regression\n",
      "Trainning Score: 0.8042118113840989\n",
      "Test Score: 0.7992168031327874\n",
      "Acc Train: 0.8042118113840989\n",
      "Acc Test: 0.7992168031327874\n",
      "\n",
      "\n",
      "Using model: Support Vector Machine\n",
      "Trainning Score: 0.9540668396154434\n",
      "Test Score: 0.9369882520469918\n",
      "Acc Train: 0.9540668396154434\n",
      "Acc Test: 0.9369882520469918\n",
      "\n",
      "\n",
      "Using model: Decision Tree\n",
      "Trainning Score: 1.0\n",
      "Test Score: 0.9501601993592026\n",
      "Acc Train: 1.0\n",
      "Acc Test: 0.9501601993592026\n",
      "\n",
      "\n",
      "Using model: Random Forest\n",
      "Trainning Score: 1.0\n",
      "Test Score: 0.9846920612317551\n",
      "Acc Train: 1.0\n",
      "Acc Test: 0.9846920612317551\n",
      "\n",
      "\n",
      "Using model: XGBClassifier\n",
      "Trainning Score: 1.0\n",
      "Test Score: 0.9836240655037379\n",
      "Acc Train: 1.0\n",
      "Acc Test: 0.9836240655037379\n",
      "\n",
      "\n",
      "Using model: AdaBoostClassifier\n",
      "Trainning Score: 0.8799023348084847\n",
      "Test Score: 0.8721965112139551\n",
      "Acc Train: 0.8799023348084847\n",
      "Acc Test: 0.8721965112139551\n",
      "\n",
      "\n"
     ]
    }
   ],
   "source": [
    "train_acc_list = []\n",
    "test_acc_list = []\n",
    "\n",
    "print('Using SMOTETOMEK')\n",
    "print()\n",
    "\n",
    "for clf,name in zip(clf_list,clf_name_list):\n",
    "    y_pred_train = clf.predict(x_train_smt)\n",
    "    y_pred_test = clf.predict(x_test_smt)\n",
    "    print(f'Using model: {name}')\n",
    "    print(f'Trainning Score: {clf.score(x_train_smt, y_train_smt)}')\n",
    "    print(f'Test Score: {clf.score(x_test_smt, y_test_smt)}')\n",
    "    print(f'Acc Train: {accuracy_score(y_train_smt, y_pred_train)}')\n",
    "    print(f'Acc Test: {accuracy_score(y_test_smt, y_pred_test)}')\n",
    "    train_acc_list.append(accuracy_score(y_train_smt, y_pred_train))\n",
    "    test_acc_list.append(accuracy_score(y_test_smt, y_pred_test))\n",
    "    print()\n",
    "    print()"
   ]
  },
  {
   "cell_type": "code",
   "execution_count": 24,
   "id": "f41e33e6-1d2d-4267-bcb5-8435cf27cc0e",
   "metadata": {},
   "outputs": [
    {
     "data": {
      "text/html": [
       "<div>\n",
       "<style scoped>\n",
       "    .dataframe tbody tr th:only-of-type {\n",
       "        vertical-align: middle;\n",
       "    }\n",
       "\n",
       "    .dataframe tbody tr th {\n",
       "        vertical-align: top;\n",
       "    }\n",
       "\n",
       "    .dataframe thead th {\n",
       "        text-align: right;\n",
       "    }\n",
       "</style>\n",
       "<table border=\"1\" class=\"dataframe\">\n",
       "  <thead>\n",
       "    <tr style=\"text-align: right;\">\n",
       "      <th></th>\n",
       "      <th>Train_Accuracy</th>\n",
       "      <th>Test_Accuracy</th>\n",
       "    </tr>\n",
       "  </thead>\n",
       "  <tbody>\n",
       "    <tr>\n",
       "      <th>Logistic Regression</th>\n",
       "      <td>0.804212</td>\n",
       "      <td>0.799217</td>\n",
       "    </tr>\n",
       "    <tr>\n",
       "      <th>Support Vector Machine</th>\n",
       "      <td>0.954067</td>\n",
       "      <td>0.936988</td>\n",
       "    </tr>\n",
       "    <tr>\n",
       "      <th>Decision Tree</th>\n",
       "      <td>1.000000</td>\n",
       "      <td>0.950160</td>\n",
       "    </tr>\n",
       "    <tr>\n",
       "      <th>Random Forest</th>\n",
       "      <td>1.000000</td>\n",
       "      <td>0.984692</td>\n",
       "    </tr>\n",
       "    <tr>\n",
       "      <th>XGBClassifier</th>\n",
       "      <td>1.000000</td>\n",
       "      <td>0.983624</td>\n",
       "    </tr>\n",
       "    <tr>\n",
       "      <th>AdaBoostClassifier</th>\n",
       "      <td>0.879902</td>\n",
       "      <td>0.872197</td>\n",
       "    </tr>\n",
       "  </tbody>\n",
       "</table>\n",
       "</div>"
      ],
      "text/plain": [
       "                        Train_Accuracy  Test_Accuracy\n",
       "Logistic Regression           0.804212       0.799217\n",
       "Support Vector Machine        0.954067       0.936988\n",
       "Decision Tree                 1.000000       0.950160\n",
       "Random Forest                 1.000000       0.984692\n",
       "XGBClassifier                 1.000000       0.983624\n",
       "AdaBoostClassifier            0.879902       0.872197"
      ]
     },
     "execution_count": 24,
     "metadata": {},
     "output_type": "execute_result"
    }
   ],
   "source": [
    "\n",
    "models = pd.DataFrame({'Train_Accuracy': train_acc_list , 'Test_Accuracy' : test_acc_list}  , index = clf_name_list)\n",
    "models"
   ]
  },
  {
   "cell_type": "code",
   "execution_count": 25,
   "id": "85042d93-d405-4bf7-a2d9-61fbfebffd77",
   "metadata": {},
   "outputs": [
    {
     "data": {
      "application/vnd.plotly.v1+json": {
       "config": {
        "plotlyServerURL": "https://plot.ly"
       },
       "data": [
        {
         "hovertemplate": "Train_Accuracy=%{marker.color}<br>index=%{y}<extra></extra>",
         "legendgroup": "",
         "marker": {
          "color": {
           "bdata": "t3OeaBq86T/DFUsut4fuPwAAAAAAAPA/AAAAAAAA8D8AAAAAAADwP8Kl9fAoKOw/",
           "dtype": "f8"
          },
          "coloraxis": "coloraxis",
          "pattern": {
           "shape": ""
          }
         },
         "name": "",
         "orientation": "h",
         "showlegend": false,
         "textposition": "auto",
         "texttemplate": "%{x}",
         "type": "bar",
         "x": {
          "bdata": "t3OeaBq86T/DFUsut4fuPwAAAAAAAPA/AAAAAAAA8D8AAAAAAADwP8Kl9fAoKOw/",
          "dtype": "f8"
         },
         "xaxis": "x",
         "y": [
          "Logistic Regression",
          "Support Vector Machine",
          "Decision Tree",
          "Random Forest",
          "XGBClassifier",
          "AdaBoostClassifier"
         ],
         "yaxis": "y"
        }
       ],
       "layout": {
        "barmode": "relative",
        "coloraxis": {
         "colorbar": {
          "title": {
           "text": "Train_Accuracy"
          }
         },
         "colorscale": [
          [
           0,
           "rgb(255,245,240)"
          ],
          [
           0.125,
           "rgb(254,224,210)"
          ],
          [
           0.25,
           "rgb(252,187,161)"
          ],
          [
           0.375,
           "rgb(252,146,114)"
          ],
          [
           0.5,
           "rgb(251,106,74)"
          ],
          [
           0.625,
           "rgb(239,59,44)"
          ],
          [
           0.75,
           "rgb(203,24,29)"
          ],
          [
           0.875,
           "rgb(165,15,21)"
          ],
          [
           1,
           "rgb(103,0,13)"
          ]
         ]
        },
        "hoverlabel": {
         "font": {
          "size": 20
         }
        },
        "hovermode": "x",
        "legend": {
         "tracegroupgap": 0
        },
        "template": {
         "data": {
          "bar": [
           {
            "error_x": {
             "color": "#2a3f5f"
            },
            "error_y": {
             "color": "#2a3f5f"
            },
            "marker": {
             "line": {
              "color": "#E5ECF6",
              "width": 0.5
             },
             "pattern": {
              "fillmode": "overlay",
              "size": 10,
              "solidity": 0.2
             }
            },
            "type": "bar"
           }
          ],
          "barpolar": [
           {
            "marker": {
             "line": {
              "color": "#E5ECF6",
              "width": 0.5
             },
             "pattern": {
              "fillmode": "overlay",
              "size": 10,
              "solidity": 0.2
             }
            },
            "type": "barpolar"
           }
          ],
          "carpet": [
           {
            "aaxis": {
             "endlinecolor": "#2a3f5f",
             "gridcolor": "white",
             "linecolor": "white",
             "minorgridcolor": "white",
             "startlinecolor": "#2a3f5f"
            },
            "baxis": {
             "endlinecolor": "#2a3f5f",
             "gridcolor": "white",
             "linecolor": "white",
             "minorgridcolor": "white",
             "startlinecolor": "#2a3f5f"
            },
            "type": "carpet"
           }
          ],
          "choropleth": [
           {
            "colorbar": {
             "outlinewidth": 0,
             "ticks": ""
            },
            "type": "choropleth"
           }
          ],
          "contour": [
           {
            "colorbar": {
             "outlinewidth": 0,
             "ticks": ""
            },
            "colorscale": [
             [
              0,
              "#0d0887"
             ],
             [
              0.1111111111111111,
              "#46039f"
             ],
             [
              0.2222222222222222,
              "#7201a8"
             ],
             [
              0.3333333333333333,
              "#9c179e"
             ],
             [
              0.4444444444444444,
              "#bd3786"
             ],
             [
              0.5555555555555556,
              "#d8576b"
             ],
             [
              0.6666666666666666,
              "#ed7953"
             ],
             [
              0.7777777777777778,
              "#fb9f3a"
             ],
             [
              0.8888888888888888,
              "#fdca26"
             ],
             [
              1,
              "#f0f921"
             ]
            ],
            "type": "contour"
           }
          ],
          "contourcarpet": [
           {
            "colorbar": {
             "outlinewidth": 0,
             "ticks": ""
            },
            "type": "contourcarpet"
           }
          ],
          "heatmap": [
           {
            "colorbar": {
             "outlinewidth": 0,
             "ticks": ""
            },
            "colorscale": [
             [
              0,
              "#0d0887"
             ],
             [
              0.1111111111111111,
              "#46039f"
             ],
             [
              0.2222222222222222,
              "#7201a8"
             ],
             [
              0.3333333333333333,
              "#9c179e"
             ],
             [
              0.4444444444444444,
              "#bd3786"
             ],
             [
              0.5555555555555556,
              "#d8576b"
             ],
             [
              0.6666666666666666,
              "#ed7953"
             ],
             [
              0.7777777777777778,
              "#fb9f3a"
             ],
             [
              0.8888888888888888,
              "#fdca26"
             ],
             [
              1,
              "#f0f921"
             ]
            ],
            "type": "heatmap"
           }
          ],
          "histogram": [
           {
            "marker": {
             "pattern": {
              "fillmode": "overlay",
              "size": 10,
              "solidity": 0.2
             }
            },
            "type": "histogram"
           }
          ],
          "histogram2d": [
           {
            "colorbar": {
             "outlinewidth": 0,
             "ticks": ""
            },
            "colorscale": [
             [
              0,
              "#0d0887"
             ],
             [
              0.1111111111111111,
              "#46039f"
             ],
             [
              0.2222222222222222,
              "#7201a8"
             ],
             [
              0.3333333333333333,
              "#9c179e"
             ],
             [
              0.4444444444444444,
              "#bd3786"
             ],
             [
              0.5555555555555556,
              "#d8576b"
             ],
             [
              0.6666666666666666,
              "#ed7953"
             ],
             [
              0.7777777777777778,
              "#fb9f3a"
             ],
             [
              0.8888888888888888,
              "#fdca26"
             ],
             [
              1,
              "#f0f921"
             ]
            ],
            "type": "histogram2d"
           }
          ],
          "histogram2dcontour": [
           {
            "colorbar": {
             "outlinewidth": 0,
             "ticks": ""
            },
            "colorscale": [
             [
              0,
              "#0d0887"
             ],
             [
              0.1111111111111111,
              "#46039f"
             ],
             [
              0.2222222222222222,
              "#7201a8"
             ],
             [
              0.3333333333333333,
              "#9c179e"
             ],
             [
              0.4444444444444444,
              "#bd3786"
             ],
             [
              0.5555555555555556,
              "#d8576b"
             ],
             [
              0.6666666666666666,
              "#ed7953"
             ],
             [
              0.7777777777777778,
              "#fb9f3a"
             ],
             [
              0.8888888888888888,
              "#fdca26"
             ],
             [
              1,
              "#f0f921"
             ]
            ],
            "type": "histogram2dcontour"
           }
          ],
          "mesh3d": [
           {
            "colorbar": {
             "outlinewidth": 0,
             "ticks": ""
            },
            "type": "mesh3d"
           }
          ],
          "parcoords": [
           {
            "line": {
             "colorbar": {
              "outlinewidth": 0,
              "ticks": ""
             }
            },
            "type": "parcoords"
           }
          ],
          "pie": [
           {
            "automargin": true,
            "type": "pie"
           }
          ],
          "scatter": [
           {
            "fillpattern": {
             "fillmode": "overlay",
             "size": 10,
             "solidity": 0.2
            },
            "type": "scatter"
           }
          ],
          "scatter3d": [
           {
            "line": {
             "colorbar": {
              "outlinewidth": 0,
              "ticks": ""
             }
            },
            "marker": {
             "colorbar": {
              "outlinewidth": 0,
              "ticks": ""
             }
            },
            "type": "scatter3d"
           }
          ],
          "scattercarpet": [
           {
            "marker": {
             "colorbar": {
              "outlinewidth": 0,
              "ticks": ""
             }
            },
            "type": "scattercarpet"
           }
          ],
          "scattergeo": [
           {
            "marker": {
             "colorbar": {
              "outlinewidth": 0,
              "ticks": ""
             }
            },
            "type": "scattergeo"
           }
          ],
          "scattergl": [
           {
            "marker": {
             "colorbar": {
              "outlinewidth": 0,
              "ticks": ""
             }
            },
            "type": "scattergl"
           }
          ],
          "scattermap": [
           {
            "marker": {
             "colorbar": {
              "outlinewidth": 0,
              "ticks": ""
             }
            },
            "type": "scattermap"
           }
          ],
          "scattermapbox": [
           {
            "marker": {
             "colorbar": {
              "outlinewidth": 0,
              "ticks": ""
             }
            },
            "type": "scattermapbox"
           }
          ],
          "scatterpolar": [
           {
            "marker": {
             "colorbar": {
              "outlinewidth": 0,
              "ticks": ""
             }
            },
            "type": "scatterpolar"
           }
          ],
          "scatterpolargl": [
           {
            "marker": {
             "colorbar": {
              "outlinewidth": 0,
              "ticks": ""
             }
            },
            "type": "scatterpolargl"
           }
          ],
          "scatterternary": [
           {
            "marker": {
             "colorbar": {
              "outlinewidth": 0,
              "ticks": ""
             }
            },
            "type": "scatterternary"
           }
          ],
          "surface": [
           {
            "colorbar": {
             "outlinewidth": 0,
             "ticks": ""
            },
            "colorscale": [
             [
              0,
              "#0d0887"
             ],
             [
              0.1111111111111111,
              "#46039f"
             ],
             [
              0.2222222222222222,
              "#7201a8"
             ],
             [
              0.3333333333333333,
              "#9c179e"
             ],
             [
              0.4444444444444444,
              "#bd3786"
             ],
             [
              0.5555555555555556,
              "#d8576b"
             ],
             [
              0.6666666666666666,
              "#ed7953"
             ],
             [
              0.7777777777777778,
              "#fb9f3a"
             ],
             [
              0.8888888888888888,
              "#fdca26"
             ],
             [
              1,
              "#f0f921"
             ]
            ],
            "type": "surface"
           }
          ],
          "table": [
           {
            "cells": {
             "fill": {
              "color": "#EBF0F8"
             },
             "line": {
              "color": "white"
             }
            },
            "header": {
             "fill": {
              "color": "#C8D4E3"
             },
             "line": {
              "color": "white"
             }
            },
            "type": "table"
           }
          ]
         },
         "layout": {
          "annotationdefaults": {
           "arrowcolor": "#2a3f5f",
           "arrowhead": 0,
           "arrowwidth": 1
          },
          "autotypenumbers": "strict",
          "coloraxis": {
           "colorbar": {
            "outlinewidth": 0,
            "ticks": ""
           }
          },
          "colorscale": {
           "diverging": [
            [
             0,
             "#8e0152"
            ],
            [
             0.1,
             "#c51b7d"
            ],
            [
             0.2,
             "#de77ae"
            ],
            [
             0.3,
             "#f1b6da"
            ],
            [
             0.4,
             "#fde0ef"
            ],
            [
             0.5,
             "#f7f7f7"
            ],
            [
             0.6,
             "#e6f5d0"
            ],
            [
             0.7,
             "#b8e186"
            ],
            [
             0.8,
             "#7fbc41"
            ],
            [
             0.9,
             "#4d9221"
            ],
            [
             1,
             "#276419"
            ]
           ],
           "sequential": [
            [
             0,
             "#0d0887"
            ],
            [
             0.1111111111111111,
             "#46039f"
            ],
            [
             0.2222222222222222,
             "#7201a8"
            ],
            [
             0.3333333333333333,
             "#9c179e"
            ],
            [
             0.4444444444444444,
             "#bd3786"
            ],
            [
             0.5555555555555556,
             "#d8576b"
            ],
            [
             0.6666666666666666,
             "#ed7953"
            ],
            [
             0.7777777777777778,
             "#fb9f3a"
            ],
            [
             0.8888888888888888,
             "#fdca26"
            ],
            [
             1,
             "#f0f921"
            ]
           ],
           "sequentialminus": [
            [
             0,
             "#0d0887"
            ],
            [
             0.1111111111111111,
             "#46039f"
            ],
            [
             0.2222222222222222,
             "#7201a8"
            ],
            [
             0.3333333333333333,
             "#9c179e"
            ],
            [
             0.4444444444444444,
             "#bd3786"
            ],
            [
             0.5555555555555556,
             "#d8576b"
            ],
            [
             0.6666666666666666,
             "#ed7953"
            ],
            [
             0.7777777777777778,
             "#fb9f3a"
            ],
            [
             0.8888888888888888,
             "#fdca26"
            ],
            [
             1,
             "#f0f921"
            ]
           ]
          },
          "colorway": [
           "#636efa",
           "#EF553B",
           "#00cc96",
           "#ab63fa",
           "#FFA15A",
           "#19d3f3",
           "#FF6692",
           "#B6E880",
           "#FF97FF",
           "#FECB52"
          ],
          "font": {
           "color": "#2a3f5f"
          },
          "geo": {
           "bgcolor": "white",
           "lakecolor": "white",
           "landcolor": "#E5ECF6",
           "showlakes": true,
           "showland": true,
           "subunitcolor": "white"
          },
          "hoverlabel": {
           "align": "left"
          },
          "hovermode": "closest",
          "mapbox": {
           "style": "light"
          },
          "paper_bgcolor": "white",
          "plot_bgcolor": "#E5ECF6",
          "polar": {
           "angularaxis": {
            "gridcolor": "white",
            "linecolor": "white",
            "ticks": ""
           },
           "bgcolor": "#E5ECF6",
           "radialaxis": {
            "gridcolor": "white",
            "linecolor": "white",
            "ticks": ""
           }
          },
          "scene": {
           "xaxis": {
            "backgroundcolor": "#E5ECF6",
            "gridcolor": "white",
            "gridwidth": 2,
            "linecolor": "white",
            "showbackground": true,
            "ticks": "",
            "zerolinecolor": "white"
           },
           "yaxis": {
            "backgroundcolor": "#E5ECF6",
            "gridcolor": "white",
            "gridwidth": 2,
            "linecolor": "white",
            "showbackground": true,
            "ticks": "",
            "zerolinecolor": "white"
           },
           "zaxis": {
            "backgroundcolor": "#E5ECF6",
            "gridcolor": "white",
            "gridwidth": 2,
            "linecolor": "white",
            "showbackground": true,
            "ticks": "",
            "zerolinecolor": "white"
           }
          },
          "shapedefaults": {
           "line": {
            "color": "#2a3f5f"
           }
          },
          "ternary": {
           "aaxis": {
            "gridcolor": "white",
            "linecolor": "white",
            "ticks": ""
           },
           "baxis": {
            "gridcolor": "white",
            "linecolor": "white",
            "ticks": ""
           },
           "bgcolor": "#E5ECF6",
           "caxis": {
            "gridcolor": "white",
            "linecolor": "white",
            "ticks": ""
           }
          },
          "title": {
           "x": 0.05
          },
          "xaxis": {
           "automargin": true,
           "gridcolor": "white",
           "linecolor": "white",
           "ticks": "",
           "title": {
            "standoff": 15
           },
           "zerolinecolor": "white",
           "zerolinewidth": 2
          },
          "yaxis": {
           "automargin": true,
           "gridcolor": "white",
           "linecolor": "white",
           "ticks": "",
           "title": {
            "standoff": 15
           },
           "zerolinecolor": "white",
           "zerolinewidth": 2
          }
         }
        },
        "title": {
         "font": {
          "color": "black",
          "size": 30
         },
         "text": "<b>Models Vs Train Accuracies",
         "x": 0.5
        },
        "xaxis": {
         "anchor": "y",
         "domain": [
          0,
          1
         ],
         "title": {
          "text": "Train Accuracy"
         }
        },
        "yaxis": {
         "anchor": "x",
         "domain": [
          0,
          1
         ],
         "title": {
          "text": "Models Names"
         }
        }
       }
      }
     },
     "metadata": {},
     "output_type": "display_data"
    },
    {
     "data": {
      "application/vnd.plotly.v1+json": {
       "config": {
        "plotlyServerURL": "https://plot.ly"
       },
       "data": [
        {
         "hovertemplate": "Test_Accuracy=%{marker.color}<br>index=%{y}<extra></extra>",
         "legendgroup": "",
         "marker": {
          "color": {
           "bdata": "yc77HS+T6T+p5WjJzvvtP/qsxly2Z+4/BOHz7JiC7z8ttRwt2XnvP+4sa6gI6es/",
           "dtype": "f8"
          },
          "coloraxis": "coloraxis",
          "pattern": {
           "shape": ""
          }
         },
         "name": "",
         "orientation": "h",
         "showlegend": false,
         "textposition": "auto",
         "texttemplate": "%{x}",
         "type": "bar",
         "x": {
          "bdata": "yc77HS+T6T+p5WjJzvvtP/qsxly2Z+4/BOHz7JiC7z8ttRwt2XnvP+4sa6gI6es/",
          "dtype": "f8"
         },
         "xaxis": "x",
         "y": [
          "Logistic Regression",
          "Support Vector Machine",
          "Decision Tree",
          "Random Forest",
          "XGBClassifier",
          "AdaBoostClassifier"
         ],
         "yaxis": "y"
        }
       ],
       "layout": {
        "barmode": "relative",
        "coloraxis": {
         "colorbar": {
          "title": {
           "text": "Test_Accuracy"
          }
         },
         "colorscale": [
          [
           0,
           "rgb(255,245,240)"
          ],
          [
           0.125,
           "rgb(254,224,210)"
          ],
          [
           0.25,
           "rgb(252,187,161)"
          ],
          [
           0.375,
           "rgb(252,146,114)"
          ],
          [
           0.5,
           "rgb(251,106,74)"
          ],
          [
           0.625,
           "rgb(239,59,44)"
          ],
          [
           0.75,
           "rgb(203,24,29)"
          ],
          [
           0.875,
           "rgb(165,15,21)"
          ],
          [
           1,
           "rgb(103,0,13)"
          ]
         ]
        },
        "hoverlabel": {
         "font": {
          "size": 20
         }
        },
        "hovermode": "x",
        "legend": {
         "tracegroupgap": 0
        },
        "template": {
         "data": {
          "bar": [
           {
            "error_x": {
             "color": "#2a3f5f"
            },
            "error_y": {
             "color": "#2a3f5f"
            },
            "marker": {
             "line": {
              "color": "#E5ECF6",
              "width": 0.5
             },
             "pattern": {
              "fillmode": "overlay",
              "size": 10,
              "solidity": 0.2
             }
            },
            "type": "bar"
           }
          ],
          "barpolar": [
           {
            "marker": {
             "line": {
              "color": "#E5ECF6",
              "width": 0.5
             },
             "pattern": {
              "fillmode": "overlay",
              "size": 10,
              "solidity": 0.2
             }
            },
            "type": "barpolar"
           }
          ],
          "carpet": [
           {
            "aaxis": {
             "endlinecolor": "#2a3f5f",
             "gridcolor": "white",
             "linecolor": "white",
             "minorgridcolor": "white",
             "startlinecolor": "#2a3f5f"
            },
            "baxis": {
             "endlinecolor": "#2a3f5f",
             "gridcolor": "white",
             "linecolor": "white",
             "minorgridcolor": "white",
             "startlinecolor": "#2a3f5f"
            },
            "type": "carpet"
           }
          ],
          "choropleth": [
           {
            "colorbar": {
             "outlinewidth": 0,
             "ticks": ""
            },
            "type": "choropleth"
           }
          ],
          "contour": [
           {
            "colorbar": {
             "outlinewidth": 0,
             "ticks": ""
            },
            "colorscale": [
             [
              0,
              "#0d0887"
             ],
             [
              0.1111111111111111,
              "#46039f"
             ],
             [
              0.2222222222222222,
              "#7201a8"
             ],
             [
              0.3333333333333333,
              "#9c179e"
             ],
             [
              0.4444444444444444,
              "#bd3786"
             ],
             [
              0.5555555555555556,
              "#d8576b"
             ],
             [
              0.6666666666666666,
              "#ed7953"
             ],
             [
              0.7777777777777778,
              "#fb9f3a"
             ],
             [
              0.8888888888888888,
              "#fdca26"
             ],
             [
              1,
              "#f0f921"
             ]
            ],
            "type": "contour"
           }
          ],
          "contourcarpet": [
           {
            "colorbar": {
             "outlinewidth": 0,
             "ticks": ""
            },
            "type": "contourcarpet"
           }
          ],
          "heatmap": [
           {
            "colorbar": {
             "outlinewidth": 0,
             "ticks": ""
            },
            "colorscale": [
             [
              0,
              "#0d0887"
             ],
             [
              0.1111111111111111,
              "#46039f"
             ],
             [
              0.2222222222222222,
              "#7201a8"
             ],
             [
              0.3333333333333333,
              "#9c179e"
             ],
             [
              0.4444444444444444,
              "#bd3786"
             ],
             [
              0.5555555555555556,
              "#d8576b"
             ],
             [
              0.6666666666666666,
              "#ed7953"
             ],
             [
              0.7777777777777778,
              "#fb9f3a"
             ],
             [
              0.8888888888888888,
              "#fdca26"
             ],
             [
              1,
              "#f0f921"
             ]
            ],
            "type": "heatmap"
           }
          ],
          "histogram": [
           {
            "marker": {
             "pattern": {
              "fillmode": "overlay",
              "size": 10,
              "solidity": 0.2
             }
            },
            "type": "histogram"
           }
          ],
          "histogram2d": [
           {
            "colorbar": {
             "outlinewidth": 0,
             "ticks": ""
            },
            "colorscale": [
             [
              0,
              "#0d0887"
             ],
             [
              0.1111111111111111,
              "#46039f"
             ],
             [
              0.2222222222222222,
              "#7201a8"
             ],
             [
              0.3333333333333333,
              "#9c179e"
             ],
             [
              0.4444444444444444,
              "#bd3786"
             ],
             [
              0.5555555555555556,
              "#d8576b"
             ],
             [
              0.6666666666666666,
              "#ed7953"
             ],
             [
              0.7777777777777778,
              "#fb9f3a"
             ],
             [
              0.8888888888888888,
              "#fdca26"
             ],
             [
              1,
              "#f0f921"
             ]
            ],
            "type": "histogram2d"
           }
          ],
          "histogram2dcontour": [
           {
            "colorbar": {
             "outlinewidth": 0,
             "ticks": ""
            },
            "colorscale": [
             [
              0,
              "#0d0887"
             ],
             [
              0.1111111111111111,
              "#46039f"
             ],
             [
              0.2222222222222222,
              "#7201a8"
             ],
             [
              0.3333333333333333,
              "#9c179e"
             ],
             [
              0.4444444444444444,
              "#bd3786"
             ],
             [
              0.5555555555555556,
              "#d8576b"
             ],
             [
              0.6666666666666666,
              "#ed7953"
             ],
             [
              0.7777777777777778,
              "#fb9f3a"
             ],
             [
              0.8888888888888888,
              "#fdca26"
             ],
             [
              1,
              "#f0f921"
             ]
            ],
            "type": "histogram2dcontour"
           }
          ],
          "mesh3d": [
           {
            "colorbar": {
             "outlinewidth": 0,
             "ticks": ""
            },
            "type": "mesh3d"
           }
          ],
          "parcoords": [
           {
            "line": {
             "colorbar": {
              "outlinewidth": 0,
              "ticks": ""
             }
            },
            "type": "parcoords"
           }
          ],
          "pie": [
           {
            "automargin": true,
            "type": "pie"
           }
          ],
          "scatter": [
           {
            "fillpattern": {
             "fillmode": "overlay",
             "size": 10,
             "solidity": 0.2
            },
            "type": "scatter"
           }
          ],
          "scatter3d": [
           {
            "line": {
             "colorbar": {
              "outlinewidth": 0,
              "ticks": ""
             }
            },
            "marker": {
             "colorbar": {
              "outlinewidth": 0,
              "ticks": ""
             }
            },
            "type": "scatter3d"
           }
          ],
          "scattercarpet": [
           {
            "marker": {
             "colorbar": {
              "outlinewidth": 0,
              "ticks": ""
             }
            },
            "type": "scattercarpet"
           }
          ],
          "scattergeo": [
           {
            "marker": {
             "colorbar": {
              "outlinewidth": 0,
              "ticks": ""
             }
            },
            "type": "scattergeo"
           }
          ],
          "scattergl": [
           {
            "marker": {
             "colorbar": {
              "outlinewidth": 0,
              "ticks": ""
             }
            },
            "type": "scattergl"
           }
          ],
          "scattermap": [
           {
            "marker": {
             "colorbar": {
              "outlinewidth": 0,
              "ticks": ""
             }
            },
            "type": "scattermap"
           }
          ],
          "scattermapbox": [
           {
            "marker": {
             "colorbar": {
              "outlinewidth": 0,
              "ticks": ""
             }
            },
            "type": "scattermapbox"
           }
          ],
          "scatterpolar": [
           {
            "marker": {
             "colorbar": {
              "outlinewidth": 0,
              "ticks": ""
             }
            },
            "type": "scatterpolar"
           }
          ],
          "scatterpolargl": [
           {
            "marker": {
             "colorbar": {
              "outlinewidth": 0,
              "ticks": ""
             }
            },
            "type": "scatterpolargl"
           }
          ],
          "scatterternary": [
           {
            "marker": {
             "colorbar": {
              "outlinewidth": 0,
              "ticks": ""
             }
            },
            "type": "scatterternary"
           }
          ],
          "surface": [
           {
            "colorbar": {
             "outlinewidth": 0,
             "ticks": ""
            },
            "colorscale": [
             [
              0,
              "#0d0887"
             ],
             [
              0.1111111111111111,
              "#46039f"
             ],
             [
              0.2222222222222222,
              "#7201a8"
             ],
             [
              0.3333333333333333,
              "#9c179e"
             ],
             [
              0.4444444444444444,
              "#bd3786"
             ],
             [
              0.5555555555555556,
              "#d8576b"
             ],
             [
              0.6666666666666666,
              "#ed7953"
             ],
             [
              0.7777777777777778,
              "#fb9f3a"
             ],
             [
              0.8888888888888888,
              "#fdca26"
             ],
             [
              1,
              "#f0f921"
             ]
            ],
            "type": "surface"
           }
          ],
          "table": [
           {
            "cells": {
             "fill": {
              "color": "#EBF0F8"
             },
             "line": {
              "color": "white"
             }
            },
            "header": {
             "fill": {
              "color": "#C8D4E3"
             },
             "line": {
              "color": "white"
             }
            },
            "type": "table"
           }
          ]
         },
         "layout": {
          "annotationdefaults": {
           "arrowcolor": "#2a3f5f",
           "arrowhead": 0,
           "arrowwidth": 1
          },
          "autotypenumbers": "strict",
          "coloraxis": {
           "colorbar": {
            "outlinewidth": 0,
            "ticks": ""
           }
          },
          "colorscale": {
           "diverging": [
            [
             0,
             "#8e0152"
            ],
            [
             0.1,
             "#c51b7d"
            ],
            [
             0.2,
             "#de77ae"
            ],
            [
             0.3,
             "#f1b6da"
            ],
            [
             0.4,
             "#fde0ef"
            ],
            [
             0.5,
             "#f7f7f7"
            ],
            [
             0.6,
             "#e6f5d0"
            ],
            [
             0.7,
             "#b8e186"
            ],
            [
             0.8,
             "#7fbc41"
            ],
            [
             0.9,
             "#4d9221"
            ],
            [
             1,
             "#276419"
            ]
           ],
           "sequential": [
            [
             0,
             "#0d0887"
            ],
            [
             0.1111111111111111,
             "#46039f"
            ],
            [
             0.2222222222222222,
             "#7201a8"
            ],
            [
             0.3333333333333333,
             "#9c179e"
            ],
            [
             0.4444444444444444,
             "#bd3786"
            ],
            [
             0.5555555555555556,
             "#d8576b"
            ],
            [
             0.6666666666666666,
             "#ed7953"
            ],
            [
             0.7777777777777778,
             "#fb9f3a"
            ],
            [
             0.8888888888888888,
             "#fdca26"
            ],
            [
             1,
             "#f0f921"
            ]
           ],
           "sequentialminus": [
            [
             0,
             "#0d0887"
            ],
            [
             0.1111111111111111,
             "#46039f"
            ],
            [
             0.2222222222222222,
             "#7201a8"
            ],
            [
             0.3333333333333333,
             "#9c179e"
            ],
            [
             0.4444444444444444,
             "#bd3786"
            ],
            [
             0.5555555555555556,
             "#d8576b"
            ],
            [
             0.6666666666666666,
             "#ed7953"
            ],
            [
             0.7777777777777778,
             "#fb9f3a"
            ],
            [
             0.8888888888888888,
             "#fdca26"
            ],
            [
             1,
             "#f0f921"
            ]
           ]
          },
          "colorway": [
           "#636efa",
           "#EF553B",
           "#00cc96",
           "#ab63fa",
           "#FFA15A",
           "#19d3f3",
           "#FF6692",
           "#B6E880",
           "#FF97FF",
           "#FECB52"
          ],
          "font": {
           "color": "#2a3f5f"
          },
          "geo": {
           "bgcolor": "white",
           "lakecolor": "white",
           "landcolor": "#E5ECF6",
           "showlakes": true,
           "showland": true,
           "subunitcolor": "white"
          },
          "hoverlabel": {
           "align": "left"
          },
          "hovermode": "closest",
          "mapbox": {
           "style": "light"
          },
          "paper_bgcolor": "white",
          "plot_bgcolor": "#E5ECF6",
          "polar": {
           "angularaxis": {
            "gridcolor": "white",
            "linecolor": "white",
            "ticks": ""
           },
           "bgcolor": "#E5ECF6",
           "radialaxis": {
            "gridcolor": "white",
            "linecolor": "white",
            "ticks": ""
           }
          },
          "scene": {
           "xaxis": {
            "backgroundcolor": "#E5ECF6",
            "gridcolor": "white",
            "gridwidth": 2,
            "linecolor": "white",
            "showbackground": true,
            "ticks": "",
            "zerolinecolor": "white"
           },
           "yaxis": {
            "backgroundcolor": "#E5ECF6",
            "gridcolor": "white",
            "gridwidth": 2,
            "linecolor": "white",
            "showbackground": true,
            "ticks": "",
            "zerolinecolor": "white"
           },
           "zaxis": {
            "backgroundcolor": "#E5ECF6",
            "gridcolor": "white",
            "gridwidth": 2,
            "linecolor": "white",
            "showbackground": true,
            "ticks": "",
            "zerolinecolor": "white"
           }
          },
          "shapedefaults": {
           "line": {
            "color": "#2a3f5f"
           }
          },
          "ternary": {
           "aaxis": {
            "gridcolor": "white",
            "linecolor": "white",
            "ticks": ""
           },
           "baxis": {
            "gridcolor": "white",
            "linecolor": "white",
            "ticks": ""
           },
           "bgcolor": "#E5ECF6",
           "caxis": {
            "gridcolor": "white",
            "linecolor": "white",
            "ticks": ""
           }
          },
          "title": {
           "x": 0.05
          },
          "xaxis": {
           "automargin": true,
           "gridcolor": "white",
           "linecolor": "white",
           "ticks": "",
           "title": {
            "standoff": 15
           },
           "zerolinecolor": "white",
           "zerolinewidth": 2
          },
          "yaxis": {
           "automargin": true,
           "gridcolor": "white",
           "linecolor": "white",
           "ticks": "",
           "title": {
            "standoff": 15
           },
           "zerolinecolor": "white",
           "zerolinewidth": 2
          }
         }
        },
        "title": {
         "font": {
          "color": "black",
          "size": 30
         },
         "text": "<b>Models Vs Test Accuracies",
         "x": 0.5
        },
        "xaxis": {
         "anchor": "y",
         "domain": [
          0,
          1
         ],
         "title": {
          "text": "Test Accuracy"
         }
        },
        "yaxis": {
         "anchor": "x",
         "domain": [
          0,
          1
         ],
         "title": {
          "text": "Models Names"
         }
        }
       }
      }
     },
     "metadata": {},
     "output_type": "display_data"
    }
   ],
   "source": [
    "import plotly.express as px\n",
    "\n",
    "fig = px.bar(models, x=models['Train_Accuracy'], y = models.index ,color=models['Train_Accuracy'],title=\"<b>\"+'Models Vs Train Accuracies',text_auto= True , color_continuous_scale='Reds')\n",
    "fig.update_layout(hovermode='x',title_font_size=30)\n",
    "fig.update_layout(\n",
    "title_font_color=\"black\",\n",
    "template=\"plotly\",\n",
    "title_font_size=30,\n",
    "hoverlabel_font_size=20,\n",
    "title_x=0.5,\n",
    "xaxis_title='Train Accuracy',\n",
    "yaxis_title='Models Names',\n",
    ")\n",
    "fig.show()\n",
    "\n",
    "\n",
    "\n",
    "fig = px.bar(models, x=models['Test_Accuracy'], y = models.index ,color=models['Test_Accuracy'],title=\"<b>\"+'Models Vs Test Accuracies',text_auto= True , color_continuous_scale='Reds')\n",
    "fig.update_layout(hovermode='x',title_font_size=30)\n",
    "fig.update_layout(\n",
    "title_font_color=\"black\",\n",
    "template=\"plotly\",\n",
    "title_font_size=30,\n",
    "hoverlabel_font_size=20,\n",
    "title_x=0.5,\n",
    "xaxis_title='Test Accuracy',\n",
    "yaxis_title='Models Names',\n",
    ")\n",
    "fig.show()"
   ]
  },
  {
   "cell_type": "code",
   "execution_count": 26,
   "id": "77eacb48-b8ca-4b3a-a290-47bc07a878d4",
   "metadata": {},
   "outputs": [],
   "source": [
    "from imblearn.combine import SMOTEENN\n",
    "sme = SMOTEENN(random_state=42)\n",
    "x_sme , y_sme = sme.fit_resample(X , Y)"
   ]
  },
  {
   "cell_type": "code",
   "execution_count": 27,
   "id": "75338a4d-7b7e-41a6-8eff-cd8a40b05740",
   "metadata": {},
   "outputs": [
    {
     "data": {
      "text/plain": [
       "((8534, 19), (8534,))"
      ]
     },
     "execution_count": 27,
     "metadata": {},
     "output_type": "execute_result"
    }
   ],
   "source": [
    "x_sme.shape, y_sme.shape"
   ]
  },
  {
   "cell_type": "code",
   "execution_count": 28,
   "id": "7ccc5557-3d09-45a9-8564-a25c9d919c54",
   "metadata": {},
   "outputs": [],
   "source": [
    "x_train_sme , x_test_sme , y_train_sme , y_test_sme = train_test_split(x_sme , y_sme , test_size = 0.30 , random_state = 42)"
   ]
  },
  {
   "cell_type": "code",
   "execution_count": 29,
   "id": "b260ebc1-242d-4b54-8ead-75dc229302ff",
   "metadata": {},
   "outputs": [],
   "source": [
    "logis_clf_sme = LogisticRegression()\n",
    "svm_clf_sme = SVC()\n",
    "dt_clf_sme = DecisionTreeClassifier()\n",
    "rf_clf_sme = RandomForestClassifier()\n",
    "XGB_clf_sme = XGBClassifier()\n",
    "ada_clf_sme = AdaBoostClassifier()"
   ]
  },
  {
   "cell_type": "code",
   "execution_count": 30,
   "id": "11ea18a5-dcc7-4254-a0f2-5e7e1f9f42c6",
   "metadata": {},
   "outputs": [],
   "source": [
    "clf_list = [logis_clf_sme, svm_clf_sme, dt_clf_sme, rf_clf_sme, XGB_clf_sme, ada_clf_sme]\n",
    "clf_name_list = ['Logistic Regression', 'Support Vector Machine', 'Decision Tree', 'Random Forest', 'XGBClassifier' , 'AdaBoostClassifier']\n",
    "\n",
    "for clf in clf_list:\n",
    "    clf.fit(x_train_sme,y_train_sme)"
   ]
  },
  {
   "cell_type": "code",
   "execution_count": 31,
   "id": "dee3d694-fbb6-425c-beab-09f5819dbea8",
   "metadata": {},
   "outputs": [
    {
     "name": "stdout",
     "output_type": "stream",
     "text": [
      "Using SMOTEENN\n",
      "\n",
      "Using model: Logistic Regression\n",
      "Trainning Score: 0.8273899213125733\n",
      "Test Score: 0.8340491995314331\n",
      "Acc Train: 0.8273899213125733\n",
      "Acc Test: 0.8340491995314331\n",
      "\n",
      "\n",
      "Using model: Support Vector Machine\n",
      "Trainning Score: 0.9773982923154194\n",
      "Test Score: 0.9726669269816478\n",
      "Acc Train: 0.9773982923154194\n",
      "Acc Test: 0.9726669269816478\n",
      "\n",
      "\n",
      "Using model: Decision Tree\n",
      "Trainning Score: 1.0\n",
      "Test Score: 0.9527528309254197\n",
      "Acc Train: 1.0\n",
      "Acc Test: 0.9527528309254197\n",
      "\n",
      "\n",
      "Using model: Random Forest\n",
      "Trainning Score: 1.0\n",
      "Test Score: 0.9808668488871535\n",
      "Acc Train: 1.0\n",
      "Acc Test: 0.9808668488871535\n",
      "\n",
      "\n",
      "Using model: XGBClassifier\n",
      "Trainning Score: 1.0\n",
      "Test Score: 0.9804763764154627\n",
      "Acc Train: 1.0\n",
      "Acc Test: 0.9804763764154627\n",
      "\n",
      "\n",
      "Using model: AdaBoostClassifier\n",
      "Trainning Score: 0.8905072827724761\n",
      "Test Score: 0.8852010933229207\n",
      "Acc Train: 0.8905072827724761\n",
      "Acc Test: 0.8852010933229207\n",
      "\n",
      "\n"
     ]
    }
   ],
   "source": [
    "train_acc_list = []\n",
    "test_acc_list = []\n",
    "\n",
    "print('Using SMOTEENN')\n",
    "print()\n",
    "\n",
    "for clf,name in zip(clf_list,clf_name_list):\n",
    "    y_pred_train_sme = clf.predict(x_train_sme)\n",
    "    y_pred_test_sme = clf.predict(x_test_sme)\n",
    "    print(f'Using model: {name}')\n",
    "    print(f'Trainning Score: {clf.score(x_train_sme, y_train_sme)}')\n",
    "    print(f'Test Score: {clf.score(x_test_sme, y_test_sme)}')\n",
    "    print(f'Acc Train: {accuracy_score(y_train_sme, y_pred_train_sme)}')\n",
    "    print(f'Acc Test: {accuracy_score(y_test_sme, y_pred_test_sme)}')\n",
    "    train_acc_list.append(accuracy_score(y_train_sme, y_pred_train_sme))\n",
    "    test_acc_list.append(accuracy_score(y_test_sme, y_pred_test_sme))\n",
    "    print()\n",
    "    print()"
   ]
  },
  {
   "cell_type": "code",
   "execution_count": 32,
   "id": "0f23b2f4-f31d-4261-b5cd-e2a1b866a0d4",
   "metadata": {},
   "outputs": [
    {
     "data": {
      "text/html": [
       "<div>\n",
       "<style scoped>\n",
       "    .dataframe tbody tr th:only-of-type {\n",
       "        vertical-align: middle;\n",
       "    }\n",
       "\n",
       "    .dataframe tbody tr th {\n",
       "        vertical-align: top;\n",
       "    }\n",
       "\n",
       "    .dataframe thead th {\n",
       "        text-align: right;\n",
       "    }\n",
       "</style>\n",
       "<table border=\"1\" class=\"dataframe\">\n",
       "  <thead>\n",
       "    <tr style=\"text-align: right;\">\n",
       "      <th></th>\n",
       "      <th>Train_Accuracy</th>\n",
       "      <th>Test_Accuracy</th>\n",
       "    </tr>\n",
       "  </thead>\n",
       "  <tbody>\n",
       "    <tr>\n",
       "      <th>Logistic Regression</th>\n",
       "      <td>0.827390</td>\n",
       "      <td>0.834049</td>\n",
       "    </tr>\n",
       "    <tr>\n",
       "      <th>Support Vector Machine</th>\n",
       "      <td>0.977398</td>\n",
       "      <td>0.972667</td>\n",
       "    </tr>\n",
       "    <tr>\n",
       "      <th>Decision Tree</th>\n",
       "      <td>1.000000</td>\n",
       "      <td>0.952753</td>\n",
       "    </tr>\n",
       "    <tr>\n",
       "      <th>Random Forest</th>\n",
       "      <td>1.000000</td>\n",
       "      <td>0.980867</td>\n",
       "    </tr>\n",
       "    <tr>\n",
       "      <th>XGBClassifier</th>\n",
       "      <td>1.000000</td>\n",
       "      <td>0.980476</td>\n",
       "    </tr>\n",
       "    <tr>\n",
       "      <th>AdaBoostClassifier</th>\n",
       "      <td>0.890507</td>\n",
       "      <td>0.885201</td>\n",
       "    </tr>\n",
       "  </tbody>\n",
       "</table>\n",
       "</div>"
      ],
      "text/plain": [
       "                        Train_Accuracy  Test_Accuracy\n",
       "Logistic Regression           0.827390       0.834049\n",
       "Support Vector Machine        0.977398       0.972667\n",
       "Decision Tree                 1.000000       0.952753\n",
       "Random Forest                 1.000000       0.980867\n",
       "XGBClassifier                 1.000000       0.980476\n",
       "AdaBoostClassifier            0.890507       0.885201"
      ]
     },
     "execution_count": 32,
     "metadata": {},
     "output_type": "execute_result"
    }
   ],
   "source": [
    "models_sme = pd.DataFrame({'Train_Accuracy': train_acc_list , 'Test_Accuracy' : test_acc_list}  , index = clf_name_list)\n",
    "models_sme"
   ]
  },
  {
   "cell_type": "code",
   "execution_count": 33,
   "id": "6c14f906-ddae-465d-9926-e3604f1fbe93",
   "metadata": {},
   "outputs": [
    {
     "name": "stdout",
     "output_type": "stream",
     "text": [
      "Using SMOTEENN\n"
     ]
    },
    {
     "data": {
      "application/vnd.plotly.v1+json": {
       "config": {
        "plotlyServerURL": "https://plot.ly"
       },
       "data": [
        {
         "hovertemplate": "Train_Accuracy=%{marker.color}<br>index=%{y}<extra></extra>",
         "legendgroup": "",
         "marker": {
          "color": {
           "bdata": "Anuibfp56j+0JpXI2EbvPwAAAAAAAPA/AAAAAAAA8D8AAAAAAADwP4lxCyEJf+w/",
           "dtype": "f8"
          },
          "coloraxis": "coloraxis",
          "pattern": {
           "shape": ""
          }
         },
         "name": "",
         "orientation": "h",
         "showlegend": false,
         "textposition": "auto",
         "texttemplate": "%{x}",
         "type": "bar",
         "x": {
          "bdata": "Anuibfp56j+0JpXI2EbvPwAAAAAAAPA/AAAAAAAA8D8AAAAAAADwP4lxCyEJf+w/",
          "dtype": "f8"
         },
         "xaxis": "x",
         "y": [
          "Logistic Regression",
          "Support Vector Machine",
          "Decision Tree",
          "Random Forest",
          "XGBClassifier",
          "AdaBoostClassifier"
         ],
         "yaxis": "y"
        }
       ],
       "layout": {
        "barmode": "relative",
        "coloraxis": {
         "colorbar": {
          "title": {
           "text": "Train_Accuracy"
          }
         },
         "colorscale": [
          [
           0,
           "rgb(247,251,255)"
          ],
          [
           0.125,
           "rgb(222,235,247)"
          ],
          [
           0.25,
           "rgb(198,219,239)"
          ],
          [
           0.375,
           "rgb(158,202,225)"
          ],
          [
           0.5,
           "rgb(107,174,214)"
          ],
          [
           0.625,
           "rgb(66,146,198)"
          ],
          [
           0.75,
           "rgb(33,113,181)"
          ],
          [
           0.875,
           "rgb(8,81,156)"
          ],
          [
           1,
           "rgb(8,48,107)"
          ]
         ]
        },
        "hoverlabel": {
         "font": {
          "size": 20
         }
        },
        "hovermode": "x",
        "legend": {
         "tracegroupgap": 0
        },
        "template": {
         "data": {
          "bar": [
           {
            "error_x": {
             "color": "#2a3f5f"
            },
            "error_y": {
             "color": "#2a3f5f"
            },
            "marker": {
             "line": {
              "color": "#E5ECF6",
              "width": 0.5
             },
             "pattern": {
              "fillmode": "overlay",
              "size": 10,
              "solidity": 0.2
             }
            },
            "type": "bar"
           }
          ],
          "barpolar": [
           {
            "marker": {
             "line": {
              "color": "#E5ECF6",
              "width": 0.5
             },
             "pattern": {
              "fillmode": "overlay",
              "size": 10,
              "solidity": 0.2
             }
            },
            "type": "barpolar"
           }
          ],
          "carpet": [
           {
            "aaxis": {
             "endlinecolor": "#2a3f5f",
             "gridcolor": "white",
             "linecolor": "white",
             "minorgridcolor": "white",
             "startlinecolor": "#2a3f5f"
            },
            "baxis": {
             "endlinecolor": "#2a3f5f",
             "gridcolor": "white",
             "linecolor": "white",
             "minorgridcolor": "white",
             "startlinecolor": "#2a3f5f"
            },
            "type": "carpet"
           }
          ],
          "choropleth": [
           {
            "colorbar": {
             "outlinewidth": 0,
             "ticks": ""
            },
            "type": "choropleth"
           }
          ],
          "contour": [
           {
            "colorbar": {
             "outlinewidth": 0,
             "ticks": ""
            },
            "colorscale": [
             [
              0,
              "#0d0887"
             ],
             [
              0.1111111111111111,
              "#46039f"
             ],
             [
              0.2222222222222222,
              "#7201a8"
             ],
             [
              0.3333333333333333,
              "#9c179e"
             ],
             [
              0.4444444444444444,
              "#bd3786"
             ],
             [
              0.5555555555555556,
              "#d8576b"
             ],
             [
              0.6666666666666666,
              "#ed7953"
             ],
             [
              0.7777777777777778,
              "#fb9f3a"
             ],
             [
              0.8888888888888888,
              "#fdca26"
             ],
             [
              1,
              "#f0f921"
             ]
            ],
            "type": "contour"
           }
          ],
          "contourcarpet": [
           {
            "colorbar": {
             "outlinewidth": 0,
             "ticks": ""
            },
            "type": "contourcarpet"
           }
          ],
          "heatmap": [
           {
            "colorbar": {
             "outlinewidth": 0,
             "ticks": ""
            },
            "colorscale": [
             [
              0,
              "#0d0887"
             ],
             [
              0.1111111111111111,
              "#46039f"
             ],
             [
              0.2222222222222222,
              "#7201a8"
             ],
             [
              0.3333333333333333,
              "#9c179e"
             ],
             [
              0.4444444444444444,
              "#bd3786"
             ],
             [
              0.5555555555555556,
              "#d8576b"
             ],
             [
              0.6666666666666666,
              "#ed7953"
             ],
             [
              0.7777777777777778,
              "#fb9f3a"
             ],
             [
              0.8888888888888888,
              "#fdca26"
             ],
             [
              1,
              "#f0f921"
             ]
            ],
            "type": "heatmap"
           }
          ],
          "histogram": [
           {
            "marker": {
             "pattern": {
              "fillmode": "overlay",
              "size": 10,
              "solidity": 0.2
             }
            },
            "type": "histogram"
           }
          ],
          "histogram2d": [
           {
            "colorbar": {
             "outlinewidth": 0,
             "ticks": ""
            },
            "colorscale": [
             [
              0,
              "#0d0887"
             ],
             [
              0.1111111111111111,
              "#46039f"
             ],
             [
              0.2222222222222222,
              "#7201a8"
             ],
             [
              0.3333333333333333,
              "#9c179e"
             ],
             [
              0.4444444444444444,
              "#bd3786"
             ],
             [
              0.5555555555555556,
              "#d8576b"
             ],
             [
              0.6666666666666666,
              "#ed7953"
             ],
             [
              0.7777777777777778,
              "#fb9f3a"
             ],
             [
              0.8888888888888888,
              "#fdca26"
             ],
             [
              1,
              "#f0f921"
             ]
            ],
            "type": "histogram2d"
           }
          ],
          "histogram2dcontour": [
           {
            "colorbar": {
             "outlinewidth": 0,
             "ticks": ""
            },
            "colorscale": [
             [
              0,
              "#0d0887"
             ],
             [
              0.1111111111111111,
              "#46039f"
             ],
             [
              0.2222222222222222,
              "#7201a8"
             ],
             [
              0.3333333333333333,
              "#9c179e"
             ],
             [
              0.4444444444444444,
              "#bd3786"
             ],
             [
              0.5555555555555556,
              "#d8576b"
             ],
             [
              0.6666666666666666,
              "#ed7953"
             ],
             [
              0.7777777777777778,
              "#fb9f3a"
             ],
             [
              0.8888888888888888,
              "#fdca26"
             ],
             [
              1,
              "#f0f921"
             ]
            ],
            "type": "histogram2dcontour"
           }
          ],
          "mesh3d": [
           {
            "colorbar": {
             "outlinewidth": 0,
             "ticks": ""
            },
            "type": "mesh3d"
           }
          ],
          "parcoords": [
           {
            "line": {
             "colorbar": {
              "outlinewidth": 0,
              "ticks": ""
             }
            },
            "type": "parcoords"
           }
          ],
          "pie": [
           {
            "automargin": true,
            "type": "pie"
           }
          ],
          "scatter": [
           {
            "fillpattern": {
             "fillmode": "overlay",
             "size": 10,
             "solidity": 0.2
            },
            "type": "scatter"
           }
          ],
          "scatter3d": [
           {
            "line": {
             "colorbar": {
              "outlinewidth": 0,
              "ticks": ""
             }
            },
            "marker": {
             "colorbar": {
              "outlinewidth": 0,
              "ticks": ""
             }
            },
            "type": "scatter3d"
           }
          ],
          "scattercarpet": [
           {
            "marker": {
             "colorbar": {
              "outlinewidth": 0,
              "ticks": ""
             }
            },
            "type": "scattercarpet"
           }
          ],
          "scattergeo": [
           {
            "marker": {
             "colorbar": {
              "outlinewidth": 0,
              "ticks": ""
             }
            },
            "type": "scattergeo"
           }
          ],
          "scattergl": [
           {
            "marker": {
             "colorbar": {
              "outlinewidth": 0,
              "ticks": ""
             }
            },
            "type": "scattergl"
           }
          ],
          "scattermap": [
           {
            "marker": {
             "colorbar": {
              "outlinewidth": 0,
              "ticks": ""
             }
            },
            "type": "scattermap"
           }
          ],
          "scattermapbox": [
           {
            "marker": {
             "colorbar": {
              "outlinewidth": 0,
              "ticks": ""
             }
            },
            "type": "scattermapbox"
           }
          ],
          "scatterpolar": [
           {
            "marker": {
             "colorbar": {
              "outlinewidth": 0,
              "ticks": ""
             }
            },
            "type": "scatterpolar"
           }
          ],
          "scatterpolargl": [
           {
            "marker": {
             "colorbar": {
              "outlinewidth": 0,
              "ticks": ""
             }
            },
            "type": "scatterpolargl"
           }
          ],
          "scatterternary": [
           {
            "marker": {
             "colorbar": {
              "outlinewidth": 0,
              "ticks": ""
             }
            },
            "type": "scatterternary"
           }
          ],
          "surface": [
           {
            "colorbar": {
             "outlinewidth": 0,
             "ticks": ""
            },
            "colorscale": [
             [
              0,
              "#0d0887"
             ],
             [
              0.1111111111111111,
              "#46039f"
             ],
             [
              0.2222222222222222,
              "#7201a8"
             ],
             [
              0.3333333333333333,
              "#9c179e"
             ],
             [
              0.4444444444444444,
              "#bd3786"
             ],
             [
              0.5555555555555556,
              "#d8576b"
             ],
             [
              0.6666666666666666,
              "#ed7953"
             ],
             [
              0.7777777777777778,
              "#fb9f3a"
             ],
             [
              0.8888888888888888,
              "#fdca26"
             ],
             [
              1,
              "#f0f921"
             ]
            ],
            "type": "surface"
           }
          ],
          "table": [
           {
            "cells": {
             "fill": {
              "color": "#EBF0F8"
             },
             "line": {
              "color": "white"
             }
            },
            "header": {
             "fill": {
              "color": "#C8D4E3"
             },
             "line": {
              "color": "white"
             }
            },
            "type": "table"
           }
          ]
         },
         "layout": {
          "annotationdefaults": {
           "arrowcolor": "#2a3f5f",
           "arrowhead": 0,
           "arrowwidth": 1
          },
          "autotypenumbers": "strict",
          "coloraxis": {
           "colorbar": {
            "outlinewidth": 0,
            "ticks": ""
           }
          },
          "colorscale": {
           "diverging": [
            [
             0,
             "#8e0152"
            ],
            [
             0.1,
             "#c51b7d"
            ],
            [
             0.2,
             "#de77ae"
            ],
            [
             0.3,
             "#f1b6da"
            ],
            [
             0.4,
             "#fde0ef"
            ],
            [
             0.5,
             "#f7f7f7"
            ],
            [
             0.6,
             "#e6f5d0"
            ],
            [
             0.7,
             "#b8e186"
            ],
            [
             0.8,
             "#7fbc41"
            ],
            [
             0.9,
             "#4d9221"
            ],
            [
             1,
             "#276419"
            ]
           ],
           "sequential": [
            [
             0,
             "#0d0887"
            ],
            [
             0.1111111111111111,
             "#46039f"
            ],
            [
             0.2222222222222222,
             "#7201a8"
            ],
            [
             0.3333333333333333,
             "#9c179e"
            ],
            [
             0.4444444444444444,
             "#bd3786"
            ],
            [
             0.5555555555555556,
             "#d8576b"
            ],
            [
             0.6666666666666666,
             "#ed7953"
            ],
            [
             0.7777777777777778,
             "#fb9f3a"
            ],
            [
             0.8888888888888888,
             "#fdca26"
            ],
            [
             1,
             "#f0f921"
            ]
           ],
           "sequentialminus": [
            [
             0,
             "#0d0887"
            ],
            [
             0.1111111111111111,
             "#46039f"
            ],
            [
             0.2222222222222222,
             "#7201a8"
            ],
            [
             0.3333333333333333,
             "#9c179e"
            ],
            [
             0.4444444444444444,
             "#bd3786"
            ],
            [
             0.5555555555555556,
             "#d8576b"
            ],
            [
             0.6666666666666666,
             "#ed7953"
            ],
            [
             0.7777777777777778,
             "#fb9f3a"
            ],
            [
             0.8888888888888888,
             "#fdca26"
            ],
            [
             1,
             "#f0f921"
            ]
           ]
          },
          "colorway": [
           "#636efa",
           "#EF553B",
           "#00cc96",
           "#ab63fa",
           "#FFA15A",
           "#19d3f3",
           "#FF6692",
           "#B6E880",
           "#FF97FF",
           "#FECB52"
          ],
          "font": {
           "color": "#2a3f5f"
          },
          "geo": {
           "bgcolor": "white",
           "lakecolor": "white",
           "landcolor": "#E5ECF6",
           "showlakes": true,
           "showland": true,
           "subunitcolor": "white"
          },
          "hoverlabel": {
           "align": "left"
          },
          "hovermode": "closest",
          "mapbox": {
           "style": "light"
          },
          "paper_bgcolor": "white",
          "plot_bgcolor": "#E5ECF6",
          "polar": {
           "angularaxis": {
            "gridcolor": "white",
            "linecolor": "white",
            "ticks": ""
           },
           "bgcolor": "#E5ECF6",
           "radialaxis": {
            "gridcolor": "white",
            "linecolor": "white",
            "ticks": ""
           }
          },
          "scene": {
           "xaxis": {
            "backgroundcolor": "#E5ECF6",
            "gridcolor": "white",
            "gridwidth": 2,
            "linecolor": "white",
            "showbackground": true,
            "ticks": "",
            "zerolinecolor": "white"
           },
           "yaxis": {
            "backgroundcolor": "#E5ECF6",
            "gridcolor": "white",
            "gridwidth": 2,
            "linecolor": "white",
            "showbackground": true,
            "ticks": "",
            "zerolinecolor": "white"
           },
           "zaxis": {
            "backgroundcolor": "#E5ECF6",
            "gridcolor": "white",
            "gridwidth": 2,
            "linecolor": "white",
            "showbackground": true,
            "ticks": "",
            "zerolinecolor": "white"
           }
          },
          "shapedefaults": {
           "line": {
            "color": "#2a3f5f"
           }
          },
          "ternary": {
           "aaxis": {
            "gridcolor": "white",
            "linecolor": "white",
            "ticks": ""
           },
           "baxis": {
            "gridcolor": "white",
            "linecolor": "white",
            "ticks": ""
           },
           "bgcolor": "#E5ECF6",
           "caxis": {
            "gridcolor": "white",
            "linecolor": "white",
            "ticks": ""
           }
          },
          "title": {
           "x": 0.05
          },
          "xaxis": {
           "automargin": true,
           "gridcolor": "white",
           "linecolor": "white",
           "ticks": "",
           "title": {
            "standoff": 15
           },
           "zerolinecolor": "white",
           "zerolinewidth": 2
          },
          "yaxis": {
           "automargin": true,
           "gridcolor": "white",
           "linecolor": "white",
           "ticks": "",
           "title": {
            "standoff": 15
           },
           "zerolinecolor": "white",
           "zerolinewidth": 2
          }
         }
        },
        "title": {
         "font": {
          "color": "black",
          "size": 30
         },
         "text": "<b>Models Vs Train Accuracies",
         "x": 0.5
        },
        "xaxis": {
         "anchor": "y",
         "domain": [
          0,
          1
         ],
         "title": {
          "text": "Train Accuracy"
         }
        },
        "yaxis": {
         "anchor": "x",
         "domain": [
          0,
          1
         ],
         "title": {
          "text": "Models Names"
         }
        }
       }
      }
     },
     "metadata": {},
     "output_type": "display_data"
    },
    {
     "data": {
      "application/vnd.plotly.v1+json": {
       "config": {
        "plotlyServerURL": "https://plot.ly"
       },
       "data": [
        {
         "hovertemplate": "Test_Accuracy=%{marker.color}<br>index=%{y}<extra></extra>",
         "legendgroup": "",
         "marker": {
          "color": {
           "bdata": "bcJn8oew6j8VLylkFiDvPwPgP4HzfO4/wm2230Jj7z9Yj2b+D2DvP4uSRj6RU+w/",
           "dtype": "f8"
          },
          "coloraxis": "coloraxis",
          "pattern": {
           "shape": ""
          }
         },
         "name": "",
         "orientation": "h",
         "showlegend": false,
         "textposition": "auto",
         "texttemplate": "%{x}",
         "type": "bar",
         "x": {
          "bdata": "bcJn8oew6j8VLylkFiDvPwPgP4HzfO4/wm2230Jj7z9Yj2b+D2DvP4uSRj6RU+w/",
          "dtype": "f8"
         },
         "xaxis": "x",
         "y": [
          "Logistic Regression",
          "Support Vector Machine",
          "Decision Tree",
          "Random Forest",
          "XGBClassifier",
          "AdaBoostClassifier"
         ],
         "yaxis": "y"
        }
       ],
       "layout": {
        "barmode": "relative",
        "coloraxis": {
         "colorbar": {
          "title": {
           "text": "Test_Accuracy"
          }
         },
         "colorscale": [
          [
           0,
           "rgb(255,245,240)"
          ],
          [
           0.125,
           "rgb(254,224,210)"
          ],
          [
           0.25,
           "rgb(252,187,161)"
          ],
          [
           0.375,
           "rgb(252,146,114)"
          ],
          [
           0.5,
           "rgb(251,106,74)"
          ],
          [
           0.625,
           "rgb(239,59,44)"
          ],
          [
           0.75,
           "rgb(203,24,29)"
          ],
          [
           0.875,
           "rgb(165,15,21)"
          ],
          [
           1,
           "rgb(103,0,13)"
          ]
         ]
        },
        "hoverlabel": {
         "font": {
          "size": 20
         }
        },
        "hovermode": "x",
        "legend": {
         "tracegroupgap": 0
        },
        "template": {
         "data": {
          "bar": [
           {
            "error_x": {
             "color": "#2a3f5f"
            },
            "error_y": {
             "color": "#2a3f5f"
            },
            "marker": {
             "line": {
              "color": "#E5ECF6",
              "width": 0.5
             },
             "pattern": {
              "fillmode": "overlay",
              "size": 10,
              "solidity": 0.2
             }
            },
            "type": "bar"
           }
          ],
          "barpolar": [
           {
            "marker": {
             "line": {
              "color": "#E5ECF6",
              "width": 0.5
             },
             "pattern": {
              "fillmode": "overlay",
              "size": 10,
              "solidity": 0.2
             }
            },
            "type": "barpolar"
           }
          ],
          "carpet": [
           {
            "aaxis": {
             "endlinecolor": "#2a3f5f",
             "gridcolor": "white",
             "linecolor": "white",
             "minorgridcolor": "white",
             "startlinecolor": "#2a3f5f"
            },
            "baxis": {
             "endlinecolor": "#2a3f5f",
             "gridcolor": "white",
             "linecolor": "white",
             "minorgridcolor": "white",
             "startlinecolor": "#2a3f5f"
            },
            "type": "carpet"
           }
          ],
          "choropleth": [
           {
            "colorbar": {
             "outlinewidth": 0,
             "ticks": ""
            },
            "type": "choropleth"
           }
          ],
          "contour": [
           {
            "colorbar": {
             "outlinewidth": 0,
             "ticks": ""
            },
            "colorscale": [
             [
              0,
              "#0d0887"
             ],
             [
              0.1111111111111111,
              "#46039f"
             ],
             [
              0.2222222222222222,
              "#7201a8"
             ],
             [
              0.3333333333333333,
              "#9c179e"
             ],
             [
              0.4444444444444444,
              "#bd3786"
             ],
             [
              0.5555555555555556,
              "#d8576b"
             ],
             [
              0.6666666666666666,
              "#ed7953"
             ],
             [
              0.7777777777777778,
              "#fb9f3a"
             ],
             [
              0.8888888888888888,
              "#fdca26"
             ],
             [
              1,
              "#f0f921"
             ]
            ],
            "type": "contour"
           }
          ],
          "contourcarpet": [
           {
            "colorbar": {
             "outlinewidth": 0,
             "ticks": ""
            },
            "type": "contourcarpet"
           }
          ],
          "heatmap": [
           {
            "colorbar": {
             "outlinewidth": 0,
             "ticks": ""
            },
            "colorscale": [
             [
              0,
              "#0d0887"
             ],
             [
              0.1111111111111111,
              "#46039f"
             ],
             [
              0.2222222222222222,
              "#7201a8"
             ],
             [
              0.3333333333333333,
              "#9c179e"
             ],
             [
              0.4444444444444444,
              "#bd3786"
             ],
             [
              0.5555555555555556,
              "#d8576b"
             ],
             [
              0.6666666666666666,
              "#ed7953"
             ],
             [
              0.7777777777777778,
              "#fb9f3a"
             ],
             [
              0.8888888888888888,
              "#fdca26"
             ],
             [
              1,
              "#f0f921"
             ]
            ],
            "type": "heatmap"
           }
          ],
          "histogram": [
           {
            "marker": {
             "pattern": {
              "fillmode": "overlay",
              "size": 10,
              "solidity": 0.2
             }
            },
            "type": "histogram"
           }
          ],
          "histogram2d": [
           {
            "colorbar": {
             "outlinewidth": 0,
             "ticks": ""
            },
            "colorscale": [
             [
              0,
              "#0d0887"
             ],
             [
              0.1111111111111111,
              "#46039f"
             ],
             [
              0.2222222222222222,
              "#7201a8"
             ],
             [
              0.3333333333333333,
              "#9c179e"
             ],
             [
              0.4444444444444444,
              "#bd3786"
             ],
             [
              0.5555555555555556,
              "#d8576b"
             ],
             [
              0.6666666666666666,
              "#ed7953"
             ],
             [
              0.7777777777777778,
              "#fb9f3a"
             ],
             [
              0.8888888888888888,
              "#fdca26"
             ],
             [
              1,
              "#f0f921"
             ]
            ],
            "type": "histogram2d"
           }
          ],
          "histogram2dcontour": [
           {
            "colorbar": {
             "outlinewidth": 0,
             "ticks": ""
            },
            "colorscale": [
             [
              0,
              "#0d0887"
             ],
             [
              0.1111111111111111,
              "#46039f"
             ],
             [
              0.2222222222222222,
              "#7201a8"
             ],
             [
              0.3333333333333333,
              "#9c179e"
             ],
             [
              0.4444444444444444,
              "#bd3786"
             ],
             [
              0.5555555555555556,
              "#d8576b"
             ],
             [
              0.6666666666666666,
              "#ed7953"
             ],
             [
              0.7777777777777778,
              "#fb9f3a"
             ],
             [
              0.8888888888888888,
              "#fdca26"
             ],
             [
              1,
              "#f0f921"
             ]
            ],
            "type": "histogram2dcontour"
           }
          ],
          "mesh3d": [
           {
            "colorbar": {
             "outlinewidth": 0,
             "ticks": ""
            },
            "type": "mesh3d"
           }
          ],
          "parcoords": [
           {
            "line": {
             "colorbar": {
              "outlinewidth": 0,
              "ticks": ""
             }
            },
            "type": "parcoords"
           }
          ],
          "pie": [
           {
            "automargin": true,
            "type": "pie"
           }
          ],
          "scatter": [
           {
            "fillpattern": {
             "fillmode": "overlay",
             "size": 10,
             "solidity": 0.2
            },
            "type": "scatter"
           }
          ],
          "scatter3d": [
           {
            "line": {
             "colorbar": {
              "outlinewidth": 0,
              "ticks": ""
             }
            },
            "marker": {
             "colorbar": {
              "outlinewidth": 0,
              "ticks": ""
             }
            },
            "type": "scatter3d"
           }
          ],
          "scattercarpet": [
           {
            "marker": {
             "colorbar": {
              "outlinewidth": 0,
              "ticks": ""
             }
            },
            "type": "scattercarpet"
           }
          ],
          "scattergeo": [
           {
            "marker": {
             "colorbar": {
              "outlinewidth": 0,
              "ticks": ""
             }
            },
            "type": "scattergeo"
           }
          ],
          "scattergl": [
           {
            "marker": {
             "colorbar": {
              "outlinewidth": 0,
              "ticks": ""
             }
            },
            "type": "scattergl"
           }
          ],
          "scattermap": [
           {
            "marker": {
             "colorbar": {
              "outlinewidth": 0,
              "ticks": ""
             }
            },
            "type": "scattermap"
           }
          ],
          "scattermapbox": [
           {
            "marker": {
             "colorbar": {
              "outlinewidth": 0,
              "ticks": ""
             }
            },
            "type": "scattermapbox"
           }
          ],
          "scatterpolar": [
           {
            "marker": {
             "colorbar": {
              "outlinewidth": 0,
              "ticks": ""
             }
            },
            "type": "scatterpolar"
           }
          ],
          "scatterpolargl": [
           {
            "marker": {
             "colorbar": {
              "outlinewidth": 0,
              "ticks": ""
             }
            },
            "type": "scatterpolargl"
           }
          ],
          "scatterternary": [
           {
            "marker": {
             "colorbar": {
              "outlinewidth": 0,
              "ticks": ""
             }
            },
            "type": "scatterternary"
           }
          ],
          "surface": [
           {
            "colorbar": {
             "outlinewidth": 0,
             "ticks": ""
            },
            "colorscale": [
             [
              0,
              "#0d0887"
             ],
             [
              0.1111111111111111,
              "#46039f"
             ],
             [
              0.2222222222222222,
              "#7201a8"
             ],
             [
              0.3333333333333333,
              "#9c179e"
             ],
             [
              0.4444444444444444,
              "#bd3786"
             ],
             [
              0.5555555555555556,
              "#d8576b"
             ],
             [
              0.6666666666666666,
              "#ed7953"
             ],
             [
              0.7777777777777778,
              "#fb9f3a"
             ],
             [
              0.8888888888888888,
              "#fdca26"
             ],
             [
              1,
              "#f0f921"
             ]
            ],
            "type": "surface"
           }
          ],
          "table": [
           {
            "cells": {
             "fill": {
              "color": "#EBF0F8"
             },
             "line": {
              "color": "white"
             }
            },
            "header": {
             "fill": {
              "color": "#C8D4E3"
             },
             "line": {
              "color": "white"
             }
            },
            "type": "table"
           }
          ]
         },
         "layout": {
          "annotationdefaults": {
           "arrowcolor": "#2a3f5f",
           "arrowhead": 0,
           "arrowwidth": 1
          },
          "autotypenumbers": "strict",
          "coloraxis": {
           "colorbar": {
            "outlinewidth": 0,
            "ticks": ""
           }
          },
          "colorscale": {
           "diverging": [
            [
             0,
             "#8e0152"
            ],
            [
             0.1,
             "#c51b7d"
            ],
            [
             0.2,
             "#de77ae"
            ],
            [
             0.3,
             "#f1b6da"
            ],
            [
             0.4,
             "#fde0ef"
            ],
            [
             0.5,
             "#f7f7f7"
            ],
            [
             0.6,
             "#e6f5d0"
            ],
            [
             0.7,
             "#b8e186"
            ],
            [
             0.8,
             "#7fbc41"
            ],
            [
             0.9,
             "#4d9221"
            ],
            [
             1,
             "#276419"
            ]
           ],
           "sequential": [
            [
             0,
             "#0d0887"
            ],
            [
             0.1111111111111111,
             "#46039f"
            ],
            [
             0.2222222222222222,
             "#7201a8"
            ],
            [
             0.3333333333333333,
             "#9c179e"
            ],
            [
             0.4444444444444444,
             "#bd3786"
            ],
            [
             0.5555555555555556,
             "#d8576b"
            ],
            [
             0.6666666666666666,
             "#ed7953"
            ],
            [
             0.7777777777777778,
             "#fb9f3a"
            ],
            [
             0.8888888888888888,
             "#fdca26"
            ],
            [
             1,
             "#f0f921"
            ]
           ],
           "sequentialminus": [
            [
             0,
             "#0d0887"
            ],
            [
             0.1111111111111111,
             "#46039f"
            ],
            [
             0.2222222222222222,
             "#7201a8"
            ],
            [
             0.3333333333333333,
             "#9c179e"
            ],
            [
             0.4444444444444444,
             "#bd3786"
            ],
            [
             0.5555555555555556,
             "#d8576b"
            ],
            [
             0.6666666666666666,
             "#ed7953"
            ],
            [
             0.7777777777777778,
             "#fb9f3a"
            ],
            [
             0.8888888888888888,
             "#fdca26"
            ],
            [
             1,
             "#f0f921"
            ]
           ]
          },
          "colorway": [
           "#636efa",
           "#EF553B",
           "#00cc96",
           "#ab63fa",
           "#FFA15A",
           "#19d3f3",
           "#FF6692",
           "#B6E880",
           "#FF97FF",
           "#FECB52"
          ],
          "font": {
           "color": "#2a3f5f"
          },
          "geo": {
           "bgcolor": "white",
           "lakecolor": "white",
           "landcolor": "#E5ECF6",
           "showlakes": true,
           "showland": true,
           "subunitcolor": "white"
          },
          "hoverlabel": {
           "align": "left"
          },
          "hovermode": "closest",
          "mapbox": {
           "style": "light"
          },
          "paper_bgcolor": "white",
          "plot_bgcolor": "#E5ECF6",
          "polar": {
           "angularaxis": {
            "gridcolor": "white",
            "linecolor": "white",
            "ticks": ""
           },
           "bgcolor": "#E5ECF6",
           "radialaxis": {
            "gridcolor": "white",
            "linecolor": "white",
            "ticks": ""
           }
          },
          "scene": {
           "xaxis": {
            "backgroundcolor": "#E5ECF6",
            "gridcolor": "white",
            "gridwidth": 2,
            "linecolor": "white",
            "showbackground": true,
            "ticks": "",
            "zerolinecolor": "white"
           },
           "yaxis": {
            "backgroundcolor": "#E5ECF6",
            "gridcolor": "white",
            "gridwidth": 2,
            "linecolor": "white",
            "showbackground": true,
            "ticks": "",
            "zerolinecolor": "white"
           },
           "zaxis": {
            "backgroundcolor": "#E5ECF6",
            "gridcolor": "white",
            "gridwidth": 2,
            "linecolor": "white",
            "showbackground": true,
            "ticks": "",
            "zerolinecolor": "white"
           }
          },
          "shapedefaults": {
           "line": {
            "color": "#2a3f5f"
           }
          },
          "ternary": {
           "aaxis": {
            "gridcolor": "white",
            "linecolor": "white",
            "ticks": ""
           },
           "baxis": {
            "gridcolor": "white",
            "linecolor": "white",
            "ticks": ""
           },
           "bgcolor": "#E5ECF6",
           "caxis": {
            "gridcolor": "white",
            "linecolor": "white",
            "ticks": ""
           }
          },
          "title": {
           "x": 0.05
          },
          "xaxis": {
           "automargin": true,
           "gridcolor": "white",
           "linecolor": "white",
           "ticks": "",
           "title": {
            "standoff": 15
           },
           "zerolinecolor": "white",
           "zerolinewidth": 2
          },
          "yaxis": {
           "automargin": true,
           "gridcolor": "white",
           "linecolor": "white",
           "ticks": "",
           "title": {
            "standoff": 15
           },
           "zerolinecolor": "white",
           "zerolinewidth": 2
          }
         }
        },
        "title": {
         "font": {
          "color": "black",
          "size": 30
         },
         "text": "<b>Models Vs Test Accuracies",
         "x": 0.5
        },
        "xaxis": {
         "anchor": "y",
         "domain": [
          0,
          1
         ],
         "title": {
          "text": "Test Accuracy"
         }
        },
        "yaxis": {
         "anchor": "x",
         "domain": [
          0,
          1
         ],
         "title": {
          "text": "Models Names"
         }
        }
       }
      }
     },
     "metadata": {},
     "output_type": "display_data"
    }
   ],
   "source": [
    "print('Using SMOTEENN')\n",
    "import plotly.express as px\n",
    "\n",
    "fig = px.bar(models_sme, x=models_sme['Train_Accuracy'], y = models_sme.index ,color=models_sme['Train_Accuracy'],title=\"<b>\"+'Models Vs Train Accuracies',text_auto= True , color_continuous_scale='Blues')\n",
    "fig.update_layout(hovermode='x',title_font_size=30)\n",
    "fig.update_layout(\n",
    "title_font_color=\"black\",\n",
    "template=\"plotly\",\n",
    "title_font_size=30,\n",
    "hoverlabel_font_size=20,\n",
    "title_x=0.5,\n",
    "xaxis_title='Train Accuracy',\n",
    "yaxis_title='Models Names',\n",
    ")\n",
    "fig.show()\n",
    "\n",
    "\n",
    "fig = px.bar(models_sme, x=models_sme['Test_Accuracy'], y = models_sme.index ,color=models_sme['Test_Accuracy'],title=\"<b>\"+'Models Vs Test Accuracies',text_auto= True , color_continuous_scale='Reds')\n",
    "fig.update_layout(hovermode='x',title_font_size=30)\n",
    "fig.update_layout(\n",
    "title_font_color=\"black\",\n",
    "template=\"plotly\",\n",
    "title_font_size=30,\n",
    "hoverlabel_font_size=20,\n",
    "title_x=0.5,\n",
    "xaxis_title='Test Accuracy',\n",
    "yaxis_title='Models Names',\n",
    ")\n",
    "fig.show()"
   ]
  },
  {
   "cell_type": "code",
   "execution_count": 34,
   "id": "365cac86-7c26-4f93-aceb-0abdd46a6d84",
   "metadata": {},
   "outputs": [
    {
     "name": "stdout",
     "output_type": "stream",
     "text": [
      "Defaulting to user installation because normal site-packages is not writeable\n",
      "Requirement already satisfied: mlxtend in c:\\users\\arrkr\\appdata\\roaming\\python\\python310\\site-packages (0.23.4)\n",
      "Requirement already satisfied: scipy>=1.2.1 in c:\\users\\arrkr\\appdata\\roaming\\python\\python310\\site-packages (from mlxtend) (1.15.3)\n",
      "Requirement already satisfied: numpy>=1.16.2 in c:\\users\\arrkr\\appdata\\roaming\\python\\python310\\site-packages (from mlxtend) (2.2.6)\n",
      "Requirement already satisfied: pandas>=0.24.2 in c:\\users\\arrkr\\appdata\\roaming\\python\\python310\\site-packages (from mlxtend) (1.5.3)\n",
      "Requirement already satisfied: scikit-learn>=1.3.1 in c:\\users\\arrkr\\appdata\\roaming\\python\\python310\\site-packages (from mlxtend) (1.7.2)\n",
      "Requirement already satisfied: matplotlib>=3.0.0 in c:\\users\\arrkr\\appdata\\roaming\\python\\python310\\site-packages (from mlxtend) (3.6.3)\n",
      "Requirement already satisfied: joblib>=0.13.2 in c:\\users\\arrkr\\appdata\\roaming\\python\\python310\\site-packages (from mlxtend) (1.5.1)\n",
      "Requirement already satisfied: contourpy>=1.0.1 in c:\\users\\arrkr\\appdata\\roaming\\python\\python310\\site-packages (from matplotlib>=3.0.0->mlxtend) (1.3.2)\n",
      "Requirement already satisfied: cycler>=0.10 in c:\\users\\arrkr\\appdata\\roaming\\python\\python310\\site-packages (from matplotlib>=3.0.0->mlxtend) (0.12.1)\n",
      "Requirement already satisfied: fonttools>=4.22.0 in c:\\users\\arrkr\\appdata\\roaming\\python\\python310\\site-packages (from matplotlib>=3.0.0->mlxtend) (4.59.0)\n",
      "Requirement already satisfied: kiwisolver>=1.0.1 in c:\\users\\arrkr\\appdata\\roaming\\python\\python310\\site-packages (from matplotlib>=3.0.0->mlxtend) (1.4.8)\n",
      "Requirement already satisfied: packaging>=20.0 in c:\\users\\arrkr\\appdata\\roaming\\python\\python310\\site-packages (from matplotlib>=3.0.0->mlxtend) (25.0)\n",
      "Requirement already satisfied: pillow>=6.2.0 in c:\\users\\arrkr\\appdata\\roaming\\python\\python310\\site-packages (from matplotlib>=3.0.0->mlxtend) (11.3.0)\n",
      "Requirement already satisfied: pyparsing>=2.2.1 in c:\\users\\arrkr\\appdata\\roaming\\python\\python310\\site-packages (from matplotlib>=3.0.0->mlxtend) (3.2.3)\n",
      "Requirement already satisfied: python-dateutil>=2.7 in c:\\users\\arrkr\\appdata\\roaming\\python\\python310\\site-packages (from matplotlib>=3.0.0->mlxtend) (2.9.0.post0)\n",
      "Requirement already satisfied: pytz>=2020.1 in c:\\users\\arrkr\\appdata\\roaming\\python\\python310\\site-packages (from pandas>=0.24.2->mlxtend) (2025.2)\n",
      "Requirement already satisfied: six>=1.5 in c:\\users\\arrkr\\appdata\\roaming\\python\\python310\\site-packages (from python-dateutil>=2.7->matplotlib>=3.0.0->mlxtend) (1.17.0)\n",
      "Requirement already satisfied: threadpoolctl>=3.1.0 in c:\\users\\arrkr\\appdata\\roaming\\python\\python310\\site-packages (from scikit-learn>=1.3.1->mlxtend) (3.6.0)\n"
     ]
    }
   ],
   "source": [
    "!pip install mlxtend"
   ]
  },
  {
   "cell_type": "code",
   "execution_count": 35,
   "id": "460bac55-9f4a-45e0-8785-9dfe07b6b8ed",
   "metadata": {},
   "outputs": [
    {
     "name": "stdout",
     "output_type": "stream",
     "text": [
      "Defaulting to user installation because normal site-packages is not writeable\n",
      "Requirement already satisfied: pip in c:\\users\\arrkr\\appdata\\roaming\\python\\python310\\site-packages (25.2)\n"
     ]
    }
   ],
   "source": [
    "!python -m pip install --upgrade pip\n"
   ]
  },
  {
   "cell_type": "code",
   "execution_count": 36,
   "id": "56747c0e-a85c-4e67-a54f-66526a3001c3",
   "metadata": {},
   "outputs": [
    {
     "name": "stdout",
     "output_type": "stream",
     "text": [
      "Defaulting to user installation because normal site-packages is not writeable\n",
      "Requirement already satisfied: mlxtend in c:\\users\\arrkr\\appdata\\roaming\\python\\python310\\site-packages (0.23.4)\n",
      "Requirement already satisfied: scipy>=1.2.1 in c:\\users\\arrkr\\appdata\\roaming\\python\\python310\\site-packages (from mlxtend) (1.15.3)\n",
      "Requirement already satisfied: numpy>=1.16.2 in c:\\users\\arrkr\\appdata\\roaming\\python\\python310\\site-packages (from mlxtend) (2.2.6)\n",
      "Requirement already satisfied: pandas>=0.24.2 in c:\\users\\arrkr\\appdata\\roaming\\python\\python310\\site-packages (from mlxtend) (1.5.3)\n",
      "Requirement already satisfied: scikit-learn>=1.3.1 in c:\\users\\arrkr\\appdata\\roaming\\python\\python310\\site-packages (from mlxtend) (1.7.2)\n",
      "Requirement already satisfied: matplotlib>=3.0.0 in c:\\users\\arrkr\\appdata\\roaming\\python\\python310\\site-packages (from mlxtend) (3.6.3)\n",
      "Requirement already satisfied: joblib>=0.13.2 in c:\\users\\arrkr\\appdata\\roaming\\python\\python310\\site-packages (from mlxtend) (1.5.1)\n",
      "Requirement already satisfied: contourpy>=1.0.1 in c:\\users\\arrkr\\appdata\\roaming\\python\\python310\\site-packages (from matplotlib>=3.0.0->mlxtend) (1.3.2)\n",
      "Requirement already satisfied: cycler>=0.10 in c:\\users\\arrkr\\appdata\\roaming\\python\\python310\\site-packages (from matplotlib>=3.0.0->mlxtend) (0.12.1)\n",
      "Requirement already satisfied: fonttools>=4.22.0 in c:\\users\\arrkr\\appdata\\roaming\\python\\python310\\site-packages (from matplotlib>=3.0.0->mlxtend) (4.59.0)\n",
      "Requirement already satisfied: kiwisolver>=1.0.1 in c:\\users\\arrkr\\appdata\\roaming\\python\\python310\\site-packages (from matplotlib>=3.0.0->mlxtend) (1.4.8)\n",
      "Requirement already satisfied: packaging>=20.0 in c:\\users\\arrkr\\appdata\\roaming\\python\\python310\\site-packages (from matplotlib>=3.0.0->mlxtend) (25.0)\n",
      "Requirement already satisfied: pillow>=6.2.0 in c:\\users\\arrkr\\appdata\\roaming\\python\\python310\\site-packages (from matplotlib>=3.0.0->mlxtend) (11.3.0)\n",
      "Requirement already satisfied: pyparsing>=2.2.1 in c:\\users\\arrkr\\appdata\\roaming\\python\\python310\\site-packages (from matplotlib>=3.0.0->mlxtend) (3.2.3)\n",
      "Requirement already satisfied: python-dateutil>=2.7 in c:\\users\\arrkr\\appdata\\roaming\\python\\python310\\site-packages (from matplotlib>=3.0.0->mlxtend) (2.9.0.post0)\n",
      "Requirement already satisfied: pytz>=2020.1 in c:\\users\\arrkr\\appdata\\roaming\\python\\python310\\site-packages (from pandas>=0.24.2->mlxtend) (2025.2)\n",
      "Requirement already satisfied: six>=1.5 in c:\\users\\arrkr\\appdata\\roaming\\python\\python310\\site-packages (from python-dateutil>=2.7->matplotlib>=3.0.0->mlxtend) (1.17.0)\n",
      "Requirement already satisfied: threadpoolctl>=3.1.0 in c:\\users\\arrkr\\appdata\\roaming\\python\\python310\\site-packages (from scikit-learn>=1.3.1->mlxtend) (3.6.0)\n"
     ]
    }
   ],
   "source": [
    "!pip install mlxtend"
   ]
  },
  {
   "cell_type": "code",
   "execution_count": 38,
   "id": "acae0fc1-0280-4f4e-8ac1-811442e8bc00",
   "metadata": {},
   "outputs": [
    {
     "name": "stdout",
     "output_type": "stream",
     "text": [
      "Collecting mlxtend\n",
      "  Using cached mlxtend-0.23.4-py3-none-any.whl.metadata (7.3 kB)\n",
      "Requirement already satisfied: scipy>=1.2.1 in c:\\users\\arrkr\\appdata\\local\\programs\\python\\python313\\lib\\site-packages (from mlxtend) (1.16.0)\n",
      "Requirement already satisfied: numpy>=1.16.2 in c:\\users\\arrkr\\appdata\\local\\programs\\python\\python313\\lib\\site-packages (from mlxtend) (2.2.3)\n",
      "Requirement already satisfied: pandas>=0.24.2 in c:\\users\\arrkr\\appdata\\local\\programs\\python\\python313\\lib\\site-packages (from mlxtend) (2.2.3)\n",
      "Requirement already satisfied: scikit-learn>=1.3.1 in c:\\users\\arrkr\\appdata\\local\\programs\\python\\python313\\lib\\site-packages (from mlxtend) (1.7.2)\n",
      "Requirement already satisfied: matplotlib>=3.0.0 in c:\\users\\arrkr\\appdata\\local\\programs\\python\\python313\\lib\\site-packages (from mlxtend) (3.10.1)\n",
      "Requirement already satisfied: joblib>=0.13.2 in c:\\users\\arrkr\\appdata\\local\\programs\\python\\python313\\lib\\site-packages (from mlxtend) (1.5.1)\n",
      "Requirement already satisfied: contourpy>=1.0.1 in c:\\users\\arrkr\\appdata\\local\\programs\\python\\python313\\lib\\site-packages (from matplotlib>=3.0.0->mlxtend) (1.3.1)\n",
      "Requirement already satisfied: cycler>=0.10 in c:\\users\\arrkr\\appdata\\local\\programs\\python\\python313\\lib\\site-packages (from matplotlib>=3.0.0->mlxtend) (0.12.1)\n",
      "Requirement already satisfied: fonttools>=4.22.0 in c:\\users\\arrkr\\appdata\\local\\programs\\python\\python313\\lib\\site-packages (from matplotlib>=3.0.0->mlxtend) (4.56.0)\n",
      "Requirement already satisfied: kiwisolver>=1.3.1 in c:\\users\\arrkr\\appdata\\local\\programs\\python\\python313\\lib\\site-packages (from matplotlib>=3.0.0->mlxtend) (1.4.8)\n",
      "Requirement already satisfied: packaging>=20.0 in c:\\users\\arrkr\\appdata\\local\\programs\\python\\python313\\lib\\site-packages (from matplotlib>=3.0.0->mlxtend) (24.2)\n",
      "Requirement already satisfied: pillow>=8 in c:\\users\\arrkr\\appdata\\local\\programs\\python\\python313\\lib\\site-packages (from matplotlib>=3.0.0->mlxtend) (11.1.0)\n",
      "Requirement already satisfied: pyparsing>=2.3.1 in c:\\users\\arrkr\\appdata\\local\\programs\\python\\python313\\lib\\site-packages (from matplotlib>=3.0.0->mlxtend) (3.2.1)\n",
      "Requirement already satisfied: python-dateutil>=2.7 in c:\\users\\arrkr\\appdata\\local\\programs\\python\\python313\\lib\\site-packages (from matplotlib>=3.0.0->mlxtend) (2.9.0.post0)\n",
      "Requirement already satisfied: pytz>=2020.1 in c:\\users\\arrkr\\appdata\\local\\programs\\python\\python313\\lib\\site-packages (from pandas>=0.24.2->mlxtend) (2025.1)\n",
      "Requirement already satisfied: tzdata>=2022.7 in c:\\users\\arrkr\\appdata\\local\\programs\\python\\python313\\lib\\site-packages (from pandas>=0.24.2->mlxtend) (2025.1)\n",
      "Requirement already satisfied: six>=1.5 in c:\\users\\arrkr\\appdata\\local\\programs\\python\\python313\\lib\\site-packages (from python-dateutil>=2.7->matplotlib>=3.0.0->mlxtend) (1.17.0)\n",
      "Requirement already satisfied: threadpoolctl>=3.1.0 in c:\\users\\arrkr\\appdata\\local\\programs\\python\\python313\\lib\\site-packages (from scikit-learn>=1.3.1->mlxtend) (3.6.0)\n",
      "Using cached mlxtend-0.23.4-py3-none-any.whl (1.4 MB)\n",
      "Installing collected packages: mlxtend\n",
      "Successfully installed mlxtend-0.23.4\n"
     ]
    }
   ],
   "source": [
    "import sys\n",
    "!{sys.executable} -m pip install mlxtend\n"
   ]
  },
  {
   "cell_type": "code",
   "execution_count": 39,
   "id": "d178f300-71c2-45b6-a35d-ed2e30bd50b7",
   "metadata": {},
   "outputs": [],
   "source": [
    "from mlxtend.plotting import plot_confusion_matrix\n",
    "from sklearn.metrics import accuracy_score, roc_auc_score, classification_report, RocCurveDisplay"
   ]
  },
  {
   "cell_type": "code",
   "execution_count": 40,
   "id": "5a370657-4e3d-44aa-a17a-99dea1c917f7",
   "metadata": {},
   "outputs": [
    {
     "name": "stdout",
     "output_type": "stream",
     "text": [
      "Accuracy = 0.8340491995314331\n",
      "ROC AUC = 0.8303356849606545\n",
      "              precision    recall  f1-score   support\n",
      "\n",
      "           0    0.83621   0.78952   0.81220      1164\n",
      "           1    0.83242   0.87115   0.85135      1397\n",
      "\n",
      "    accuracy                        0.83405      2561\n",
      "   macro avg    0.83432   0.83034   0.83177      2561\n",
      "weighted avg    0.83415   0.83405   0.83355      2561\n",
      "\n"
     ]
    },
    {
     "data": {
      "text/plain": [
       "<sklearn.metrics._plot.roc_curve.RocCurveDisplay at 0x1975799e3c0>"
      ]
     },
     "execution_count": 40,
     "metadata": {},
     "output_type": "execute_result"
    },
    {
     "data": {
      "image/png": "[encoded data removed]",
      "text/plain": [
       "<Figure size 640x480 with 1 Axes>"
      ]
     },
     "metadata": {},
     "output_type": "display_data"
    },
    {
     "data": {
      "image/png": "[encoded data removed]",
      "text/plain": [
       "<Figure size 640x480 with 1 Axes>"
      ]
     },
     "metadata": {},
     "output_type": "display_data"
    }
   ],
   "source": [
    "from sklearn.preprocessing import StandardScaler\n",
    "from sklearn.metrics import accuracy_score, roc_auc_score, classification_report, confusion_matrix, RocCurveDisplay\n",
    "\n",
    "\n",
    "scaler = StandardScaler()\n",
    "x_train_sme_scaled = scaler.fit_transform(x_train_sme)\n",
    "x_test_sme_scaled = scaler.transform(x_test_sme)\n",
    "\n",
    "model = LogisticRegression()\n",
    "model.fit(x_train_sme_scaled, y_train_sme)\n",
    "\n",
    "\n",
    "y_pred = model.predict(x_test_sme_scaled)\n",
    "\n",
    "\n",
    "accuracy = accuracy_score(y_test_sme, y_pred)\n",
    "roc_auc1 = roc_auc_score(y_test_sme, y_pred)\n",
    "print(\"Accuracy = {}\".format(accuracy))\n",
    "print(\"ROC AUC = {}\".format(roc_auc1))\n",
    "print(classification_report(y_test_sme, y_pred, digits=5))\n",
    "\n",
    "\n",
    "plot_confusion_matrix(confusion_matrix(y_test_sme, y_pred))\n",
    "\n",
    "\n",
    "RocCurveDisplay.from_estimator(model, x_test_sme_scaled, y_test_sme)\n"
   ]
  },
  {
   "cell_type": "code",
   "execution_count": 41,
   "id": "5524d13a-50e2-41e9-8d3a-cab6f912a9cc",
   "metadata": {},
   "outputs": [
    {
     "name": "stdout",
     "output_type": "stream",
     "text": [
      "Accuracy = 0.9515814135103475\n",
      "ROC Area under Curve = 0.9499593507934282\n",
      "              precision    recall  f1-score   support\n",
      "\n",
      "           0    0.96018   0.93213   0.94595      1164\n",
      "           1    0.94479   0.96779   0.95615      1397\n",
      "\n",
      "    accuracy                        0.95158      2561\n",
      "   macro avg    0.95249   0.94996   0.95105      2561\n",
      "weighted avg    0.95179   0.95158   0.95151      2561\n",
      "\n",
      "**********************************************************************\n"
     ]
    },
    {
     "ename": "NameError",
     "evalue": "name 'x_test_scaled' is not defined",
     "output_type": "error",
     "traceback": [
      "\u001b[31m---------------------------------------------------------------------------\u001b[39m",
      "\u001b[31mNameError\u001b[39m                                 Traceback (most recent call last)",
      "\u001b[36mCell\u001b[39m\u001b[36m \u001b[39m\u001b[32mIn[41]\u001b[39m\u001b[32m, line 11\u001b[39m\n\u001b[32m      9\u001b[39m plot_confusion_matrix(confusion_matrix(y_test_sme , y_pred))\n\u001b[32m     10\u001b[39m \u001b[38;5;28mprint\u001b[39m(\u001b[33m'\u001b[39m\u001b[33m*\u001b[39m\u001b[33m'\u001b[39m * \u001b[32m70\u001b[39m)\n\u001b[32m---> \u001b[39m\u001b[32m11\u001b[39m RocCurveDisplay.from_estimator(model , \u001b[43mx_test_scaled\u001b[49m , y_test_sme)\n",
      "\u001b[31mNameError\u001b[39m: name 'x_test_scaled' is not defined"
     ]
    },
    {
     "data": {
      "image/png": "[encoded data removed]",
      "text/plain": [
       "<Figure size 640x480 with 1 Axes>"
      ]
     },
     "metadata": {},
     "output_type": "display_data"
    }
   ],
   "source": [
    "\n",
    "model=DecisionTreeClassifier()\n",
    "model.fit(x_train_sme,y_train_sme)\n",
    "y_pred = model.predict(x_test_sme)\n",
    "accuracy = accuracy_score(y_test_sme, y_pred)\n",
    "roc_auc1 = roc_auc_score(y_test_sme, y_pred)\n",
    "print(\"Accuracy = {}\".format(accuracy))\n",
    "print(\"ROC Area under Curve = {}\".format(roc_auc1))\n",
    "print(classification_report(y_test_sme,y_pred,digits=5))\n",
    "plot_confusion_matrix(confusion_matrix(y_test_sme , y_pred))\n",
    "print('*' * 70)\n",
    "RocCurveDisplay.from_estimator(model , x_test_scaled , y_test_sme)"
   ]
  },
  {
   "cell_type": "code",
   "execution_count": 42,
   "id": "81d8868c-f69f-4f56-b068-a7eb81a113c2",
   "metadata": {},
   "outputs": [],
   "source": [
    "from sklearn.preprocessing import StandardScaler\n",
    "\n",
    "\n",
    "scaler = StandardScaler()\n",
    "x_train_sme_scaled = scaler.fit_transform(x_train_sme)\n",
    "x_test_sme_scaled = scaler.transform(x_test_sme)  # use the same scaler\n",
    "model.fit(x_train_sme_scaled, y_train_sme)\n",
    "y_pred = model.predict(x_test_sme_scaled)\n"
   ]
  },
  {
   "cell_type": "code",
   "execution_count": 43,
   "id": "bf5a2755-f357-4ce6-8535-23621d54dfa7",
   "metadata": {},
   "outputs": [
    {
     "data": {
      "text/plain": [
       "<sklearn.metrics._plot.roc_curve.RocCurveDisplay at 0x1975a7b91d0>"
      ]
     },
     "execution_count": 43,
     "metadata": {},
     "output_type": "execute_result"
    },
    {
     "data": {
      "image/png": "[encoded data removed]",
      "text/plain": [
       "<Figure size 640x480 with 1 Axes>"
      ]
     },
     "metadata": {},
     "output_type": "display_data"
    }
   ],
   "source": [
    "from sklearn.metrics import RocCurveDisplay\n",
    "\n",
    "RocCurveDisplay.from_estimator(model, x_test_sme_scaled, y_test_sme)\n"
   ]
  },
  {
   "cell_type": "code",
   "execution_count": 44,
   "id": "8586b759-9bef-4b78-a022-68b1fb60e037",
   "metadata": {},
   "outputs": [
    {
     "name": "stdout",
     "output_type": "stream",
     "text": [
      "Accuracy = 0.9515814135103475\n",
      "ROC Area under Curve = 0.9496011335040477\n",
      "              precision    recall  f1-score   support\n",
      "\n",
      "           0    0.96429   0.92784   0.94571      1164\n",
      "           1    0.94171   0.97137   0.95631      1397\n",
      "\n",
      "    accuracy                        0.95158      2561\n",
      "   macro avg    0.95300   0.94960   0.95101      2561\n",
      "weighted avg    0.95197   0.95158   0.95149      2561\n",
      "\n",
      "**********************************************************************\n"
     ]
    },
    {
     "ename": "NameError",
     "evalue": "name 'x_test_scaled' is not defined",
     "output_type": "error",
     "traceback": [
      "\u001b[31m---------------------------------------------------------------------------\u001b[39m",
      "\u001b[31mNameError\u001b[39m                                 Traceback (most recent call last)",
      "\u001b[36mCell\u001b[39m\u001b[36m \u001b[39m\u001b[32mIn[44]\u001b[39m\u001b[32m, line 11\u001b[39m\n\u001b[32m      9\u001b[39m plot_confusion_matrix(confusion_matrix(y_test_sme , y_pred))\n\u001b[32m     10\u001b[39m \u001b[38;5;28mprint\u001b[39m(\u001b[33m'\u001b[39m\u001b[33m*\u001b[39m\u001b[33m'\u001b[39m * \u001b[32m70\u001b[39m)\n\u001b[32m---> \u001b[39m\u001b[32m11\u001b[39m RocCurveDisplay.from_estimator(model , \u001b[43mx_test_scaled\u001b[49m , y_test_sme)\n",
      "\u001b[31mNameError\u001b[39m: name 'x_test_scaled' is not defined"
     ]
    },
    {
     "data": {
      "image/png": "[encoded data removed]",
      "text/plain": [
       "<Figure size 640x480 with 1 Axes>"
      ]
     },
     "metadata": {},
     "output_type": "display_data"
    }
   ],
   "source": [
    "\n",
    "model=DecisionTreeClassifier()\n",
    "model.fit(x_train_sme,y_train_sme)\n",
    "y_pred = model.predict(x_test_sme)\n",
    "accuracy = accuracy_score(y_test_sme, y_pred)\n",
    "roc_auc1 = roc_auc_score(y_test_sme, y_pred)\n",
    "print(\"Accuracy = {}\".format(accuracy))\n",
    "print(\"ROC Area under Curve = {}\".format(roc_auc1))\n",
    "print(classification_report(y_test_sme,y_pred,digits=5))\n",
    "plot_confusion_matrix(confusion_matrix(y_test_sme , y_pred))\n",
    "print('*' * 70)\n",
    "RocCurveDisplay.from_estimator(model , x_test_scaled , y_test_sme)"
   ]
  },
  {
   "cell_type": "code",
   "execution_count": 45,
   "id": "d61708b5-0338-45e1-a5f7-98f37028a884",
   "metadata": {},
   "outputs": [],
   "source": [
    "from sklearn.preprocessing import StandardScaler\n",
    "\n",
    "\n",
    "scaler = StandardScaler()\n",
    "\n",
    "\n",
    "x_train_scaled = scaler.fit_transform(x_train_sme)\n",
    "x_test_scaled = scaler.transform(x_test_sme)\n"
   ]
  },
  {
   "cell_type": "code",
   "execution_count": 46,
   "id": "feca17f0-1247-41b5-b2d6-1d1d6c20e0a5",
   "metadata": {},
   "outputs": [
    {
     "name": "stdout",
     "output_type": "stream",
     "text": [
      "Accuracy = 0.9730573994533386\n",
      "ROC AUC = 0.9706473985737724\n",
      "              precision    recall  f1-score   support\n",
      "\n",
      "           0       1.00      0.94      0.97      1164\n",
      "           1       0.96      1.00      0.98      1397\n",
      "\n",
      "    accuracy                           0.97      2561\n",
      "   macro avg       0.98      0.97      0.97      2561\n",
      "weighted avg       0.97      0.97      0.97      2561\n",
      "\n",
      "**********************************************************************\n",
      "[[1099   65]\n",
      " [   4 1393]]\n"
     ]
    },
    {
     "data": {
      "text/plain": [
       "<sklearn.metrics._plot.roc_curve.RocCurveDisplay at 0x19757ba1450>"
      ]
     },
     "execution_count": 46,
     "metadata": {},
     "output_type": "execute_result"
    },
    {
     "data": {
      "image/png": "[encoded data removed]",
      "text/plain": [
       "<Figure size 640x480 with 1 Axes>"
      ]
     },
     "metadata": {},
     "output_type": "display_data"
    }
   ],
   "source": [
    "from sklearn.metrics import accuracy_score, roc_auc_score, classification_report, confusion_matrix, RocCurveDisplay\n",
    "\n",
    "\n",
    "from sklearn.svm import SVC\n",
    "\n",
    "model = SVC(probability=True, random_state=42)\n",
    "model.fit(x_train_scaled, y_train_sme)\n",
    "y_pred = model.predict(x_test_scaled)\n",
    "\n",
    "accuracy = accuracy_score(y_test_sme, y_pred)\n",
    "roc_auc = roc_auc_score(y_test_sme, y_pred)\n",
    "\n",
    "print(\"Accuracy =\", accuracy)\n",
    "print(\"ROC AUC =\", roc_auc)\n",
    "print(classification_report(y_test_sme, y_pred))\n",
    "print('*' * 70)\n",
    "\n",
    "\n",
    "print(confusion_matrix(y_test_sme, y_pred))\n",
    "\n",
    "\n",
    "RocCurveDisplay.from_estimator(model, x_test_scaled, y_test_sme)\n"
   ]
  },
  {
   "cell_type": "code",
   "execution_count": 47,
   "id": "781d0ee6-891d-43d0-a116-dea7b153fa73",
   "metadata": {},
   "outputs": [
    {
     "name": "stdout",
     "output_type": "stream",
     "text": [
      "Accuracy = 0.9796954314720813\n",
      "ROC Area under Curve = 0.9790244559401959\n",
      "              precision    recall  f1-score   support\n",
      "\n",
      "           0    0.98348   0.97165   0.97753      1164\n",
      "           1    0.97661   0.98640   0.98148      1397\n",
      "\n",
      "    accuracy                        0.97970      2561\n",
      "   macro avg    0.98005   0.97902   0.97950      2561\n",
      "weighted avg    0.97973   0.97970   0.97968      2561\n",
      "\n",
      "**********************************************************************\n"
     ]
    },
    {
     "data": {
      "text/plain": [
       "<sklearn.metrics._plot.roc_curve.RocCurveDisplay at 0x19757b668b0>"
      ]
     },
     "execution_count": 47,
     "metadata": {},
     "output_type": "execute_result"
    },
    {
     "data": {
      "image/png": "[encoded data removed]",
      "text/plain": [
       "<Figure size 640x480 with 1 Axes>"
      ]
     },
     "metadata": {},
     "output_type": "display_data"
    },
    {
     "data": {
      "image/png": "[encoded data removed]",
      "text/plain": [
       "<Figure size 640x480 with 1 Axes>"
      ]
     },
     "metadata": {},
     "output_type": "display_data"
    }
   ],
   "source": [
    "\n",
    "model=RandomForestClassifier()\n",
    "model.fit(x_train_sme,y_train_sme)\n",
    "y_pred = model.predict(x_test_sme)\n",
    "accuracy = accuracy_score(y_test_sme, y_pred)\n",
    "roc_auc1 = roc_auc_score(y_test_sme, y_pred)\n",
    "print(\"Accuracy = {}\".format(accuracy))\n",
    "print(\"ROC Area under Curve = {}\".format(roc_auc1))\n",
    "print(classification_report(y_test_sme,y_pred,digits=5))\n",
    "plot_confusion_matrix(confusion_matrix(y_test_sme , y_pred))\n",
    "print('*' * 70)\n",
    "RocCurveDisplay.from_estimator(model , x_test_scaled , y_test_sme)\n"
   ]
  },
  {
   "cell_type": "code",
   "execution_count": 48,
   "id": "551ee36c-3d21-486e-b836-551e2d505158",
   "metadata": {},
   "outputs": [
    {
     "name": "stdout",
     "output_type": "stream",
     "text": [
      "Accuracy = 0.9804763764154627\n",
      "ROC Area under Curve = 0.9798119190115293\n",
      "              precision    recall  f1-score   support\n",
      "\n",
      "           0    0.98435   0.97251   0.97839      1164\n",
      "           1    0.97732   0.98712   0.98219      1397\n",
      "\n",
      "    accuracy                        0.98048      2561\n",
      "   macro avg    0.98083   0.97981   0.98029      2561\n",
      "weighted avg    0.98051   0.98048   0.98047      2561\n",
      "\n",
      "**********************************************************************\n"
     ]
    },
    {
     "data": {
      "text/plain": [
       "<sklearn.metrics._plot.roc_curve.RocCurveDisplay at 0x19757b64e90>"
      ]
     },
     "execution_count": 48,
     "metadata": {},
     "output_type": "execute_result"
    },
    {
     "data": {
      "image/png": "[encoded data removed]",
      "text/plain": [
       "<Figure size 640x480 with 1 Axes>"
      ]
     },
     "metadata": {},
     "output_type": "display_data"
    },
    {
     "data": {
      "image/png": "[encoded data removed]",
      "text/plain": [
       "<Figure size 640x480 with 1 Axes>"
      ]
     },
     "metadata": {},
     "output_type": "display_data"
    }
   ],
   "source": [
    "\n",
    "model=XGBClassifier()\n",
    "model.fit(x_train_sme,y_train_sme)\n",
    "y_pred = model.predict(x_test_sme)\n",
    "accuracy = accuracy_score(y_test_sme, y_pred)\n",
    "roc_auc1 = roc_auc_score(y_test_sme, y_pred)\n",
    "print(\"Accuracy = {}\".format(accuracy))\n",
    "print(\"ROC Area under Curve = {}\".format(roc_auc1))\n",
    "print(classification_report(y_test_sme,y_pred,digits=5))\n",
    "plot_confusion_matrix(confusion_matrix(y_test_sme , y_pred))\n",
    "print('*' * 70)\n",
    "RocCurveDisplay.from_estimator(model , x_test_scaled , y_test_sme)"
   ]
  },
  {
   "cell_type": "code",
   "execution_count": 49,
   "id": "19fde572-f6ff-4a5f-a6cd-15054eef5cd0",
   "metadata": {},
   "outputs": [
    {
     "name": "stdout",
     "output_type": "stream",
     "text": [
      "Accuracy = 0.8852010933229207\n",
      "ROC Area under Curve = 0.8830966331879556\n",
      "              precision    recall  f1-score   support\n",
      "\n",
      "           0    0.88428   0.85997   0.87195      1164\n",
      "           1    0.88593   0.90623   0.89597      1397\n",
      "\n",
      "    accuracy                        0.88520      2561\n",
      "   macro avg    0.88510   0.88310   0.88396      2561\n",
      "weighted avg    0.88518   0.88520   0.88505      2561\n",
      "\n",
      "**********************************************************************\n"
     ]
    },
    {
     "data": {
      "text/plain": [
       "<sklearn.metrics._plot.roc_curve.RocCurveDisplay at 0x197579d2c30>"
      ]
     },
     "execution_count": 49,
     "metadata": {},
     "output_type": "execute_result"
    },
    {
     "data": {
      "image/png": "[encoded data removed]",
      "text/plain": [
       "<Figure size 640x480 with 1 Axes>"
      ]
     },
     "metadata": {},
     "output_type": "display_data"
    },
    {
     "data": {
      "image/png": "[encoded data removed]",
      "text/plain": [
       "<Figure size 640x480 with 1 Axes>"
      ]
     },
     "metadata": {},
     "output_type": "display_data"
    }
   ],
   "source": [
    "\n",
    "model=AdaBoostClassifier()\n",
    "model.fit(x_train_sme,y_train_sme)\n",
    "y_pred = model.predict(x_test_sme)\n",
    "accuracy = accuracy_score(y_test_sme, y_pred)\n",
    "roc_auc1 = roc_auc_score(y_test_sme, y_pred)\n",
    "print(\"Accuracy = {}\".format(accuracy))\n",
    "print(\"ROC Area under Curve = {}\".format(roc_auc1))\n",
    "print(classification_report(y_test_sme,y_pred,digits=5))\n",
    "plot_confusion_matrix(confusion_matrix(y_test_sme , y_pred))\n",
    "print('*' * 70)\n",
    "RocCurveDisplay.from_estimator(model , x_test_scaled , y_test_sme)"
   ]
  },
  {
   "cell_type": "code",
   "execution_count": 50,
   "id": "a511438e-011b-413a-bf0e-4826c9b902e5",
   "metadata": {},
   "outputs": [
    {
     "data": {
      "text/html": [
       "<div>\n",
       "<style scoped>\n",
       "    .dataframe tbody tr th:only-of-type {\n",
       "        vertical-align: middle;\n",
       "    }\n",
       "\n",
       "    .dataframe tbody tr th {\n",
       "        vertical-align: top;\n",
       "    }\n",
       "\n",
       "    .dataframe thead th {\n",
       "        text-align: right;\n",
       "    }\n",
       "</style>\n",
       "<table border=\"1\" class=\"dataframe\">\n",
       "  <thead>\n",
       "    <tr style=\"text-align: right;\">\n",
       "      <th></th>\n",
       "      <th>Train_Accuracy</th>\n",
       "      <th>Test_Accuracy</th>\n",
       "    </tr>\n",
       "  </thead>\n",
       "  <tbody>\n",
       "    <tr>\n",
       "      <th>Logistic Regression</th>\n",
       "      <td>0.804212</td>\n",
       "      <td>0.799217</td>\n",
       "    </tr>\n",
       "    <tr>\n",
       "      <th>Support Vector Machine</th>\n",
       "      <td>0.954067</td>\n",
       "      <td>0.936988</td>\n",
       "    </tr>\n",
       "    <tr>\n",
       "      <th>Decision Tree</th>\n",
       "      <td>1.000000</td>\n",
       "      <td>0.950160</td>\n",
       "    </tr>\n",
       "    <tr>\n",
       "      <th>Random Forest</th>\n",
       "      <td>1.000000</td>\n",
       "      <td>0.984692</td>\n",
       "    </tr>\n",
       "    <tr>\n",
       "      <th>XGBClassifier</th>\n",
       "      <td>1.000000</td>\n",
       "      <td>0.983624</td>\n",
       "    </tr>\n",
       "    <tr>\n",
       "      <th>AdaBoostClassifier</th>\n",
       "      <td>0.879902</td>\n",
       "      <td>0.872197</td>\n",
       "    </tr>\n",
       "  </tbody>\n",
       "</table>\n",
       "</div>"
      ],
      "text/plain": [
       "                        Train_Accuracy  Test_Accuracy\n",
       "Logistic Regression           0.804212       0.799217\n",
       "Support Vector Machine        0.954067       0.936988\n",
       "Decision Tree                 1.000000       0.950160\n",
       "Random Forest                 1.000000       0.984692\n",
       "XGBClassifier                 1.000000       0.983624\n",
       "AdaBoostClassifier            0.879902       0.872197"
      ]
     },
     "execution_count": 50,
     "metadata": {},
     "output_type": "execute_result"
    }
   ],
   "source": [
    "models"
   ]
  },
  {
   "cell_type": "code",
   "execution_count": 51,
   "id": "7d8c45ea-180a-4e95-8f7d-6ad2f628663d",
   "metadata": {},
   "outputs": [
    {
     "data": {
      "text/html": [
       "<div>\n",
       "<style scoped>\n",
       "    .dataframe tbody tr th:only-of-type {\n",
       "        vertical-align: middle;\n",
       "    }\n",
       "\n",
       "    .dataframe tbody tr th {\n",
       "        vertical-align: top;\n",
       "    }\n",
       "\n",
       "    .dataframe thead th {\n",
       "        text-align: right;\n",
       "    }\n",
       "</style>\n",
       "<table border=\"1\" class=\"dataframe\">\n",
       "  <thead>\n",
       "    <tr style=\"text-align: right;\">\n",
       "      <th></th>\n",
       "      <th>Train_Accuracy</th>\n",
       "      <th>Test_Accuracy</th>\n",
       "    </tr>\n",
       "  </thead>\n",
       "  <tbody>\n",
       "    <tr>\n",
       "      <th>Logistic Regression</th>\n",
       "      <td>0.827390</td>\n",
       "      <td>0.834049</td>\n",
       "    </tr>\n",
       "    <tr>\n",
       "      <th>Support Vector Machine</th>\n",
       "      <td>0.977398</td>\n",
       "      <td>0.972667</td>\n",
       "    </tr>\n",
       "    <tr>\n",
       "      <th>Decision Tree</th>\n",
       "      <td>1.000000</td>\n",
       "      <td>0.952753</td>\n",
       "    </tr>\n",
       "    <tr>\n",
       "      <th>Random Forest</th>\n",
       "      <td>1.000000</td>\n",
       "      <td>0.980867</td>\n",
       "    </tr>\n",
       "    <tr>\n",
       "      <th>XGBClassifier</th>\n",
       "      <td>1.000000</td>\n",
       "      <td>0.980476</td>\n",
       "    </tr>\n",
       "    <tr>\n",
       "      <th>AdaBoostClassifier</th>\n",
       "      <td>0.890507</td>\n",
       "      <td>0.885201</td>\n",
       "    </tr>\n",
       "  </tbody>\n",
       "</table>\n",
       "</div>"
      ],
      "text/plain": [
       "                        Train_Accuracy  Test_Accuracy\n",
       "Logistic Regression           0.827390       0.834049\n",
       "Support Vector Machine        0.977398       0.972667\n",
       "Decision Tree                 1.000000       0.952753\n",
       "Random Forest                 1.000000       0.980867\n",
       "XGBClassifier                 1.000000       0.980476\n",
       "AdaBoostClassifier            0.890507       0.885201"
      ]
     },
     "execution_count": 51,
     "metadata": {},
     "output_type": "execute_result"
    }
   ],
   "source": [
    "models_sme"
   ]
  },
  {
   "cell_type": "code",
   "execution_count": 52,
   "id": "febc65cd-1dba-4fe7-9bad-9614a67fdaa9",
   "metadata": {},
   "outputs": [
    {
     "data": {
      "image/png": "[encoded data removed]",
      "text/plain": [
       "<Figure size 640x480 with 1 Axes>"
      ]
     },
     "metadata": {},
     "output_type": "display_data"
    }
   ],
   "source": [
    "\n",
    "max_depth = []\n",
    "accuracies = []\n",
    "test_size = 0.3 \n",
    "\n",
    "for i in range(4, 30, 2):\n",
    "    grid = {'max_depth': i}\n",
    "    clf = XGBClassifier()\n",
    "    clf.set_params(**grid)\n",
    "\n",
    "   \n",
    "    clf.fit(x_train_sme, y_train_sme)\n",
    "\n",
    "    \n",
    "    accuracy = clf.score(x_test_sme, y_test_sme)\n",
    "\n",
    "    max_depth.append(i)\n",
    "    accuracies.append(accuracy)\n",
    "\n",
    "plt.title(\"Max Depth hypertuning\")\n",
    "plt.xlabel(\"XGBClassifier Max Depth\")\n",
    "plt.ylabel(\"Test Accuracy\")\n",
    "plt.plot(max_depth, accuracies, 'b')\n",
    "plt.grid()\n",
    "plt.show()"
   ]
  },
  {
   "cell_type": "code",
   "execution_count": 53,
   "id": "e8ed2767-7a7e-4537-9412-413c7cd7aa88",
   "metadata": {},
   "outputs": [
    {
     "data": {
      "image/png": "[encoded data removed]",
      "text/plain": [
       "<Figure size 640x480 with 1 Axes>"
      ]
     },
     "metadata": {},
     "output_type": "display_data"
    }
   ],
   "source": [
    "\n",
    "learning_rates = []\n",
    "accuracies = []\n",
    "test_size = 0.7 \n",
    "\n",
    "for i in range(0, 10, 1):\n",
    "    eta = i / 10\n",
    "    grid = {'max_depth': 12, 'eta': eta}\n",
    "    clf = XGBClassifier()\n",
    "    clf.set_params(**grid)\n",
    "\n",
    "\n",
    "    clf.fit(x_train_sme, y_train_sme)\n",
    "\n",
    "  \n",
    "    accuracy = clf.score(x_test_sme, y_test_sme)\n",
    "\n",
    "    learning_rates.append(eta)\n",
    "    accuracies.append(accuracy)\n",
    "\n",
    "plt.title(\"Learning Rate hypertuning\")\n",
    "plt.xlabel(\"XGBClassifier Learning Rate\")\n",
    "plt.ylabel(\"Test Accuracy\")\n",
    "plt.plot(learning_rates, accuracies, 'b')\n",
    "plt.grid()\n",
    "plt.show()"
   ]
  },
  {
   "cell_type": "code",
   "execution_count": 54,
   "id": "781f224c-fc92-40eb-9b59-b8e60e9b71e6",
   "metadata": {},
   "outputs": [
    {
     "data": {
      "image/png": "[encoded data removed]",
      "text/plain": [
       "<Figure size 640x480 with 1 Axes>"
      ]
     },
     "metadata": {},
     "output_type": "display_data"
    }
   ],
   "source": [
    "\n",
    "n_estimators = []\n",
    "accuracies = []\n",
    "test_size = 0.3 \n",
    "\n",
    "for i in range(1, 1000, 50):\n",
    "    grid = {'max_depth': 12, 'eta': 0.4, 'n_estimators': i}\n",
    "    clf = XGBClassifier()\n",
    "    clf.set_params(**grid)\n",
    "\n",
    "   \n",
    "    clf.fit(x_train_sme, y_train_sme)\n",
    "\n",
    "    \n",
    "    accuracy = clf.score(x_test_sme, y_test_sme)\n",
    "\n",
    "    n_estimators.append(i)\n",
    "    accuracies.append(accuracy)\n",
    "\n",
    "plt.title(\"Number of estimators hypertuning\")\n",
    "plt.xlabel(\"XGBClassifier Number of estimators\")\n",
    "plt.ylabel(\"Test Accuracy\")\n",
    "plt.plot(n_estimators, accuracies, 'g')\n",
    "plt.grid()\n",
    "plt.show()"
   ]
  },
  {
   "cell_type": "code",
   "execution_count": 55,
   "id": "16a1a9de-d1cd-421d-9f13-e8b5518c7b1f",
   "metadata": {},
   "outputs": [
    {
     "name": "stdout",
     "output_type": "stream",
     "text": [
      "========================== XGBClassifier with hypertuned params ==========================\n",
      "Test Accuracy: 0.9839906286606794\n",
      "              precision    recall  f1-score   support\n",
      "\n",
      "           0       0.99      0.98      0.98      1164\n",
      "           1       0.98      0.99      0.99      1397\n",
      "\n",
      "    accuracy                           0.98      2561\n",
      "   macro avg       0.98      0.98      0.98      2561\n",
      "weighted avg       0.98      0.98      0.98      2561\n",
      "\n"
     ]
    }
   ],
   "source": [
    "print(\"========================== XGBClassifier with hypertuned params ==========================\")\n",
    "grid = {'max_depth': 10, 'eta': 0.5, 'alpha': 0, 'lambda': 1, 'n_estimators': 300}\n",
    "clf = XGBClassifier()\n",
    "clf.set_params(**grid)\n",
    "clf.fit(x_train_sme, y_train_sme)\n",
    "\n",
    "\n",
    "accuracy = clf.score(x_test_sme, y_test_sme)\n",
    "print(\"Test Accuracy:\", accuracy)\n",
    "print(classification_report(y_test_sme, clf.predict(x_test_sme)))\n"
   ]
  },
  {
   "cell_type": "code",
   "execution_count": 56,
   "id": "401c23a9-07dd-4dc2-ba3b-86db78bba2c7",
   "metadata": {},
   "outputs": [
    {
     "name": "stdout",
     "output_type": "stream",
     "text": [
      "Defaulting to user installation because normal site-packages is not writeable\n",
      "Collecting pycaret\n",
      "  Using cached pycaret-3.3.2-py3-none-any.whl.metadata (17 kB)\n",
      "Requirement already satisfied: ipython>=5.5.0 in c:\\users\\arrkr\\appdata\\roaming\\python\\python310\\site-packages (from pycaret) (8.37.0)\n",
      "Collecting ipywidgets>=7.6.5 (from pycaret)\n",
      "  Using cached ipywidgets-8.1.7-py3-none-any.whl.metadata (2.4 kB)\n",
      "Requirement already satisfied: tqdm>=4.62.0 in c:\\users\\arrkr\\appdata\\roaming\\python\\python310\\site-packages (from pycaret) (4.64.1)\n",
      "Collecting numpy<1.27,>=1.21 (from pycaret)\n",
      "  Using cached numpy-1.26.4-cp310-cp310-win_amd64.whl.metadata (61 kB)\n",
      "Requirement already satisfied: pandas<2.2.0 in c:\\users\\arrkr\\appdata\\roaming\\python\\python310\\site-packages (from pycaret) (1.5.3)\n",
      "Requirement already satisfied: jinja2>=3 in c:\\users\\arrkr\\appdata\\roaming\\python\\python310\\site-packages (from pycaret) (3.1.6)\n",
      "Collecting scipy<=1.11.4,>=1.6.1 (from pycaret)\n",
      "  Using cached scipy-1.11.4-cp310-cp310-win_amd64.whl.metadata (60 kB)\n",
      "Collecting joblib<1.4,>=1.2.0 (from pycaret)\n",
      "  Using cached joblib-1.3.2-py3-none-any.whl.metadata (5.4 kB)\n",
      "Requirement already satisfied: scikit-learn>1.4.0 in c:\\users\\arrkr\\appdata\\roaming\\python\\python310\\site-packages (from pycaret) (1.7.2)\n",
      "Collecting pyod>=1.1.3 (from pycaret)\n",
      "  Using cached pyod-2.0.5-py3-none-any.whl.metadata (46 kB)\n",
      "Requirement already satisfied: imbalanced-learn>=0.12.0 in c:\\users\\arrkr\\appdata\\roaming\\python\\python310\\site-packages (from pycaret) (0.14.0)\n",
      "Requirement already satisfied: category-encoders>=2.4.0 in c:\\users\\arrkr\\appdata\\roaming\\python\\python310\\site-packages (from pycaret) (2.8.1)\n",
      "Collecting lightgbm>=3.0.0 (from pycaret)\n",
      "  Using cached lightgbm-4.6.0-py3-none-win_amd64.whl.metadata (17 kB)\n",
      "Collecting numba>=0.55.0 (from pycaret)\n",
      "  Using cached numba-0.62.1-cp310-cp310-win_amd64.whl.metadata (2.9 kB)\n",
      "Requirement already satisfied: requests>=2.27.1 in c:\\users\\arrkr\\appdata\\roaming\\python\\python310\\site-packages (from pycaret) (2.28.2)\n",
      "Requirement already satisfied: psutil>=5.9.0 in c:\\users\\arrkr\\appdata\\roaming\\python\\python310\\site-packages (from pycaret) (7.0.0)\n",
      "Requirement already satisfied: markupsafe>=2.0.1 in c:\\users\\arrkr\\appdata\\roaming\\python\\python310\\site-packages (from pycaret) (3.0.2)\n",
      "Requirement already satisfied: importlib-metadata>=4.12.0 in c:\\users\\arrkr\\appdata\\roaming\\python\\python310\\site-packages (from pycaret) (8.7.0)\n",
      "Collecting nbformat>=4.2.0 (from pycaret)\n",
      "  Using cached nbformat-5.10.4-py3-none-any.whl.metadata (3.6 kB)\n",
      "Requirement already satisfied: cloudpickle in c:\\users\\arrkr\\appdata\\roaming\\python\\python310\\site-packages (from pycaret) (3.1.1)\n",
      "Collecting deprecation>=2.1.0 (from pycaret)\n",
      "  Using cached deprecation-2.1.0-py2.py3-none-any.whl.metadata (4.6 kB)\n",
      "Requirement already satisfied: xxhash in c:\\users\\arrkr\\appdata\\roaming\\python\\python310\\site-packages (from pycaret) (3.5.0)\n",
      "Requirement already satisfied: matplotlib<3.8.0 in c:\\users\\arrkr\\appdata\\roaming\\python\\python310\\site-packages (from pycaret) (3.6.3)\n",
      "Collecting scikit-plot>=0.3.7 (from pycaret)\n",
      "  Using cached scikit_plot-0.3.7-py3-none-any.whl.metadata (7.1 kB)\n",
      "Collecting yellowbrick>=1.4 (from pycaret)\n",
      "  Using cached yellowbrick-1.5-py3-none-any.whl.metadata (7.7 kB)\n",
      "Requirement already satisfied: plotly>=5.14.0 in c:\\users\\arrkr\\appdata\\roaming\\python\\python310\\site-packages (from pycaret) (6.3.1)\n",
      "Requirement already satisfied: kaleido>=0.2.1 in c:\\users\\arrkr\\appdata\\roaming\\python\\python310\\site-packages (from pycaret) (1.1.0)\n",
      "Collecting schemdraw==0.15 (from pycaret)\n",
      "  Using cached schemdraw-0.15-py3-none-any.whl.metadata (2.2 kB)\n",
      "Collecting plotly-resampler>=0.8.3.1 (from pycaret)\n",
      "  Using cached plotly_resampler-0.11.0-py3-none-any.whl.metadata (13 kB)\n",
      "Requirement already satisfied: statsmodels>=0.12.1 in c:\\users\\arrkr\\appdata\\roaming\\python\\python310\\site-packages (from pycaret) (0.13.5)\n",
      "Collecting sktime==0.26.0 (from pycaret)\n",
      "  Using cached sktime-0.26.0-py3-none-any.whl.metadata (29 kB)\n",
      "Collecting tbats>=1.1.3 (from pycaret)\n",
      "  Using cached tbats-1.1.3-py3-none-any.whl.metadata (3.8 kB)\n",
      "Collecting pmdarima>=2.0.4 (from pycaret)\n",
      "  Using cached pmdarima-2.0.4-cp310-cp310-win_amd64.whl.metadata (8.0 kB)\n",
      "Requirement already satisfied: packaging in c:\\users\\arrkr\\appdata\\roaming\\python\\python310\\site-packages (from sktime==0.26.0->pycaret) (25.0)\n",
      "Collecting scikit-base<0.8.0 (from sktime==0.26.0->pycaret)\n",
      "  Using cached scikit_base-0.7.8-py3-none-any.whl.metadata (8.8 kB)\n",
      "Collecting scikit-learn>1.4.0 (from pycaret)\n",
      "  Using cached scikit_learn-1.4.2-cp310-cp310-win_amd64.whl.metadata (11 kB)\n",
      "Requirement already satisfied: contourpy>=1.0.1 in c:\\users\\arrkr\\appdata\\roaming\\python\\python310\\site-packages (from matplotlib<3.8.0->pycaret) (1.3.2)\n",
      "Requirement already satisfied: cycler>=0.10 in c:\\users\\arrkr\\appdata\\roaming\\python\\python310\\site-packages (from matplotlib<3.8.0->pycaret) (0.12.1)\n",
      "Requirement already satisfied: fonttools>=4.22.0 in c:\\users\\arrkr\\appdata\\roaming\\python\\python310\\site-packages (from matplotlib<3.8.0->pycaret) (4.59.0)\n",
      "Requirement already satisfied: kiwisolver>=1.0.1 in c:\\users\\arrkr\\appdata\\roaming\\python\\python310\\site-packages (from matplotlib<3.8.0->pycaret) (1.4.8)\n",
      "Requirement already satisfied: pillow>=6.2.0 in c:\\users\\arrkr\\appdata\\roaming\\python\\python310\\site-packages (from matplotlib<3.8.0->pycaret) (11.3.0)\n",
      "Requirement already satisfied: pyparsing>=2.2.1 in c:\\users\\arrkr\\appdata\\roaming\\python\\python310\\site-packages (from matplotlib<3.8.0->pycaret) (3.2.3)\n",
      "Requirement already satisfied: python-dateutil>=2.7 in c:\\users\\arrkr\\appdata\\roaming\\python\\python310\\site-packages (from matplotlib<3.8.0->pycaret) (2.9.0.post0)\n",
      "Requirement already satisfied: pytz>=2020.1 in c:\\users\\arrkr\\appdata\\roaming\\python\\python310\\site-packages (from pandas<2.2.0->pycaret) (2025.2)\n",
      "Requirement already satisfied: threadpoolctl>=2.0.0 in c:\\users\\arrkr\\appdata\\roaming\\python\\python310\\site-packages (from scikit-learn>1.4.0->pycaret) (3.6.0)\n",
      "Requirement already satisfied: patsy>=0.5.1 in c:\\users\\arrkr\\appdata\\roaming\\python\\python310\\site-packages (from category-encoders>=2.4.0->pycaret) (1.0.1)\n",
      "INFO: pip is looking at multiple versions of category-encoders to determine which version is compatible with other requirements. This could take a while.\n",
      "Collecting category-encoders>=2.4.0 (from pycaret)\n",
      "  Using cached category_encoders-2.8.0-py3-none-any.whl.metadata (7.9 kB)\n",
      "  Using cached category_encoders-2.7.0-py3-none-any.whl.metadata (7.9 kB)\n",
      "Requirement already satisfied: zipp>=3.20 in c:\\users\\arrkr\\appdata\\roaming\\python\\python310\\site-packages (from importlib-metadata>=4.12.0->pycaret) (3.23.0)\n",
      "Requirement already satisfied: colorama in c:\\users\\arrkr\\appdata\\roaming\\python\\python310\\site-packages (from ipython>=5.5.0->pycaret) (0.4.6)\n",
      "Requirement already satisfied: decorator in c:\\users\\arrkr\\appdata\\roaming\\python\\python310\\site-packages (from ipython>=5.5.0->pycaret) (5.2.1)\n",
      "Requirement already satisfied: exceptiongroup in c:\\users\\arrkr\\appdata\\roaming\\python\\python310\\site-packages (from ipython>=5.5.0->pycaret) (1.3.0)\n",
      "Requirement already satisfied: jedi>=0.16 in c:\\users\\arrkr\\appdata\\roaming\\python\\python310\\site-packages (from ipython>=5.5.0->pycaret) (0.19.2)\n",
      "Requirement already satisfied: matplotlib-inline in c:\\users\\arrkr\\appdata\\roaming\\python\\python310\\site-packages (from ipython>=5.5.0->pycaret) (0.1.7)\n",
      "Requirement already satisfied: prompt_toolkit<3.1.0,>=3.0.41 in c:\\users\\arrkr\\appdata\\roaming\\python\\python310\\site-packages (from ipython>=5.5.0->pycaret) (3.0.52)\n",
      "Requirement already satisfied: pygments>=2.4.0 in c:\\users\\arrkr\\appdata\\roaming\\python\\python310\\site-packages (from ipython>=5.5.0->pycaret) (2.19.2)\n",
      "Requirement already satisfied: stack_data in c:\\users\\arrkr\\appdata\\roaming\\python\\python310\\site-packages (from ipython>=5.5.0->pycaret) (0.6.3)\n",
      "Requirement already satisfied: traitlets>=5.13.0 in c:\\users\\arrkr\\appdata\\roaming\\python\\python310\\site-packages (from ipython>=5.5.0->pycaret) (5.14.3)\n",
      "Requirement already satisfied: typing_extensions>=4.6 in c:\\users\\arrkr\\appdata\\roaming\\python\\python310\\site-packages (from ipython>=5.5.0->pycaret) (4.14.0)\n",
      "Requirement already satisfied: wcwidth in c:\\users\\arrkr\\appdata\\roaming\\python\\python310\\site-packages (from prompt_toolkit<3.1.0,>=3.0.41->ipython>=5.5.0->pycaret) (0.2.13)\n",
      "Requirement already satisfied: comm>=0.1.3 in c:\\users\\arrkr\\appdata\\roaming\\python\\python310\\site-packages (from ipywidgets>=7.6.5->pycaret) (0.2.3)\n",
      "Collecting widgetsnbextension~=4.0.14 (from ipywidgets>=7.6.5->pycaret)\n",
      "  Using cached widgetsnbextension-4.0.14-py3-none-any.whl.metadata (1.6 kB)\n",
      "Collecting jupyterlab_widgets~=3.0.15 (from ipywidgets>=7.6.5->pycaret)\n",
      "  Using cached jupyterlab_widgets-3.0.15-py3-none-any.whl.metadata (20 kB)\n",
      "Requirement already satisfied: parso<0.9.0,>=0.8.4 in c:\\users\\arrkr\\appdata\\roaming\\python\\python310\\site-packages (from jedi>=0.16->ipython>=5.5.0->pycaret) (0.8.5)\n",
      "Requirement already satisfied: choreographer>=1.0.10 in c:\\users\\arrkr\\appdata\\roaming\\python\\python310\\site-packages (from kaleido>=0.2.1->pycaret) (1.1.1)\n",
      "Requirement already satisfied: logistro>=1.0.8 in c:\\users\\arrkr\\appdata\\roaming\\python\\python310\\site-packages (from kaleido>=0.2.1->pycaret) (1.1.0)\n",
      "Requirement already satisfied: orjson>=3.10.15 in c:\\users\\arrkr\\appdata\\roaming\\python\\python310\\site-packages (from kaleido>=0.2.1->pycaret) (3.11.3)\n",
      "Requirement already satisfied: pytest-timeout>=2.4.0 in c:\\users\\arrkr\\appdata\\roaming\\python\\python310\\site-packages (from kaleido>=0.2.1->pycaret) (2.4.0)\n",
      "Requirement already satisfied: simplejson>=3.19.3 in c:\\users\\arrkr\\appdata\\roaming\\python\\python310\\site-packages (from choreographer>=1.0.10->kaleido>=0.2.1->pycaret) (3.20.2)\n",
      "Collecting fastjsonschema>=2.15 (from nbformat>=4.2.0->pycaret)\n",
      "  Using cached fastjsonschema-2.21.2-py3-none-any.whl.metadata (2.3 kB)\n",
      "Collecting jsonschema>=2.6 (from nbformat>=4.2.0->pycaret)\n",
      "  Using cached jsonschema-4.25.1-py3-none-any.whl.metadata (7.6 kB)\n",
      "Requirement already satisfied: jupyter-core!=5.0.*,>=4.12 in c:\\users\\arrkr\\appdata\\roaming\\python\\python310\\site-packages (from nbformat>=4.2.0->pycaret) (5.8.1)\n",
      "Requirement already satisfied: attrs>=22.2.0 in c:\\users\\arrkr\\appdata\\roaming\\python\\python310\\site-packages (from jsonschema>=2.6->nbformat>=4.2.0->pycaret) (25.3.0)\n",
      "Collecting jsonschema-specifications>=2023.03.6 (from jsonschema>=2.6->nbformat>=4.2.0->pycaret)\n",
      "  Using cached jsonschema_specifications-2025.9.1-py3-none-any.whl.metadata (2.9 kB)\n",
      "Collecting referencing>=0.28.4 (from jsonschema>=2.6->nbformat>=4.2.0->pycaret)\n",
      "  Using cached referencing-0.36.2-py3-none-any.whl.metadata (2.8 kB)\n",
      "Collecting rpds-py>=0.7.1 (from jsonschema>=2.6->nbformat>=4.2.0->pycaret)\n",
      "  Using cached rpds_py-0.27.1-cp310-cp310-win_amd64.whl.metadata (4.3 kB)\n",
      "Requirement already satisfied: platformdirs>=2.5 in c:\\users\\arrkr\\appdata\\roaming\\python\\python310\\site-packages (from jupyter-core!=5.0.*,>=4.12->nbformat>=4.2.0->pycaret) (4.4.0)\n",
      "Requirement already satisfied: pywin32>=300 in c:\\users\\arrkr\\appdata\\roaming\\python\\python310\\site-packages (from jupyter-core!=5.0.*,>=4.12->nbformat>=4.2.0->pycaret) (311)\n",
      "Collecting llvmlite<0.46,>=0.45.0dev0 (from numba>=0.55.0->pycaret)\n",
      "  Using cached llvmlite-0.45.1-cp310-cp310-win_amd64.whl.metadata (5.0 kB)\n",
      "Requirement already satisfied: narwhals>=1.15.1 in c:\\users\\arrkr\\appdata\\roaming\\python\\python310\\site-packages (from plotly>=5.14.0->pycaret) (2.6.0)\n",
      "Requirement already satisfied: dash>=2.11.0 in c:\\users\\arrkr\\appdata\\roaming\\python\\python310\\site-packages (from plotly-resampler>=0.8.3.1->pycaret) (2.18.2)\n",
      "Collecting tsdownsample>=0.1.3 (from plotly-resampler>=0.8.3.1->pycaret)\n",
      "  Using cached tsdownsample-0.1.4.1-cp310-cp310-win_amd64.whl.metadata (8.2 kB)\n",
      "Requirement already satisfied: Flask<3.1,>=1.0.4 in c:\\users\\arrkr\\appdata\\roaming\\python\\python310\\site-packages (from dash>=2.11.0->plotly-resampler>=0.8.3.1->pycaret) (3.0.3)\n",
      "Requirement already satisfied: Werkzeug<3.1 in c:\\users\\arrkr\\appdata\\roaming\\python\\python310\\site-packages (from dash>=2.11.0->plotly-resampler>=0.8.3.1->pycaret) (3.0.6)\n",
      "Requirement already satisfied: dash-html-components==2.0.0 in c:\\users\\arrkr\\appdata\\roaming\\python\\python310\\site-packages (from dash>=2.11.0->plotly-resampler>=0.8.3.1->pycaret) (2.0.0)\n",
      "Requirement already satisfied: dash-core-components==2.0.0 in c:\\users\\arrkr\\appdata\\roaming\\python\\python310\\site-packages (from dash>=2.11.0->plotly-resampler>=0.8.3.1->pycaret) (2.0.0)\n",
      "Requirement already satisfied: dash-table==5.0.0 in c:\\users\\arrkr\\appdata\\roaming\\python\\python310\\site-packages (from dash>=2.11.0->plotly-resampler>=0.8.3.1->pycaret) (5.0.0)\n",
      "Requirement already satisfied: retrying in c:\\users\\arrkr\\appdata\\roaming\\python\\python310\\site-packages (from dash>=2.11.0->plotly-resampler>=0.8.3.1->pycaret) (1.4.2)\n",
      "Requirement already satisfied: nest-asyncio in c:\\users\\arrkr\\appdata\\roaming\\python\\python310\\site-packages (from dash>=2.11.0->plotly-resampler>=0.8.3.1->pycaret) (1.6.0)\n",
      "Requirement already satisfied: setuptools in c:\\program files\\python310\\lib\\site-packages (from dash>=2.11.0->plotly-resampler>=0.8.3.1->pycaret) (57.4.0)\n",
      "Requirement already satisfied: itsdangerous>=2.1.2 in c:\\users\\arrkr\\appdata\\roaming\\python\\python310\\site-packages (from Flask<3.1,>=1.0.4->dash>=2.11.0->plotly-resampler>=0.8.3.1->pycaret) (2.2.0)\n",
      "Requirement already satisfied: click>=8.1.3 in c:\\users\\arrkr\\appdata\\roaming\\python\\python310\\site-packages (from Flask<3.1,>=1.0.4->dash>=2.11.0->plotly-resampler>=0.8.3.1->pycaret) (8.2.1)\n",
      "Requirement already satisfied: blinker>=1.6.2 in c:\\users\\arrkr\\appdata\\roaming\\python\\python310\\site-packages (from Flask<3.1,>=1.0.4->dash>=2.11.0->plotly-resampler>=0.8.3.1->pycaret) (1.9.0)\n",
      "Collecting Cython!=0.29.18,!=0.29.31,>=0.29 (from pmdarima>=2.0.4->pycaret)\n",
      "  Using cached cython-3.1.4-cp310-cp310-win_amd64.whl.metadata (5.1 kB)\n",
      "Requirement already satisfied: urllib3 in c:\\users\\arrkr\\appdata\\roaming\\python\\python310\\site-packages (from pmdarima>=2.0.4->pycaret) (1.26.20)\n",
      "Requirement already satisfied: pytest>=7.0.0 in c:\\users\\arrkr\\appdata\\roaming\\python\\python310\\site-packages (from pytest-timeout>=2.4.0->kaleido>=0.2.1->pycaret) (8.4.2)\n",
      "Requirement already satisfied: iniconfig>=1 in c:\\users\\arrkr\\appdata\\roaming\\python\\python310\\site-packages (from pytest>=7.0.0->pytest-timeout>=2.4.0->kaleido>=0.2.1->pycaret) (2.1.0)\n",
      "Requirement already satisfied: pluggy<2,>=1.5 in c:\\users\\arrkr\\appdata\\roaming\\python\\python310\\site-packages (from pytest>=7.0.0->pytest-timeout>=2.4.0->kaleido>=0.2.1->pycaret) (1.6.0)\n",
      "Requirement already satisfied: tomli>=1 in c:\\users\\arrkr\\appdata\\roaming\\python\\python310\\site-packages (from pytest>=7.0.0->pytest-timeout>=2.4.0->kaleido>=0.2.1->pycaret) (2.2.1)\n",
      "Requirement already satisfied: six>=1.5 in c:\\users\\arrkr\\appdata\\roaming\\python\\python310\\site-packages (from python-dateutil>=2.7->matplotlib<3.8.0->pycaret) (1.17.0)\n",
      "Requirement already satisfied: charset-normalizer<4,>=2 in c:\\users\\arrkr\\appdata\\roaming\\python\\python310\\site-packages (from requests>=2.27.1->pycaret) (3.4.2)\n",
      "Requirement already satisfied: idna<4,>=2.5 in c:\\users\\arrkr\\appdata\\roaming\\python\\python310\\site-packages (from requests>=2.27.1->pycaret) (3.10)\n",
      "Requirement already satisfied: certifi>=2017.4.17 in c:\\users\\arrkr\\appdata\\roaming\\python\\python310\\site-packages (from requests>=2.27.1->pycaret) (2025.6.15)\n",
      "Requirement already satisfied: executing>=1.2.0 in c:\\users\\arrkr\\appdata\\roaming\\python\\python310\\site-packages (from stack_data->ipython>=5.5.0->pycaret) (2.2.1)\n",
      "Requirement already satisfied: asttokens>=2.1.0 in c:\\users\\arrkr\\appdata\\roaming\\python\\python310\\site-packages (from stack_data->ipython>=5.5.0->pycaret) (3.0.0)\n",
      "Requirement already satisfied: pure-eval in c:\\users\\arrkr\\appdata\\roaming\\python\\python310\\site-packages (from stack_data->ipython>=5.5.0->pycaret) (0.2.3)\n",
      "Using cached pycaret-3.3.2-py3-none-any.whl (486 kB)\n",
      "Using cached schemdraw-0.15-py3-none-any.whl (106 kB)\n",
      "Downloading sktime-0.26.0-py3-none-any.whl (21.8 MB)\n",
      "   ---------------------------------------- 0.0/21.8 MB ? eta -:--:--\n",
      "   ---------------------------------------- 0.0/21.8 MB ? eta -:--:--\n",
      "   ---------------------------------------- 0.3/21.8 MB ? eta -:--:--\n",
      "   - -------------------------------------- 0.8/21.8 MB 1.5 MB/s eta 0:00:15\n",
      "   -- ------------------------------------- 1.6/21.8 MB 2.2 MB/s eta 0:00:10\n",
      "   --- ------------------------------------ 2.1/21.8 MB 2.4 MB/s eta 0:00:09\n",
      "   ----- ---------------------------------- 2.9/21.8 MB 2.5 MB/s eta 0:00:08\n",
      "   ----- ---------------------------------- 3.1/21.8 MB 2.5 MB/s eta 0:00:08\n",
      "   ------ --------------------------------- 3.4/21.8 MB 2.2 MB/s eta 0:00:09\n",
      "   ------- -------------------------------- 3.9/21.8 MB 2.2 MB/s eta 0:00:08\n",
      "   -------- ------------------------------- 4.5/21.8 MB 2.3 MB/s eta 0:00:08\n",
      "   --------- ------------------------------ 5.0/21.8 MB 2.3 MB/s eta 0:00:08\n",
      "   --------- ------------------------------ 5.2/21.8 MB 2.3 MB/s eta 0:00:08\n",
      "   ---------- ----------------------------- 5.8/21.8 MB 2.3 MB/s eta 0:00:08\n",
      "   ---------- ----------------------------- 5.8/21.8 MB 2.3 MB/s eta 0:00:08\n",
      "   ----------- ---------------------------- 6.3/21.8 MB 2.1 MB/s eta 0:00:08\n",
      "   ------------ --------------------------- 6.6/21.8 MB 2.1 MB/s eta 0:00:08\n",
      "   ------------ --------------------------- 6.8/21.8 MB 2.1 MB/s eta 0:00:08\n",
      "   ------------ --------------------------- 7.1/21.8 MB 2.0 MB/s eta 0:00:08\n",
      "   ------------- -------------------------- 7.3/21.8 MB 2.0 MB/s eta 0:00:08\n",
      "   ------------- -------------------------- 7.6/21.8 MB 1.9 MB/s eta 0:00:08\n",
      "   -------------- ------------------------- 8.1/21.8 MB 1.9 MB/s eta 0:00:08\n",
      "   --------------- ------------------------ 8.4/21.8 MB 1.9 MB/s eta 0:00:08\n",
      "   --------------- ------------------------ 8.7/21.8 MB 1.9 MB/s eta 0:00:08\n",
      "   ---------------- ----------------------- 8.9/21.8 MB 1.8 MB/s eta 0:00:08\n",
      "   ---------------- ----------------------- 9.2/21.8 MB 1.8 MB/s eta 0:00:08\n",
      "   ----------------- ---------------------- 9.4/21.8 MB 1.8 MB/s eta 0:00:08\n",
      "   ------------------ --------------------- 10.0/21.8 MB 1.8 MB/s eta 0:00:07\n",
      "   ------------------ --------------------- 10.2/21.8 MB 1.8 MB/s eta 0:00:07\n",
      "   ------------------- -------------------- 10.5/21.8 MB 1.8 MB/s eta 0:00:07\n",
      "   -------------------- ------------------- 11.0/21.8 MB 1.8 MB/s eta 0:00:07\n",
      "   -------------------- ------------------- 11.3/21.8 MB 1.8 MB/s eta 0:00:06\n",
      "   --------------------- ------------------ 11.8/21.8 MB 1.8 MB/s eta 0:00:06\n",
      "   ---------------------- ----------------- 12.1/21.8 MB 1.8 MB/s eta 0:00:06\n",
      "   ----------------------- ---------------- 12.6/21.8 MB 1.8 MB/s eta 0:00:06\n",
      "   ----------------------- ---------------- 12.6/21.8 MB 1.8 MB/s eta 0:00:06\n",
      "   ----------------------- ---------------- 12.8/21.8 MB 1.7 MB/s eta 0:00:06\n",
      "   ------------------------ --------------- 13.1/21.8 MB 1.7 MB/s eta 0:00:06\n",
      "   ------------------------ --------------- 13.4/21.8 MB 1.7 MB/s eta 0:00:05\n",
      "   ------------------------- -------------- 13.6/21.8 MB 1.7 MB/s eta 0:00:05\n",
      "   ------------------------- -------------- 13.9/21.8 MB 1.7 MB/s eta 0:00:05\n",
      "   -------------------------- ------------- 14.4/21.8 MB 1.7 MB/s eta 0:00:05\n",
      "   -------------------------- ------------- 14.7/21.8 MB 1.7 MB/s eta 0:00:05\n",
      "   --------------------------- ------------ 14.9/21.8 MB 1.7 MB/s eta 0:00:05\n",
      "   --------------------------- ------------ 15.2/21.8 MB 1.7 MB/s eta 0:00:04\n",
      "   ---------------------------- ----------- 15.5/21.8 MB 1.6 MB/s eta 0:00:04\n",
      "   ---------------------------- ----------- 15.7/21.8 MB 1.6 MB/s eta 0:00:04\n",
      "   ----------------------------- ---------- 16.3/21.8 MB 1.7 MB/s eta 0:00:04\n",
      "   ------------------------------ --------- 16.5/21.8 MB 1.7 MB/s eta 0:00:04\n",
      "   ------------------------------ --------- 16.8/21.8 MB 1.7 MB/s eta 0:00:04\n",
      "   ------------------------------- -------- 17.0/21.8 MB 1.6 MB/s eta 0:00:03\n",
      "   -------------------------------- ------- 17.6/21.8 MB 1.7 MB/s eta 0:00:03\n",
      "   -------------------------------- ------- 17.8/21.8 MB 1.7 MB/s eta 0:00:03\n",
      "   --------------------------------- ------ 18.1/21.8 MB 1.7 MB/s eta 0:00:03\n",
      "   --------------------------------- ------ 18.4/21.8 MB 1.6 MB/s eta 0:00:03\n",
      "   ---------------------------------- ----- 18.6/21.8 MB 1.6 MB/s eta 0:00:02\n",
      "   ----------------------------------- ---- 19.1/21.8 MB 1.6 MB/s eta 0:00:02\n",
      "   ----------------------------------- ---- 19.4/21.8 MB 1.6 MB/s eta 0:00:02\n",
      "   ------------------------------------ --- 19.7/21.8 MB 1.6 MB/s eta 0:00:02\n",
      "   ------------------------------------ --- 19.9/21.8 MB 1.6 MB/s eta 0:00:02\n",
      "   ------------------------------------- -- 20.2/21.8 MB 1.6 MB/s eta 0:00:02\n",
      "   ------------------------------------- -- 20.2/21.8 MB 1.6 MB/s eta 0:00:02\n",
      "   ------------------------------------- -- 20.4/21.8 MB 1.6 MB/s eta 0:00:01\n",
      "   ------------------------------------- -- 20.7/21.8 MB 1.6 MB/s eta 0:00:01\n",
      "   ------------------------------------- -- 20.7/21.8 MB 1.6 MB/s eta 0:00:01\n",
      "   -------------------------------------- - 21.2/21.8 MB 1.6 MB/s eta 0:00:01\n",
      "   ---------------------------------------  21.5/21.8 MB 1.6 MB/s eta 0:00:01\n",
      "   ---------------------------------------- 21.8/21.8 MB 1.6 MB/s  0:00:14\n",
      "Downloading joblib-1.3.2-py3-none-any.whl (302 kB)\n",
      "Downloading numpy-1.26.4-cp310-cp310-win_amd64.whl (15.8 MB)\n",
      "   ---------------------------------------- 0.0/15.8 MB ? eta -:--:--\n",
      "    --------------------------------------- 0.3/15.8 MB ? eta -:--:--\n",
      "   - -------------------------------------- 0.5/15.8 MB 1.7 MB/s eta 0:00:10\n",
      "   -- ------------------------------------- 1.0/15.8 MB 1.9 MB/s eta 0:00:08\n",
      "   -- ------------------------------------- 1.0/15.8 MB 1.9 MB/s eta 0:00:08\n",
      "   --- ------------------------------------ 1.3/15.8 MB 1.5 MB/s eta 0:00:10\n",
      "   --- ------------------------------------ 1.6/15.8 MB 1.2 MB/s eta 0:00:12\n",
      "   ---- ----------------------------------- 1.8/15.8 MB 1.3 MB/s eta 0:00:11\n",
      "   ----- ---------------------------------- 2.4/15.8 MB 1.4 MB/s eta 0:00:10\n",
      "   ------ --------------------------------- 2.6/15.8 MB 1.4 MB/s eta 0:00:10\n",
      "   ------- -------------------------------- 3.1/15.8 MB 1.6 MB/s eta 0:00:09\n",
      "   --------- ------------------------------ 3.7/15.8 MB 1.6 MB/s eta 0:00:08\n",
      "   ---------- ----------------------------- 4.2/15.8 MB 1.7 MB/s eta 0:00:07\n",
      "   ----------- ---------------------------- 4.7/15.8 MB 1.8 MB/s eta 0:00:07\n",
      "   ------------ --------------------------- 5.0/15.8 MB 1.8 MB/s eta 0:00:06\n",
      "   ------------- -------------------------- 5.2/15.8 MB 1.8 MB/s eta 0:00:06\n",
      "   -------------- ------------------------- 5.8/15.8 MB 1.7 MB/s eta 0:00:06\n",
      "   --------------- ------------------------ 6.3/15.8 MB 1.8 MB/s eta 0:00:06\n",
      "   ----------------- ---------------------- 6.8/15.8 MB 1.8 MB/s eta 0:00:05\n",
      "   ------------------ --------------------- 7.3/15.8 MB 1.9 MB/s eta 0:00:05\n",
      "   ------------------ --------------------- 7.3/15.8 MB 1.9 MB/s eta 0:00:05\n",
      "   ------------------- -------------------- 7.6/15.8 MB 1.8 MB/s eta 0:00:05\n",
      "   ------------------- -------------------- 7.9/15.8 MB 1.7 MB/s eta 0:00:05\n",
      "   --------------------- ------------------ 8.4/15.8 MB 1.8 MB/s eta 0:00:05\n",
      "   --------------------- ------------------ 8.7/15.8 MB 1.7 MB/s eta 0:00:05\n",
      "   ---------------------- ----------------- 8.9/15.8 MB 1.7 MB/s eta 0:00:04\n",
      "   ----------------------- ---------------- 9.2/15.8 MB 1.7 MB/s eta 0:00:04\n",
      "   ----------------------- ---------------- 9.4/15.8 MB 1.7 MB/s eta 0:00:04\n",
      "   ------------------------ --------------- 9.7/15.8 MB 1.7 MB/s eta 0:00:04\n",
      "   ------------------------- -------------- 10.0/15.8 MB 1.7 MB/s eta 0:00:04\n",
      "   ------------------------- -------------- 10.2/15.8 MB 1.7 MB/s eta 0:00:04\n",
      "   ------------------------- -------------- 10.2/15.8 MB 1.7 MB/s eta 0:00:04\n",
      "   --------------------------- ------------ 10.7/15.8 MB 1.6 MB/s eta 0:00:04\n",
      "   --------------------------- ------------ 11.0/15.8 MB 1.6 MB/s eta 0:00:03\n",
      "   ----------------------------- ---------- 11.5/15.8 MB 1.6 MB/s eta 0:00:03\n",
      "   ------------------------------ --------- 12.1/15.8 MB 1.7 MB/s eta 0:00:03\n",
      "   ------------------------------- -------- 12.3/15.8 MB 1.7 MB/s eta 0:00:03\n",
      "   ------------------------------- -------- 12.6/15.8 MB 1.6 MB/s eta 0:00:02\n",
      "   -------------------------------- ------- 12.8/15.8 MB 1.6 MB/s eta 0:00:02\n",
      "   --------------------------------- ------ 13.1/15.8 MB 1.6 MB/s eta 0:00:02\n",
      "   --------------------------------- ------ 13.4/15.8 MB 1.6 MB/s eta 0:00:02\n",
      "   --------------------------------- ------ 13.4/15.8 MB 1.6 MB/s eta 0:00:02\n",
      "   ---------------------------------- ----- 13.6/15.8 MB 1.6 MB/s eta 0:00:02\n",
      "   ----------------------------------- ---- 13.9/15.8 MB 1.5 MB/s eta 0:00:02\n",
      "   ----------------------------------- ---- 14.2/15.8 MB 1.6 MB/s eta 0:00:02\n",
      "   ------------------------------------ --- 14.4/15.8 MB 1.5 MB/s eta 0:00:01\n",
      "   ------------------------------------- -- 14.7/15.8 MB 1.5 MB/s eta 0:00:01\n",
      "   ------------------------------------- -- 14.9/15.8 MB 1.5 MB/s eta 0:00:01\n",
      "   ------------------------------------- -- 14.9/15.8 MB 1.5 MB/s eta 0:00:01\n",
      "   -------------------------------------- - 15.2/15.8 MB 1.5 MB/s eta 0:00:01\n",
      "   ---------------------------------------  15.5/15.8 MB 1.5 MB/s eta 0:00:01\n",
      "   ---------------------------------------  15.7/15.8 MB 1.5 MB/s eta 0:00:01\n",
      "   ---------------------------------------- 15.8/15.8 MB 1.5 MB/s  0:00:10\n",
      "Downloading scikit_base-0.7.8-py3-none-any.whl (130 kB)\n",
      "Downloading scikit_learn-1.4.2-cp310-cp310-win_amd64.whl (10.6 MB)\n",
      "   ---------------------------------------- 0.0/10.6 MB ? eta -:--:--\n",
      "    --------------------------------------- 0.3/10.6 MB ? eta -:--:--\n",
      "   - -------------------------------------- 0.5/10.6 MB 1.1 MB/s eta 0:00:10\n",
      "   -- ------------------------------------- 0.8/10.6 MB 1.3 MB/s eta 0:00:08\n",
      "   --- ------------------------------------ 1.0/10.6 MB 1.3 MB/s eta 0:00:08\n",
      "   --- ------------------------------------ 1.0/10.6 MB 1.3 MB/s eta 0:00:08\n",
      "   --- ------------------------------------ 1.0/10.6 MB 1.3 MB/s eta 0:00:08\n",
      "   --- ------------------------------------ 1.0/10.6 MB 1.3 MB/s eta 0:00:08\n",
      "   ----- ---------------------------------- 1.6/10.6 MB 838.6 kB/s eta 0:00:11\n",
      "   ------ --------------------------------- 1.8/10.6 MB 906.5 kB/s eta 0:00:10\n",
      "   ------ --------------------------------- 1.8/10.6 MB 906.5 kB/s eta 0:00:10\n",
      "   -------- ------------------------------- 2.4/10.6 MB 972.7 kB/s eta 0:00:09\n",
      "   -------- ------------------------------- 2.4/10.6 MB 972.7 kB/s eta 0:00:09\n",
      "   --------- ------------------------------ 2.6/10.6 MB 926.3 kB/s eta 0:00:09\n",
      "   ----------- ---------------------------- 3.1/10.6 MB 1.0 MB/s eta 0:00:08\n",
      "   ------------ --------------------------- 3.4/10.6 MB 1.0 MB/s eta 0:00:07\n",
      "   ------------- -------------------------- 3.7/10.6 MB 1.0 MB/s eta 0:00:07\n",
      "   --------------- ------------------------ 4.2/10.6 MB 1.1 MB/s eta 0:00:06\n",
      "   ---------------- ----------------------- 4.5/10.6 MB 1.1 MB/s eta 0:00:06\n",
      "   ----------------- ---------------------- 4.7/10.6 MB 1.2 MB/s eta 0:00:06\n",
      "   ------------------ --------------------- 5.0/10.6 MB 1.2 MB/s eta 0:00:05\n",
      "   ------------------- -------------------- 5.2/10.6 MB 1.2 MB/s eta 0:00:05\n",
      "   -------------------- ------------------- 5.5/10.6 MB 1.2 MB/s eta 0:00:05\n",
      "   --------------------- ------------------ 5.8/10.6 MB 1.2 MB/s eta 0:00:05\n",
      "   ---------------------- ----------------- 6.0/10.6 MB 1.2 MB/s eta 0:00:04\n",
      "   ------------------------ --------------- 6.6/10.6 MB 1.2 MB/s eta 0:00:04\n",
      "   ------------------------- -------------- 6.8/10.6 MB 1.2 MB/s eta 0:00:04\n",
      "   -------------------------- ------------- 7.1/10.6 MB 1.2 MB/s eta 0:00:03\n",
      "   --------------------------- ------------ 7.3/10.6 MB 1.2 MB/s eta 0:00:03\n",
      "   --------------------------- ------------ 7.3/10.6 MB 1.2 MB/s eta 0:00:03\n",
      "   ---------------------------- ----------- 7.6/10.6 MB 1.2 MB/s eta 0:00:03\n",
      "   ----------------------------- ---------- 7.9/10.6 MB 1.2 MB/s eta 0:00:03\n",
      "   ------------------------------ --------- 8.1/10.6 MB 1.2 MB/s eta 0:00:03\n",
      "   ------------------------------- -------- 8.4/10.6 MB 1.2 MB/s eta 0:00:02\n",
      "   --------------------------------- ------ 8.9/10.6 MB 1.2 MB/s eta 0:00:02\n",
      "   ----------------------------------- ---- 9.4/10.6 MB 1.3 MB/s eta 0:00:01\n",
      "   ------------------------------------ --- 9.7/10.6 MB 1.3 MB/s eta 0:00:01\n",
      "   ------------------------------------- -- 10.0/10.6 MB 1.3 MB/s eta 0:00:01\n",
      "   ---------------------------------------  10.5/10.6 MB 1.3 MB/s eta 0:00:01\n",
      "   ---------------------------------------- 10.6/10.6 MB 1.3 MB/s  0:00:08\n",
      "Downloading scipy-1.11.4-cp310-cp310-win_amd64.whl (44.1 MB)\n",
      "   ---------------------------------------- 0.0/44.1 MB ? eta -:--:--\n",
      "   ---------------------------------------- 0.3/44.1 MB ? eta -:--:--\n",
      "    --------------------------------------- 0.8/44.1 MB 2.4 MB/s eta 0:00:19\n",
      "    --------------------------------------- 1.0/44.1 MB 2.3 MB/s eta 0:00:19\n",
      "   - -------------------------------------- 1.6/44.1 MB 2.0 MB/s eta 0:00:22\n",
      "   - -------------------------------------- 2.1/44.1 MB 2.2 MB/s eta 0:00:20\n",
      "   -- ------------------------------------- 2.9/44.1 MB 2.3 MB/s eta 0:00:18\n",
      "   --- ------------------------------------ 3.4/44.1 MB 2.3 MB/s eta 0:00:18\n",
      "   --- ------------------------------------ 4.2/44.1 MB 2.5 MB/s eta 0:00:16\n",
      "   ---- ----------------------------------- 4.7/44.1 MB 2.6 MB/s eta 0:00:16\n",
      "   ---- ----------------------------------- 5.2/44.1 MB 2.5 MB/s eta 0:00:16\n",
      "   ---- ----------------------------------- 5.5/44.1 MB 2.4 MB/s eta 0:00:17\n",
      "   ----- ---------------------------------- 5.8/44.1 MB 2.4 MB/s eta 0:00:17\n",
      "   ----- ---------------------------------- 5.8/44.1 MB 2.4 MB/s eta 0:00:17\n",
      "   ----- ---------------------------------- 5.8/44.1 MB 2.4 MB/s eta 0:00:17\n",
      "   ----- ---------------------------------- 5.8/44.1 MB 2.4 MB/s eta 0:00:17\n",
      "   ----- ---------------------------------- 5.8/44.1 MB 2.4 MB/s eta 0:00:17\n",
      "   ----- ---------------------------------- 5.8/44.1 MB 2.4 MB/s eta 0:00:17\n",
      "   ----- ---------------------------------- 5.8/44.1 MB 2.4 MB/s eta 0:00:17\n",
      "   ------ --------------------------------- 6.8/44.1 MB 1.8 MB/s eta 0:00:22\n",
      "   ------ --------------------------------- 7.1/44.1 MB 1.7 MB/s eta 0:00:22\n",
      "   ------ --------------------------------- 7.6/44.1 MB 1.7 MB/s eta 0:00:22\n",
      "   ------- -------------------------------- 8.1/44.1 MB 1.8 MB/s eta 0:00:21\n",
      "   ------- -------------------------------- 8.7/44.1 MB 1.8 MB/s eta 0:00:20\n",
      "   -------- ------------------------------- 9.2/44.1 MB 1.8 MB/s eta 0:00:20\n",
      "   -------- ------------------------------- 9.7/44.1 MB 1.8 MB/s eta 0:00:19\n",
      "   --------- ------------------------------ 10.2/44.1 MB 1.9 MB/s eta 0:00:19\n",
      "   --------- ------------------------------ 10.5/44.1 MB 1.9 MB/s eta 0:00:19\n",
      "   --------- ------------------------------ 10.5/44.1 MB 1.9 MB/s eta 0:00:19\n",
      "   --------- ------------------------------ 10.7/44.1 MB 1.8 MB/s eta 0:00:19\n",
      "   ---------- ----------------------------- 11.5/44.1 MB 1.8 MB/s eta 0:00:18\n",
      "   ---------- ----------------------------- 11.5/44.1 MB 1.8 MB/s eta 0:00:18\n",
      "   ---------- ----------------------------- 12.1/44.1 MB 1.8 MB/s eta 0:00:18\n",
      "   ----------- ---------------------------- 12.6/44.1 MB 1.8 MB/s eta 0:00:18\n",
      "   ----------- ---------------------------- 12.6/44.1 MB 1.8 MB/s eta 0:00:18\n",
      "   ----------- ---------------------------- 12.6/44.1 MB 1.8 MB/s eta 0:00:18\n",
      "   ----------- ---------------------------- 12.6/44.1 MB 1.8 MB/s eta 0:00:18\n",
      "   ----------- ---------------------------- 13.1/44.1 MB 1.7 MB/s eta 0:00:19\n",
      "   ------------ --------------------------- 13.4/44.1 MB 1.7 MB/s eta 0:00:19\n",
      "   ------------- -------------------------- 14.7/44.1 MB 1.8 MB/s eta 0:00:17\n",
      "   -------------- ------------------------- 15.7/44.1 MB 1.9 MB/s eta 0:00:16\n",
      "   -------------- ------------------------- 16.5/44.1 MB 1.9 MB/s eta 0:00:15\n",
      "   --------------- ------------------------ 16.8/44.1 MB 1.9 MB/s eta 0:00:15\n",
      "   --------------- ------------------------ 17.3/44.1 MB 1.9 MB/s eta 0:00:15\n",
      "   ---------------- ----------------------- 18.4/44.1 MB 2.0 MB/s eta 0:00:14\n",
      "   ---------------- ----------------------- 18.6/44.1 MB 2.0 MB/s eta 0:00:13\n",
      "   ----------------- ---------------------- 19.1/44.1 MB 2.0 MB/s eta 0:00:13\n",
      "   ----------------- ---------------------- 19.7/44.1 MB 2.0 MB/s eta 0:00:13\n",
      "   ------------------ --------------------- 19.9/44.1 MB 2.0 MB/s eta 0:00:13\n",
      "   ------------------ --------------------- 20.2/44.1 MB 2.0 MB/s eta 0:00:13\n",
      "   ------------------- -------------------- 21.0/44.1 MB 2.0 MB/s eta 0:00:12\n",
      "   ------------------- -------------------- 22.0/44.1 MB 2.0 MB/s eta 0:00:11\n",
      "   -------------------- ------------------- 22.5/44.1 MB 2.1 MB/s eta 0:00:11\n",
      "   -------------------- ------------------- 23.1/44.1 MB 2.1 MB/s eta 0:00:11\n",
      "   --------------------- ------------------ 23.3/44.1 MB 2.0 MB/s eta 0:00:11\n",
      "   --------------------- ------------------ 23.9/44.1 MB 2.1 MB/s eta 0:00:10\n",
      "   ---------------------- ----------------- 24.4/44.1 MB 2.1 MB/s eta 0:00:10\n",
      "   ---------------------- ----------------- 25.2/44.1 MB 2.1 MB/s eta 0:00:10\n",
      "   ----------------------- ---------------- 25.7/44.1 MB 2.1 MB/s eta 0:00:09\n",
      "   ----------------------- ---------------- 26.2/44.1 MB 2.1 MB/s eta 0:00:09\n",
      "   ------------------------ --------------- 26.7/44.1 MB 2.1 MB/s eta 0:00:09\n",
      "   ------------------------ --------------- 27.3/44.1 MB 2.1 MB/s eta 0:00:09\n",
      "   ------------------------ --------------- 27.5/44.1 MB 2.1 MB/s eta 0:00:08\n",
      "   ------------------------- -------------- 28.0/44.1 MB 2.1 MB/s eta 0:00:08\n",
      "   -------------------------- ------------- 28.8/44.1 MB 2.1 MB/s eta 0:00:08\n",
      "   -------------------------- ------------- 29.1/44.1 MB 2.1 MB/s eta 0:00:08\n",
      "   -------------------------- ------------- 29.6/44.1 MB 2.1 MB/s eta 0:00:07\n",
      "   --------------------------- ------------ 30.1/44.1 MB 2.1 MB/s eta 0:00:07\n",
      "   --------------------------- ------------ 30.4/44.1 MB 2.1 MB/s eta 0:00:07\n",
      "   --------------------------- ------------ 30.7/44.1 MB 2.1 MB/s eta 0:00:07\n",
      "   ---------------------------- ----------- 31.2/44.1 MB 2.1 MB/s eta 0:00:07\n",
      "   ---------------------------- ----------- 32.0/44.1 MB 2.1 MB/s eta 0:00:06\n",
      "   ----------------------------- ---------- 32.8/44.1 MB 2.1 MB/s eta 0:00:06\n",
      "   ------------------------------ --------- 33.3/44.1 MB 2.2 MB/s eta 0:00:06\n",
      "   ------------------------------ --------- 34.1/44.1 MB 2.2 MB/s eta 0:00:05\n",
      "   ------------------------------- -------- 34.9/44.1 MB 2.2 MB/s eta 0:00:05\n",
      "   -------------------------------- ------- 35.4/44.1 MB 2.2 MB/s eta 0:00:04\n",
      "   -------------------------------- ------- 36.2/44.1 MB 2.2 MB/s eta 0:00:04\n",
      "   --------------------------------- ------ 36.7/44.1 MB 2.2 MB/s eta 0:00:04\n",
      "   --------------------------------- ------ 37.5/44.1 MB 2.2 MB/s eta 0:00:03\n",
      "   ---------------------------------- ----- 38.0/44.1 MB 2.2 MB/s eta 0:00:03\n",
      "   ---------------------------------- ----- 38.5/44.1 MB 2.2 MB/s eta 0:00:03\n",
      "   ----------------------------------- ---- 38.8/44.1 MB 2.3 MB/s eta 0:00:03\n",
      "   ----------------------------------- ---- 39.3/44.1 MB 2.2 MB/s eta 0:00:03\n",
      "   ------------------------------------ --- 39.8/44.1 MB 2.2 MB/s eta 0:00:02\n",
      "   ------------------------------------ --- 40.4/44.1 MB 2.2 MB/s eta 0:00:02\n",
      "   ------------------------------------ --- 40.4/44.1 MB 2.2 MB/s eta 0:00:02\n",
      "   ------------------------------------- -- 41.2/44.1 MB 2.2 MB/s eta 0:00:02\n",
      "   ------------------------------------- -- 41.7/44.1 MB 2.2 MB/s eta 0:00:02\n",
      "   -------------------------------------- - 42.2/44.1 MB 2.2 MB/s eta 0:00:01\n",
      "   -------------------------------------- - 43.0/44.1 MB 2.3 MB/s eta 0:00:01\n",
      "   ---------------------------------------  43.5/44.1 MB 2.3 MB/s eta 0:00:01\n",
      "   ---------------------------------------  43.8/44.1 MB 2.3 MB/s eta 0:00:01\n",
      "   ---------------------------------------  44.0/44.1 MB 2.3 MB/s eta 0:00:01\n",
      "   ---------------------------------------- 44.1/44.1 MB 2.2 MB/s  0:00:19\n",
      "Downloading category_encoders-2.7.0-py3-none-any.whl (85 kB)\n",
      "Downloading deprecation-2.1.0-py2.py3-none-any.whl (11 kB)\n",
      "Downloading ipywidgets-8.1.7-py3-none-any.whl (139 kB)\n",
      "Downloading jupyterlab_widgets-3.0.15-py3-none-any.whl (216 kB)\n",
      "Downloading widgetsnbextension-4.0.14-py3-none-any.whl (2.2 MB)\n",
      "   ---------------------------------------- 0.0/2.2 MB ? eta -:--:--\n",
      "   --------- ------------------------------ 0.5/2.2 MB 3.4 MB/s eta 0:00:01\n",
      "   ------------------- -------------------- 1.0/2.2 MB 3.1 MB/s eta 0:00:01\n",
      "   ----------------------- ---------------- 1.3/2.2 MB 2.3 MB/s eta 0:00:01\n",
      "   --------------------------------- ------ 1.8/2.2 MB 2.3 MB/s eta 0:00:01\n",
      "   ---------------------------------------- 2.2/2.2 MB 2.2 MB/s  0:00:01\n",
      "Downloading lightgbm-4.6.0-py3-none-win_amd64.whl (1.5 MB)\n",
      "   ---------------------------------------- 0.0/1.5 MB ? eta -:--:--\n",
      "   ------- -------------------------------- 0.3/1.5 MB ? eta -:--:--\n",
      "   --------------------- ------------------ 0.8/1.5 MB 2.1 MB/s eta 0:00:01\n",
      "   ---------------------------------------- 1.5/1.5 MB 2.3 MB/s  0:00:00\n",
      "Using cached nbformat-5.10.4-py3-none-any.whl (78 kB)\n",
      "Downloading fastjsonschema-2.21.2-py3-none-any.whl (24 kB)\n",
      "Downloading jsonschema-4.25.1-py3-none-any.whl (90 kB)\n",
      "Downloading jsonschema_specifications-2025.9.1-py3-none-any.whl (18 kB)\n",
      "Downloading numba-0.62.1-cp310-cp310-win_amd64.whl (2.7 MB)\n",
      "   ---------------------------------------- 0.0/2.7 MB ? eta -:--:--\n",
      "   ---------------------------------------- 0.0/2.7 MB ? eta -:--:--\n",
      "   ------- -------------------------------- 0.5/2.7 MB 1.9 MB/s eta 0:00:02\n",
      "   ----------- ---------------------------- 0.8/2.7 MB 1.8 MB/s eta 0:00:02\n",
      "   --------------- ------------------------ 1.0/2.7 MB 1.6 MB/s eta 0:00:02\n",
      "   ------------------- -------------------- 1.3/2.7 MB 1.4 MB/s eta 0:00:02\n",
      "   ------------------------------ --------- 2.1/2.7 MB 1.8 MB/s eta 0:00:01\n",
      "   ---------------------------------------- 2.7/2.7 MB 2.0 MB/s  0:00:01\n",
      "Downloading llvmlite-0.45.1-cp310-cp310-win_amd64.whl (38.1 MB)\n",
      "   ---------------------------------------- 0.0/38.1 MB ? eta -:--:--\n",
      "    --------------------------------------- 0.5/38.1 MB 4.2 MB/s eta 0:00:09\n",
      "   - -------------------------------------- 1.0/38.1 MB 2.6 MB/s eta 0:00:15\n",
      "   - -------------------------------------- 1.6/38.1 MB 2.7 MB/s eta 0:00:14\n",
      "   - -------------------------------------- 1.8/38.1 MB 2.5 MB/s eta 0:00:15\n",
      "   -- ------------------------------------- 2.4/38.1 MB 2.2 MB/s eta 0:00:16\n",
      "   --- ------------------------------------ 2.9/38.1 MB 2.2 MB/s eta 0:00:17\n",
      "   --- ------------------------------------ 3.7/38.1 MB 2.5 MB/s eta 0:00:14\n",
      "   ---- ----------------------------------- 4.5/38.1 MB 2.7 MB/s eta 0:00:13\n",
      "   ----- ---------------------------------- 5.0/38.1 MB 2.6 MB/s eta 0:00:13\n",
      "   ----- ---------------------------------- 5.2/38.1 MB 2.6 MB/s eta 0:00:13\n",
      "   ----- ---------------------------------- 5.5/38.1 MB 2.4 MB/s eta 0:00:14\n",
      "   ------ --------------------------------- 5.8/38.1 MB 2.3 MB/s eta 0:00:14\n",
      "   ------ --------------------------------- 6.0/38.1 MB 2.2 MB/s eta 0:00:15\n",
      "   ------ --------------------------------- 6.6/38.1 MB 2.2 MB/s eta 0:00:15\n",
      "   ------- -------------------------------- 7.1/38.1 MB 2.2 MB/s eta 0:00:14\n",
      "   ------- -------------------------------- 7.6/38.1 MB 2.3 MB/s eta 0:00:14\n",
      "   -------- ------------------------------- 8.4/38.1 MB 2.3 MB/s eta 0:00:13\n",
      "   --------- ------------------------------ 8.9/38.1 MB 2.3 MB/s eta 0:00:13\n",
      "   --------- ------------------------------ 9.4/38.1 MB 2.4 MB/s eta 0:00:13\n",
      "   ---------- ----------------------------- 10.0/38.1 MB 2.3 MB/s eta 0:00:13\n",
      "   ---------- ----------------------------- 10.2/38.1 MB 2.3 MB/s eta 0:00:12\n",
      "   ----------- ---------------------------- 10.7/38.1 MB 2.3 MB/s eta 0:00:12\n",
      "   ------------ --------------------------- 11.5/38.1 MB 2.4 MB/s eta 0:00:12\n",
      "   ------------ --------------------------- 12.1/38.1 MB 2.4 MB/s eta 0:00:11\n",
      "   ------------- -------------------------- 12.6/38.1 MB 2.4 MB/s eta 0:00:11\n",
      "   ------------- -------------------------- 13.1/38.1 MB 2.4 MB/s eta 0:00:11\n",
      "   -------------- ------------------------- 13.6/38.1 MB 2.4 MB/s eta 0:00:11\n",
      "   -------------- ------------------------- 13.9/38.1 MB 2.4 MB/s eta 0:00:11\n",
      "   --------------- ------------------------ 14.4/38.1 MB 2.3 MB/s eta 0:00:11\n",
      "   --------------- ------------------------ 14.9/38.1 MB 2.3 MB/s eta 0:00:10\n",
      "   ---------------- ----------------------- 15.5/38.1 MB 2.4 MB/s eta 0:00:10\n",
      "   ----------------- ---------------------- 16.3/38.1 MB 2.4 MB/s eta 0:00:10\n",
      "   ----------------- ---------------------- 16.8/38.1 MB 2.4 MB/s eta 0:00:09\n",
      "   ------------------ --------------------- 17.6/38.1 MB 2.4 MB/s eta 0:00:09\n",
      "   ------------------ --------------------- 18.1/38.1 MB 2.4 MB/s eta 0:00:09\n",
      "   ------------------- -------------------- 18.6/38.1 MB 2.5 MB/s eta 0:00:08\n",
      "   -------------------- ------------------- 19.1/38.1 MB 2.5 MB/s eta 0:00:08\n",
      "   -------------------- ------------------- 19.7/38.1 MB 2.4 MB/s eta 0:00:08\n",
      "   --------------------- ------------------ 20.2/38.1 MB 2.5 MB/s eta 0:00:08\n",
      "   --------------------- ------------------ 20.7/38.1 MB 2.5 MB/s eta 0:00:08\n",
      "   --------------------- ------------------ 21.0/38.1 MB 2.4 MB/s eta 0:00:08\n",
      "   ---------------------- ----------------- 21.2/38.1 MB 2.4 MB/s eta 0:00:07\n",
      "   ---------------------- ----------------- 21.8/38.1 MB 2.4 MB/s eta 0:00:07\n",
      "   ----------------------- ---------------- 22.0/38.1 MB 2.4 MB/s eta 0:00:07\n",
      "   ----------------------- ---------------- 22.5/38.1 MB 2.4 MB/s eta 0:00:07\n",
      "   ----------------------- ---------------- 22.8/38.1 MB 2.4 MB/s eta 0:00:07\n",
      "   ------------------------ --------------- 23.3/38.1 MB 2.3 MB/s eta 0:00:07\n",
      "   ------------------------ --------------- 23.6/38.1 MB 2.3 MB/s eta 0:00:07\n",
      "   ------------------------ --------------- 23.6/38.1 MB 2.3 MB/s eta 0:00:07\n",
      "   ------------------------- -------------- 23.9/38.1 MB 2.3 MB/s eta 0:00:07\n",
      "   ------------------------- -------------- 23.9/38.1 MB 2.3 MB/s eta 0:00:07\n",
      "   ------------------------- -------------- 23.9/38.1 MB 2.3 MB/s eta 0:00:07\n",
      "   -------------------------- ------------- 24.9/38.1 MB 2.2 MB/s eta 0:00:06\n",
      "   -------------------------- ------------- 25.2/38.1 MB 2.2 MB/s eta 0:00:06\n",
      "   -------------------------- ------------- 25.7/38.1 MB 2.2 MB/s eta 0:00:06\n",
      "   --------------------------- ------------ 26.2/38.1 MB 2.2 MB/s eta 0:00:06\n",
      "   ---------------------------- ----------- 26.7/38.1 MB 2.2 MB/s eta 0:00:06\n",
      "   ---------------------------- ----------- 27.3/38.1 MB 2.2 MB/s eta 0:00:05\n",
      "   ---------------------------- ----------- 27.5/38.1 MB 2.2 MB/s eta 0:00:05\n",
      "   ----------------------------- ---------- 28.3/38.1 MB 2.2 MB/s eta 0:00:05\n",
      "   ------------------------------ --------- 28.8/38.1 MB 2.2 MB/s eta 0:00:05\n",
      "   ------------------------------- -------- 29.6/38.1 MB 2.2 MB/s eta 0:00:04\n",
      "   ------------------------------- -------- 30.1/38.1 MB 2.2 MB/s eta 0:00:04\n",
      "   -------------------------------- ------- 30.7/38.1 MB 2.3 MB/s eta 0:00:04\n",
      "   -------------------------------- ------- 31.2/38.1 MB 2.3 MB/s eta 0:00:04\n",
      "   --------------------------------- ------ 31.7/38.1 MB 2.3 MB/s eta 0:00:03\n",
      "   --------------------------------- ------ 32.0/38.1 MB 2.3 MB/s eta 0:00:03\n",
      "   ---------------------------------- ----- 32.5/38.1 MB 2.3 MB/s eta 0:00:03\n",
      "   ---------------------------------- ----- 33.3/38.1 MB 2.3 MB/s eta 0:00:03\n",
      "   ----------------------------------- ---- 33.6/38.1 MB 2.3 MB/s eta 0:00:03\n",
      "   ----------------------------------- ---- 34.1/38.1 MB 2.3 MB/s eta 0:00:02\n",
      "   ------------------------------------ --- 34.6/38.1 MB 2.3 MB/s eta 0:00:02\n",
      "   ------------------------------------ --- 35.1/38.1 MB 2.3 MB/s eta 0:00:02\n",
      "   ------------------------------------- -- 35.4/38.1 MB 2.3 MB/s eta 0:00:02\n",
      "   ------------------------------------- -- 35.7/38.1 MB 2.2 MB/s eta 0:00:02\n",
      "   ------------------------------------- -- 36.2/38.1 MB 2.2 MB/s eta 0:00:01\n",
      "   -------------------------------------- - 36.4/38.1 MB 2.2 MB/s eta 0:00:01\n",
      "   -------------------------------------- - 37.0/38.1 MB 2.2 MB/s eta 0:00:01\n",
      "   ---------------------------------------  37.2/38.1 MB 2.2 MB/s eta 0:00:01\n",
      "   ---------------------------------------  38.0/38.1 MB 2.2 MB/s eta 0:00:01\n",
      "   ---------------------------------------- 38.1/38.1 MB 2.2 MB/s  0:00:17\n",
      "Downloading plotly_resampler-0.11.0-py3-none-any.whl (82 kB)\n",
      "Downloading pmdarima-2.0.4-cp310-cp310-win_amd64.whl (613 kB)\n",
      "   ---------------------------------------- 0.0/613.3 kB ? eta -:--:--\n",
      "   ----------------- ---------------------- 262.1/613.3 kB ? eta -:--:--\n",
      "   ---------------------------------------- 613.3/613.3 kB 7.5 MB/s  0:00:00\n",
      "Downloading cython-3.1.4-cp310-cp310-win_amd64.whl (2.7 MB)\n",
      "   ---------------------------------------- 0.0/2.7 MB ? eta -:--:--\n",
      "   ---------------------------------------- 0.0/2.7 MB ? eta -:--:--\n",
      "   --- ------------------------------------ 0.3/2.7 MB ? eta -:--:--\n",
      "   ----------- ---------------------------- 0.8/2.7 MB 3.0 MB/s eta 0:00:01\n",
      "   ------------------- -------------------- 1.3/2.7 MB 2.2 MB/s eta 0:00:01\n",
      "   --------------------------- ------------ 1.8/2.7 MB 2.6 MB/s eta 0:00:01\n",
      "   ---------------------------------- ----- 2.4/2.7 MB 2.7 MB/s eta 0:00:01\n",
      "   ---------------------------------------- 2.7/2.7 MB 2.7 MB/s  0:00:01\n",
      "Downloading pyod-2.0.5-py3-none-any.whl (200 kB)\n",
      "Using cached referencing-0.36.2-py3-none-any.whl (26 kB)\n",
      "Downloading rpds_py-0.27.1-cp310-cp310-win_amd64.whl (228 kB)\n",
      "Downloading scikit_plot-0.3.7-py3-none-any.whl (33 kB)\n",
      "Downloading tbats-1.1.3-py3-none-any.whl (44 kB)\n",
      "Downloading tsdownsample-0.1.4.1-cp310-cp310-win_amd64.whl (1.0 MB)\n",
      "   ---------------------------------------- 0.0/1.0 MB ? eta -:--:--\n",
      "   ---------- ----------------------------- 0.3/1.0 MB ? eta -:--:--\n",
      "   ---------- ----------------------------- 0.3/1.0 MB ? eta -:--:--\n",
      "   ---------- ----------------------------- 0.3/1.0 MB ? eta -:--:--\n",
      "   ------------------------------ --------- 0.8/1.0 MB 838.9 kB/s eta 0:00:01\n",
      "   ---------------------------------------- 1.0/1.0 MB 1.2 MB/s  0:00:00\n",
      "Downloading yellowbrick-1.5-py3-none-any.whl (282 kB)\n",
      "Installing collected packages: fastjsonschema, widgetsnbextension, scikit-base, schemdraw, rpds-py, numpy, llvmlite, jupyterlab_widgets, joblib, deprecation, Cython, tsdownsample, scipy, referencing, numba, scikit-learn, lightgbm, jsonschema-specifications, ipywidgets, yellowbrick, sktime, scikit-plot, pyod, pmdarima, plotly-resampler, jsonschema, category-encoders, tbats, nbformat, pycaret\n",
      "\n",
      "   ----------------------------------------  0/30 [fastjsonschema]\n",
      "   -- -------------------------------------  2/30 [scikit-base]\n",
      "   -- -------------------------------------  2/30 [scikit-base]\n",
      "   -- -------------------------------------  2/30 [scikit-base]\n",
      "   -- -------------------------------------  2/30 [scikit-base]\n",
      "   -- -------------------------------------  2/30 [scikit-base]\n",
      "   ---- -----------------------------------  3/30 [schemdraw]\n",
      "   ---- -----------------------------------  3/30 [schemdraw]\n",
      "   ---- -----------------------------------  3/30 [schemdraw]\n",
      "   ---- -----------------------------------  3/30 [schemdraw]\n",
      "  Attempting uninstall: numpy\n",
      "   ---- -----------------------------------  3/30 [schemdraw]\n",
      "    Found existing installation: numpy 2.2.6\n",
      "   ---- -----------------------------------  3/30 [schemdraw]\n",
      "   ------ ---------------------------------  5/30 [numpy]\n",
      "   ------ ---------------------------------  5/30 [numpy]\n",
      "   ------ ---------------------------------  5/30 [numpy]\n",
      "    Uninstalling numpy-2.2.6:\n",
      "   ------ ---------------------------------  5/30 [numpy]\n",
      "   ------ ---------------------------------  5/30 [numpy]\n",
      "   ------ ---------------------------------  5/30 [numpy]\n",
      "   ------ ---------------------------------  5/30 [numpy]\n",
      "   ------ ---------------------------------  5/30 [numpy]\n",
      "   ------ ---------------------------------  5/30 [numpy]\n",
      "   ------ ---------------------------------  5/30 [numpy]\n",
      "   ------ ---------------------------------  5/30 [numpy]\n",
      "   ------ ---------------------------------  5/30 [numpy]\n",
      "   ------ ---------------------------------  5/30 [numpy]\n",
      "   ------ ---------------------------------  5/30 [numpy]\n",
      "   ------ ---------------------------------  5/30 [numpy]\n",
      "   ------ ---------------------------------  5/30 [numpy]\n",
      "   ------ ---------------------------------  5/30 [numpy]\n",
      "   ------ ---------------------------------  5/30 [numpy]\n",
      "   ------ ---------------------------------  5/30 [numpy]\n",
      "   ------ ---------------------------------  5/30 [numpy]\n",
      "   ------ ---------------------------------  5/30 [numpy]\n",
      "   ------ ---------------------------------  5/30 [numpy]\n",
      "   ------ ---------------------------------  5/30 [numpy]\n",
      "   ------ ---------------------------------  5/30 [numpy]\n",
      "   ------ ---------------------------------  5/30 [numpy]\n",
      "   ------ ---------------------------------  5/30 [numpy]\n",
      "   ------ ---------------------------------  5/30 [numpy]\n",
      "   ------ ---------------------------------  5/30 [numpy]\n",
      "   ------ ---------------------------------  5/30 [numpy]\n",
      "   ------ ---------------------------------  5/30 [numpy]\n",
      "   ------ ---------------------------------  5/30 [numpy]\n",
      "   ------ ---------------------------------  5/30 [numpy]\n",
      "      Successfully uninstalled numpy-2.2.6\n",
      "   ------ ---------------------------------  5/30 [numpy]\n",
      "   ------ ---------------------------------  5/30 [numpy]\n",
      "   ------ ---------------------------------  5/30 [numpy]\n",
      "   ------ ---------------------------------  5/30 [numpy]\n",
      "   ------ ---------------------------------  5/30 [numpy]\n",
      "   ------ ---------------------------------  5/30 [numpy]\n",
      "   ------ ---------------------------------  5/30 [numpy]\n",
      "   ------ ---------------------------------  5/30 [numpy]\n",
      "   ------ ---------------------------------  5/30 [numpy]\n",
      "   ------ ---------------------------------  5/30 [numpy]\n",
      "   ------ ---------------------------------  5/30 [numpy]\n",
      "   ------ ---------------------------------  5/30 [numpy]\n",
      "   ------ ---------------------------------  5/30 [numpy]\n",
      "   ------ ---------------------------------  5/30 [numpy]\n",
      "   ------ ---------------------------------  5/30 [numpy]\n",
      "   ------ ---------------------------------  5/30 [numpy]\n",
      "   ------ ---------------------------------  5/30 [numpy]\n",
      "   ------ ---------------------------------  5/30 [numpy]\n",
      "   ------ ---------------------------------  5/30 [numpy]\n",
      "   ------ ---------------------------------  5/30 [numpy]\n",
      "   ------ ---------------------------------  5/30 [numpy]\n",
      "   ------ ---------------------------------  5/30 [numpy]\n",
      "   ------ ---------------------------------  5/30 [numpy]\n",
      "   ------ ---------------------------------  5/30 [numpy]\n",
      "   ------ ---------------------------------  5/30 [numpy]\n",
      "   ------ ---------------------------------  5/30 [numpy]\n",
      "   ------ ---------------------------------  5/30 [numpy]\n",
      "   ------ ---------------------------------  5/30 [numpy]\n",
      "   ------ ---------------------------------  5/30 [numpy]\n",
      "   ------ ---------------------------------  5/30 [numpy]\n",
      "   ------ ---------------------------------  5/30 [numpy]\n",
      "   ------ ---------------------------------  5/30 [numpy]\n",
      "   ------ ---------------------------------  5/30 [numpy]\n",
      "   ------ ---------------------------------  5/30 [numpy]\n",
      "   ------ ---------------------------------  5/30 [numpy]\n",
      "   ------ ---------------------------------  5/30 [numpy]\n",
      "   ------ ---------------------------------  5/30 [numpy]\n",
      "   ------ ---------------------------------  5/30 [numpy]\n",
      "   ------ ---------------------------------  5/30 [numpy]\n",
      "   ------ ---------------------------------  5/30 [numpy]\n",
      "   ------ ---------------------------------  5/30 [numpy]\n",
      "   ------ ---------------------------------  5/30 [numpy]\n",
      "   ------ ---------------------------------  5/30 [numpy]\n",
      "   ------ ---------------------------------  5/30 [numpy]\n",
      "   ------ ---------------------------------  5/30 [numpy]\n",
      "   ------ ---------------------------------  5/30 [numpy]\n",
      "   ------ ---------------------------------  5/30 [numpy]\n",
      "   ------ ---------------------------------  5/30 [numpy]\n",
      "   ------ ---------------------------------  5/30 [numpy]\n",
      "   ------ ---------------------------------  5/30 [numpy]\n",
      "   ------ ---------------------------------  5/30 [numpy]\n",
      "   ------ ---------------------------------  5/30 [numpy]\n",
      "   ------ ---------------------------------  5/30 [numpy]\n",
      "   ------ ---------------------------------  5/30 [numpy]\n",
      "   ------ ---------------------------------  5/30 [numpy]\n",
      "   ------ ---------------------------------  5/30 [numpy]\n",
      "   ------ ---------------------------------  5/30 [numpy]\n",
      "  Attempting uninstall: llvmlite\n",
      "   ------ ---------------------------------  5/30 [numpy]\n",
      "    Found existing installation: llvmlite 0.44.0\n",
      "   ------ ---------------------------------  5/30 [numpy]\n",
      "    Uninstalling llvmlite-0.44.0:\n",
      "   ------ ---------------------------------  5/30 [numpy]\n",
      "      Successfully uninstalled llvmlite-0.44.0\n",
      "   ------ ---------------------------------  5/30 [numpy]\n",
      "   -------- -------------------------------  6/30 [llvmlite]\n",
      "   -------- -------------------------------  6/30 [llvmlite]\n",
      "   -------- -------------------------------  6/30 [llvmlite]\n",
      "   -------- -------------------------------  6/30 [llvmlite]\n",
      "   -------- -------------------------------  6/30 [llvmlite]\n",
      "   -------- -------------------------------  6/30 [llvmlite]\n",
      "   -------- -------------------------------  6/30 [llvmlite]\n",
      "   --------- ------------------------------  7/30 [jupyterlab_widgets]\n",
      "  Attempting uninstall: joblib\n",
      "   --------- ------------------------------  7/30 [jupyterlab_widgets]\n",
      "    Found existing installation: joblib 1.5.1\n",
      "   --------- ------------------------------  7/30 [jupyterlab_widgets]\n",
      "    Uninstalling joblib-1.5.1:\n",
      "   --------- ------------------------------  7/30 [jupyterlab_widgets]\n",
      "      Successfully uninstalled joblib-1.5.1\n",
      "   --------- ------------------------------  7/30 [jupyterlab_widgets]\n",
      "   ---------- -----------------------------  8/30 [joblib]\n",
      "   ---------- -----------------------------  8/30 [joblib]\n",
      "   ---------- -----------------------------  8/30 [joblib]\n",
      "   ---------- -----------------------------  8/30 [joblib]\n",
      "   ---------- -----------------------------  8/30 [joblib]\n",
      "   ---------- -----------------------------  8/30 [joblib]\n",
      "   ---------- -----------------------------  8/30 [joblib]\n",
      "   ------------- -------------------------- 10/30 [Cython]\n",
      "   ------------- -------------------------- 10/30 [Cython]\n",
      "   ------------- -------------------------- 10/30 [Cython]\n",
      "   ------------- -------------------------- 10/30 [Cython]\n",
      "   ------------- -------------------------- 10/30 [Cython]\n",
      "   ------------- -------------------------- 10/30 [Cython]\n",
      "   ------------- -------------------------- 10/30 [Cython]\n",
      "   ------------- -------------------------- 10/30 [Cython]\n",
      "   ------------- -------------------------- 10/30 [Cython]\n",
      "   ------------- -------------------------- 10/30 [Cython]\n",
      "   ------------- -------------------------- 10/30 [Cython]\n",
      "   ------------- -------------------------- 10/30 [Cython]\n",
      "   ------------- -------------------------- 10/30 [Cython]\n",
      "   ------------- -------------------------- 10/30 [Cython]\n",
      "   ------------- -------------------------- 10/30 [Cython]\n",
      "   ------------- -------------------------- 10/30 [Cython]\n",
      "   -------------- ------------------------- 11/30 [tsdownsample]\n",
      "  Attempting uninstall: scipy\n",
      "   -------------- ------------------------- 11/30 [tsdownsample]\n",
      "    Found existing installation: scipy 1.15.3\n",
      "   -------------- ------------------------- 11/30 [tsdownsample]\n",
      "   ---------------- ----------------------- 12/30 [scipy]\n",
      "   ---------------- ----------------------- 12/30 [scipy]\n",
      "   ---------------- ----------------------- 12/30 [scipy]\n",
      "    Uninstalling scipy-1.15.3:\n",
      "   ---------------- ----------------------- 12/30 [scipy]\n",
      "   ---------------- ----------------------- 12/30 [scipy]\n",
      "   ---------------- ----------------------- 12/30 [scipy]\n",
      "   ---------------- ----------------------- 12/30 [scipy]\n",
      "   ---------------- ----------------------- 12/30 [scipy]\n",
      "   ---------------- ----------------------- 12/30 [scipy]\n",
      "   ---------------- ----------------------- 12/30 [scipy]\n",
      "   ---------------- ----------------------- 12/30 [scipy]\n",
      "   ---------------- ----------------------- 12/30 [scipy]\n",
      "      Successfully uninstalled scipy-1.15.3\n",
      "   ---------------- ----------------------- 12/30 [scipy]\n",
      "   ---------------- ----------------------- 12/30 [scipy]\n",
      "   ---------------- ----------------------- 12/30 [scipy]\n",
      "   ---------------- ----------------------- 12/30 [scipy]\n",
      "   ---------------- ----------------------- 12/30 [scipy]\n",
      "   ---------------- ----------------------- 12/30 [scipy]\n",
      "   ---------------- ----------------------- 12/30 [scipy]\n",
      "   ---------------- ----------------------- 12/30 [scipy]\n",
      "   ---------------- ----------------------- 12/30 [scipy]\n",
      "   ---------------- ----------------------- 12/30 [scipy]\n",
      "   ---------------- ----------------------- 12/30 [scipy]\n",
      "   ---------------- ----------------------- 12/30 [scipy]\n",
      "   ---------------- ----------------------- 12/30 [scipy]\n",
      "   ---------------- ----------------------- 12/30 [scipy]\n",
      "   ---------------- ----------------------- 12/30 [scipy]\n",
      "   ---------------- ----------------------- 12/30 [scipy]\n",
      "   ---------------- ----------------------- 12/30 [scipy]\n",
      "   ---------------- ----------------------- 12/30 [scipy]\n",
      "   ---------------- ----------------------- 12/30 [scipy]\n",
      "   ---------------- ----------------------- 12/30 [scipy]\n",
      "   ---------------- ----------------------- 12/30 [scipy]\n",
      "   ---------------- ----------------------- 12/30 [scipy]\n",
      "   ---------------- ----------------------- 12/30 [scipy]\n",
      "   ---------------- ----------------------- 12/30 [scipy]\n",
      "   ---------------- ----------------------- 12/30 [scipy]\n",
      "   ---------------- ----------------------- 12/30 [scipy]\n",
      "   ---------------- ----------------------- 12/30 [scipy]\n",
      "   ---------------- ----------------------- 12/30 [scipy]\n",
      "   ---------------- ----------------------- 12/30 [scipy]\n",
      "   ---------------- ----------------------- 12/30 [scipy]\n",
      "   ---------------- ----------------------- 12/30 [scipy]\n",
      "   ---------------- ----------------------- 12/30 [scipy]\n",
      "   ---------------- ----------------------- 12/30 [scipy]\n",
      "   ---------------- ----------------------- 12/30 [scipy]\n",
      "   ---------------- ----------------------- 12/30 [scipy]\n",
      "   ---------------- ----------------------- 12/30 [scipy]\n",
      "   ---------------- ----------------------- 12/30 [scipy]\n",
      "   ---------------- ----------------------- 12/30 [scipy]\n",
      "   ---------------- ----------------------- 12/30 [scipy]\n",
      "   ---------------- ----------------------- 12/30 [scipy]\n",
      "   ---------------- ----------------------- 12/30 [scipy]\n",
      "   ---------------- ----------------------- 12/30 [scipy]\n",
      "   ---------------- ----------------------- 12/30 [scipy]\n",
      "   ---------------- ----------------------- 12/30 [scipy]\n",
      "   ---------------- ----------------------- 12/30 [scipy]\n",
      "   ---------------- ----------------------- 12/30 [scipy]\n",
      "   ---------------- ----------------------- 12/30 [scipy]\n",
      "   ---------------- ----------------------- 12/30 [scipy]\n",
      "   ---------------- ----------------------- 12/30 [scipy]\n",
      "   ---------------- ----------------------- 12/30 [scipy]\n",
      "   ---------------- ----------------------- 12/30 [scipy]\n",
      "   ---------------- ----------------------- 12/30 [scipy]\n",
      "   ---------------- ----------------------- 12/30 [scipy]\n",
      "   ---------------- ----------------------- 12/30 [scipy]\n",
      "   ---------------- ----------------------- 12/30 [scipy]\n",
      "   ---------------- ----------------------- 12/30 [scipy]\n",
      "   ---------------- ----------------------- 12/30 [scipy]\n",
      "   ---------------- ----------------------- 12/30 [scipy]\n",
      "   ---------------- ----------------------- 12/30 [scipy]\n",
      "   ---------------- ----------------------- 12/30 [scipy]\n",
      "   ---------------- ----------------------- 12/30 [scipy]\n",
      "   ---------------- ----------------------- 12/30 [scipy]\n",
      "   ---------------- ----------------------- 12/30 [scipy]\n",
      "   ---------------- ----------------------- 12/30 [scipy]\n",
      "   ---------------- ----------------------- 12/30 [scipy]\n",
      "   ---------------- ----------------------- 12/30 [scipy]\n",
      "   ---------------- ----------------------- 12/30 [scipy]\n",
      "   ---------------- ----------------------- 12/30 [scipy]\n",
      "   ---------------- ----------------------- 12/30 [scipy]\n",
      "   ---------------- ----------------------- 12/30 [scipy]\n",
      "   ---------------- ----------------------- 12/30 [scipy]\n",
      "   ---------------- ----------------------- 12/30 [scipy]\n",
      "   ---------------- ----------------------- 12/30 [scipy]\n",
      "   ---------------- ----------------------- 12/30 [scipy]\n",
      "   ---------------- ----------------------- 12/30 [scipy]\n",
      "   ---------------- ----------------------- 12/30 [scipy]\n",
      "   ---------------- ----------------------- 12/30 [scipy]\n",
      "   ---------------- ----------------------- 12/30 [scipy]\n",
      "   ---------------- ----------------------- 12/30 [scipy]\n",
      "   ---------------- ----------------------- 12/30 [scipy]\n",
      "   ---------------- ----------------------- 12/30 [scipy]\n",
      "   ----------------- ---------------------- 13/30 [referencing]\n",
      "   ------------------ --------------------- 14/30 [numba]\n",
      "   ------------------ --------------------- 14/30 [numba]\n",
      "   ------------------ --------------------- 14/30 [numba]\n",
      "   ------------------ --------------------- 14/30 [numba]\n",
      "   ------------------ --------------------- 14/30 [numba]\n",
      "   ------------------ --------------------- 14/30 [numba]\n",
      "   ------------------ --------------------- 14/30 [numba]\n",
      "   ------------------ --------------------- 14/30 [numba]\n",
      "   ------------------ --------------------- 14/30 [numba]\n",
      "   ------------------ --------------------- 14/30 [numba]\n",
      "   ------------------ --------------------- 14/30 [numba]\n",
      "   ------------------ --------------------- 14/30 [numba]\n",
      "   ------------------ --------------------- 14/30 [numba]\n",
      "   ------------------ --------------------- 14/30 [numba]\n",
      "   ------------------ --------------------- 14/30 [numba]\n",
      "   ------------------ --------------------- 14/30 [numba]\n",
      "   ------------------ --------------------- 14/30 [numba]\n",
      "   ------------------ --------------------- 14/30 [numba]\n",
      "   ------------------ --------------------- 14/30 [numba]\n",
      "   ------------------ --------------------- 14/30 [numba]\n",
      "   ------------------ --------------------- 14/30 [numba]\n",
      "   ------------------ --------------------- 14/30 [numba]\n",
      "   ------------------ --------------------- 14/30 [numba]\n",
      "   ------------------ --------------------- 14/30 [numba]\n",
      "   ------------------ --------------------- 14/30 [numba]\n",
      "   ------------------ --------------------- 14/30 [numba]\n",
      "   ------------------ --------------------- 14/30 [numba]\n",
      "   ------------------ --------------------- 14/30 [numba]\n",
      "   ------------------ --------------------- 14/30 [numba]\n",
      "   ------------------ --------------------- 14/30 [numba]\n",
      "   ------------------ --------------------- 14/30 [numba]\n",
      "   ------------------ --------------------- 14/30 [numba]\n",
      "   ------------------ --------------------- 14/30 [numba]\n",
      "   ------------------ --------------------- 14/30 [numba]\n",
      "   ------------------ --------------------- 14/30 [numba]\n",
      "   ------------------ --------------------- 14/30 [numba]\n",
      "   ------------------ --------------------- 14/30 [numba]\n",
      "   ------------------ --------------------- 14/30 [numba]\n",
      "   ------------------ --------------------- 14/30 [numba]\n",
      "   ------------------ --------------------- 14/30 [numba]\n",
      "   ------------------ --------------------- 14/30 [numba]\n",
      "   ------------------ --------------------- 14/30 [numba]\n",
      "   ------------------ --------------------- 14/30 [numba]\n",
      "   ------------------ --------------------- 14/30 [numba]\n",
      "   ------------------ --------------------- 14/30 [numba]\n",
      "   ------------------ --------------------- 14/30 [numba]\n",
      "   ------------------ --------------------- 14/30 [numba]\n",
      "   ------------------ --------------------- 14/30 [numba]\n",
      "   ------------------ --------------------- 14/30 [numba]\n",
      "   ------------------ --------------------- 14/30 [numba]\n",
      "   ------------------ --------------------- 14/30 [numba]\n",
      "   ------------------ --------------------- 14/30 [numba]\n",
      "   ------------------ --------------------- 14/30 [numba]\n",
      "   ------------------ --------------------- 14/30 [numba]\n",
      "   ------------------ --------------------- 14/30 [numba]\n",
      "   ------------------ --------------------- 14/30 [numba]\n",
      "   ------------------ --------------------- 14/30 [numba]\n",
      "   ------------------ --------------------- 14/30 [numba]\n",
      "   ------------------ --------------------- 14/30 [numba]\n",
      "   ------------------ --------------------- 14/30 [numba]\n",
      "   ------------------ --------------------- 14/30 [numba]\n",
      "   ------------------ --------------------- 14/30 [numba]\n",
      "   ------------------ --------------------- 14/30 [numba]\n",
      "   ------------------ --------------------- 14/30 [numba]\n",
      "   ------------------ --------------------- 14/30 [numba]\n",
      "   ------------------ --------------------- 14/30 [numba]\n",
      "  Attempting uninstall: scikit-learn\n",
      "   ------------------ --------------------- 14/30 [numba]\n",
      "    Found existing installation: scikit-learn 1.7.2\n",
      "   ------------------ --------------------- 14/30 [numba]\n",
      "   -------------------- ------------------- 15/30 [scikit-learn]\n",
      "   -------------------- ------------------- 15/30 [scikit-learn]\n",
      "   -------------------- ------------------- 15/30 [scikit-learn]\n",
      "    Uninstalling scikit-learn-1.7.2:\n",
      "   -------------------- ------------------- 15/30 [scikit-learn]\n",
      "      Successfully uninstalled scikit-learn-1.7.2\n",
      "   -------------------- ------------------- 15/30 [scikit-learn]\n",
      "   -------------------- ------------------- 15/30 [scikit-learn]\n",
      "   -------------------- ------------------- 15/30 [scikit-learn]\n",
      "   -------------------- ------------------- 15/30 [scikit-learn]\n",
      "   -------------------- ------------------- 15/30 [scikit-learn]\n",
      "   -------------------- ------------------- 15/30 [scikit-learn]\n",
      "   -------------------- ------------------- 15/30 [scikit-learn]\n",
      "   -------------------- ------------------- 15/30 [scikit-learn]\n",
      "   -------------------- ------------------- 15/30 [scikit-learn]\n",
      "   -------------------- ------------------- 15/30 [scikit-learn]\n",
      "   -------------------- ------------------- 15/30 [scikit-learn]\n",
      "   -------------------- ------------------- 15/30 [scikit-learn]\n",
      "   -------------------- ------------------- 15/30 [scikit-learn]\n",
      "   -------------------- ------------------- 15/30 [scikit-learn]\n",
      "   -------------------- ------------------- 15/30 [scikit-learn]\n",
      "   -------------------- ------------------- 15/30 [scikit-learn]\n",
      "   -------------------- ------------------- 15/30 [scikit-learn]\n",
      "   -------------------- ------------------- 15/30 [scikit-learn]\n",
      "   -------------------- ------------------- 15/30 [scikit-learn]\n",
      "   -------------------- ------------------- 15/30 [scikit-learn]\n",
      "   -------------------- ------------------- 15/30 [scikit-learn]\n",
      "   -------------------- ------------------- 15/30 [scikit-learn]\n",
      "   -------------------- ------------------- 15/30 [scikit-learn]\n",
      "   -------------------- ------------------- 15/30 [scikit-learn]\n",
      "   -------------------- ------------------- 15/30 [scikit-learn]\n",
      "   -------------------- ------------------- 15/30 [scikit-learn]\n",
      "   -------------------- ------------------- 15/30 [scikit-learn]\n",
      "   -------------------- ------------------- 15/30 [scikit-learn]\n",
      "   -------------------- ------------------- 15/30 [scikit-learn]\n",
      "   -------------------- ------------------- 15/30 [scikit-learn]\n",
      "   -------------------- ------------------- 15/30 [scikit-learn]\n",
      "   -------------------- ------------------- 15/30 [scikit-learn]\n",
      "   -------------------- ------------------- 15/30 [scikit-learn]\n",
      "   -------------------- ------------------- 15/30 [scikit-learn]\n",
      "   -------------------- ------------------- 15/30 [scikit-learn]\n",
      "   -------------------- ------------------- 15/30 [scikit-learn]\n",
      "   -------------------- ------------------- 15/30 [scikit-learn]\n",
      "   -------------------- ------------------- 15/30 [scikit-learn]\n",
      "   -------------------- ------------------- 15/30 [scikit-learn]\n",
      "   -------------------- ------------------- 15/30 [scikit-learn]\n",
      "   -------------------- ------------------- 15/30 [scikit-learn]\n",
      "   -------------------- ------------------- 15/30 [scikit-learn]\n",
      "   -------------------- ------------------- 15/30 [scikit-learn]\n",
      "   -------------------- ------------------- 15/30 [scikit-learn]\n",
      "   -------------------- ------------------- 15/30 [scikit-learn]\n",
      "   -------------------- ------------------- 15/30 [scikit-learn]\n",
      "   -------------------- ------------------- 15/30 [scikit-learn]\n",
      "   -------------------- ------------------- 15/30 [scikit-learn]\n",
      "   -------------------- ------------------- 15/30 [scikit-learn]\n",
      "   -------------------- ------------------- 15/30 [scikit-learn]\n",
      "   -------------------- ------------------- 15/30 [scikit-learn]\n",
      "   -------------------- ------------------- 15/30 [scikit-learn]\n",
      "   -------------------- ------------------- 15/30 [scikit-learn]\n",
      "   -------------------- ------------------- 15/30 [scikit-learn]\n",
      "   -------------------- ------------------- 15/30 [scikit-learn]\n",
      "   -------------------- ------------------- 15/30 [scikit-learn]\n",
      "   --------------------- ------------------ 16/30 [lightgbm]\n",
      "   ------------------------ --------------- 18/30 [ipywidgets]\n",
      "   ------------------------ --------------- 18/30 [ipywidgets]\n",
      "   ------------------------ --------------- 18/30 [ipywidgets]\n",
      "   ------------------------ --------------- 18/30 [ipywidgets]\n",
      "   ------------------------ --------------- 18/30 [ipywidgets]\n",
      "   ------------------------ --------------- 18/30 [ipywidgets]\n",
      "   ------------------------- -------------- 19/30 [yellowbrick]\n",
      "   ------------------------- -------------- 19/30 [yellowbrick]\n",
      "   ------------------------- -------------- 19/30 [yellowbrick]\n",
      "   ------------------------- -------------- 19/30 [yellowbrick]\n",
      "   ------------------------- -------------- 19/30 [yellowbrick]\n",
      "   ------------------------- -------------- 19/30 [yellowbrick]\n",
      "   ------------------------- -------------- 19/30 [yellowbrick]\n",
      "   ------------------------- -------------- 19/30 [yellowbrick]\n",
      "   -------------------------- ------------- 20/30 [sktime]\n",
      "   -------------------------- ------------- 20/30 [sktime]\n",
      "   -------------------------- ------------- 20/30 [sktime]\n",
      "   -------------------------- ------------- 20/30 [sktime]\n",
      "   -------------------------- ------------- 20/30 [sktime]\n",
      "   -------------------------- ------------- 20/30 [sktime]\n",
      "   -------------------------- ------------- 20/30 [sktime]\n",
      "   -------------------------- ------------- 20/30 [sktime]\n",
      "   -------------------------- ------------- 20/30 [sktime]\n",
      "   -------------------------- ------------- 20/30 [sktime]\n",
      "   -------------------------- ------------- 20/30 [sktime]\n",
      "   -------------------------- ------------- 20/30 [sktime]\n",
      "   -------------------------- ------------- 20/30 [sktime]\n",
      "   -------------------------- ------------- 20/30 [sktime]\n",
      "   -------------------------- ------------- 20/30 [sktime]\n",
      "   -------------------------- ------------- 20/30 [sktime]\n",
      "   -------------------------- ------------- 20/30 [sktime]\n",
      "   -------------------------- ------------- 20/30 [sktime]\n",
      "   -------------------------- ------------- 20/30 [sktime]\n",
      "   -------------------------- ------------- 20/30 [sktime]\n",
      "   -------------------------- ------------- 20/30 [sktime]\n",
      "   -------------------------- ------------- 20/30 [sktime]\n",
      "   -------------------------- ------------- 20/30 [sktime]\n",
      "   -------------------------- ------------- 20/30 [sktime]\n",
      "   -------------------------- ------------- 20/30 [sktime]\n",
      "   -------------------------- ------------- 20/30 [sktime]\n",
      "   -------------------------- ------------- 20/30 [sktime]\n",
      "   -------------------------- ------------- 20/30 [sktime]\n",
      "   -------------------------- ------------- 20/30 [sktime]\n",
      "   -------------------------- ------------- 20/30 [sktime]\n",
      "   -------------------------- ------------- 20/30 [sktime]\n",
      "   -------------------------- ------------- 20/30 [sktime]\n",
      "   -------------------------- ------------- 20/30 [sktime]\n",
      "   -------------------------- ------------- 20/30 [sktime]\n",
      "   -------------------------- ------------- 20/30 [sktime]\n",
      "   -------------------------- ------------- 20/30 [sktime]\n",
      "   -------------------------- ------------- 20/30 [sktime]\n",
      "   -------------------------- ------------- 20/30 [sktime]\n",
      "   -------------------------- ------------- 20/30 [sktime]\n",
      "   -------------------------- ------------- 20/30 [sktime]\n",
      "   -------------------------- ------------- 20/30 [sktime]\n",
      "   -------------------------- ------------- 20/30 [sktime]\n",
      "   -------------------------- ------------- 20/30 [sktime]\n",
      "   -------------------------- ------------- 20/30 [sktime]\n",
      "   -------------------------- ------------- 20/30 [sktime]\n",
      "   -------------------------- ------------- 20/30 [sktime]\n",
      "   -------------------------- ------------- 20/30 [sktime]\n",
      "   -------------------------- ------------- 20/30 [sktime]\n",
      "   -------------------------- ------------- 20/30 [sktime]\n",
      "   -------------------------- ------------- 20/30 [sktime]\n",
      "   -------------------------- ------------- 20/30 [sktime]\n",
      "   -------------------------- ------------- 20/30 [sktime]\n",
      "   -------------------------- ------------- 20/30 [sktime]\n",
      "   -------------------------- ------------- 20/30 [sktime]\n",
      "   -------------------------- ------------- 20/30 [sktime]\n",
      "   -------------------------- ------------- 20/30 [sktime]\n",
      "   -------------------------- ------------- 20/30 [sktime]\n",
      "   -------------------------- ------------- 20/30 [sktime]\n",
      "   -------------------------- ------------- 20/30 [sktime]\n",
      "   -------------------------- ------------- 20/30 [sktime]\n",
      "   -------------------------- ------------- 20/30 [sktime]\n",
      "   -------------------------- ------------- 20/30 [sktime]\n",
      "   -------------------------- ------------- 20/30 [sktime]\n",
      "   -------------------------- ------------- 20/30 [sktime]\n",
      "   -------------------------- ------------- 20/30 [sktime]\n",
      "   -------------------------- ------------- 20/30 [sktime]\n",
      "   -------------------------- ------------- 20/30 [sktime]\n",
      "   -------------------------- ------------- 20/30 [sktime]\n",
      "   -------------------------- ------------- 20/30 [sktime]\n",
      "   -------------------------- ------------- 20/30 [sktime]\n",
      "   -------------------------- ------------- 20/30 [sktime]\n",
      "   -------------------------- ------------- 20/30 [sktime]\n",
      "   -------------------------- ------------- 20/30 [sktime]\n",
      "   -------------------------- ------------- 20/30 [sktime]\n",
      "   -------------------------- ------------- 20/30 [sktime]\n",
      "   -------------------------- ------------- 20/30 [sktime]\n",
      "   -------------------------- ------------- 20/30 [sktime]\n",
      "   -------------------------- ------------- 20/30 [sktime]\n",
      "   -------------------------- ------------- 20/30 [sktime]\n",
      "   -------------------------- ------------- 20/30 [sktime]\n",
      "   -------------------------- ------------- 20/30 [sktime]\n",
      "   -------------------------- ------------- 20/30 [sktime]\n",
      "   -------------------------- ------------- 20/30 [sktime]\n",
      "   -------------------------- ------------- 20/30 [sktime]\n",
      "   -------------------------- ------------- 20/30 [sktime]\n",
      "   -------------------------- ------------- 20/30 [sktime]\n",
      "   ----------------------------- ---------- 22/30 [pyod]\n",
      "   ----------------------------- ---------- 22/30 [pyod]\n",
      "   ----------------------------- ---------- 22/30 [pyod]\n",
      "   ----------------------------- ---------- 22/30 [pyod]\n",
      "   ----------------------------- ---------- 22/30 [pyod]\n",
      "   ----------------------------- ---------- 22/30 [pyod]\n",
      "   ------------------------------ --------- 23/30 [pmdarima]\n",
      "   ------------------------------ --------- 23/30 [pmdarima]\n",
      "   ------------------------------ --------- 23/30 [pmdarima]\n",
      "   ------------------------------ --------- 23/30 [pmdarima]\n",
      "   ------------------------------ --------- 23/30 [pmdarima]\n",
      "   ------------------------------ --------- 23/30 [pmdarima]\n",
      "   ------------------------------ --------- 23/30 [pmdarima]\n",
      "   ------------------------------ --------- 23/30 [pmdarima]\n",
      "   ------------------------------ --------- 23/30 [pmdarima]\n",
      "   -------------------------------- ------- 24/30 [plotly-resampler]\n",
      "   --------------------------------- ------ 25/30 [jsonschema]\n",
      "   --------------------------------- ------ 25/30 [jsonschema]\n",
      "   --------------------------------- ------ 25/30 [jsonschema]\n",
      "  Attempting uninstall: category-encoders\n",
      "   --------------------------------- ------ 25/30 [jsonschema]\n",
      "    Found existing installation: category_encoders 2.8.1\n",
      "   --------------------------------- ------ 25/30 [jsonschema]\n",
      "   ---------------------------------- ----- 26/30 [category-encoders]\n",
      "    Uninstalling category_encoders-2.8.1:\n",
      "   ---------------------------------- ----- 26/30 [category-encoders]\n",
      "      Successfully uninstalled category_encoders-2.8.1\n",
      "   ---------------------------------- ----- 26/30 [category-encoders]\n",
      "   ---------------------------------- ----- 26/30 [category-encoders]\n",
      "   ---------------------------------- ----- 26/30 [category-encoders]\n",
      "   ---------------------------------- ----- 26/30 [category-encoders]\n",
      "   ------------------------------------ --- 27/30 [tbats]\n",
      "   ------------------------------------ --- 27/30 [tbats]\n",
      "   ------------------------------------ --- 27/30 [tbats]\n",
      "   ------------------------------------ --- 27/30 [tbats]\n",
      "   ------------------------------------- -- 28/30 [nbformat]\n",
      "   ------------------------------------- -- 28/30 [nbformat]\n",
      "   ------------------------------------- -- 28/30 [nbformat]\n",
      "   -------------------------------------- - 29/30 [pycaret]\n",
      "   -------------------------------------- - 29/30 [pycaret]\n",
      "   -------------------------------------- - 29/30 [pycaret]\n",
      "   -------------------------------------- - 29/30 [pycaret]\n",
      "   -------------------------------------- - 29/30 [pycaret]\n",
      "   -------------------------------------- - 29/30 [pycaret]\n",
      "   -------------------------------------- - 29/30 [pycaret]\n",
      "   -------------------------------------- - 29/30 [pycaret]\n",
      "   -------------------------------------- - 29/30 [pycaret]\n",
      "   -------------------------------------- - 29/30 [pycaret]\n",
      "   -------------------------------------- - 29/30 [pycaret]\n",
      "   ---------------------------------------- 30/30 [pycaret]\n",
      "\n",
      "Successfully installed Cython-3.1.4 category-encoders-2.7.0 deprecation-2.1.0 fastjsonschema-2.21.2 ipywidgets-8.1.7 joblib-1.3.2 jsonschema-4.25.1 jsonschema-specifications-2025.9.1 jupyterlab_widgets-3.0.15 lightgbm-4.6.0 llvmlite-0.45.1 nbformat-5.10.4 numba-0.62.1 numpy-1.26.4 plotly-resampler-0.11.0 pmdarima-2.0.4 pycaret-3.3.2 pyod-2.0.5 referencing-0.36.2 rpds-py-0.27.1 schemdraw-0.15 scikit-base-0.7.8 scikit-learn-1.4.2 scikit-plot-0.3.7 scipy-1.11.4 sktime-0.26.0 tbats-1.1.3 tsdownsample-0.1.4.1 widgetsnbextension-4.0.14 yellowbrick-1.5\n"
     ]
    },
    {
     "name": "stderr",
     "output_type": "stream",
     "text": [
      "  WARNING: The script f2py.exe is installed in 'C:\\Users\\arrkr\\AppData\\Roaming\\Python\\Python310\\Scripts' which is not on PATH.\n",
      "  Consider adding this directory to PATH or, if you prefer to suppress this warning, use --no-warn-script-location.\n",
      "  WARNING: The scripts cygdb.exe, cython.exe and cythonize.exe are installed in 'C:\\Users\\arrkr\\AppData\\Roaming\\Python\\Python310\\Scripts' which is not on PATH.\n",
      "  Consider adding this directory to PATH or, if you prefer to suppress this warning, use --no-warn-script-location.\n",
      "  WARNING: The script jsonschema.exe is installed in 'C:\\Users\\arrkr\\AppData\\Roaming\\Python\\Python310\\Scripts' which is not on PATH.\n",
      "  Consider adding this directory to PATH or, if you prefer to suppress this warning, use --no-warn-script-location.\n",
      "  WARNING: The script jupyter-trust.exe is installed in 'C:\\Users\\arrkr\\AppData\\Roaming\\Python\\Python310\\Scripts' which is not on PATH.\n",
      "  Consider adding this directory to PATH or, if you prefer to suppress this warning, use --no-warn-script-location.\n",
      "ERROR: pip's dependency resolver does not currently take into account all the packages that are installed. This behaviour is the source of the following dependency conflicts.\n",
      "autoviz 0.1.905 requires matplotlib>3.7.4, but you have matplotlib 3.6.3 which is incompatible.\n",
      "autoviz 0.1.905 requires pandas>=2.0, but you have pandas 1.5.3 which is incompatible.\n",
      "autoviz 0.1.905 requires seaborn>0.12.2, but you have seaborn 0.12.2 which is incompatible.\n",
      "autoviz 0.1.905 requires xgboost<1.7,>=0.82, but you have xgboost 3.0.5 which is incompatible.\n",
      "datasets 3.6.0 requires requests>=2.32.2, but you have requests 2.28.2 which is incompatible.\n",
      "datasets 3.6.0 requires tqdm>=4.66.3, but you have tqdm 4.64.1 which is incompatible.\n",
      "ortools 9.14.6206 requires pandas>=2.0.0, but you have pandas 1.5.3 which is incompatible.\n",
      "xarray 2025.6.1 requires pandas>=2.1, but you have pandas 1.5.3 which is incompatible.\n",
      "ydata-profiling 4.1.2 requires numpy<1.24,>=1.16.0, but you have numpy 1.26.4 which is incompatible.\n",
      "ydata-profiling 4.1.2 requires scipy<1.10,>=1.4.1, but you have scipy 1.11.4 which is incompatible.\n"
     ]
    }
   ],
   "source": [
    "!pip install pycaret"
   ]
  },
  {
   "cell_type": "code",
   "execution_count": 57,
   "id": "e49bdfe0-da41-4600-9e19-8c7df1a5e4da",
   "metadata": {},
   "outputs": [
    {
     "name": "stdout",
     "output_type": "stream",
     "text": [
      "PyCaret version: pPython.__version__\n"
     ]
    }
   ],
   "source": [
    "print(f\"PyCaret version: pPython.__version__\")"
   ]
  },
  {
   "cell_type": "code",
   "execution_count": 58,
   "id": "bd045771-e7c8-4d9e-bb32-ca646f4a9d3d",
   "metadata": {},
   "outputs": [
    {
     "name": "stdout",
     "output_type": "stream",
     "text": [
      "#!/bin/bash\n",
      "#\n",
      "# Usage: curl https://pyenv.run | bash\n",
      "#\n",
      "# For more info, visit: https://github.com/pyenv/pyenv-installer\n",
      "#\n",
      "index_main() {\n",
      "    set -e\n",
      "    curl -s -S -L https://raw.githubusercontent.com/pyenv/pyenv-installer/master/bin/pyenv-installer | bash\n",
      "}\n",
      "\n",
      "index_main\n"
     ]
    },
    {
     "name": "stderr",
     "output_type": "stream",
     "text": [
      "  % Total    % Received % Xferd  Average Speed   Time    Time     Time  Current\n",
      "                                 Dload  Upload   Total   Spent    Left  Speed\n",
      "\n",
      "  0     0    0     0    0     0      0      0 --:--:-- --:--:-- --:--:--     0\n",
      "  0     0    0     0    0     0      0      0 --:--:-- --:--:-- --:--:--     0\n",
      "  0     0    0     0    0     0      0      0 --:--:--  0:00:01 --:--:--     0\n",
      "100   270  100   270    0     0    113      0  0:00:02  0:00:02 --:--:--   113\n"
     ]
    }
   ],
   "source": [
    "!curl https://pyenv.run "
   ]
  },
  {
   "cell_type": "code",
   "execution_count": 59,
   "id": "9e020d57-7fa4-41fc-acad-e6580a45790a",
   "metadata": {
    "scrolled": true
   },
   "outputs": [
    {
     "name": "stdout",
     "output_type": "stream",
     "text": [
      "Defaulting to user installation because normal site-packages is not writeable\n",
      "Requirement already satisfied: pycaret==3.3.2 in c:\\users\\arrkr\\appdata\\roaming\\python\\python310\\site-packages (3.3.2)\n",
      "Requirement already satisfied: pandas in c:\\users\\arrkr\\appdata\\roaming\\python\\python310\\site-packages (1.5.3)\n",
      "Collecting pandas\n",
      "  Downloading pandas-2.3.3-cp310-cp310-win_amd64.whl.metadata (19 kB)\n",
      "Requirement already satisfied: ipython>=5.5.0 in c:\\users\\arrkr\\appdata\\roaming\\python\\python310\\site-packages (from pycaret==3.3.2) (8.37.0)\n",
      "Requirement already satisfied: ipywidgets>=7.6.5 in c:\\users\\arrkr\\appdata\\roaming\\python\\python310\\site-packages (from pycaret==3.3.2) (8.1.7)\n",
      "Requirement already satisfied: tqdm>=4.62.0 in c:\\users\\arrkr\\appdata\\roaming\\python\\python310\\site-packages (from pycaret==3.3.2) (4.64.1)\n",
      "Requirement already satisfied: numpy<1.27,>=1.21 in c:\\users\\arrkr\\appdata\\roaming\\python\\python310\\site-packages (from pycaret==3.3.2) (1.26.4)\n",
      "  Downloading pandas-2.1.4-cp310-cp310-win_amd64.whl.metadata (18 kB)\n",
      "Requirement already satisfied: jinja2>=3 in c:\\users\\arrkr\\appdata\\roaming\\python\\python310\\site-packages (from pycaret==3.3.2) (3.1.6)\n",
      "Requirement already satisfied: scipy<=1.11.4,>=1.6.1 in c:\\users\\arrkr\\appdata\\roaming\\python\\python310\\site-packages (from pycaret==3.3.2) (1.11.4)\n",
      "Requirement already satisfied: joblib<1.4,>=1.2.0 in c:\\users\\arrkr\\appdata\\roaming\\python\\python310\\site-packages (from pycaret==3.3.2) (1.3.2)\n",
      "Requirement already satisfied: scikit-learn>1.4.0 in c:\\users\\arrkr\\appdata\\roaming\\python\\python310\\site-packages (from pycaret==3.3.2) (1.4.2)\n",
      "Requirement already satisfied: pyod>=1.1.3 in c:\\users\\arrkr\\appdata\\roaming\\python\\python310\\site-packages (from pycaret==3.3.2) (2.0.5)\n",
      "Requirement already satisfied: imbalanced-learn>=0.12.0 in c:\\users\\arrkr\\appdata\\roaming\\python\\python310\\site-packages (from pycaret==3.3.2) (0.14.0)\n",
      "Requirement already satisfied: category-encoders>=2.4.0 in c:\\users\\arrkr\\appdata\\roaming\\python\\python310\\site-packages (from pycaret==3.3.2) (2.7.0)\n",
      "Requirement already satisfied: lightgbm>=3.0.0 in c:\\users\\arrkr\\appdata\\roaming\\python\\python310\\site-packages (from pycaret==3.3.2) (4.6.0)\n",
      "Requirement already satisfied: numba>=0.55.0 in c:\\users\\arrkr\\appdata\\roaming\\python\\python310\\site-packages (from pycaret==3.3.2) (0.62.1)\n",
      "Requirement already satisfied: requests>=2.27.1 in c:\\users\\arrkr\\appdata\\roaming\\python\\python310\\site-packages (from pycaret==3.3.2) (2.28.2)\n",
      "Requirement already satisfied: psutil>=5.9.0 in c:\\users\\arrkr\\appdata\\roaming\\python\\python310\\site-packages (from pycaret==3.3.2) (7.0.0)\n",
      "Requirement already satisfied: markupsafe>=2.0.1 in c:\\users\\arrkr\\appdata\\roaming\\python\\python310\\site-packages (from pycaret==3.3.2) (3.0.2)\n",
      "Requirement already satisfied: importlib-metadata>=4.12.0 in c:\\users\\arrkr\\appdata\\roaming\\python\\python310\\site-packages (from pycaret==3.3.2) (8.7.0)\n",
      "Requirement already satisfied: nbformat>=4.2.0 in c:\\users\\arrkr\\appdata\\roaming\\python\\python310\\site-packages (from pycaret==3.3.2) (5.10.4)\n",
      "Requirement already satisfied: cloudpickle in c:\\users\\arrkr\\appdata\\roaming\\python\\python310\\site-packages (from pycaret==3.3.2) (3.1.1)\n",
      "Requirement already satisfied: deprecation>=2.1.0 in c:\\users\\arrkr\\appdata\\roaming\\python\\python310\\site-packages (from pycaret==3.3.2) (2.1.0)\n",
      "Requirement already satisfied: xxhash in c:\\users\\arrkr\\appdata\\roaming\\python\\python310\\site-packages (from pycaret==3.3.2) (3.5.0)\n",
      "Requirement already satisfied: matplotlib<3.8.0 in c:\\users\\arrkr\\appdata\\roaming\\python\\python310\\site-packages (from pycaret==3.3.2) (3.6.3)\n",
      "Requirement already satisfied: scikit-plot>=0.3.7 in c:\\users\\arrkr\\appdata\\roaming\\python\\python310\\site-packages (from pycaret==3.3.2) (0.3.7)\n",
      "Requirement already satisfied: yellowbrick>=1.4 in c:\\users\\arrkr\\appdata\\roaming\\python\\python310\\site-packages (from pycaret==3.3.2) (1.5)\n",
      "Requirement already satisfied: plotly>=5.14.0 in c:\\users\\arrkr\\appdata\\roaming\\python\\python310\\site-packages (from pycaret==3.3.2) (6.3.1)\n",
      "Requirement already satisfied: kaleido>=0.2.1 in c:\\users\\arrkr\\appdata\\roaming\\python\\python310\\site-packages (from pycaret==3.3.2) (1.1.0)\n",
      "Requirement already satisfied: schemdraw==0.15 in c:\\users\\arrkr\\appdata\\roaming\\python\\python310\\site-packages (from pycaret==3.3.2) (0.15)\n",
      "Requirement already satisfied: plotly-resampler>=0.8.3.1 in c:\\users\\arrkr\\appdata\\roaming\\python\\python310\\site-packages (from pycaret==3.3.2) (0.11.0)\n",
      "Requirement already satisfied: statsmodels>=0.12.1 in c:\\users\\arrkr\\appdata\\roaming\\python\\python310\\site-packages (from pycaret==3.3.2) (0.13.5)\n",
      "Requirement already satisfied: sktime==0.26.0 in c:\\users\\arrkr\\appdata\\roaming\\python\\python310\\site-packages (from pycaret==3.3.2) (0.26.0)\n",
      "Requirement already satisfied: tbats>=1.1.3 in c:\\users\\arrkr\\appdata\\roaming\\python\\python310\\site-packages (from pycaret==3.3.2) (1.1.3)\n",
      "Requirement already satisfied: pmdarima>=2.0.4 in c:\\users\\arrkr\\appdata\\roaming\\python\\python310\\site-packages (from pycaret==3.3.2) (2.0.4)\n",
      "Requirement already satisfied: packaging in c:\\users\\arrkr\\appdata\\roaming\\python\\python310\\site-packages (from sktime==0.26.0->pycaret==3.3.2) (25.0)\n",
      "Requirement already satisfied: scikit-base<0.8.0 in c:\\users\\arrkr\\appdata\\roaming\\python\\python310\\site-packages (from sktime==0.26.0->pycaret==3.3.2) (0.7.8)\n",
      "Requirement already satisfied: python-dateutil>=2.8.2 in c:\\users\\arrkr\\appdata\\roaming\\python\\python310\\site-packages (from pandas) (2.9.0.post0)\n",
      "Requirement already satisfied: pytz>=2020.1 in c:\\users\\arrkr\\appdata\\roaming\\python\\python310\\site-packages (from pandas) (2025.2)\n",
      "Requirement already satisfied: tzdata>=2022.1 in c:\\users\\arrkr\\appdata\\roaming\\python\\python310\\site-packages (from pandas) (2025.2)\n",
      "Requirement already satisfied: contourpy>=1.0.1 in c:\\users\\arrkr\\appdata\\roaming\\python\\python310\\site-packages (from matplotlib<3.8.0->pycaret==3.3.2) (1.3.2)\n",
      "Requirement already satisfied: cycler>=0.10 in c:\\users\\arrkr\\appdata\\roaming\\python\\python310\\site-packages (from matplotlib<3.8.0->pycaret==3.3.2) (0.12.1)\n",
      "Requirement already satisfied: fonttools>=4.22.0 in c:\\users\\arrkr\\appdata\\roaming\\python\\python310\\site-packages (from matplotlib<3.8.0->pycaret==3.3.2) (4.59.0)\n",
      "Requirement already satisfied: kiwisolver>=1.0.1 in c:\\users\\arrkr\\appdata\\roaming\\python\\python310\\site-packages (from matplotlib<3.8.0->pycaret==3.3.2) (1.4.8)\n",
      "Requirement already satisfied: pillow>=6.2.0 in c:\\users\\arrkr\\appdata\\roaming\\python\\python310\\site-packages (from matplotlib<3.8.0->pycaret==3.3.2) (11.3.0)\n",
      "Requirement already satisfied: pyparsing>=2.2.1 in c:\\users\\arrkr\\appdata\\roaming\\python\\python310\\site-packages (from matplotlib<3.8.0->pycaret==3.3.2) (3.2.3)\n",
      "Requirement already satisfied: threadpoolctl>=2.0.0 in c:\\users\\arrkr\\appdata\\roaming\\python\\python310\\site-packages (from scikit-learn>1.4.0->pycaret==3.3.2) (3.6.0)\n",
      "Requirement already satisfied: patsy>=0.5.1 in c:\\users\\arrkr\\appdata\\roaming\\python\\python310\\site-packages (from category-encoders>=2.4.0->pycaret==3.3.2) (1.0.1)\n",
      "Requirement already satisfied: zipp>=3.20 in c:\\users\\arrkr\\appdata\\roaming\\python\\python310\\site-packages (from importlib-metadata>=4.12.0->pycaret==3.3.2) (3.23.0)\n",
      "Requirement already satisfied: colorama in c:\\users\\arrkr\\appdata\\roaming\\python\\python310\\site-packages (from ipython>=5.5.0->pycaret==3.3.2) (0.4.6)\n",
      "Requirement already satisfied: decorator in c:\\users\\arrkr\\appdata\\roaming\\python\\python310\\site-packages (from ipython>=5.5.0->pycaret==3.3.2) (5.2.1)\n",
      "Requirement already satisfied: exceptiongroup in c:\\users\\arrkr\\appdata\\roaming\\python\\python310\\site-packages (from ipython>=5.5.0->pycaret==3.3.2) (1.3.0)\n",
      "Requirement already satisfied: jedi>=0.16 in c:\\users\\arrkr\\appdata\\roaming\\python\\python310\\site-packages (from ipython>=5.5.0->pycaret==3.3.2) (0.19.2)\n",
      "Requirement already satisfied: matplotlib-inline in c:\\users\\arrkr\\appdata\\roaming\\python\\python310\\site-packages (from ipython>=5.5.0->pycaret==3.3.2) (0.1.7)\n",
      "Requirement already satisfied: prompt_toolkit<3.1.0,>=3.0.41 in c:\\users\\arrkr\\appdata\\roaming\\python\\python310\\site-packages (from ipython>=5.5.0->pycaret==3.3.2) (3.0.52)\n",
      "Requirement already satisfied: pygments>=2.4.0 in c:\\users\\arrkr\\appdata\\roaming\\python\\python310\\site-packages (from ipython>=5.5.0->pycaret==3.3.2) (2.19.2)\n",
      "Requirement already satisfied: stack_data in c:\\users\\arrkr\\appdata\\roaming\\python\\python310\\site-packages (from ipython>=5.5.0->pycaret==3.3.2) (0.6.3)\n",
      "Requirement already satisfied: traitlets>=5.13.0 in c:\\users\\arrkr\\appdata\\roaming\\python\\python310\\site-packages (from ipython>=5.5.0->pycaret==3.3.2) (5.14.3)\n",
      "Requirement already satisfied: typing_extensions>=4.6 in c:\\users\\arrkr\\appdata\\roaming\\python\\python310\\site-packages (from ipython>=5.5.0->pycaret==3.3.2) (4.14.0)\n",
      "Requirement already satisfied: wcwidth in c:\\users\\arrkr\\appdata\\roaming\\python\\python310\\site-packages (from prompt_toolkit<3.1.0,>=3.0.41->ipython>=5.5.0->pycaret==3.3.2) (0.2.13)\n",
      "Requirement already satisfied: comm>=0.1.3 in c:\\users\\arrkr\\appdata\\roaming\\python\\python310\\site-packages (from ipywidgets>=7.6.5->pycaret==3.3.2) (0.2.3)\n",
      "Requirement already satisfied: widgetsnbextension~=4.0.14 in c:\\users\\arrkr\\appdata\\roaming\\python\\python310\\site-packages (from ipywidgets>=7.6.5->pycaret==3.3.2) (4.0.14)\n",
      "Requirement already satisfied: jupyterlab_widgets~=3.0.15 in c:\\users\\arrkr\\appdata\\roaming\\python\\python310\\site-packages (from ipywidgets>=7.6.5->pycaret==3.3.2) (3.0.15)\n",
      "Requirement already satisfied: parso<0.9.0,>=0.8.4 in c:\\users\\arrkr\\appdata\\roaming\\python\\python310\\site-packages (from jedi>=0.16->ipython>=5.5.0->pycaret==3.3.2) (0.8.5)\n",
      "Requirement already satisfied: choreographer>=1.0.10 in c:\\users\\arrkr\\appdata\\roaming\\python\\python310\\site-packages (from kaleido>=0.2.1->pycaret==3.3.2) (1.1.1)\n",
      "Requirement already satisfied: logistro>=1.0.8 in c:\\users\\arrkr\\appdata\\roaming\\python\\python310\\site-packages (from kaleido>=0.2.1->pycaret==3.3.2) (1.1.0)\n",
      "Requirement already satisfied: orjson>=3.10.15 in c:\\users\\arrkr\\appdata\\roaming\\python\\python310\\site-packages (from kaleido>=0.2.1->pycaret==3.3.2) (3.11.3)\n",
      "Requirement already satisfied: pytest-timeout>=2.4.0 in c:\\users\\arrkr\\appdata\\roaming\\python\\python310\\site-packages (from kaleido>=0.2.1->pycaret==3.3.2) (2.4.0)\n",
      "Requirement already satisfied: simplejson>=3.19.3 in c:\\users\\arrkr\\appdata\\roaming\\python\\python310\\site-packages (from choreographer>=1.0.10->kaleido>=0.2.1->pycaret==3.3.2) (3.20.2)\n",
      "Requirement already satisfied: fastjsonschema>=2.15 in c:\\users\\arrkr\\appdata\\roaming\\python\\python310\\site-packages (from nbformat>=4.2.0->pycaret==3.3.2) (2.21.2)\n",
      "Requirement already satisfied: jsonschema>=2.6 in c:\\users\\arrkr\\appdata\\roaming\\python\\python310\\site-packages (from nbformat>=4.2.0->pycaret==3.3.2) (4.25.1)\n",
      "Requirement already satisfied: jupyter-core!=5.0.*,>=4.12 in c:\\users\\arrkr\\appdata\\roaming\\python\\python310\\site-packages (from nbformat>=4.2.0->pycaret==3.3.2) (5.8.1)\n",
      "Requirement already satisfied: attrs>=22.2.0 in c:\\users\\arrkr\\appdata\\roaming\\python\\python310\\site-packages (from jsonschema>=2.6->nbformat>=4.2.0->pycaret==3.3.2) (25.3.0)\n",
      "Requirement already satisfied: jsonschema-specifications>=2023.03.6 in c:\\users\\arrkr\\appdata\\roaming\\python\\python310\\site-packages (from jsonschema>=2.6->nbformat>=4.2.0->pycaret==3.3.2) (2025.9.1)\n",
      "Requirement already satisfied: referencing>=0.28.4 in c:\\users\\arrkr\\appdata\\roaming\\python\\python310\\site-packages (from jsonschema>=2.6->nbformat>=4.2.0->pycaret==3.3.2) (0.36.2)\n",
      "Requirement already satisfied: rpds-py>=0.7.1 in c:\\users\\arrkr\\appdata\\roaming\\python\\python310\\site-packages (from jsonschema>=2.6->nbformat>=4.2.0->pycaret==3.3.2) (0.27.1)\n",
      "Requirement already satisfied: platformdirs>=2.5 in c:\\users\\arrkr\\appdata\\roaming\\python\\python310\\site-packages (from jupyter-core!=5.0.*,>=4.12->nbformat>=4.2.0->pycaret==3.3.2) (4.4.0)\n",
      "Requirement already satisfied: pywin32>=300 in c:\\users\\arrkr\\appdata\\roaming\\python\\python310\\site-packages (from jupyter-core!=5.0.*,>=4.12->nbformat>=4.2.0->pycaret==3.3.2) (311)\n",
      "Requirement already satisfied: llvmlite<0.46,>=0.45.0dev0 in c:\\users\\arrkr\\appdata\\roaming\\python\\python310\\site-packages (from numba>=0.55.0->pycaret==3.3.2) (0.45.1)\n",
      "Requirement already satisfied: narwhals>=1.15.1 in c:\\users\\arrkr\\appdata\\roaming\\python\\python310\\site-packages (from plotly>=5.14.0->pycaret==3.3.2) (2.6.0)\n",
      "Requirement already satisfied: dash>=2.11.0 in c:\\users\\arrkr\\appdata\\roaming\\python\\python310\\site-packages (from plotly-resampler>=0.8.3.1->pycaret==3.3.2) (2.18.2)\n",
      "Requirement already satisfied: tsdownsample>=0.1.3 in c:\\users\\arrkr\\appdata\\roaming\\python\\python310\\site-packages (from plotly-resampler>=0.8.3.1->pycaret==3.3.2) (0.1.4.1)\n",
      "Requirement already satisfied: Flask<3.1,>=1.0.4 in c:\\users\\arrkr\\appdata\\roaming\\python\\python310\\site-packages (from dash>=2.11.0->plotly-resampler>=0.8.3.1->pycaret==3.3.2) (3.0.3)\n",
      "Requirement already satisfied: Werkzeug<3.1 in c:\\users\\arrkr\\appdata\\roaming\\python\\python310\\site-packages (from dash>=2.11.0->plotly-resampler>=0.8.3.1->pycaret==3.3.2) (3.0.6)\n",
      "Requirement already satisfied: dash-html-components==2.0.0 in c:\\users\\arrkr\\appdata\\roaming\\python\\python310\\site-packages (from dash>=2.11.0->plotly-resampler>=0.8.3.1->pycaret==3.3.2) (2.0.0)\n",
      "Requirement already satisfied: dash-core-components==2.0.0 in c:\\users\\arrkr\\appdata\\roaming\\python\\python310\\site-packages (from dash>=2.11.0->plotly-resampler>=0.8.3.1->pycaret==3.3.2) (2.0.0)\n",
      "Requirement already satisfied: dash-table==5.0.0 in c:\\users\\arrkr\\appdata\\roaming\\python\\python310\\site-packages (from dash>=2.11.0->plotly-resampler>=0.8.3.1->pycaret==3.3.2) (5.0.0)\n",
      "Requirement already satisfied: retrying in c:\\users\\arrkr\\appdata\\roaming\\python\\python310\\site-packages (from dash>=2.11.0->plotly-resampler>=0.8.3.1->pycaret==3.3.2) (1.4.2)\n",
      "Requirement already satisfied: nest-asyncio in c:\\users\\arrkr\\appdata\\roaming\\python\\python310\\site-packages (from dash>=2.11.0->plotly-resampler>=0.8.3.1->pycaret==3.3.2) (1.6.0)\n",
      "Requirement already satisfied: setuptools in c:\\program files\\python310\\lib\\site-packages (from dash>=2.11.0->plotly-resampler>=0.8.3.1->pycaret==3.3.2) (57.4.0)\n",
      "Requirement already satisfied: itsdangerous>=2.1.2 in c:\\users\\arrkr\\appdata\\roaming\\python\\python310\\site-packages (from Flask<3.1,>=1.0.4->dash>=2.11.0->plotly-resampler>=0.8.3.1->pycaret==3.3.2) (2.2.0)\n",
      "Requirement already satisfied: click>=8.1.3 in c:\\users\\arrkr\\appdata\\roaming\\python\\python310\\site-packages (from Flask<3.1,>=1.0.4->dash>=2.11.0->plotly-resampler>=0.8.3.1->pycaret==3.3.2) (8.2.1)\n",
      "Requirement already satisfied: blinker>=1.6.2 in c:\\users\\arrkr\\appdata\\roaming\\python\\python310\\site-packages (from Flask<3.1,>=1.0.4->dash>=2.11.0->plotly-resampler>=0.8.3.1->pycaret==3.3.2) (1.9.0)\n",
      "Requirement already satisfied: Cython!=0.29.18,!=0.29.31,>=0.29 in c:\\users\\arrkr\\appdata\\roaming\\python\\python310\\site-packages (from pmdarima>=2.0.4->pycaret==3.3.2) (3.1.4)\n",
      "Requirement already satisfied: urllib3 in c:\\users\\arrkr\\appdata\\roaming\\python\\python310\\site-packages (from pmdarima>=2.0.4->pycaret==3.3.2) (1.26.20)\n",
      "Requirement already satisfied: pytest>=7.0.0 in c:\\users\\arrkr\\appdata\\roaming\\python\\python310\\site-packages (from pytest-timeout>=2.4.0->kaleido>=0.2.1->pycaret==3.3.2) (8.4.2)\n",
      "Requirement already satisfied: iniconfig>=1 in c:\\users\\arrkr\\appdata\\roaming\\python\\python310\\site-packages (from pytest>=7.0.0->pytest-timeout>=2.4.0->kaleido>=0.2.1->pycaret==3.3.2) (2.1.0)\n",
      "Requirement already satisfied: pluggy<2,>=1.5 in c:\\users\\arrkr\\appdata\\roaming\\python\\python310\\site-packages (from pytest>=7.0.0->pytest-timeout>=2.4.0->kaleido>=0.2.1->pycaret==3.3.2) (1.6.0)\n",
      "Requirement already satisfied: tomli>=1 in c:\\users\\arrkr\\appdata\\roaming\\python\\python310\\site-packages (from pytest>=7.0.0->pytest-timeout>=2.4.0->kaleido>=0.2.1->pycaret==3.3.2) (2.2.1)\n",
      "Requirement already satisfied: six>=1.5 in c:\\users\\arrkr\\appdata\\roaming\\python\\python310\\site-packages (from python-dateutil>=2.8.2->pandas) (1.17.0)\n",
      "Requirement already satisfied: charset-normalizer<4,>=2 in c:\\users\\arrkr\\appdata\\roaming\\python\\python310\\site-packages (from requests>=2.27.1->pycaret==3.3.2) (3.4.2)\n",
      "Requirement already satisfied: idna<4,>=2.5 in c:\\users\\arrkr\\appdata\\roaming\\python\\python310\\site-packages (from requests>=2.27.1->pycaret==3.3.2) (3.10)\n",
      "Requirement already satisfied: certifi>=2017.4.17 in c:\\users\\arrkr\\appdata\\roaming\\python\\python310\\site-packages (from requests>=2.27.1->pycaret==3.3.2) (2025.6.15)\n",
      "Requirement already satisfied: executing>=1.2.0 in c:\\users\\arrkr\\appdata\\roaming\\python\\python310\\site-packages (from stack_data->ipython>=5.5.0->pycaret==3.3.2) (2.2.1)\n",
      "Requirement already satisfied: asttokens>=2.1.0 in c:\\users\\arrkr\\appdata\\roaming\\python\\python310\\site-packages (from stack_data->ipython>=5.5.0->pycaret==3.3.2) (3.0.0)\n",
      "Requirement already satisfied: pure-eval in c:\\users\\arrkr\\appdata\\roaming\\python\\python310\\site-packages (from stack_data->ipython>=5.5.0->pycaret==3.3.2) (0.2.3)\n",
      "Downloading pandas-2.1.4-cp310-cp310-win_amd64.whl (10.7 MB)\n",
      "   ---------------------------------------- 0.0/10.7 MB ? eta -:--:--\n",
      "   ---------------------------------------- 0.0/10.7 MB ? eta -:--:--\n",
      "   ---------------------------------------- 0.0/10.7 MB ? eta -:--:--\n",
      "   ---------------------------------------- 0.0/10.7 MB ? eta -:--:--\n",
      "    --------------------------------------- 0.3/10.7 MB ? eta -:--:--\n",
      "    --------------------------------------- 0.3/10.7 MB ? eta -:--:--\n",
      "    --------------------------------------- 0.3/10.7 MB ? eta -:--:--\n",
      "   - -------------------------------------- 0.5/10.7 MB 365.1 kB/s eta 0:00:28\n",
      "   - -------------------------------------- 0.5/10.7 MB 365.1 kB/s eta 0:00:28\n",
      "   - -------------------------------------- 0.5/10.7 MB 365.1 kB/s eta 0:00:28\n",
      "   - -------------------------------------- 0.5/10.7 MB 365.1 kB/s eta 0:00:28\n",
      "   - -------------------------------------- 0.5/10.7 MB 365.1 kB/s eta 0:00:28\n",
      "   -- ------------------------------------- 0.8/10.7 MB 305.2 kB/s eta 0:00:33\n",
      "   -- ------------------------------------- 0.8/10.7 MB 305.2 kB/s eta 0:00:33\n",
      "   -- ------------------------------------- 0.8/10.7 MB 305.2 kB/s eta 0:00:33\n",
      "   -- ------------------------------------- 0.8/10.7 MB 305.2 kB/s eta 0:00:33\n",
      "   --- ------------------------------------ 1.0/10.7 MB 305.1 kB/s eta 0:00:32\n",
      "   --- ------------------------------------ 1.0/10.7 MB 305.1 kB/s eta 0:00:32\n",
      "   --- ------------------------------------ 1.0/10.7 MB 305.1 kB/s eta 0:00:32\n",
      "   --- ------------------------------------ 1.0/10.7 MB 305.1 kB/s eta 0:00:32\n",
      "   --- ------------------------------------ 1.0/10.7 MB 305.1 kB/s eta 0:00:32\n",
      "   --- ------------------------------------ 1.0/10.7 MB 305.1 kB/s eta 0:00:32\n",
      "   ---- ----------------------------------- 1.3/10.7 MB 269.6 kB/s eta 0:00:35\n",
      "   ----- ---------------------------------- 1.6/10.7 MB 313.0 kB/s eta 0:00:30\n",
      "   ----- ---------------------------------- 1.6/10.7 MB 313.0 kB/s eta 0:00:30\n",
      "   ----- ---------------------------------- 1.6/10.7 MB 313.0 kB/s eta 0:00:30\n",
      "   ------ --------------------------------- 1.8/10.7 MB 339.0 kB/s eta 0:00:27\n",
      "   ------ --------------------------------- 1.8/10.7 MB 339.0 kB/s eta 0:00:27\n",
      "   ------- -------------------------------- 2.1/10.7 MB 355.9 kB/s eta 0:00:25\n",
      "   ------- -------------------------------- 2.1/10.7 MB 355.9 kB/s eta 0:00:25\n",
      "   -------- ------------------------------- 2.4/10.7 MB 375.0 kB/s eta 0:00:23\n",
      "   --------- ------------------------------ 2.6/10.7 MB 408.1 kB/s eta 0:00:20\n",
      "   --------- ------------------------------ 2.6/10.7 MB 408.1 kB/s eta 0:00:20\n",
      "   ---------- ----------------------------- 2.9/10.7 MB 420.5 kB/s eta 0:00:19\n",
      "   ---------- ----------------------------- 2.9/10.7 MB 420.5 kB/s eta 0:00:19\n",
      "   ------------ --------------------------- 3.4/10.7 MB 474.8 kB/s eta 0:00:16\n",
      "   ------------ --------------------------- 3.4/10.7 MB 474.8 kB/s eta 0:00:16\n",
      "   ------------ --------------------------- 3.4/10.7 MB 474.8 kB/s eta 0:00:16\n",
      "   ------------- -------------------------- 3.7/10.7 MB 468.0 kB/s eta 0:00:15\n",
      "   ------------- -------------------------- 3.7/10.7 MB 468.0 kB/s eta 0:00:15\n",
      "   ------------- -------------------------- 3.7/10.7 MB 468.0 kB/s eta 0:00:15\n",
      "   ------------- -------------------------- 3.7/10.7 MB 468.0 kB/s eta 0:00:15\n",
      "   -------------- ------------------------- 3.9/10.7 MB 450.9 kB/s eta 0:00:15\n",
      "   -------------- ------------------------- 3.9/10.7 MB 450.9 kB/s eta 0:00:15\n",
      "   --------------- ------------------------ 4.2/10.7 MB 458.4 kB/s eta 0:00:15\n",
      "   --------------- ------------------------ 4.2/10.7 MB 458.4 kB/s eta 0:00:15\n",
      "   ----------------- ---------------------- 4.7/10.7 MB 490.9 kB/s eta 0:00:13\n",
      "   ----------------- ---------------------- 4.7/10.7 MB 490.9 kB/s eta 0:00:13\n",
      "   ------------------- -------------------- 5.2/10.7 MB 531.3 kB/s eta 0:00:11\n",
      "   ---------------------- ----------------- 6.0/10.7 MB 594.4 kB/s eta 0:00:08\n",
      "   ---------------------- ----------------- 6.0/10.7 MB 594.4 kB/s eta 0:00:08\n",
      "   ----------------------- ---------------- 6.3/10.7 MB 602.9 kB/s eta 0:00:08\n",
      "   ------------------------ --------------- 6.6/10.7 MB 619.5 kB/s eta 0:00:07\n",
      "   ------------------------- -------------- 6.8/10.7 MB 626.1 kB/s eta 0:00:07\n",
      "   -------------------------- ------------- 7.1/10.7 MB 636.8 kB/s eta 0:00:06\n",
      "   --------------------------- ------------ 7.3/10.7 MB 653.7 kB/s eta 0:00:06\n",
      "   ---------------------------- ----------- 7.6/10.7 MB 659.8 kB/s eta 0:00:05\n",
      "   ---------------------------- ----------- 7.6/10.7 MB 659.8 kB/s eta 0:00:05\n",
      "   ---------------------------- ----------- 7.6/10.7 MB 659.8 kB/s eta 0:00:05\n",
      "   ---------------------------- ----------- 7.6/10.7 MB 659.8 kB/s eta 0:00:05\n",
      "   ---------------------------- ----------- 7.6/10.7 MB 659.8 kB/s eta 0:00:05\n",
      "   ---------------------------- ----------- 7.6/10.7 MB 659.8 kB/s eta 0:00:05\n",
      "   ---------------------------- ----------- 7.6/10.7 MB 659.8 kB/s eta 0:00:05\n",
      "   ---------------------------- ----------- 7.6/10.7 MB 659.8 kB/s eta 0:00:05\n",
      "   ------------------------------ --------- 8.1/10.7 MB 613.8 kB/s eta 0:00:05\n",
      "   ------------------------------- -------- 8.4/10.7 MB 624.4 kB/s eta 0:00:04\n",
      "   ---------------------------------- ----- 9.2/10.7 MB 677.5 kB/s eta 0:00:03\n",
      "   ---------------------------------- ----- 9.2/10.7 MB 677.5 kB/s eta 0:00:03\n",
      "   ----------------------------------- ---- 9.4/10.7 MB 671.9 kB/s eta 0:00:02\n",
      "   ------------------------------------ --- 9.7/10.7 MB 684.1 kB/s eta 0:00:02\n",
      "   ------------------------------------- -- 10.0/10.7 MB 692.1 kB/s eta 0:00:02\n",
      "   ------------------------------------- -- 10.0/10.7 MB 692.1 kB/s eta 0:00:02\n",
      "   -------------------------------------- - 10.2/10.7 MB 684.8 kB/s eta 0:00:01\n",
      "   -------------------------------------- - 10.2/10.7 MB 684.8 kB/s eta 0:00:01\n",
      "   ---------------------------------------  10.5/10.7 MB 684.4 kB/s eta 0:00:01\n",
      "   ---------------------------------------  10.5/10.7 MB 684.4 kB/s eta 0:00:01\n",
      "   ---------------------------------------  10.5/10.7 MB 684.4 kB/s eta 0:00:01\n",
      "   ---------------------------------------- 10.7/10.7 MB 669.4 kB/s  0:00:16\n",
      "Installing collected packages: pandas\n",
      "  Attempting uninstall: pandas\n",
      "    Found existing installation: pandas 1.5.3\n",
      "    Uninstalling pandas-1.5.3:\n",
      "      Successfully uninstalled pandas-1.5.3\n",
      "Successfully installed pandas-2.1.4\n"
     ]
    },
    {
     "name": "stderr",
     "output_type": "stream",
     "text": [
      "ERROR: pip's dependency resolver does not currently take into account all the packages that are installed. This behaviour is the source of the following dependency conflicts.\n",
      "autoviz 0.1.905 requires matplotlib>3.7.4, but you have matplotlib 3.6.3 which is incompatible.\n",
      "autoviz 0.1.905 requires seaborn>0.12.2, but you have seaborn 0.12.2 which is incompatible.\n",
      "autoviz 0.1.905 requires xgboost<1.7,>=0.82, but you have xgboost 3.0.5 which is incompatible.\n",
      "datasets 3.6.0 requires requests>=2.32.2, but you have requests 2.28.2 which is incompatible.\n",
      "datasets 3.6.0 requires tqdm>=4.66.3, but you have tqdm 4.64.1 which is incompatible.\n",
      "ydata-profiling 4.1.2 requires numpy<1.24,>=1.16.0, but you have numpy 1.26.4 which is incompatible.\n",
      "ydata-profiling 4.1.2 requires pandas!=1.4.0,<1.6,>1.1, but you have pandas 2.1.4 which is incompatible.\n",
      "ydata-profiling 4.1.2 requires scipy<1.10,>=1.4.1, but you have scipy 1.11.4 which is incompatible.\n"
     ]
    }
   ],
   "source": [
    "!pip install pycaret==3.3.2 pandas --upgrade\n"
   ]
  },
  {
   "cell_type": "code",
   "execution_count": 60,
   "id": "00c75590-8b5f-4bce-ad28-fdb9164db3a9",
   "metadata": {
    "scrolled": true
   },
   "outputs": [
    {
     "name": "stdout",
     "output_type": "stream",
     "text": [
      "Collecting pycaret==3.3.2\n",
      "  Using cached pycaret-3.3.2-py3-none-any.whl.metadata (17 kB)\n",
      "Requirement already satisfied: ipython>=5.5.0 in c:\\users\\arrkr\\appdata\\local\\programs\\python\\python313\\lib\\site-packages (from pycaret==3.3.2) (9.0.1)\n",
      "Requirement already satisfied: ipywidgets>=7.6.5 in c:\\users\\arrkr\\appdata\\local\\programs\\python\\python313\\lib\\site-packages (from pycaret==3.3.2) (8.1.5)\n",
      "Requirement already satisfied: tqdm>=4.62.0 in c:\\users\\arrkr\\appdata\\local\\programs\\python\\python313\\lib\\site-packages (from pycaret==3.3.2) (4.67.1)\n",
      "Collecting numpy<1.27,>=1.21 (from pycaret==3.3.2)\n",
      "  Using cached numpy-1.26.4.tar.gz (15.8 MB)\n",
      "  Installing build dependencies: started\n",
      "  Installing build dependencies: finished with status 'done'\n",
      "  Getting requirements to build wheel: started\n",
      "  Getting requirements to build wheel: finished with status 'done'\n",
      "  Installing backend dependencies: started\n",
      "  Installing backend dependencies: finished with status 'done'\n",
      "  Preparing metadata (pyproject.toml): started\n",
      "  Preparing metadata (pyproject.toml): finished with status 'error'\n"
     ]
    },
    {
     "name": "stderr",
     "output_type": "stream",
     "text": [
      "  error: subprocess-exited-with-error\n",
      "  \n",
      "  Preparing metadata (pyproject.toml) did not run successfully.\n",
      "  exit code: 1\n",
      "  \n",
      "  [19 lines of output]\n",
      "  + C:\\Users\\arrkr\\AppData\\Local\\Programs\\Python\\Python313\\python.exe C:\\Users\\arrkr\\AppData\\Local\\Temp\\pip-install-7nys938k\\numpy_0f799e0dc2d84aa2a5a95618e49efd02\\vendored-meson\\meson\\meson.py setup C:\\Users\\arrkr\\AppData\\Local\\Temp\\pip-install-7nys938k\\numpy_0f799e0dc2d84aa2a5a95618e49efd02 C:\\Users\\arrkr\\AppData\\Local\\Temp\\pip-install-7nys938k\\numpy_0f799e0dc2d84aa2a5a95618e49efd02\\.mesonpy-iz_pgawm -Dbuildtype=release -Db_ndebug=if-release -Db_vscrt=md --native-file=C:\\Users\\arrkr\\AppData\\Local\\Temp\\pip-install-7nys938k\\numpy_0f799e0dc2d84aa2a5a95618e49efd02\\.mesonpy-iz_pgawm\\meson-python-native-file.ini\n",
      "  The Meson build system\n",
      "  Version: 1.2.99\n",
      "  Source dir: C:\\Users\\arrkr\\AppData\\Local\\Temp\\pip-install-7nys938k\\numpy_0f799e0dc2d84aa2a5a95618e49efd02\n",
      "  Build dir: C:\\Users\\arrkr\\AppData\\Local\\Temp\\pip-install-7nys938k\\numpy_0f799e0dc2d84aa2a5a95618e49efd02\\.mesonpy-iz_pgawm\n",
      "  Build type: native build\n",
      "  Project name: NumPy\n",
      "  Project version: 1.26.4\n",
      "  C compiler for the host machine: gcc (gcc 6.3.0 \"gcc (MinGW.org GCC-6.3.0-1) 6.3.0\")\n",
      "  C linker for the host machine: gcc ld.bfd 2.28\n",
      "  C++ compiler for the host machine: c++ (gcc 6.3.0 \"c++ (MinGW.org GCC-6.3.0-1) 6.3.0\")\n",
      "  C++ linker for the host machine: c++ ld.bfd 2.28\n",
      "  Cython compiler for the host machine: cython (cython 3.0.12)\n",
      "  Host machine cpu family: x86\n",
      "  Host machine cpu: x86\n",
      "  \n",
      "  ..\\meson.build:28:4: ERROR: Problem encountered: NumPy requires GCC >= 8.4\n",
      "  \n",
      "  A full log can be found at C:\\Users\\arrkr\\AppData\\Local\\Temp\\pip-install-7nys938k\\numpy_0f799e0dc2d84aa2a5a95618e49efd02\\.mesonpy-iz_pgawm\\meson-logs\\meson-log.txt\n",
      "  [end of output]\n",
      "  \n",
      "  note: This error originates from a subprocess, and is likely not a problem with pip.\n",
      "error: metadata-generation-failed\n",
      "\n",
      "Encountered error while generating package metadata.\n",
      "\n",
      "See above for output.\n",
      "\n",
      "note: This is an issue with the package mentioned above, not pip.\n",
      "hint: See above for details.\n"
     ]
    }
   ],
   "source": [
    "import sys\n",
    "!{sys.executable} -m pip install pycaret==3.3.2\n"
   ]
  },
  {
   "cell_type": "code",
   "execution_count": 61,
   "id": "0c60548f-6014-48ca-b5a6-cdf9ee9fbe73",
   "metadata": {
    "scrolled": true
   },
   "outputs": [
    {
     "name": "stdout",
     "output_type": "stream",
     "text": [
      "C:\\Users\\arrkr\\AppData\\Local\\Programs\\Python\\Python313\\python.exe\n",
      "3.13.4 (tags/v3.13.4:8a526ec, Jun  3 2025, 17:46:04) [MSC v.1943 64 bit (AMD64)]\n",
      "Name: pycaret\n",
      "Version: 3.3.2\n",
      "Summary: PyCaret - An open source, low-code machine learning library in Python.\n",
      "Home-page: https://github.com/pycaret/pycaret\n",
      "Author: Moez Ali\n",
      "Author-email: moez.ali@queensu.ca\n",
      "License: MIT\n",
      "Location: c:\\users\\arrkr\\appdata\\roaming\\python\\python310\\site-packages\n",
      "Requires: category-encoders, cloudpickle, deprecation, imbalanced-learn, importlib-metadata, ipython, ipywidgets, jinja2, joblib, kaleido, lightgbm, markupsafe, matplotlib, nbformat, numba, numpy, pandas, plotly, plotly-resampler, pmdarima, psutil, pyod, requests, schemdraw, scikit-learn, scikit-plot, scipy, sktime, statsmodels, tbats, tqdm, xxhash, yellowbrick\n",
      "Required-by: \n"
     ]
    }
   ],
   "source": [
    "import sys\n",
    "print(sys.executable)\n",
    "print(sys.version)\n",
    "!pip show pycaret\n"
   ]
  },
  {
   "cell_type": "code",
   "execution_count": 64,
   "id": "2ff1b960-74c4-4d33-83dc-b7260f577260",
   "metadata": {},
   "outputs": [
    {
     "name": "stdout",
     "output_type": "stream",
     "text": [
      "Defaulting to user installation because normal site-packages is not writeable\n",
      "Requirement already satisfied: numpy==1.26.4 in c:\\users\\arrkr\\appdata\\roaming\\python\\python310\\site-packages (1.26.4)\n"
     ]
    }
   ],
   "source": [
    "!pip install numpy==1.26.4 --only-binary=:all:\n"
   ]
  },
  {
   "cell_type": "code",
   "execution_count": 65,
   "id": "d74c99a7-0f40-4de2-9350-2cfb3e8f80a0",
   "metadata": {},
   "outputs": [
    {
     "name": "stdout",
     "output_type": "stream",
     "text": [
      "Defaulting to user installation because normal site-packages is not writeable\n",
      "Requirement already satisfied: pip in c:\\users\\arrkr\\appdata\\roaming\\python\\python310\\site-packages (25.2)\n",
      "Defaulting to user installation because normal site-packages is not writeable\n",
      "Requirement already satisfied: pycaret==3.3.2 in c:\\users\\arrkr\\appdata\\roaming\\python\\python310\\site-packages (3.3.2)\n",
      "Requirement already satisfied: ipython>=5.5.0 in c:\\users\\arrkr\\appdata\\roaming\\python\\python310\\site-packages (from pycaret==3.3.2) (8.37.0)\n",
      "Requirement already satisfied: ipywidgets>=7.6.5 in c:\\users\\arrkr\\appdata\\roaming\\python\\python310\\site-packages (from pycaret==3.3.2) (8.1.7)\n",
      "Requirement already satisfied: tqdm>=4.62.0 in c:\\users\\arrkr\\appdata\\roaming\\python\\python310\\site-packages (from pycaret==3.3.2) (4.64.1)\n",
      "Requirement already satisfied: numpy<1.27,>=1.21 in c:\\users\\arrkr\\appdata\\roaming\\python\\python310\\site-packages (from pycaret==3.3.2) (1.26.4)\n",
      "Requirement already satisfied: pandas<2.2.0 in c:\\users\\arrkr\\appdata\\roaming\\python\\python310\\site-packages (from pycaret==3.3.2) (2.1.4)\n",
      "Requirement already satisfied: jinja2>=3 in c:\\users\\arrkr\\appdata\\roaming\\python\\python310\\site-packages (from pycaret==3.3.2) (3.1.6)\n",
      "Requirement already satisfied: scipy<=1.11.4,>=1.6.1 in c:\\users\\arrkr\\appdata\\roaming\\python\\python310\\site-packages (from pycaret==3.3.2) (1.11.4)\n",
      "Requirement already satisfied: joblib<1.4,>=1.2.0 in c:\\users\\arrkr\\appdata\\roaming\\python\\python310\\site-packages (from pycaret==3.3.2) (1.3.2)\n",
      "Requirement already satisfied: scikit-learn>1.4.0 in c:\\users\\arrkr\\appdata\\roaming\\python\\python310\\site-packages (from pycaret==3.3.2) (1.4.2)\n",
      "Requirement already satisfied: pyod>=1.1.3 in c:\\users\\arrkr\\appdata\\roaming\\python\\python310\\site-packages (from pycaret==3.3.2) (2.0.5)\n",
      "Requirement already satisfied: imbalanced-learn>=0.12.0 in c:\\users\\arrkr\\appdata\\roaming\\python\\python310\\site-packages (from pycaret==3.3.2) (0.14.0)\n",
      "Requirement already satisfied: category-encoders>=2.4.0 in c:\\users\\arrkr\\appdata\\roaming\\python\\python310\\site-packages (from pycaret==3.3.2) (2.7.0)\n",
      "Requirement already satisfied: lightgbm>=3.0.0 in c:\\users\\arrkr\\appdata\\roaming\\python\\python310\\site-packages (from pycaret==3.3.2) (4.6.0)\n",
      "Requirement already satisfied: numba>=0.55.0 in c:\\users\\arrkr\\appdata\\roaming\\python\\python310\\site-packages (from pycaret==3.3.2) (0.62.1)\n",
      "Requirement already satisfied: requests>=2.27.1 in c:\\users\\arrkr\\appdata\\roaming\\python\\python310\\site-packages (from pycaret==3.3.2) (2.28.2)\n",
      "Requirement already satisfied: psutil>=5.9.0 in c:\\users\\arrkr\\appdata\\roaming\\python\\python310\\site-packages (from pycaret==3.3.2) (7.0.0)\n",
      "Requirement already satisfied: markupsafe>=2.0.1 in c:\\users\\arrkr\\appdata\\roaming\\python\\python310\\site-packages (from pycaret==3.3.2) (3.0.2)\n",
      "Requirement already satisfied: importlib-metadata>=4.12.0 in c:\\users\\arrkr\\appdata\\roaming\\python\\python310\\site-packages (from pycaret==3.3.2) (8.7.0)\n",
      "Requirement already satisfied: nbformat>=4.2.0 in c:\\users\\arrkr\\appdata\\roaming\\python\\python310\\site-packages (from pycaret==3.3.2) (5.10.4)\n",
      "Requirement already satisfied: cloudpickle in c:\\users\\arrkr\\appdata\\roaming\\python\\python310\\site-packages (from pycaret==3.3.2) (3.1.1)\n",
      "Requirement already satisfied: deprecation>=2.1.0 in c:\\users\\arrkr\\appdata\\roaming\\python\\python310\\site-packages (from pycaret==3.3.2) (2.1.0)\n",
      "Requirement already satisfied: xxhash in c:\\users\\arrkr\\appdata\\roaming\\python\\python310\\site-packages (from pycaret==3.3.2) (3.5.0)\n",
      "Requirement already satisfied: matplotlib<3.8.0 in c:\\users\\arrkr\\appdata\\roaming\\python\\python310\\site-packages (from pycaret==3.3.2) (3.6.3)\n",
      "Requirement already satisfied: scikit-plot>=0.3.7 in c:\\users\\arrkr\\appdata\\roaming\\python\\python310\\site-packages (from pycaret==3.3.2) (0.3.7)\n",
      "Requirement already satisfied: yellowbrick>=1.4 in c:\\users\\arrkr\\appdata\\roaming\\python\\python310\\site-packages (from pycaret==3.3.2) (1.5)\n",
      "Requirement already satisfied: plotly>=5.14.0 in c:\\users\\arrkr\\appdata\\roaming\\python\\python310\\site-packages (from pycaret==3.3.2) (6.3.1)\n",
      "Requirement already satisfied: kaleido>=0.2.1 in c:\\users\\arrkr\\appdata\\roaming\\python\\python310\\site-packages (from pycaret==3.3.2) (1.1.0)\n",
      "Requirement already satisfied: schemdraw==0.15 in c:\\users\\arrkr\\appdata\\roaming\\python\\python310\\site-packages (from pycaret==3.3.2) (0.15)\n",
      "Requirement already satisfied: plotly-resampler>=0.8.3.1 in c:\\users\\arrkr\\appdata\\roaming\\python\\python310\\site-packages (from pycaret==3.3.2) (0.11.0)\n",
      "Requirement already satisfied: statsmodels>=0.12.1 in c:\\users\\arrkr\\appdata\\roaming\\python\\python310\\site-packages (from pycaret==3.3.2) (0.13.5)\n",
      "Requirement already satisfied: sktime==0.26.0 in c:\\users\\arrkr\\appdata\\roaming\\python\\python310\\site-packages (from pycaret==3.3.2) (0.26.0)\n",
      "Requirement already satisfied: tbats>=1.1.3 in c:\\users\\arrkr\\appdata\\roaming\\python\\python310\\site-packages (from pycaret==3.3.2) (1.1.3)\n",
      "Requirement already satisfied: pmdarima>=2.0.4 in c:\\users\\arrkr\\appdata\\roaming\\python\\python310\\site-packages (from pycaret==3.3.2) (2.0.4)\n",
      "Requirement already satisfied: packaging in c:\\users\\arrkr\\appdata\\roaming\\python\\python310\\site-packages (from sktime==0.26.0->pycaret==3.3.2) (25.0)\n",
      "Requirement already satisfied: scikit-base<0.8.0 in c:\\users\\arrkr\\appdata\\roaming\\python\\python310\\site-packages (from sktime==0.26.0->pycaret==3.3.2) (0.7.8)\n",
      "Requirement already satisfied: contourpy>=1.0.1 in c:\\users\\arrkr\\appdata\\roaming\\python\\python310\\site-packages (from matplotlib<3.8.0->pycaret==3.3.2) (1.3.2)\n",
      "Requirement already satisfied: cycler>=0.10 in c:\\users\\arrkr\\appdata\\roaming\\python\\python310\\site-packages (from matplotlib<3.8.0->pycaret==3.3.2) (0.12.1)\n",
      "Requirement already satisfied: fonttools>=4.22.0 in c:\\users\\arrkr\\appdata\\roaming\\python\\python310\\site-packages (from matplotlib<3.8.0->pycaret==3.3.2) (4.59.0)\n",
      "Requirement already satisfied: kiwisolver>=1.0.1 in c:\\users\\arrkr\\appdata\\roaming\\python\\python310\\site-packages (from matplotlib<3.8.0->pycaret==3.3.2) (1.4.8)\n",
      "Requirement already satisfied: pillow>=6.2.0 in c:\\users\\arrkr\\appdata\\roaming\\python\\python310\\site-packages (from matplotlib<3.8.0->pycaret==3.3.2) (11.3.0)\n",
      "Requirement already satisfied: pyparsing>=2.2.1 in c:\\users\\arrkr\\appdata\\roaming\\python\\python310\\site-packages (from matplotlib<3.8.0->pycaret==3.3.2) (3.2.3)\n",
      "Requirement already satisfied: python-dateutil>=2.7 in c:\\users\\arrkr\\appdata\\roaming\\python\\python310\\site-packages (from matplotlib<3.8.0->pycaret==3.3.2) (2.9.0.post0)\n",
      "Requirement already satisfied: pytz>=2020.1 in c:\\users\\arrkr\\appdata\\roaming\\python\\python310\\site-packages (from pandas<2.2.0->pycaret==3.3.2) (2025.2)\n",
      "Requirement already satisfied: tzdata>=2022.1 in c:\\users\\arrkr\\appdata\\roaming\\python\\python310\\site-packages (from pandas<2.2.0->pycaret==3.3.2) (2025.2)\n",
      "Requirement already satisfied: threadpoolctl>=2.0.0 in c:\\users\\arrkr\\appdata\\roaming\\python\\python310\\site-packages (from scikit-learn>1.4.0->pycaret==3.3.2) (3.6.0)\n",
      "Requirement already satisfied: patsy>=0.5.1 in c:\\users\\arrkr\\appdata\\roaming\\python\\python310\\site-packages (from category-encoders>=2.4.0->pycaret==3.3.2) (1.0.1)\n",
      "Requirement already satisfied: zipp>=3.20 in c:\\users\\arrkr\\appdata\\roaming\\python\\python310\\site-packages (from importlib-metadata>=4.12.0->pycaret==3.3.2) (3.23.0)\n",
      "Requirement already satisfied: colorama in c:\\users\\arrkr\\appdata\\roaming\\python\\python310\\site-packages (from ipython>=5.5.0->pycaret==3.3.2) (0.4.6)\n",
      "Requirement already satisfied: decorator in c:\\users\\arrkr\\appdata\\roaming\\python\\python310\\site-packages (from ipython>=5.5.0->pycaret==3.3.2) (5.2.1)\n",
      "Requirement already satisfied: exceptiongroup in c:\\users\\arrkr\\appdata\\roaming\\python\\python310\\site-packages (from ipython>=5.5.0->pycaret==3.3.2) (1.3.0)\n",
      "Requirement already satisfied: jedi>=0.16 in c:\\users\\arrkr\\appdata\\roaming\\python\\python310\\site-packages (from ipython>=5.5.0->pycaret==3.3.2) (0.19.2)\n",
      "Requirement already satisfied: matplotlib-inline in c:\\users\\arrkr\\appdata\\roaming\\python\\python310\\site-packages (from ipython>=5.5.0->pycaret==3.3.2) (0.1.7)\n",
      "Requirement already satisfied: prompt_toolkit<3.1.0,>=3.0.41 in c:\\users\\arrkr\\appdata\\roaming\\python\\python310\\site-packages (from ipython>=5.5.0->pycaret==3.3.2) (3.0.52)\n",
      "Requirement already satisfied: pygments>=2.4.0 in c:\\users\\arrkr\\appdata\\roaming\\python\\python310\\site-packages (from ipython>=5.5.0->pycaret==3.3.2) (2.19.2)\n",
      "Requirement already satisfied: stack_data in c:\\users\\arrkr\\appdata\\roaming\\python\\python310\\site-packages (from ipython>=5.5.0->pycaret==3.3.2) (0.6.3)\n",
      "Requirement already satisfied: traitlets>=5.13.0 in c:\\users\\arrkr\\appdata\\roaming\\python\\python310\\site-packages (from ipython>=5.5.0->pycaret==3.3.2) (5.14.3)\n",
      "Requirement already satisfied: typing_extensions>=4.6 in c:\\users\\arrkr\\appdata\\roaming\\python\\python310\\site-packages (from ipython>=5.5.0->pycaret==3.3.2) (4.14.0)\n",
      "Requirement already satisfied: wcwidth in c:\\users\\arrkr\\appdata\\roaming\\python\\python310\\site-packages (from prompt_toolkit<3.1.0,>=3.0.41->ipython>=5.5.0->pycaret==3.3.2) (0.2.13)\n",
      "Requirement already satisfied: comm>=0.1.3 in c:\\users\\arrkr\\appdata\\roaming\\python\\python310\\site-packages (from ipywidgets>=7.6.5->pycaret==3.3.2) (0.2.3)\n",
      "Requirement already satisfied: widgetsnbextension~=4.0.14 in c:\\users\\arrkr\\appdata\\roaming\\python\\python310\\site-packages (from ipywidgets>=7.6.5->pycaret==3.3.2) (4.0.14)\n",
      "Requirement already satisfied: jupyterlab_widgets~=3.0.15 in c:\\users\\arrkr\\appdata\\roaming\\python\\python310\\site-packages (from ipywidgets>=7.6.5->pycaret==3.3.2) (3.0.15)\n",
      "Requirement already satisfied: parso<0.9.0,>=0.8.4 in c:\\users\\arrkr\\appdata\\roaming\\python\\python310\\site-packages (from jedi>=0.16->ipython>=5.5.0->pycaret==3.3.2) (0.8.5)\n",
      "Requirement already satisfied: choreographer>=1.0.10 in c:\\users\\arrkr\\appdata\\roaming\\python\\python310\\site-packages (from kaleido>=0.2.1->pycaret==3.3.2) (1.1.1)\n",
      "Requirement already satisfied: logistro>=1.0.8 in c:\\users\\arrkr\\appdata\\roaming\\python\\python310\\site-packages (from kaleido>=0.2.1->pycaret==3.3.2) (1.1.0)\n",
      "Requirement already satisfied: orjson>=3.10.15 in c:\\users\\arrkr\\appdata\\roaming\\python\\python310\\site-packages (from kaleido>=0.2.1->pycaret==3.3.2) (3.11.3)\n",
      "Requirement already satisfied: pytest-timeout>=2.4.0 in c:\\users\\arrkr\\appdata\\roaming\\python\\python310\\site-packages (from kaleido>=0.2.1->pycaret==3.3.2) (2.4.0)\n",
      "Requirement already satisfied: simplejson>=3.19.3 in c:\\users\\arrkr\\appdata\\roaming\\python\\python310\\site-packages (from choreographer>=1.0.10->kaleido>=0.2.1->pycaret==3.3.2) (3.20.2)\n",
      "Requirement already satisfied: fastjsonschema>=2.15 in c:\\users\\arrkr\\appdata\\roaming\\python\\python310\\site-packages (from nbformat>=4.2.0->pycaret==3.3.2) (2.21.2)\n",
      "Requirement already satisfied: jsonschema>=2.6 in c:\\users\\arrkr\\appdata\\roaming\\python\\python310\\site-packages (from nbformat>=4.2.0->pycaret==3.3.2) (4.25.1)\n",
      "Requirement already satisfied: jupyter-core!=5.0.*,>=4.12 in c:\\users\\arrkr\\appdata\\roaming\\python\\python310\\site-packages (from nbformat>=4.2.0->pycaret==3.3.2) (5.8.1)\n",
      "Requirement already satisfied: attrs>=22.2.0 in c:\\users\\arrkr\\appdata\\roaming\\python\\python310\\site-packages (from jsonschema>=2.6->nbformat>=4.2.0->pycaret==3.3.2) (25.3.0)\n",
      "Requirement already satisfied: jsonschema-specifications>=2023.03.6 in c:\\users\\arrkr\\appdata\\roaming\\python\\python310\\site-packages (from jsonschema>=2.6->nbformat>=4.2.0->pycaret==3.3.2) (2025.9.1)\n",
      "Requirement already satisfied: referencing>=0.28.4 in c:\\users\\arrkr\\appdata\\roaming\\python\\python310\\site-packages (from jsonschema>=2.6->nbformat>=4.2.0->pycaret==3.3.2) (0.36.2)\n",
      "Requirement already satisfied: rpds-py>=0.7.1 in c:\\users\\arrkr\\appdata\\roaming\\python\\python310\\site-packages (from jsonschema>=2.6->nbformat>=4.2.0->pycaret==3.3.2) (0.27.1)\n",
      "Requirement already satisfied: platformdirs>=2.5 in c:\\users\\arrkr\\appdata\\roaming\\python\\python310\\site-packages (from jupyter-core!=5.0.*,>=4.12->nbformat>=4.2.0->pycaret==3.3.2) (4.4.0)\n",
      "Requirement already satisfied: pywin32>=300 in c:\\users\\arrkr\\appdata\\roaming\\python\\python310\\site-packages (from jupyter-core!=5.0.*,>=4.12->nbformat>=4.2.0->pycaret==3.3.2) (311)\n",
      "Requirement already satisfied: llvmlite<0.46,>=0.45.0dev0 in c:\\users\\arrkr\\appdata\\roaming\\python\\python310\\site-packages (from numba>=0.55.0->pycaret==3.3.2) (0.45.1)\n",
      "Requirement already satisfied: narwhals>=1.15.1 in c:\\users\\arrkr\\appdata\\roaming\\python\\python310\\site-packages (from plotly>=5.14.0->pycaret==3.3.2) (2.6.0)\n",
      "Requirement already satisfied: dash>=2.11.0 in c:\\users\\arrkr\\appdata\\roaming\\python\\python310\\site-packages (from plotly-resampler>=0.8.3.1->pycaret==3.3.2) (2.18.2)\n",
      "Requirement already satisfied: tsdownsample>=0.1.3 in c:\\users\\arrkr\\appdata\\roaming\\python\\python310\\site-packages (from plotly-resampler>=0.8.3.1->pycaret==3.3.2) (0.1.4.1)\n",
      "Requirement already satisfied: Flask<3.1,>=1.0.4 in c:\\users\\arrkr\\appdata\\roaming\\python\\python310\\site-packages (from dash>=2.11.0->plotly-resampler>=0.8.3.1->pycaret==3.3.2) (3.0.3)\n",
      "Requirement already satisfied: Werkzeug<3.1 in c:\\users\\arrkr\\appdata\\roaming\\python\\python310\\site-packages (from dash>=2.11.0->plotly-resampler>=0.8.3.1->pycaret==3.3.2) (3.0.6)\n",
      "Requirement already satisfied: dash-html-components==2.0.0 in c:\\users\\arrkr\\appdata\\roaming\\python\\python310\\site-packages (from dash>=2.11.0->plotly-resampler>=0.8.3.1->pycaret==3.3.2) (2.0.0)\n",
      "Requirement already satisfied: dash-core-components==2.0.0 in c:\\users\\arrkr\\appdata\\roaming\\python\\python310\\site-packages (from dash>=2.11.0->plotly-resampler>=0.8.3.1->pycaret==3.3.2) (2.0.0)\n",
      "Requirement already satisfied: dash-table==5.0.0 in c:\\users\\arrkr\\appdata\\roaming\\python\\python310\\site-packages (from dash>=2.11.0->plotly-resampler>=0.8.3.1->pycaret==3.3.2) (5.0.0)\n",
      "Requirement already satisfied: retrying in c:\\users\\arrkr\\appdata\\roaming\\python\\python310\\site-packages (from dash>=2.11.0->plotly-resampler>=0.8.3.1->pycaret==3.3.2) (1.4.2)\n",
      "Requirement already satisfied: nest-asyncio in c:\\users\\arrkr\\appdata\\roaming\\python\\python310\\site-packages (from dash>=2.11.0->plotly-resampler>=0.8.3.1->pycaret==3.3.2) (1.6.0)\n",
      "Requirement already satisfied: setuptools in c:\\program files\\python310\\lib\\site-packages (from dash>=2.11.0->plotly-resampler>=0.8.3.1->pycaret==3.3.2) (57.4.0)\n",
      "Requirement already satisfied: itsdangerous>=2.1.2 in c:\\users\\arrkr\\appdata\\roaming\\python\\python310\\site-packages (from Flask<3.1,>=1.0.4->dash>=2.11.0->plotly-resampler>=0.8.3.1->pycaret==3.3.2) (2.2.0)\n",
      "Requirement already satisfied: click>=8.1.3 in c:\\users\\arrkr\\appdata\\roaming\\python\\python310\\site-packages (from Flask<3.1,>=1.0.4->dash>=2.11.0->plotly-resampler>=0.8.3.1->pycaret==3.3.2) (8.2.1)\n",
      "Requirement already satisfied: blinker>=1.6.2 in c:\\users\\arrkr\\appdata\\roaming\\python\\python310\\site-packages (from Flask<3.1,>=1.0.4->dash>=2.11.0->plotly-resampler>=0.8.3.1->pycaret==3.3.2) (1.9.0)\n",
      "Requirement already satisfied: Cython!=0.29.18,!=0.29.31,>=0.29 in c:\\users\\arrkr\\appdata\\roaming\\python\\python310\\site-packages (from pmdarima>=2.0.4->pycaret==3.3.2) (3.1.4)\n",
      "Requirement already satisfied: urllib3 in c:\\users\\arrkr\\appdata\\roaming\\python\\python310\\site-packages (from pmdarima>=2.0.4->pycaret==3.3.2) (1.26.20)\n",
      "Requirement already satisfied: pytest>=7.0.0 in c:\\users\\arrkr\\appdata\\roaming\\python\\python310\\site-packages (from pytest-timeout>=2.4.0->kaleido>=0.2.1->pycaret==3.3.2) (8.4.2)\n",
      "Requirement already satisfied: iniconfig>=1 in c:\\users\\arrkr\\appdata\\roaming\\python\\python310\\site-packages (from pytest>=7.0.0->pytest-timeout>=2.4.0->kaleido>=0.2.1->pycaret==3.3.2) (2.1.0)\n",
      "Requirement already satisfied: pluggy<2,>=1.5 in c:\\users\\arrkr\\appdata\\roaming\\python\\python310\\site-packages (from pytest>=7.0.0->pytest-timeout>=2.4.0->kaleido>=0.2.1->pycaret==3.3.2) (1.6.0)\n",
      "Requirement already satisfied: tomli>=1 in c:\\users\\arrkr\\appdata\\roaming\\python\\python310\\site-packages (from pytest>=7.0.0->pytest-timeout>=2.4.0->kaleido>=0.2.1->pycaret==3.3.2) (2.2.1)\n",
      "Requirement already satisfied: six>=1.5 in c:\\users\\arrkr\\appdata\\roaming\\python\\python310\\site-packages (from python-dateutil>=2.7->matplotlib<3.8.0->pycaret==3.3.2) (1.17.0)\n",
      "Requirement already satisfied: charset-normalizer<4,>=2 in c:\\users\\arrkr\\appdata\\roaming\\python\\python310\\site-packages (from requests>=2.27.1->pycaret==3.3.2) (3.4.2)\n",
      "Requirement already satisfied: idna<4,>=2.5 in c:\\users\\arrkr\\appdata\\roaming\\python\\python310\\site-packages (from requests>=2.27.1->pycaret==3.3.2) (3.10)\n",
      "Requirement already satisfied: certifi>=2017.4.17 in c:\\users\\arrkr\\appdata\\roaming\\python\\python310\\site-packages (from requests>=2.27.1->pycaret==3.3.2) (2025.6.15)\n",
      "Requirement already satisfied: executing>=1.2.0 in c:\\users\\arrkr\\appdata\\roaming\\python\\python310\\site-packages (from stack_data->ipython>=5.5.0->pycaret==3.3.2) (2.2.1)\n",
      "Requirement already satisfied: asttokens>=2.1.0 in c:\\users\\arrkr\\appdata\\roaming\\python\\python310\\site-packages (from stack_data->ipython>=5.5.0->pycaret==3.3.2) (3.0.0)\n",
      "Requirement already satisfied: pure-eval in c:\\users\\arrkr\\appdata\\roaming\\python\\python310\\site-packages (from stack_data->ipython>=5.5.0->pycaret==3.3.2) (0.2.3)\n"
     ]
    }
   ],
   "source": [
    "!pip install --upgrade pip\n",
    "!pip install pycaret==3.3.2\n"
   ]
  },
  {
   "cell_type": "code",
   "execution_count": 67,
   "id": "61558130-f101-48e9-ad10-18a6e1555eeb",
   "metadata": {},
   "outputs": [
    {
     "name": "stdout",
     "output_type": "stream",
     "text": [
      "Collecting pycaret==3.3.2\n",
      "  Using cached pycaret-3.3.2-py3-none-any.whl.metadata (17 kB)\n",
      "Requirement already satisfied: ipython>=5.5.0 in c:\\users\\arrkr\\appdata\\local\\programs\\python\\python313\\lib\\site-packages (from pycaret==3.3.2) (9.0.1)\n",
      "Requirement already satisfied: ipywidgets>=7.6.5 in c:\\users\\arrkr\\appdata\\local\\programs\\python\\python313\\lib\\site-packages (from pycaret==3.3.2) (8.1.5)\n",
      "Requirement already satisfied: tqdm>=4.62.0 in c:\\users\\arrkr\\appdata\\local\\programs\\python\\python313\\lib\\site-packages (from pycaret==3.3.2) (4.67.1)\n",
      "Collecting numpy<1.27,>=1.21 (from pycaret==3.3.2)\n",
      "  Using cached numpy-1.26.4.tar.gz (15.8 MB)\n",
      "  Installing build dependencies: started\n",
      "  Installing build dependencies: finished with status 'done'\n",
      "  Getting requirements to build wheel: started\n",
      "  Getting requirements to build wheel: finished with status 'done'\n",
      "  Installing backend dependencies: started\n",
      "  Installing backend dependencies: finished with status 'done'\n",
      "  Preparing metadata (pyproject.toml): started\n",
      "  Preparing metadata (pyproject.toml): finished with status 'error'\n"
     ]
    },
    {
     "name": "stderr",
     "output_type": "stream",
     "text": [
      "  error: subprocess-exited-with-error\n",
      "  \n",
      "  Preparing metadata (pyproject.toml) did not run successfully.\n",
      "  exit code: 1\n",
      "  \n",
      "  [19 lines of output]\n",
      "  + C:\\Users\\arrkr\\AppData\\Local\\Programs\\Python\\Python313\\python.exe C:\\Users\\arrkr\\AppData\\Local\\Temp\\pip-install-1s9bo54p\\numpy_a66731c68f5d4e8eb5e84d73a4cfe28e\\vendored-meson\\meson\\meson.py setup C:\\Users\\arrkr\\AppData\\Local\\Temp\\pip-install-1s9bo54p\\numpy_a66731c68f5d4e8eb5e84d73a4cfe28e C:\\Users\\arrkr\\AppData\\Local\\Temp\\pip-install-1s9bo54p\\numpy_a66731c68f5d4e8eb5e84d73a4cfe28e\\.mesonpy-0dp5ctxl -Dbuildtype=release -Db_ndebug=if-release -Db_vscrt=md --native-file=C:\\Users\\arrkr\\AppData\\Local\\Temp\\pip-install-1s9bo54p\\numpy_a66731c68f5d4e8eb5e84d73a4cfe28e\\.mesonpy-0dp5ctxl\\meson-python-native-file.ini\n",
      "  The Meson build system\n",
      "  Version: 1.2.99\n",
      "  Source dir: C:\\Users\\arrkr\\AppData\\Local\\Temp\\pip-install-1s9bo54p\\numpy_a66731c68f5d4e8eb5e84d73a4cfe28e\n",
      "  Build dir: C:\\Users\\arrkr\\AppData\\Local\\Temp\\pip-install-1s9bo54p\\numpy_a66731c68f5d4e8eb5e84d73a4cfe28e\\.mesonpy-0dp5ctxl\n",
      "  Build type: native build\n",
      "  Project name: NumPy\n",
      "  Project version: 1.26.4\n",
      "  C compiler for the host machine: gcc (gcc 6.3.0 \"gcc (MinGW.org GCC-6.3.0-1) 6.3.0\")\n",
      "  C linker for the host machine: gcc ld.bfd 2.28\n",
      "  C++ compiler for the host machine: c++ (gcc 6.3.0 \"c++ (MinGW.org GCC-6.3.0-1) 6.3.0\")\n",
      "  C++ linker for the host machine: c++ ld.bfd 2.28\n",
      "  Cython compiler for the host machine: cython (cython 3.0.12)\n",
      "  Host machine cpu family: x86\n",
      "  Host machine cpu: x86\n",
      "  \n",
      "  ..\\meson.build:28:4: ERROR: Problem encountered: NumPy requires GCC >= 8.4\n",
      "  \n",
      "  A full log can be found at C:\\Users\\arrkr\\AppData\\Local\\Temp\\pip-install-1s9bo54p\\numpy_a66731c68f5d4e8eb5e84d73a4cfe28e\\.mesonpy-0dp5ctxl\\meson-logs\\meson-log.txt\n",
      "  [end of output]\n",
      "  \n",
      "  note: This error originates from a subprocess, and is likely not a problem with pip.\n",
      "error: metadata-generation-failed\n",
      "\n",
      "Encountered error while generating package metadata.\n",
      "\n",
      "See above for output.\n",
      "\n",
      "note: This is an issue with the package mentioned above, not pip.\n",
      "hint: See above for details.\n"
     ]
    }
   ],
   "source": [
    "!{sys.executable} -m pip install pycaret==3.3.2\n"
   ]
  },
  {
   "cell_type": "code",
   "execution_count": 66,
   "id": "ae1932cb-7c3a-4514-bdf9-c05f83af0e18",
   "metadata": {},
   "outputs": [
    {
     "ename": "ModuleNotFoundError",
     "evalue": "No module named 'pycaret'",
     "output_type": "error",
     "traceback": [
      "\u001b[31m---------------------------------------------------------------------------\u001b[39m",
      "\u001b[31mModuleNotFoundError\u001b[39m                       Traceback (most recent call last)",
      "\u001b[36mCell\u001b[39m\u001b[36m \u001b[39m\u001b[32mIn[66]\u001b[39m\u001b[32m, line 1\u001b[39m\n\u001b[32m----> \u001b[39m\u001b[32m1\u001b[39m \u001b[38;5;28;01mfrom\u001b[39;00m\u001b[38;5;250m \u001b[39m\u001b[34;01mpycaret\u001b[39;00m\u001b[34;01m.\u001b[39;00m\u001b[34;01mclassification\u001b[39;00m\u001b[38;5;250m \u001b[39m\u001b[38;5;28;01mimport\u001b[39;00m setup\n\u001b[32m      2\u001b[39m \u001b[38;5;28mprint\u001b[39m(\u001b[33m\"\u001b[39m\u001b[33mPyCaret imported successfully \u001b[39m\u001b[33m\"\u001b[39m)\n",
      "\u001b[31mModuleNotFoundError\u001b[39m: No module named 'pycaret'"
     ]
    }
   ],
   "source": [
    "from pycaret.classification import setup\n",
    "print(\"PyCaret imported successfully \")\n"
   ]
  },
  {
   "cell_type": "code",
   "execution_count": null,
   "id": "3792a5a7-0e1c-4987-9676-161749f2866c",
   "metadata": {},
   "outputs": [],
   "source": [
    "import sys\n",
    "print(sys.executable)\n"
   ]
  },
  {
   "cell_type": "code",
   "execution_count": null,
   "id": "fea268c7-08f0-41db-9cb7-035b1831cbb2",
   "metadata": {},
   "outputs": [],
   "source": [
    "!C:\\Users\\arrkr\\py310_env\\Scripts\\python.exe -m pip install pycaret==3.3.2\n"
   ]
  },
  {
   "cell_type": "code",
   "execution_count": 69,
   "id": "5218aebe-4da1-4bc3-8d6d-cbfb9c33803d",
   "metadata": {},
   "outputs": [
    {
     "data": {
      "text/plain": [
       "(5973, 19)"
      ]
     },
     "execution_count": 69,
     "metadata": {},
     "output_type": "execute_result"
    }
   ],
   "source": [
    "x_train_sme.shape"
   ]
  },
  {
   "cell_type": "code",
   "execution_count": 70,
   "id": "f3c66624-6c8e-430e-af57-8dac4474919f",
   "metadata": {},
   "outputs": [],
   "source": [
    "def ANN(X_train,X_test,y_train,y_test,loss,weights, optimizer):\n",
    "    model=keras.Sequential([\n",
    "    keras.layers.Dense(26,activation='relu'),\n",
    "    keras.layers.Dense(15,activation='relu'),\n",
    "    keras.layers.Dense(1,activation='sigmoid')\n",
    "    ])\n",
    "    model.compile(optimizer=optimizer,loss=loss,metrics=['accuracy'])\n",
    "\n",
    "    if weights==-1:\n",
    "        model.fit(X_train,y_train,epochs=100)\n",
    "    else:\n",
    "        model.fit(X_train,y_train,epochs=100,class_weight=weights)\n",
    "    print(model.evaluate(X_test,y_test))\n",
    "    y_pred=model.predict(X_test)\n",
    "    y_pred=np.round(y_pred)\n",
    "    print(\"Classification_report: \",classification_report(y_test,y_pred))\n",
    "    return y_pred"
   ]
  },
  {
   "cell_type": "code",
   "execution_count": 71,
   "id": "ece04658-b14c-4e43-9610-01d0f35b013f",
   "metadata": {},
   "outputs": [
    {
     "name": "stdout",
     "output_type": "stream",
     "text": [
      "Epoch 1/100\n",
      "\u001b[1m187/187\u001b[0m \u001b[32m━━━━━━━━━━━━━━━━━━━━\u001b[0m\u001b[37m\u001b[0m \u001b[1m1s\u001b[0m 1ms/step - accuracy: 0.6576 - loss: 0.6129    \n",
      "Epoch 2/100\n",
      "\u001b[1m187/187\u001b[0m \u001b[32m━━━━━━━━━━━━━━━━━━━━\u001b[0m\u001b[37m\u001b[0m \u001b[1m0s\u001b[0m 1ms/step - accuracy: 0.8172 - loss: 0.3982 \n",
      "Epoch 3/100\n",
      "\u001b[1m187/187\u001b[0m \u001b[32m━━━━━━━━━━━━━━━━━━━━\u001b[0m\u001b[37m\u001b[0m \u001b[1m0s\u001b[0m 1ms/step - accuracy: 0.8481 - loss: 0.3497 \n",
      "Epoch 4/100\n",
      "\u001b[1m187/187\u001b[0m \u001b[32m━━━━━━━━━━━━━━━━━━━━\u001b[0m\u001b[37m\u001b[0m \u001b[1m0s\u001b[0m 1ms/step - accuracy: 0.8617 - loss: 0.3126 \n",
      "Epoch 5/100\n",
      "\u001b[1m187/187\u001b[0m \u001b[32m━━━━━━━━━━━━━━━━━━━━\u001b[0m\u001b[37m\u001b[0m \u001b[1m0s\u001b[0m 1ms/step - accuracy: 0.8702 - loss: 0.2935 \n",
      "Epoch 6/100\n",
      "\u001b[1m187/187\u001b[0m \u001b[32m━━━━━━━━━━━━━━━━━━━━\u001b[0m\u001b[37m\u001b[0m \u001b[1m0s\u001b[0m 1ms/step - accuracy: 0.8721 - loss: 0.2829 \n",
      "Epoch 7/100\n",
      "\u001b[1m187/187\u001b[0m \u001b[32m━━━━━━━━━━━━━━━━━━━━\u001b[0m\u001b[37m\u001b[0m \u001b[1m0s\u001b[0m 1ms/step - accuracy: 0.8998 - loss: 0.2491 \n",
      "Epoch 8/100\n",
      "\u001b[1m187/187\u001b[0m \u001b[32m━━━━━━━━━━━━━━━━━━━━\u001b[0m\u001b[37m\u001b[0m \u001b[1m0s\u001b[0m 1ms/step - accuracy: 0.9184 - loss: 0.2227 \n",
      "Epoch 9/100\n",
      "\u001b[1m187/187\u001b[0m \u001b[32m━━━━━━━━━━━━━━━━━━━━\u001b[0m\u001b[37m\u001b[0m \u001b[1m0s\u001b[0m 1ms/step - accuracy: 0.9259 - loss: 0.2063 \n",
      "Epoch 10/100\n",
      "\u001b[1m187/187\u001b[0m \u001b[32m━━━━━━━━━━━━━━━━━━━━\u001b[0m\u001b[37m\u001b[0m \u001b[1m0s\u001b[0m 1ms/step - accuracy: 0.9336 - loss: 0.1917 \n",
      "Epoch 11/100\n",
      "\u001b[1m187/187\u001b[0m \u001b[32m━━━━━━━━━━━━━━━━━━━━\u001b[0m\u001b[37m\u001b[0m \u001b[1m0s\u001b[0m 1ms/step - accuracy: 0.9369 - loss: 0.1890 \n",
      "Epoch 12/100\n",
      "\u001b[1m187/187\u001b[0m \u001b[32m━━━━━━━━━━━━━━━━━━━━\u001b[0m\u001b[37m\u001b[0m \u001b[1m0s\u001b[0m 1ms/step - accuracy: 0.9429 - loss: 0.1764 \n",
      "Epoch 13/100\n",
      "\u001b[1m187/187\u001b[0m \u001b[32m━━━━━━━━━━━━━━━━━━━━\u001b[0m\u001b[37m\u001b[0m \u001b[1m0s\u001b[0m 1ms/step - accuracy: 0.9381 - loss: 0.1733 \n",
      "Epoch 14/100\n",
      "\u001b[1m187/187\u001b[0m \u001b[32m━━━━━━━━━━━━━━━━━━━━\u001b[0m\u001b[37m\u001b[0m \u001b[1m0s\u001b[0m 1ms/step - accuracy: 0.9498 - loss: 0.1617 \n",
      "Epoch 15/100\n",
      "\u001b[1m187/187\u001b[0m \u001b[32m━━━━━━━━━━━━━━━━━━━━\u001b[0m\u001b[37m\u001b[0m \u001b[1m0s\u001b[0m 1ms/step - accuracy: 0.9552 - loss: 0.1423 \n",
      "Epoch 16/100\n",
      "\u001b[1m187/187\u001b[0m \u001b[32m━━━━━━━━━━━━━━━━━━━━\u001b[0m\u001b[37m\u001b[0m \u001b[1m0s\u001b[0m 1ms/step - accuracy: 0.9576 - loss: 0.1431 \n",
      "Epoch 17/100\n",
      "\u001b[1m187/187\u001b[0m \u001b[32m━━━━━━━━━━━━━━━━━━━━\u001b[0m\u001b[37m\u001b[0m \u001b[1m0s\u001b[0m 1ms/step - accuracy: 0.9627 - loss: 0.1275 \n",
      "Epoch 18/100\n",
      "\u001b[1m187/187\u001b[0m \u001b[32m━━━━━━━━━━━━━━━━━━━━\u001b[0m\u001b[37m\u001b[0m \u001b[1m0s\u001b[0m 1ms/step - accuracy: 0.9650 - loss: 0.1232 \n",
      "Epoch 19/100\n",
      "\u001b[1m187/187\u001b[0m \u001b[32m━━━━━━━━━━━━━━━━━━━━\u001b[0m\u001b[37m\u001b[0m \u001b[1m0s\u001b[0m 1ms/step - accuracy: 0.9654 - loss: 0.1278 \n",
      "Epoch 20/100\n",
      "\u001b[1m187/187\u001b[0m \u001b[32m━━━━━━━━━━━━━━━━━━━━\u001b[0m\u001b[37m\u001b[0m \u001b[1m0s\u001b[0m 1ms/step - accuracy: 0.9687 - loss: 0.1153 \n",
      "Epoch 21/100\n",
      "\u001b[1m187/187\u001b[0m \u001b[32m━━━━━━━━━━━━━━━━━━━━\u001b[0m\u001b[37m\u001b[0m \u001b[1m0s\u001b[0m 1ms/step - accuracy: 0.9643 - loss: 0.1182 \n",
      "Epoch 22/100\n",
      "\u001b[1m187/187\u001b[0m \u001b[32m━━━━━━━━━━━━━━━━━━━━\u001b[0m\u001b[37m\u001b[0m \u001b[1m0s\u001b[0m 1ms/step - accuracy: 0.9723 - loss: 0.1057 \n",
      "Epoch 23/100\n",
      "\u001b[1m187/187\u001b[0m \u001b[32m━━━━━━━━━━━━━━━━━━━━\u001b[0m\u001b[37m\u001b[0m \u001b[1m0s\u001b[0m 1ms/step - accuracy: 0.9699 - loss: 0.1057 \n",
      "Epoch 24/100\n",
      "\u001b[1m187/187\u001b[0m \u001b[32m━━━━━━━━━━━━━━━━━━━━\u001b[0m\u001b[37m\u001b[0m \u001b[1m0s\u001b[0m 1ms/step - accuracy: 0.9734 - loss: 0.1012 \n",
      "Epoch 25/100\n",
      "\u001b[1m187/187\u001b[0m \u001b[32m━━━━━━━━━━━━━━━━━━━━\u001b[0m\u001b[37m\u001b[0m \u001b[1m0s\u001b[0m 1ms/step - accuracy: 0.9760 - loss: 0.0984 \n",
      "Epoch 26/100\n",
      "\u001b[1m187/187\u001b[0m \u001b[32m━━━━━━━━━━━━━━━━━━━━\u001b[0m\u001b[37m\u001b[0m \u001b[1m0s\u001b[0m 1ms/step - accuracy: 0.9729 - loss: 0.0914 \n",
      "Epoch 27/100\n",
      "\u001b[1m187/187\u001b[0m \u001b[32m━━━━━━━━━━━━━━━━━━━━\u001b[0m\u001b[37m\u001b[0m \u001b[1m0s\u001b[0m 1ms/step - accuracy: 0.9744 - loss: 0.0937 \n",
      "Epoch 28/100\n",
      "\u001b[1m187/187\u001b[0m \u001b[32m━━━━━━━━━━━━━━━━━━━━\u001b[0m\u001b[37m\u001b[0m \u001b[1m0s\u001b[0m 1ms/step - accuracy: 0.9812 - loss: 0.0749 \n",
      "Epoch 29/100\n",
      "\u001b[1m187/187\u001b[0m \u001b[32m━━━━━━━━━━━━━━━━━━━━\u001b[0m\u001b[37m\u001b[0m \u001b[1m0s\u001b[0m 1ms/step - accuracy: 0.9799 - loss: 0.0738 \n",
      "Epoch 30/100\n",
      "\u001b[1m187/187\u001b[0m \u001b[32m━━━━━━━━━━━━━━━━━━━━\u001b[0m\u001b[37m\u001b[0m \u001b[1m0s\u001b[0m 1ms/step - accuracy: 0.9833 - loss: 0.0670 \n",
      "Epoch 31/100\n",
      "\u001b[1m187/187\u001b[0m \u001b[32m━━━━━━━━━━━━━━━━━━━━\u001b[0m\u001b[37m\u001b[0m \u001b[1m0s\u001b[0m 1ms/step - accuracy: 0.9832 - loss: 0.0696 \n",
      "Epoch 32/100\n",
      "\u001b[1m187/187\u001b[0m \u001b[32m━━━━━━━━━━━━━━━━━━━━\u001b[0m\u001b[37m\u001b[0m \u001b[1m0s\u001b[0m 1ms/step - accuracy: 0.9852 - loss: 0.0704 \n",
      "Epoch 33/100\n",
      "\u001b[1m187/187\u001b[0m \u001b[32m━━━━━━━━━━━━━━━━━━━━\u001b[0m\u001b[37m\u001b[0m \u001b[1m0s\u001b[0m 1ms/step - accuracy: 0.9858 - loss: 0.0648 \n",
      "Epoch 34/100\n",
      "\u001b[1m187/187\u001b[0m \u001b[32m━━━━━━━━━━━━━━━━━━━━\u001b[0m\u001b[37m\u001b[0m \u001b[1m0s\u001b[0m 1ms/step - accuracy: 0.9832 - loss: 0.0643 \n",
      "Epoch 35/100\n",
      "\u001b[1m187/187\u001b[0m \u001b[32m━━━━━━━━━━━━━━━━━━━━\u001b[0m\u001b[37m\u001b[0m \u001b[1m0s\u001b[0m 1ms/step - accuracy: 0.9849 - loss: 0.0585 \n",
      "Epoch 36/100\n",
      "\u001b[1m187/187\u001b[0m \u001b[32m━━━━━━━━━━━━━━━━━━━━\u001b[0m\u001b[37m\u001b[0m \u001b[1m0s\u001b[0m 1ms/step - accuracy: 0.9874 - loss: 0.0554 \n",
      "Epoch 37/100\n",
      "\u001b[1m187/187\u001b[0m \u001b[32m━━━━━━━━━━━━━━━━━━━━\u001b[0m\u001b[37m\u001b[0m \u001b[1m0s\u001b[0m 1ms/step - accuracy: 0.9866 - loss: 0.0592 \n",
      "Epoch 38/100\n",
      "\u001b[1m187/187\u001b[0m \u001b[32m━━━━━━━━━━━━━━━━━━━━\u001b[0m\u001b[37m\u001b[0m \u001b[1m0s\u001b[0m 1ms/step - accuracy: 0.9849 - loss: 0.0592 \n",
      "Epoch 39/100\n",
      "\u001b[1m187/187\u001b[0m \u001b[32m━━━━━━━━━━━━━━━━━━━━\u001b[0m\u001b[37m\u001b[0m \u001b[1m0s\u001b[0m 1ms/step - accuracy: 0.9891 - loss: 0.0538 \n",
      "Epoch 40/100\n",
      "\u001b[1m187/187\u001b[0m \u001b[32m━━━━━━━━━━━━━━━━━━━━\u001b[0m\u001b[37m\u001b[0m \u001b[1m0s\u001b[0m 1ms/step - accuracy: 0.9911 - loss: 0.0468 \n",
      "Epoch 41/100\n",
      "\u001b[1m187/187\u001b[0m \u001b[32m━━━━━━━━━━━━━━━━━━━━\u001b[0m\u001b[37m\u001b[0m \u001b[1m0s\u001b[0m 1ms/step - accuracy: 0.9892 - loss: 0.0443 \n",
      "Epoch 42/100\n",
      "\u001b[1m187/187\u001b[0m \u001b[32m━━━━━━━━━━━━━━━━━━━━\u001b[0m\u001b[37m\u001b[0m \u001b[1m0s\u001b[0m 1ms/step - accuracy: 0.9903 - loss: 0.0478 \n",
      "Epoch 43/100\n",
      "\u001b[1m187/187\u001b[0m \u001b[32m━━━━━━━━━━━━━━━━━━━━\u001b[0m\u001b[37m\u001b[0m \u001b[1m0s\u001b[0m 1ms/step - accuracy: 0.9912 - loss: 0.0429 \n",
      "Epoch 44/100\n",
      "\u001b[1m187/187\u001b[0m \u001b[32m━━━━━━━━━━━━━━━━━━━━\u001b[0m\u001b[37m\u001b[0m \u001b[1m0s\u001b[0m 1ms/step - accuracy: 0.9912 - loss: 0.0390 \n",
      "Epoch 45/100\n",
      "\u001b[1m187/187\u001b[0m \u001b[32m━━━━━━━━━━━━━━━━━━━━\u001b[0m\u001b[37m\u001b[0m \u001b[1m0s\u001b[0m 1ms/step - accuracy: 0.9919 - loss: 0.0421 \n",
      "Epoch 46/100\n",
      "\u001b[1m187/187\u001b[0m \u001b[32m━━━━━━━━━━━━━━━━━━━━\u001b[0m\u001b[37m\u001b[0m \u001b[1m0s\u001b[0m 1ms/step - accuracy: 0.9927 - loss: 0.0351 \n",
      "Epoch 47/100\n",
      "\u001b[1m187/187\u001b[0m \u001b[32m━━━━━━━━━━━━━━━━━━━━\u001b[0m\u001b[37m\u001b[0m \u001b[1m0s\u001b[0m 1ms/step - accuracy: 0.9938 - loss: 0.0331 \n",
      "Epoch 48/100\n",
      "\u001b[1m187/187\u001b[0m \u001b[32m━━━━━━━━━━━━━━━━━━━━\u001b[0m\u001b[37m\u001b[0m \u001b[1m0s\u001b[0m 1ms/step - accuracy: 0.9929 - loss: 0.0339 \n",
      "Epoch 49/100\n",
      "\u001b[1m187/187\u001b[0m \u001b[32m━━━━━━━━━━━━━━━━━━━━\u001b[0m\u001b[37m\u001b[0m \u001b[1m0s\u001b[0m 1ms/step - accuracy: 0.9956 - loss: 0.0296 \n",
      "Epoch 50/100\n",
      "\u001b[1m187/187\u001b[0m \u001b[32m━━━━━━━━━━━━━━━━━━━━\u001b[0m\u001b[37m\u001b[0m \u001b[1m0s\u001b[0m 1ms/step - accuracy: 0.9902 - loss: 0.0356 \n",
      "Epoch 51/100\n",
      "\u001b[1m187/187\u001b[0m \u001b[32m━━━━━━━━━━━━━━━━━━━━\u001b[0m\u001b[37m\u001b[0m \u001b[1m0s\u001b[0m 1ms/step - accuracy: 0.9964 - loss: 0.0262 \n",
      "Epoch 52/100\n",
      "\u001b[1m187/187\u001b[0m \u001b[32m━━━━━━━━━━━━━━━━━━━━\u001b[0m\u001b[37m\u001b[0m \u001b[1m0s\u001b[0m 1ms/step - accuracy: 0.9964 - loss: 0.0269 \n",
      "Epoch 53/100\n",
      "\u001b[1m187/187\u001b[0m \u001b[32m━━━━━━━━━━━━━━━━━━━━\u001b[0m\u001b[37m\u001b[0m \u001b[1m0s\u001b[0m 1ms/step - accuracy: 0.9976 - loss: 0.0236 \n",
      "Epoch 54/100\n",
      "\u001b[1m187/187\u001b[0m \u001b[32m━━━━━━━━━━━━━━━━━━━━\u001b[0m\u001b[37m\u001b[0m \u001b[1m0s\u001b[0m 1ms/step - accuracy: 0.9963 - loss: 0.0278 \n",
      "Epoch 55/100\n",
      "\u001b[1m187/187\u001b[0m \u001b[32m━━━━━━━━━━━━━━━━━━━━\u001b[0m\u001b[37m\u001b[0m \u001b[1m0s\u001b[0m 1ms/step - accuracy: 0.9963 - loss: 0.0255 \n",
      "Epoch 56/100\n",
      "\u001b[1m187/187\u001b[0m \u001b[32m━━━━━━━━━━━━━━━━━━━━\u001b[0m\u001b[37m\u001b[0m \u001b[1m0s\u001b[0m 1ms/step - accuracy: 0.9955 - loss: 0.0292 \n",
      "Epoch 57/100\n",
      "\u001b[1m187/187\u001b[0m \u001b[32m━━━━━━━━━━━━━━━━━━━━\u001b[0m\u001b[37m\u001b[0m \u001b[1m0s\u001b[0m 1ms/step - accuracy: 0.9961 - loss: 0.0241 \n",
      "Epoch 58/100\n",
      "\u001b[1m187/187\u001b[0m \u001b[32m━━━━━━━━━━━━━━━━━━━━\u001b[0m\u001b[37m\u001b[0m \u001b[1m0s\u001b[0m 1ms/step - accuracy: 0.9974 - loss: 0.0211 \n",
      "Epoch 59/100\n",
      "\u001b[1m187/187\u001b[0m \u001b[32m━━━━━━━━━━━━━━━━━━━━\u001b[0m\u001b[37m\u001b[0m \u001b[1m0s\u001b[0m 1ms/step - accuracy: 0.9953 - loss: 0.0243 \n",
      "Epoch 60/100\n",
      "\u001b[1m187/187\u001b[0m \u001b[32m━━━━━━━━━━━━━━━━━━━━\u001b[0m\u001b[37m\u001b[0m \u001b[1m0s\u001b[0m 1ms/step - accuracy: 0.9948 - loss: 0.0243 \n",
      "Epoch 61/100\n",
      "\u001b[1m187/187\u001b[0m \u001b[32m━━━━━━━━━━━━━━━━━━━━\u001b[0m\u001b[37m\u001b[0m \u001b[1m0s\u001b[0m 1ms/step - accuracy: 0.9968 - loss: 0.0220 \n",
      "Epoch 62/100\n",
      "\u001b[1m187/187\u001b[0m \u001b[32m━━━━━━━━━━━━━━━━━━━━\u001b[0m\u001b[37m\u001b[0m \u001b[1m0s\u001b[0m 1ms/step - accuracy: 0.9976 - loss: 0.0191 \n",
      "Epoch 63/100\n",
      "\u001b[1m187/187\u001b[0m \u001b[32m━━━━━━━━━━━━━━━━━━━━\u001b[0m\u001b[37m\u001b[0m \u001b[1m0s\u001b[0m 1ms/step - accuracy: 0.9980 - loss: 0.0177 \n",
      "Epoch 64/100\n",
      "\u001b[1m187/187\u001b[0m \u001b[32m━━━━━━━━━━━━━━━━━━━━\u001b[0m\u001b[37m\u001b[0m \u001b[1m0s\u001b[0m 1ms/step - accuracy: 0.9966 - loss: 0.0176 \n",
      "Epoch 65/100\n",
      "\u001b[1m187/187\u001b[0m \u001b[32m━━━━━━━━━━━━━━━━━━━━\u001b[0m\u001b[37m\u001b[0m \u001b[1m0s\u001b[0m 1ms/step - accuracy: 0.9972 - loss: 0.0172 \n",
      "Epoch 66/100\n",
      "\u001b[1m187/187\u001b[0m \u001b[32m━━━━━━━━━━━━━━━━━━━━\u001b[0m\u001b[37m\u001b[0m \u001b[1m0s\u001b[0m 1ms/step - accuracy: 0.9976 - loss: 0.0171 \n",
      "Epoch 67/100\n",
      "\u001b[1m187/187\u001b[0m \u001b[32m━━━━━━━━━━━━━━━━━━━━\u001b[0m\u001b[37m\u001b[0m \u001b[1m0s\u001b[0m 1ms/step - accuracy: 0.9966 - loss: 0.0161 \n",
      "Epoch 68/100\n",
      "\u001b[1m187/187\u001b[0m \u001b[32m━━━━━━━━━━━━━━━━━━━━\u001b[0m\u001b[37m\u001b[0m \u001b[1m0s\u001b[0m 1ms/step - accuracy: 0.9976 - loss: 0.0159 \n",
      "Epoch 69/100\n",
      "\u001b[1m187/187\u001b[0m \u001b[32m━━━━━━━━━━━━━━━━━━━━\u001b[0m\u001b[37m\u001b[0m \u001b[1m0s\u001b[0m 1ms/step - accuracy: 0.9973 - loss: 0.0151 \n",
      "Epoch 70/100\n",
      "\u001b[1m187/187\u001b[0m \u001b[32m━━━━━━━━━━━━━━━━━━━━\u001b[0m\u001b[37m\u001b[0m \u001b[1m0s\u001b[0m 1ms/step - accuracy: 0.9990 - loss: 0.0132 \n",
      "Epoch 71/100\n",
      "\u001b[1m187/187\u001b[0m \u001b[32m━━━━━━━━━━━━━━━━━━━━\u001b[0m\u001b[37m\u001b[0m \u001b[1m0s\u001b[0m 1ms/step - accuracy: 0.9992 - loss: 0.0131 \n",
      "Epoch 72/100\n",
      "\u001b[1m187/187\u001b[0m \u001b[32m━━━━━━━━━━━━━━━━━━━━\u001b[0m\u001b[37m\u001b[0m \u001b[1m0s\u001b[0m 1ms/step - accuracy: 0.9984 - loss: 0.0137 \n",
      "Epoch 73/100\n",
      "\u001b[1m187/187\u001b[0m \u001b[32m━━━━━━━━━━━━━━━━━━━━\u001b[0m\u001b[37m\u001b[0m \u001b[1m0s\u001b[0m 1ms/step - accuracy: 0.9983 - loss: 0.0125 \n",
      "Epoch 74/100\n",
      "\u001b[1m187/187\u001b[0m \u001b[32m━━━━━━━━━━━━━━━━━━━━\u001b[0m\u001b[37m\u001b[0m \u001b[1m0s\u001b[0m 1ms/step - accuracy: 0.9990 - loss: 0.0117 \n",
      "Epoch 75/100\n",
      "\u001b[1m187/187\u001b[0m \u001b[32m━━━━━━━━━━━━━━━━━━━━\u001b[0m\u001b[37m\u001b[0m \u001b[1m0s\u001b[0m 1ms/step - accuracy: 0.9986 - loss: 0.0118 \n",
      "Epoch 76/100\n",
      "\u001b[1m187/187\u001b[0m \u001b[32m━━━━━━━━━━━━━━━━━━━━\u001b[0m\u001b[37m\u001b[0m \u001b[1m0s\u001b[0m 1ms/step - accuracy: 0.9988 - loss: 0.0111 \n",
      "Epoch 77/100\n",
      "\u001b[1m187/187\u001b[0m \u001b[32m━━━━━━━━━━━━━━━━━━━━\u001b[0m\u001b[37m\u001b[0m \u001b[1m0s\u001b[0m 1ms/step - accuracy: 0.9995 - loss: 0.0093 \n",
      "Epoch 78/100\n",
      "\u001b[1m187/187\u001b[0m \u001b[32m━━━━━━━━━━━━━━━━━━━━\u001b[0m\u001b[37m\u001b[0m \u001b[1m0s\u001b[0m 1ms/step - accuracy: 0.9984 - loss: 0.0112 \n",
      "Epoch 79/100\n",
      "\u001b[1m187/187\u001b[0m \u001b[32m━━━━━━━━━━━━━━━━━━━━\u001b[0m\u001b[37m\u001b[0m \u001b[1m0s\u001b[0m 1ms/step - accuracy: 0.9997 - loss: 0.0092 \n",
      "Epoch 80/100\n",
      "\u001b[1m187/187\u001b[0m \u001b[32m━━━━━━━━━━━━━━━━━━━━\u001b[0m\u001b[37m\u001b[0m \u001b[1m0s\u001b[0m 1ms/step - accuracy: 0.9989 - loss: 0.0105 \n",
      "Epoch 81/100\n",
      "\u001b[1m187/187\u001b[0m \u001b[32m━━━━━━━━━━━━━━━━━━━━\u001b[0m\u001b[37m\u001b[0m \u001b[1m0s\u001b[0m 1ms/step - accuracy: 0.9985 - loss: 0.0106 \n",
      "Epoch 82/100\n",
      "\u001b[1m187/187\u001b[0m \u001b[32m━━━━━━━━━━━━━━━━━━━━\u001b[0m\u001b[37m\u001b[0m \u001b[1m0s\u001b[0m 1ms/step - accuracy: 0.9992 - loss: 0.0090 \n",
      "Epoch 83/100\n",
      "\u001b[1m187/187\u001b[0m \u001b[32m━━━━━━━━━━━━━━━━━━━━\u001b[0m\u001b[37m\u001b[0m \u001b[1m0s\u001b[0m 1ms/step - accuracy: 0.9993 - loss: 0.0086 \n",
      "Epoch 84/100\n",
      "\u001b[1m187/187\u001b[0m \u001b[32m━━━━━━━━━━━━━━━━━━━━\u001b[0m\u001b[37m\u001b[0m \u001b[1m0s\u001b[0m 1ms/step - accuracy: 0.9997 - loss: 0.0070 \n",
      "Epoch 85/100\n",
      "\u001b[1m187/187\u001b[0m \u001b[32m━━━━━━━━━━━━━━━━━━━━\u001b[0m\u001b[37m\u001b[0m \u001b[1m0s\u001b[0m 1ms/step - accuracy: 0.9997 - loss: 0.0073 \n",
      "Epoch 86/100\n",
      "\u001b[1m187/187\u001b[0m \u001b[32m━━━━━━━━━━━━━━━━━━━━\u001b[0m\u001b[37m\u001b[0m \u001b[1m0s\u001b[0m 1ms/step - accuracy: 0.9998 - loss: 0.0073 \n",
      "Epoch 87/100\n",
      "\u001b[1m187/187\u001b[0m \u001b[32m━━━━━━━━━━━━━━━━━━━━\u001b[0m\u001b[37m\u001b[0m \u001b[1m0s\u001b[0m 1ms/step - accuracy: 0.9996 - loss: 0.0072 \n",
      "Epoch 88/100\n",
      "\u001b[1m187/187\u001b[0m \u001b[32m━━━━━━━━━━━━━━━━━━━━\u001b[0m\u001b[37m\u001b[0m \u001b[1m0s\u001b[0m 1ms/step - accuracy: 0.9997 - loss: 0.0067 \n",
      "Epoch 89/100\n",
      "\u001b[1m187/187\u001b[0m \u001b[32m━━━━━━━━━━━━━━━━━━━━\u001b[0m\u001b[37m\u001b[0m \u001b[1m0s\u001b[0m 1ms/step - accuracy: 0.9999 - loss: 0.0070 \n",
      "Epoch 90/100\n",
      "\u001b[1m187/187\u001b[0m \u001b[32m━━━━━━━━━━━━━━━━━━━━\u001b[0m\u001b[37m\u001b[0m \u001b[1m0s\u001b[0m 1ms/step - accuracy: 0.9999 - loss: 0.0057 \n",
      "Epoch 91/100\n",
      "\u001b[1m187/187\u001b[0m \u001b[32m━━━━━━━━━━━━━━━━━━━━\u001b[0m\u001b[37m\u001b[0m \u001b[1m0s\u001b[0m 1ms/step - accuracy: 1.0000 - loss: 0.0059 \n",
      "Epoch 92/100\n",
      "\u001b[1m187/187\u001b[0m \u001b[32m━━━━━━━━━━━━━━━━━━━━\u001b[0m\u001b[37m\u001b[0m \u001b[1m0s\u001b[0m 1ms/step - accuracy: 0.9999 - loss: 0.0059 \n",
      "Epoch 93/100\n",
      "\u001b[1m187/187\u001b[0m \u001b[32m━━━━━━━━━━━━━━━━━━━━\u001b[0m\u001b[37m\u001b[0m \u001b[1m0s\u001b[0m 1ms/step - accuracy: 0.9999 - loss: 0.0055 \n",
      "Epoch 94/100\n",
      "\u001b[1m187/187\u001b[0m \u001b[32m━━━━━━━━━━━━━━━━━━━━\u001b[0m\u001b[37m\u001b[0m \u001b[1m0s\u001b[0m 1ms/step - accuracy: 0.9999 - loss: 0.0059 \n",
      "Epoch 95/100\n",
      "\u001b[1m187/187\u001b[0m \u001b[32m━━━━━━━━━━━━━━━━━━━━\u001b[0m\u001b[37m\u001b[0m \u001b[1m0s\u001b[0m 1ms/step - accuracy: 0.9998 - loss: 0.0049 \n",
      "Epoch 96/100\n",
      "\u001b[1m187/187\u001b[0m \u001b[32m━━━━━━━━━━━━━━━━━━━━\u001b[0m\u001b[37m\u001b[0m \u001b[1m0s\u001b[0m 1ms/step - accuracy: 0.9999 - loss: 0.0051 \n",
      "Epoch 97/100\n",
      "\u001b[1m187/187\u001b[0m \u001b[32m━━━━━━━━━━━━━━━━━━━━\u001b[0m\u001b[37m\u001b[0m \u001b[1m0s\u001b[0m 1ms/step - accuracy: 0.9998 - loss: 0.0049 \n",
      "Epoch 98/100\n",
      "\u001b[1m187/187\u001b[0m \u001b[32m━━━━━━━━━━━━━━━━━━━━\u001b[0m\u001b[37m\u001b[0m \u001b[1m0s\u001b[0m 1ms/step - accuracy: 1.0000 - loss: 0.0038 \n",
      "Epoch 99/100\n",
      "\u001b[1m187/187\u001b[0m \u001b[32m━━━━━━━━━━━━━━━━━━━━\u001b[0m\u001b[37m\u001b[0m \u001b[1m0s\u001b[0m 1ms/step - accuracy: 0.9999 - loss: 0.0052 \n",
      "Epoch 100/100\n",
      "\u001b[1m187/187\u001b[0m \u001b[32m━━━━━━━━━━━━━━━━━━━━\u001b[0m\u001b[37m\u001b[0m \u001b[1m0s\u001b[0m 1ms/step - accuracy: 1.0000 - loss: 0.0038 \n",
      "\u001b[1m81/81\u001b[0m \u001b[32m━━━━━━━━━━━━━━━━━━━━\u001b[0m\u001b[37m\u001b[0m \u001b[1m0s\u001b[0m 1ms/step - accuracy: 0.9782 - loss: 0.0969  \n",
      "[0.10149931162595749, 0.976962149143219]\n",
      "\u001b[1m81/81\u001b[0m \u001b[32m━━━━━━━━━━━━━━━━━━━━\u001b[0m\u001b[37m\u001b[0m \u001b[1m0s\u001b[0m 1ms/step  \n",
      "Classification_report:                precision    recall  f1-score   support\n",
      "\n",
      "           0       0.99      0.96      0.97      1164\n",
      "           1       0.97      0.99      0.98      1397\n",
      "\n",
      "    accuracy                           0.98      2561\n",
      "   macro avg       0.98      0.98      0.98      2561\n",
      "weighted avg       0.98      0.98      0.98      2561\n",
      "\n"
     ]
    }
   ],
   "source": [
    "import keras\n",
    "\n",
    "y_pred=ANN(x_train_sme,x_test_sme,y_train_sme,y_test_sme,'binary_crossentropy',-1, optimizer='adam')"
   ]
  },
  {
   "cell_type": "code",
   "execution_count": 72,
   "id": "2f4a57f5-16ff-4fe9-a18a-2ba0fd2738eb",
   "metadata": {},
   "outputs": [
    {
     "name": "stdout",
     "output_type": "stream",
     "text": [
      "Defaulting to user installation because normal site-packages is not writeable\n",
      "Requirement already satisfied: scikeras in c:\\users\\arrkr\\appdata\\roaming\\python\\python310\\site-packages (0.13.0)\n",
      "Requirement already satisfied: keras>=3.2.0 in c:\\users\\arrkr\\appdata\\roaming\\python\\python310\\site-packages (from scikeras) (3.11.3)\n",
      "Requirement already satisfied: scikit-learn>=1.4.2 in c:\\users\\arrkr\\appdata\\roaming\\python\\python310\\site-packages (from scikeras) (1.4.2)\n",
      "Requirement already satisfied: absl-py in c:\\users\\arrkr\\appdata\\roaming\\python\\python310\\site-packages (from keras>=3.2.0->scikeras) (2.3.1)\n",
      "Requirement already satisfied: numpy in c:\\users\\arrkr\\appdata\\roaming\\python\\python310\\site-packages (from keras>=3.2.0->scikeras) (1.26.4)\n",
      "Requirement already satisfied: rich in c:\\users\\arrkr\\appdata\\roaming\\python\\python310\\site-packages (from keras>=3.2.0->scikeras) (14.1.0)\n",
      "Requirement already satisfied: namex in c:\\users\\arrkr\\appdata\\roaming\\python\\python310\\site-packages (from keras>=3.2.0->scikeras) (0.1.0)\n",
      "Requirement already satisfied: h5py in c:\\users\\arrkr\\appdata\\roaming\\python\\python310\\site-packages (from keras>=3.2.0->scikeras) (3.14.0)\n",
      "Requirement already satisfied: optree in c:\\users\\arrkr\\appdata\\roaming\\python\\python310\\site-packages (from keras>=3.2.0->scikeras) (0.17.0)\n",
      "Requirement already satisfied: ml-dtypes in c:\\users\\arrkr\\appdata\\roaming\\python\\python310\\site-packages (from keras>=3.2.0->scikeras) (0.5.3)\n",
      "Requirement already satisfied: packaging in c:\\users\\arrkr\\appdata\\roaming\\python\\python310\\site-packages (from keras>=3.2.0->scikeras) (25.0)\n",
      "Requirement already satisfied: scipy>=1.6.0 in c:\\users\\arrkr\\appdata\\roaming\\python\\python310\\site-packages (from scikit-learn>=1.4.2->scikeras) (1.11.4)\n",
      "Requirement already satisfied: joblib>=1.2.0 in c:\\users\\arrkr\\appdata\\roaming\\python\\python310\\site-packages (from scikit-learn>=1.4.2->scikeras) (1.3.2)\n",
      "Requirement already satisfied: threadpoolctl>=2.0.0 in c:\\users\\arrkr\\appdata\\roaming\\python\\python310\\site-packages (from scikit-learn>=1.4.2->scikeras) (3.6.0)\n",
      "Requirement already satisfied: typing-extensions>=4.6.0 in c:\\users\\arrkr\\appdata\\roaming\\python\\python310\\site-packages (from optree->keras>=3.2.0->scikeras) (4.14.0)\n",
      "Requirement already satisfied: markdown-it-py>=2.2.0 in c:\\users\\arrkr\\appdata\\roaming\\python\\python310\\site-packages (from rich->keras>=3.2.0->scikeras) (4.0.0)\n",
      "Requirement already satisfied: pygments<3.0.0,>=2.13.0 in c:\\users\\arrkr\\appdata\\roaming\\python\\python310\\site-packages (from rich->keras>=3.2.0->scikeras) (2.19.2)\n",
      "Requirement already satisfied: mdurl~=0.1 in c:\\users\\arrkr\\appdata\\roaming\\python\\python310\\site-packages (from markdown-it-py>=2.2.0->rich->keras>=3.2.0->scikeras) (0.1.2)\n"
     ]
    }
   ],
   "source": [
    "!pip install scikeras"
   ]
  },
  {
   "cell_type": "code",
   "execution_count": 73,
   "id": "a1adc308-7776-4167-ac70-aa9d2191020a",
   "metadata": {},
   "outputs": [],
   "source": [
    "import numpy as np\n",
    "import tensorflow as tf\n",
    "from tensorflow import keras\n",
    "from scikeras.wrappers import KerasClassifier\n",
    "from sklearn.model_selection import GridSearchCV\n",
    "from sklearn.metrics import classification_report\n",
    "from sklearn.datasets import make_classification\n",
    "from sklearn.model_selection import train_test_split"
   ]
  },
  {
   "cell_type": "code",
   "execution_count": 74,
   "id": "26627a04-6c7d-4885-bbed-c285b9436f03",
   "metadata": {},
   "outputs": [
    {
     "name": "stdout",
     "output_type": "stream",
     "text": [
      "Starting grid search...\n",
      "\n",
      "Grid search complete!\n",
      "Best Score: 0.9779\n",
      "Best Parameters:  {'model__loss': 'binary_crossentropy', 'model__optimizer': 'adam', 'model__units_layer1': 64, 'model__units_layer2': 16}\n",
      "\n",
      "--- Evaluation of the Best Model ---\n",
      "Test Accuracy: 0.9902\n",
      "Classification Report:\n",
      "              precision    recall  f1-score   support\n",
      "\n",
      "           0       1.00      0.98      0.99      1164\n",
      "           1       0.99      1.00      0.99      1397\n",
      "\n",
      "    accuracy                           0.99      2561\n",
      "   macro avg       0.99      0.99      0.99      2561\n",
      "weighted avg       0.99      0.99      0.99      2561\n",
      "\n"
     ]
    }
   ],
   "source": [
    "import numpy as np\n",
    "import tensorflow as tf\n",
    "from tensorflow import keras\n",
    "from scikeras.wrappers import KerasClassifier\n",
    "from sklearn.model_selection import GridSearchCV\n",
    "from sklearn.metrics import classification_report\n",
    "from sklearn.datasets import make_classification\n",
    "from sklearn.model_selection import train_test_split\n",
    "\n",
    "# It's good practice to set a seed for reproducibility\n",
    "np.random.seed(42)\n",
    "tf.random.set_seed(42)\n",
    "\n",
    "\n",
    "# --- 1. Define the model-building function for KerasClassifier ---\n",
    "# This function defines the architecture and must not have any training logic (like .fit or .compile).\n",
    "# The parameters it takes (like units_layer1) will be set by GridSearchCV.\n",
    "def create_model(units_layer1=26, units_layer2=15, optimizer='adam', loss='binary_crossentropy'):\n",
    "    \"\"\"\n",
    "    Builds and returns a Keras Sequential model.\n",
    "\n",
    "    Args:\n",
    "        units_layer1 (int): Number of units for the first dense layer.\n",
    "        units_layer2 (int): Number of units for the second dense layer.\n",
    "        optimizer (str): Name of the optimizer to use.\n",
    "        loss (str): Name of the loss function to use.\n",
    "    \"\"\"\n",
    "    # Determine the input shape from the training data\n",
    "    input_shape = (x_train_sme.shape[1],)\n",
    "\n",
    "    model = keras.Sequential([\n",
    "        keras.layers.Dense(units_layer1, activation='tanh', input_shape=input_shape),\n",
    "        keras.layers.Dense(units_layer2, activation='tanh'),\n",
    "        keras.layers.Dense(1, activation='sigmoid')\n",
    "    ])\n",
    "\n",
    "    # The .compile() step is necessary inside this function\n",
    "    model.compile(optimizer=optimizer, loss=loss, metrics=['accuracy'])\n",
    "\n",
    "    return model\n",
    "\n",
    "# Define class weights\n",
    "weights = {0:1,1:1}\n",
    "\n",
    "# --- 2. Wrap the Keras model in a KerasClassifier ---\n",
    "# This wrapper makes the Keras model compatible with scikit-learn's GridSearchCV.\n",
    "# We pass the model-building function to the `build_fn` argument.\n",
    "model = KerasClassifier(\n",
    "    build_fn=create_model,\n",
    "    epochs=100,\n",
    "    batch_size=32,\n",
    "    verbose=0, # Set to 1 to see training progress for each model in the grid search\n",
    "    class_weight=weights # Pass class weights directly to the wrapper\n",
    ")\n",
    "\n",
    "# --- 3. Define the grid of hyperparameters to search ---\n",
    "# 'model__' prefix is required for parameters that get passed to the model-building function.\n",
    "param_grid = {\n",
    "    'model__optimizer': ['adam', 'rmsprop', 'nadam', 'adamw'],\n",
    "    'model__loss': ['binary_crossentropy'],\n",
    "    'model__units_layer1': [32, 64],\n",
    "    'model__units_layer2': [16, 8]\n",
    "}\n",
    "\n",
    "# --- 4. Create and run the GridSearchCV object ---\n",
    "print(\"Starting grid search...\")\n",
    "grid_search = GridSearchCV(\n",
    "    estimator=model,\n",
    "    param_grid=param_grid,\n",
    "    scoring='accuracy',\n",
    "    cv=3,\n",
    "    n_jobs=-1 # Use all available CPU cores for faster search\n",
    ")\n",
    "\n",
    "# Fit the grid search to the data\n",
    "grid_search_result = grid_search.fit(x_train_sme, y_train_sme)\n",
    "\n",
    "# --- 5. Print the results ---\n",
    "print(\"\\nGrid search complete!\")\n",
    "print(f\"Best Score: {grid_search_result.best_score_:.4f}\")\n",
    "print(\"Best Parameters: \", grid_search_result.best_params_)\n",
    "\n",
    "# --- 6. Evaluate the best model on the test data ---\n",
    "best_model = grid_search_result.best_estimator_\n",
    "y_pred_proba = best_model.predict(x_test_sme)\n",
    "y_pred = np.round(y_pred_proba)\n",
    "\n",
    "print(\"\\n--- Evaluation of the Best Model ---\")\n",
    "print(f\"Test Accuracy: {best_model.score(x_test_sme, y_test_sme):.4f}\")\n",
    "print(\"Classification Report:\")\n",
    "print(classification_report(y_test_sme, y_pred))"
   ]
  },
  {
   "cell_type": "code",
   "execution_count": 75,
   "id": "b3ab2fb5-eec0-454e-a068-d25c0249ab7d",
   "metadata": {},
   "outputs": [],
   "source": [
    "def build_best_model():\n",
    "    \"\"\"\n",
    "    Builds and compiles the Keras model with the best hyperparameters from the grid search.\n",
    "    Best Parameters: {'model__loss': 'binary_crossentropy', 'model__optimizer': 'nadam', 'model__units_layer1': 64, 'model__units_layer2': 8}\n",
    "    \"\"\"\n",
    "    # Determine the input shape from the training data\n",
    "    input_shape = (x_train_sme.shape[1],)\n",
    "\n",
    "    model = keras.Sequential([\n",
    "        keras.layers.Dense(64, activation='tanh', input_shape=input_shape),\n",
    "        keras.layers.Dense(8, activation='tanh'),\n",
    "        keras.layers.Dense(1, activation='sigmoid')\n",
    "    ])\n",
    "\n",
    "    # The .compile() step is necessary inside this function\n",
    "    model.compile(optimizer='nadam', loss='binary_crossentropy', metrics=['accuracy'])\n",
    "    return model"
   ]
  },
  {
   "cell_type": "code",
   "execution_count": 76,
   "id": "54fa3087-dd05-4b91-97e2-77e8db02394c",
   "metadata": {},
   "outputs": [],
   "source": [
    "# Build the model with the best parameters\n",
    "best_model = build_best_model()"
   ]
  },
  {
   "cell_type": "code",
   "execution_count": 77,
   "id": "a1671377-e7e0-401d-be13-8c38e15591d3",
   "metadata": {},
   "outputs": [
    {
     "name": "stdout",
     "output_type": "stream",
     "text": [
      "Training the best model...\n",
      "Model training complete.\n"
     ]
    }
   ],
   "source": [
    "# Fit the model to the scaled training data\n",
    "print(\"Training the best model...\")\n",
    "best_model.fit(x_train_sme, y_train_sme, epochs=100, batch_size=32, verbose=0)\n",
    "print(\"Model training complete.\")"
   ]
  },
  {
   "cell_type": "code",
   "execution_count": 79,
   "id": "582a9a2e-0e5b-4054-bbec-67c011aac89c",
   "metadata": {},
   "outputs": [],
   "source": [
    "# --- 3. Prepare a Prediction Function for LIME ---\n",
    "# LIME requires a function that takes a numpy array of data and returns a numpy array\n",
    "# of prediction probabilities for each class (e.g., [[prob_class_0, prob_class_1]]).\n",
    "def predict_proba_for_lime(data):\n",
    "    \"\"\"\n",
    "    A wrapper function to make predictions compatible with LIME.\n",
    "    It returns probabilities for both classes (0 and 1) for a binary classification model.\n",
    "    \"\"\"\n",
    "    preds = best_model.predict(data)\n",
    "    # Stack the probabilities for class 0 (1-preds) and class 1 (preds).\n",
    "    return np.hstack([1 - preds, preds])"
   ]
  },
  {
   "cell_type": "code",
   "execution_count": 80,
   "id": "6981ac2b-6411-4491-a305-c2cb24365796",
   "metadata": {},
   "outputs": [
    {
     "name": "stdout",
     "output_type": "stream",
     "text": [
      "Defaulting to user installation because normal site-packages is not writeable\n",
      "Collecting lime\n",
      "  Downloading lime-0.2.0.1.tar.gz (275 kB)\n",
      "  Preparing metadata (setup.py): started\n",
      "  Preparing metadata (setup.py): finished with status 'done'\n",
      "Requirement already satisfied: matplotlib in c:\\users\\arrkr\\appdata\\roaming\\python\\python310\\site-packages (from lime) (3.6.3)\n",
      "Requirement already satisfied: numpy in c:\\users\\arrkr\\appdata\\roaming\\python\\python310\\site-packages (from lime) (1.26.4)\n",
      "Requirement already satisfied: scipy in c:\\users\\arrkr\\appdata\\roaming\\python\\python310\\site-packages (from lime) (1.11.4)\n",
      "Requirement already satisfied: tqdm in c:\\users\\arrkr\\appdata\\roaming\\python\\python310\\site-packages (from lime) (4.64.1)\n",
      "Requirement already satisfied: scikit-learn>=0.18 in c:\\users\\arrkr\\appdata\\roaming\\python\\python310\\site-packages (from lime) (1.4.2)\n",
      "Collecting scikit-image>=0.12 (from lime)\n",
      "  Downloading scikit_image-0.25.2-cp310-cp310-win_amd64.whl.metadata (14 kB)\n",
      "Requirement already satisfied: networkx>=3.0 in c:\\users\\arrkr\\appdata\\roaming\\python\\python310\\site-packages (from scikit-image>=0.12->lime) (3.4.2)\n",
      "Requirement already satisfied: pillow>=10.1 in c:\\users\\arrkr\\appdata\\roaming\\python\\python310\\site-packages (from scikit-image>=0.12->lime) (11.3.0)\n",
      "Collecting imageio!=2.35.0,>=2.33 (from scikit-image>=0.12->lime)\n",
      "  Downloading imageio-2.37.0-py3-none-any.whl.metadata (5.2 kB)\n",
      "Collecting tifffile>=2022.8.12 (from scikit-image>=0.12->lime)\n",
      "  Downloading tifffile-2025.5.10-py3-none-any.whl.metadata (31 kB)\n",
      "Requirement already satisfied: packaging>=21 in c:\\users\\arrkr\\appdata\\roaming\\python\\python310\\site-packages (from scikit-image>=0.12->lime) (25.0)\n",
      "Collecting lazy-loader>=0.4 (from scikit-image>=0.12->lime)\n",
      "  Downloading lazy_loader-0.4-py3-none-any.whl.metadata (7.6 kB)\n",
      "Requirement already satisfied: joblib>=1.2.0 in c:\\users\\arrkr\\appdata\\roaming\\python\\python310\\site-packages (from scikit-learn>=0.18->lime) (1.3.2)\n",
      "Requirement already satisfied: threadpoolctl>=2.0.0 in c:\\users\\arrkr\\appdata\\roaming\\python\\python310\\site-packages (from scikit-learn>=0.18->lime) (3.6.0)\n",
      "Requirement already satisfied: contourpy>=1.0.1 in c:\\users\\arrkr\\appdata\\roaming\\python\\python310\\site-packages (from matplotlib->lime) (1.3.2)\n",
      "Requirement already satisfied: cycler>=0.10 in c:\\users\\arrkr\\appdata\\roaming\\python\\python310\\site-packages (from matplotlib->lime) (0.12.1)\n",
      "Requirement already satisfied: fonttools>=4.22.0 in c:\\users\\arrkr\\appdata\\roaming\\python\\python310\\site-packages (from matplotlib->lime) (4.59.0)\n",
      "Requirement already satisfied: kiwisolver>=1.0.1 in c:\\users\\arrkr\\appdata\\roaming\\python\\python310\\site-packages (from matplotlib->lime) (1.4.8)\n",
      "Requirement already satisfied: pyparsing>=2.2.1 in c:\\users\\arrkr\\appdata\\roaming\\python\\python310\\site-packages (from matplotlib->lime) (3.2.3)\n",
      "Requirement already satisfied: python-dateutil>=2.7 in c:\\users\\arrkr\\appdata\\roaming\\python\\python310\\site-packages (from matplotlib->lime) (2.9.0.post0)\n",
      "Requirement already satisfied: six>=1.5 in c:\\users\\arrkr\\appdata\\roaming\\python\\python310\\site-packages (from python-dateutil>=2.7->matplotlib->lime) (1.17.0)\n",
      "Requirement already satisfied: colorama in c:\\users\\arrkr\\appdata\\roaming\\python\\python310\\site-packages (from tqdm->lime) (0.4.6)\n",
      "Downloading scikit_image-0.25.2-cp310-cp310-win_amd64.whl (12.8 MB)\n",
      "   ---------------------------------------- 0.0/12.8 MB ? eta -:--:--\n",
      "   - -------------------------------------- 0.5/12.8 MB 2.8 MB/s eta 0:00:05\n",
      "   -- ------------------------------------- 0.8/12.8 MB 1.9 MB/s eta 0:00:07\n",
      "   ---- ----------------------------------- 1.3/12.8 MB 1.9 MB/s eta 0:00:07\n",
      "   ---- ----------------------------------- 1.6/12.8 MB 1.7 MB/s eta 0:00:07\n",
      "   ----- ---------------------------------- 1.8/12.8 MB 1.7 MB/s eta 0:00:07\n",
      "   ------ --------------------------------- 2.1/12.8 MB 1.6 MB/s eta 0:00:07\n",
      "   ------- -------------------------------- 2.4/12.8 MB 1.6 MB/s eta 0:00:07\n",
      "   -------- ------------------------------- 2.6/12.8 MB 1.5 MB/s eta 0:00:07\n",
      "   --------- ------------------------------ 2.9/12.8 MB 1.5 MB/s eta 0:00:07\n",
      "   --------- ------------------------------ 3.1/12.8 MB 1.5 MB/s eta 0:00:07\n",
      "   ---------- ----------------------------- 3.4/12.8 MB 1.5 MB/s eta 0:00:07\n",
      "   ------------ --------------------------- 3.9/12.8 MB 1.5 MB/s eta 0:00:06\n",
      "   ------------- -------------------------- 4.2/12.8 MB 1.5 MB/s eta 0:00:06\n",
      "   ------------- -------------------------- 4.2/12.8 MB 1.5 MB/s eta 0:00:06\n",
      "   -------------- ------------------------- 4.7/12.8 MB 1.5 MB/s eta 0:00:06\n",
      "   --------------- ------------------------ 5.0/12.8 MB 1.5 MB/s eta 0:00:06\n",
      "   ---------------- ----------------------- 5.2/12.8 MB 1.5 MB/s eta 0:00:06\n",
      "   ----------------- ---------------------- 5.5/12.8 MB 1.5 MB/s eta 0:00:06\n",
      "   ------------------ --------------------- 5.8/12.8 MB 1.4 MB/s eta 0:00:05\n",
      "   ------------------ --------------------- 6.0/12.8 MB 1.4 MB/s eta 0:00:05\n",
      "   -------------------- ------------------- 6.6/12.8 MB 1.5 MB/s eta 0:00:05\n",
      "   ---------------------- ----------------- 7.1/12.8 MB 1.5 MB/s eta 0:00:04\n",
      "   ----------------------- ---------------- 7.6/12.8 MB 1.5 MB/s eta 0:00:04\n",
      "   ------------------------ --------------- 7.9/12.8 MB 1.5 MB/s eta 0:00:04\n",
      "   ------------------------- -------------- 8.1/12.8 MB 1.5 MB/s eta 0:00:04\n",
      "   --------------------------- ------------ 8.7/12.8 MB 1.6 MB/s eta 0:00:03\n",
      "   --------------------------- ------------ 8.9/12.8 MB 1.5 MB/s eta 0:00:03\n",
      "   ----------------------------- ---------- 9.4/12.8 MB 1.6 MB/s eta 0:00:03\n",
      "   ------------------------------ --------- 9.7/12.8 MB 1.6 MB/s eta 0:00:02\n",
      "   ------------------------------- -------- 10.2/12.8 MB 1.6 MB/s eta 0:00:02\n",
      "   --------------------------------- ------ 10.7/12.8 MB 1.6 MB/s eta 0:00:02\n",
      "   ----------------------------------- ---- 11.3/12.8 MB 1.7 MB/s eta 0:00:01\n",
      "   ------------------------------------ --- 11.8/12.8 MB 1.7 MB/s eta 0:00:01\n",
      "   ------------------------------------- -- 12.1/12.8 MB 1.7 MB/s eta 0:00:01\n",
      "   ---------------------------------------  12.6/12.8 MB 1.7 MB/s eta 0:00:01\n",
      "   ---------------------------------------- 12.8/12.8 MB 1.7 MB/s  0:00:07\n",
      "Downloading imageio-2.37.0-py3-none-any.whl (315 kB)\n",
      "Downloading lazy_loader-0.4-py3-none-any.whl (12 kB)\n",
      "Downloading tifffile-2025.5.10-py3-none-any.whl (226 kB)\n",
      "Building wheels for collected packages: lime\n",
      "  Building wheel for lime (setup.py): started\n",
      "  Building wheel for lime (setup.py): finished with status 'done'\n",
      "  Created wheel for lime: filename=lime-0.2.0.1-py3-none-any.whl size=283860 sha256=6d71e3bc6e90d4b5d38278a4074aab670998cf241206afe10784f09252fcf3da\n",
      "  Stored in directory: c:\\users\\arrkr\\appdata\\local\\pip\\cache\\wheels\\fd\\a2\\af\\9ac0a1a85a27f314a06b39e1f492bee1547d52549a4606ed89\n",
      "Successfully built lime\n",
      "Installing collected packages: tifffile, lazy-loader, imageio, scikit-image, lime\n",
      "\n",
      "   ---------------------------------------- 0/5 [tifffile]\n",
      "   ---------------------------------------- 0/5 [tifffile]\n",
      "   ---------------------------------------- 0/5 [tifffile]\n",
      "   ---------------------------------------- 0/5 [tifffile]\n",
      "   ---------------------------------------- 0/5 [tifffile]\n",
      "   ---------------- ----------------------- 2/5 [imageio]\n",
      "   ---------------- ----------------------- 2/5 [imageio]\n",
      "   ---------------- ----------------------- 2/5 [imageio]\n",
      "   ---------------- ----------------------- 2/5 [imageio]\n",
      "   ---------------- ----------------------- 2/5 [imageio]\n",
      "   ---------------- ----------------------- 2/5 [imageio]\n",
      "   ------------------------ --------------- 3/5 [scikit-image]\n",
      "   ------------------------ --------------- 3/5 [scikit-image]\n",
      "   ------------------------ --------------- 3/5 [scikit-image]\n",
      "   ------------------------ --------------- 3/5 [scikit-image]\n",
      "   ------------------------ --------------- 3/5 [scikit-image]\n",
      "   ------------------------ --------------- 3/5 [scikit-image]\n",
      "   ------------------------ --------------- 3/5 [scikit-image]\n",
      "   ------------------------ --------------- 3/5 [scikit-image]\n",
      "   ------------------------ --------------- 3/5 [scikit-image]\n",
      "   ------------------------ --------------- 3/5 [scikit-image]\n",
      "   ------------------------ --------------- 3/5 [scikit-image]\n",
      "   ------------------------ --------------- 3/5 [scikit-image]\n",
      "   ------------------------ --------------- 3/5 [scikit-image]\n",
      "   ------------------------ --------------- 3/5 [scikit-image]\n",
      "   ------------------------ --------------- 3/5 [scikit-image]\n",
      "   ------------------------ --------------- 3/5 [scikit-image]\n",
      "   ------------------------ --------------- 3/5 [scikit-image]\n",
      "   ------------------------ --------------- 3/5 [scikit-image]\n",
      "   ------------------------ --------------- 3/5 [scikit-image]\n",
      "   ------------------------ --------------- 3/5 [scikit-image]\n",
      "   ------------------------ --------------- 3/5 [scikit-image]\n",
      "   ------------------------ --------------- 3/5 [scikit-image]\n",
      "   ------------------------ --------------- 3/5 [scikit-image]\n",
      "   ------------------------ --------------- 3/5 [scikit-image]\n",
      "   ------------------------ --------------- 3/5 [scikit-image]\n",
      "   ------------------------ --------------- 3/5 [scikit-image]\n",
      "   ------------------------ --------------- 3/5 [scikit-image]\n",
      "   ------------------------ --------------- 3/5 [scikit-image]\n",
      "   ------------------------ --------------- 3/5 [scikit-image]\n",
      "   ------------------------ --------------- 3/5 [scikit-image]\n",
      "   ------------------------ --------------- 3/5 [scikit-image]\n",
      "   ------------------------ --------------- 3/5 [scikit-image]\n",
      "   ------------------------ --------------- 3/5 [scikit-image]\n",
      "   -------------------------------- ------- 4/5 [lime]\n",
      "   ---------------------------------------- 5/5 [lime]\n",
      "\n",
      "Successfully installed imageio-2.37.0 lazy-loader-0.4 lime-0.2.0.1 scikit-image-0.25.2 tifffile-2025.5.10\n"
     ]
    },
    {
     "name": "stderr",
     "output_type": "stream",
     "text": [
      "  DEPRECATION: Building 'lime' using the legacy setup.py bdist_wheel mechanism, which will be removed in a future version. pip 25.3 will enforce this behaviour change. A possible replacement is to use the standardized build interface by setting the `--use-pep517` option, (possibly combined with `--no-build-isolation`), or adding a `pyproject.toml` file to the source tree of 'lime'. Discussion can be found at https://github.com/pypa/pip/issues/6334\n",
      "  WARNING: The scripts lsm2bin.exe, tiff2fsspec.exe, tiffcomment.exe and tifffile.exe are installed in 'C:\\Users\\arrkr\\AppData\\Roaming\\Python\\Python310\\Scripts' which is not on PATH.\n",
      "  Consider adding this directory to PATH or, if you prefer to suppress this warning, use --no-warn-script-location.\n",
      "  WARNING: The scripts imageio_download_bin.exe and imageio_remove_bin.exe are installed in 'C:\\Users\\arrkr\\AppData\\Roaming\\Python\\Python310\\Scripts' which is not on PATH.\n",
      "  Consider adding this directory to PATH or, if you prefer to suppress this warning, use --no-warn-script-location.\n"
     ]
    }
   ],
   "source": [
    "!pip install lime"
   ]
  },
  {
   "cell_type": "code",
   "execution_count": 82,
   "id": "021d490e-872a-4d85-b7a1-f539a369ca97",
   "metadata": {},
   "outputs": [
    {
     "name": "stdout",
     "output_type": "stream",
     "text": [
      "Defaulting to user installation because normal site-packages is not writeable\n",
      "Requirement already satisfied: lime in c:\\users\\arrkr\\appdata\\roaming\\python\\python310\\site-packages (0.2.0.1)\n",
      "Requirement already satisfied: matplotlib in c:\\users\\arrkr\\appdata\\roaming\\python\\python310\\site-packages (from lime) (3.6.3)\n",
      "Requirement already satisfied: numpy in c:\\users\\arrkr\\appdata\\roaming\\python\\python310\\site-packages (from lime) (1.26.4)\n",
      "Requirement already satisfied: scipy in c:\\users\\arrkr\\appdata\\roaming\\python\\python310\\site-packages (from lime) (1.11.4)\n",
      "Requirement already satisfied: tqdm in c:\\users\\arrkr\\appdata\\roaming\\python\\python310\\site-packages (from lime) (4.64.1)\n",
      "Requirement already satisfied: scikit-learn>=0.18 in c:\\users\\arrkr\\appdata\\roaming\\python\\python310\\site-packages (from lime) (1.4.2)\n",
      "Requirement already satisfied: scikit-image>=0.12 in c:\\users\\arrkr\\appdata\\roaming\\python\\python310\\site-packages (from lime) (0.25.2)\n",
      "Requirement already satisfied: networkx>=3.0 in c:\\users\\arrkr\\appdata\\roaming\\python\\python310\\site-packages (from scikit-image>=0.12->lime) (3.4.2)\n",
      "Requirement already satisfied: pillow>=10.1 in c:\\users\\arrkr\\appdata\\roaming\\python\\python310\\site-packages (from scikit-image>=0.12->lime) (11.3.0)\n",
      "Requirement already satisfied: imageio!=2.35.0,>=2.33 in c:\\users\\arrkr\\appdata\\roaming\\python\\python310\\site-packages (from scikit-image>=0.12->lime) (2.37.0)\n",
      "Requirement already satisfied: tifffile>=2022.8.12 in c:\\users\\arrkr\\appdata\\roaming\\python\\python310\\site-packages (from scikit-image>=0.12->lime) (2025.5.10)\n",
      "Requirement already satisfied: packaging>=21 in c:\\users\\arrkr\\appdata\\roaming\\python\\python310\\site-packages (from scikit-image>=0.12->lime) (25.0)\n",
      "Requirement already satisfied: lazy-loader>=0.4 in c:\\users\\arrkr\\appdata\\roaming\\python\\python310\\site-packages (from scikit-image>=0.12->lime) (0.4)\n",
      "Requirement already satisfied: joblib>=1.2.0 in c:\\users\\arrkr\\appdata\\roaming\\python\\python310\\site-packages (from scikit-learn>=0.18->lime) (1.3.2)\n",
      "Requirement already satisfied: threadpoolctl>=2.0.0 in c:\\users\\arrkr\\appdata\\roaming\\python\\python310\\site-packages (from scikit-learn>=0.18->lime) (3.6.0)\n",
      "Requirement already satisfied: contourpy>=1.0.1 in c:\\users\\arrkr\\appdata\\roaming\\python\\python310\\site-packages (from matplotlib->lime) (1.3.2)\n",
      "Requirement already satisfied: cycler>=0.10 in c:\\users\\arrkr\\appdata\\roaming\\python\\python310\\site-packages (from matplotlib->lime) (0.12.1)\n",
      "Requirement already satisfied: fonttools>=4.22.0 in c:\\users\\arrkr\\appdata\\roaming\\python\\python310\\site-packages (from matplotlib->lime) (4.59.0)\n",
      "Requirement already satisfied: kiwisolver>=1.0.1 in c:\\users\\arrkr\\appdata\\roaming\\python\\python310\\site-packages (from matplotlib->lime) (1.4.8)\n",
      "Requirement already satisfied: pyparsing>=2.2.1 in c:\\users\\arrkr\\appdata\\roaming\\python\\python310\\site-packages (from matplotlib->lime) (3.2.3)\n",
      "Requirement already satisfied: python-dateutil>=2.7 in c:\\users\\arrkr\\appdata\\roaming\\python\\python310\\site-packages (from matplotlib->lime) (2.9.0.post0)\n",
      "Requirement already satisfied: six>=1.5 in c:\\users\\arrkr\\appdata\\roaming\\python\\python310\\site-packages (from python-dateutil>=2.7->matplotlib->lime) (1.17.0)\n",
      "Requirement already satisfied: colorama in c:\\users\\arrkr\\appdata\\roaming\\python\\python310\\site-packages (from tqdm->lime) (0.4.6)\n"
     ]
    }
   ],
   "source": [
    "!pip install lime --no-warn-script-location\n"
   ]
  },
  {
   "cell_type": "code",
   "execution_count": 84,
   "id": "964eb86f-868d-451e-b286-fb33e81602d3",
   "metadata": {},
   "outputs": [
    {
     "name": "stdout",
     "output_type": "stream",
     "text": [
      "Collecting lime\n",
      "  Using cached lime-0.2.0.1.tar.gz (275 kB)\n",
      "  Installing build dependencies: started\n",
      "  Installing build dependencies: finished with status 'done'\n",
      "  Getting requirements to build wheel: started\n",
      "  Getting requirements to build wheel: finished with status 'done'\n",
      "  Preparing metadata (pyproject.toml): started\n",
      "  Preparing metadata (pyproject.toml): finished with status 'done'\n",
      "Requirement already satisfied: matplotlib in c:\\users\\arrkr\\appdata\\local\\programs\\python\\python313\\lib\\site-packages (from lime) (3.10.1)\n",
      "Requirement already satisfied: numpy in c:\\users\\arrkr\\appdata\\local\\programs\\python\\python313\\lib\\site-packages (from lime) (2.2.3)\n",
      "Requirement already satisfied: scipy in c:\\users\\arrkr\\appdata\\local\\programs\\python\\python313\\lib\\site-packages (from lime) (1.16.0)\n",
      "Requirement already satisfied: tqdm in c:\\users\\arrkr\\appdata\\local\\programs\\python\\python313\\lib\\site-packages (from lime) (4.67.1)\n",
      "Requirement already satisfied: scikit-learn>=0.18 in c:\\users\\arrkr\\appdata\\local\\programs\\python\\python313\\lib\\site-packages (from lime) (1.7.2)\n",
      "Collecting scikit-image>=0.12 (from lime)\n",
      "  Downloading scikit_image-0.25.2-cp313-cp313-win_amd64.whl.metadata (14 kB)\n",
      "Collecting networkx>=3.0 (from scikit-image>=0.12->lime)\n",
      "  Using cached networkx-3.5-py3-none-any.whl.metadata (6.3 kB)\n",
      "Requirement already satisfied: pillow>=10.1 in c:\\users\\arrkr\\appdata\\local\\programs\\python\\python313\\lib\\site-packages (from scikit-image>=0.12->lime) (11.1.0)\n",
      "Collecting imageio!=2.35.0,>=2.33 (from scikit-image>=0.12->lime)\n",
      "  Using cached imageio-2.37.0-py3-none-any.whl.metadata (5.2 kB)\n",
      "Collecting tifffile>=2022.8.12 (from scikit-image>=0.12->lime)\n",
      "  Downloading tifffile-2025.10.4-py3-none-any.whl.metadata (30 kB)\n",
      "Requirement already satisfied: packaging>=21 in c:\\users\\arrkr\\appdata\\local\\programs\\python\\python313\\lib\\site-packages (from scikit-image>=0.12->lime) (24.2)\n",
      "Collecting lazy-loader>=0.4 (from scikit-image>=0.12->lime)\n",
      "  Using cached lazy_loader-0.4-py3-none-any.whl.metadata (7.6 kB)\n",
      "Requirement already satisfied: joblib>=1.2.0 in c:\\users\\arrkr\\appdata\\local\\programs\\python\\python313\\lib\\site-packages (from scikit-learn>=0.18->lime) (1.5.1)\n",
      "Requirement already satisfied: threadpoolctl>=3.1.0 in c:\\users\\arrkr\\appdata\\local\\programs\\python\\python313\\lib\\site-packages (from scikit-learn>=0.18->lime) (3.6.0)\n",
      "Requirement already satisfied: contourpy>=1.0.1 in c:\\users\\arrkr\\appdata\\local\\programs\\python\\python313\\lib\\site-packages (from matplotlib->lime) (1.3.1)\n",
      "Requirement already satisfied: cycler>=0.10 in c:\\users\\arrkr\\appdata\\local\\programs\\python\\python313\\lib\\site-packages (from matplotlib->lime) (0.12.1)\n",
      "Requirement already satisfied: fonttools>=4.22.0 in c:\\users\\arrkr\\appdata\\local\\programs\\python\\python313\\lib\\site-packages (from matplotlib->lime) (4.56.0)\n",
      "Requirement already satisfied: kiwisolver>=1.3.1 in c:\\users\\arrkr\\appdata\\local\\programs\\python\\python313\\lib\\site-packages (from matplotlib->lime) (1.4.8)\n",
      "Requirement already satisfied: pyparsing>=2.3.1 in c:\\users\\arrkr\\appdata\\local\\programs\\python\\python313\\lib\\site-packages (from matplotlib->lime) (3.2.1)\n",
      "Requirement already satisfied: python-dateutil>=2.7 in c:\\users\\arrkr\\appdata\\local\\programs\\python\\python313\\lib\\site-packages (from matplotlib->lime) (2.9.0.post0)\n",
      "Requirement already satisfied: six>=1.5 in c:\\users\\arrkr\\appdata\\local\\programs\\python\\python313\\lib\\site-packages (from python-dateutil>=2.7->matplotlib->lime) (1.17.0)\n",
      "Requirement already satisfied: colorama in c:\\users\\arrkr\\appdata\\local\\programs\\python\\python313\\lib\\site-packages (from tqdm->lime) (0.4.6)\n",
      "Downloading scikit_image-0.25.2-cp313-cp313-win_amd64.whl (12.9 MB)\n",
      "   ---------------------------------------- 0.0/12.9 MB ? eta -:--:--\n",
      "    --------------------------------------- 0.3/12.9 MB ? eta -:--:--\n",
      "   --- ------------------------------------ 1.0/12.9 MB 2.5 MB/s eta 0:00:05\n",
      "   ---- ----------------------------------- 1.6/12.9 MB 2.6 MB/s eta 0:00:05\n",
      "   ------- -------------------------------- 2.4/12.9 MB 2.9 MB/s eta 0:00:04\n",
      "   -------- ------------------------------- 2.6/12.9 MB 3.1 MB/s eta 0:00:04\n",
      "   -------- ------------------------------- 2.9/12.9 MB 2.6 MB/s eta 0:00:04\n",
      "   --------- ------------------------------ 3.1/12.9 MB 2.3 MB/s eta 0:00:05\n",
      "   ----------- ---------------------------- 3.7/12.9 MB 2.2 MB/s eta 0:00:05\n",
      "   ------------- -------------------------- 4.2/12.9 MB 2.2 MB/s eta 0:00:04\n",
      "   --------------- ------------------------ 5.0/12.9 MB 2.4 MB/s eta 0:00:04\n",
      "   ----------------- ---------------------- 5.5/12.9 MB 2.5 MB/s eta 0:00:04\n",
      "   ------------------ --------------------- 6.0/12.9 MB 2.5 MB/s eta 0:00:03\n",
      "   --------------------- ------------------ 6.8/12.9 MB 2.5 MB/s eta 0:00:03\n",
      "   --------------------- ------------------ 7.1/12.9 MB 2.5 MB/s eta 0:00:03\n",
      "   ----------------------- ---------------- 7.6/12.9 MB 2.5 MB/s eta 0:00:03\n",
      "   -------------------------- ------------- 8.4/12.9 MB 2.5 MB/s eta 0:00:02\n",
      "   -------------------------- ------------- 8.7/12.9 MB 2.5 MB/s eta 0:00:02\n",
      "   --------------------------- ------------ 8.9/12.9 MB 2.5 MB/s eta 0:00:02\n",
      "   ---------------------------- ----------- 9.2/12.9 MB 2.4 MB/s eta 0:00:02\n",
      "   ------------------------------ --------- 10.0/12.9 MB 2.4 MB/s eta 0:00:02\n",
      "   --------------------------------- ------ 10.7/12.9 MB 2.5 MB/s eta 0:00:01\n",
      "   ---------------------------------- ----- 11.0/12.9 MB 2.5 MB/s eta 0:00:01\n",
      "   ------------------------------------ --- 11.8/12.9 MB 2.5 MB/s eta 0:00:01\n",
      "   -------------------------------------- - 12.3/12.9 MB 2.5 MB/s eta 0:00:01\n",
      "   ---------------------------------------- 12.9/12.9 MB 2.5 MB/s  0:00:05\n",
      "Using cached imageio-2.37.0-py3-none-any.whl (315 kB)\n",
      "Using cached lazy_loader-0.4-py3-none-any.whl (12 kB)\n",
      "Using cached networkx-3.5-py3-none-any.whl (2.0 MB)\n",
      "Downloading tifffile-2025.10.4-py3-none-any.whl (230 kB)\n",
      "Building wheels for collected packages: lime\n",
      "  Building wheel for lime (pyproject.toml): started\n",
      "  Building wheel for lime (pyproject.toml): finished with status 'done'\n",
      "  Created wheel for lime: filename=lime-0.2.0.1-py3-none-any.whl size=283918 sha256=227be6193528b96bbe80f24bc613ef1a5cbf9d129b35f7e7529f85e881ea0c41\n",
      "  Stored in directory: c:\\users\\arrkr\\appdata\\local\\pip\\cache\\wheels\\7c\\04\\5c\\157dc9106512a6c7a30653ec064490c94a49e0fc8f63d19ab9\n",
      "Successfully built lime\n",
      "Installing collected packages: tifffile, networkx, lazy-loader, imageio, scikit-image, lime\n",
      "\n",
      "   ---------------------------------------- 0/6 [tifffile]\n",
      "   ---------------------------------------- 0/6 [tifffile]\n",
      "   ---------------------------------------- 0/6 [tifffile]\n",
      "   ---------------------------------------- 0/6 [tifffile]\n",
      "   ------ --------------------------------- 1/6 [networkx]\n",
      "   ------ --------------------------------- 1/6 [networkx]\n",
      "   ------ --------------------------------- 1/6 [networkx]\n",
      "   ------ --------------------------------- 1/6 [networkx]\n",
      "   ------ --------------------------------- 1/6 [networkx]\n",
      "   ------ --------------------------------- 1/6 [networkx]\n",
      "   ------ --------------------------------- 1/6 [networkx]\n",
      "   ------ --------------------------------- 1/6 [networkx]\n",
      "   ------ --------------------------------- 1/6 [networkx]\n",
      "   ------ --------------------------------- 1/6 [networkx]\n",
      "   ------ --------------------------------- 1/6 [networkx]\n",
      "   ------ --------------------------------- 1/6 [networkx]\n",
      "   ------ --------------------------------- 1/6 [networkx]\n",
      "   ------ --------------------------------- 1/6 [networkx]\n",
      "   ------ --------------------------------- 1/6 [networkx]\n",
      "   ------ --------------------------------- 1/6 [networkx]\n",
      "   ------ --------------------------------- 1/6 [networkx]\n",
      "   ------ --------------------------------- 1/6 [networkx]\n",
      "   ------ --------------------------------- 1/6 [networkx]\n",
      "   ------ --------------------------------- 1/6 [networkx]\n",
      "   ------ --------------------------------- 1/6 [networkx]\n",
      "   ------ --------------------------------- 1/6 [networkx]\n",
      "   ------ --------------------------------- 1/6 [networkx]\n",
      "   ------ --------------------------------- 1/6 [networkx]\n",
      "   ------ --------------------------------- 1/6 [networkx]\n",
      "   ------ --------------------------------- 1/6 [networkx]\n",
      "   ------ --------------------------------- 1/6 [networkx]\n",
      "   ------ --------------------------------- 1/6 [networkx]\n",
      "   ------ --------------------------------- 1/6 [networkx]\n",
      "   ------ --------------------------------- 1/6 [networkx]\n",
      "   ------ --------------------------------- 1/6 [networkx]\n",
      "   ------ --------------------------------- 1/6 [networkx]\n",
      "   ------ --------------------------------- 1/6 [networkx]\n",
      "   ------ --------------------------------- 1/6 [networkx]\n",
      "   ------ --------------------------------- 1/6 [networkx]\n",
      "   ------ --------------------------------- 1/6 [networkx]\n",
      "   ------ --------------------------------- 1/6 [networkx]\n",
      "   ------ --------------------------------- 1/6 [networkx]\n",
      "   ------ --------------------------------- 1/6 [networkx]\n",
      "   ------ --------------------------------- 1/6 [networkx]\n",
      "   ------ --------------------------------- 1/6 [networkx]\n",
      "   ------ --------------------------------- 1/6 [networkx]\n",
      "   ------ --------------------------------- 1/6 [networkx]\n",
      "   ------ --------------------------------- 1/6 [networkx]\n",
      "   ------ --------------------------------- 1/6 [networkx]\n",
      "   ------ --------------------------------- 1/6 [networkx]\n",
      "   ------ --------------------------------- 1/6 [networkx]\n",
      "   ------ --------------------------------- 1/6 [networkx]\n",
      "   ------ --------------------------------- 1/6 [networkx]\n",
      "   ------ --------------------------------- 1/6 [networkx]\n",
      "   ------ --------------------------------- 1/6 [networkx]\n",
      "   -------------------- ------------------- 3/6 [imageio]\n",
      "   -------------------- ------------------- 3/6 [imageio]\n",
      "   -------------------- ------------------- 3/6 [imageio]\n",
      "   -------------------- ------------------- 3/6 [imageio]\n",
      "   -------------------- ------------------- 3/6 [imageio]\n",
      "   -------------------- ------------------- 3/6 [imageio]\n",
      "   -------------------- ------------------- 3/6 [imageio]\n",
      "   -------------------------- ------------- 4/6 [scikit-image]\n",
      "   -------------------------- ------------- 4/6 [scikit-image]\n",
      "   -------------------------- ------------- 4/6 [scikit-image]\n",
      "   -------------------------- ------------- 4/6 [scikit-image]\n",
      "   -------------------------- ------------- 4/6 [scikit-image]\n",
      "   -------------------------- ------------- 4/6 [scikit-image]\n",
      "   -------------------------- ------------- 4/6 [scikit-image]\n",
      "   -------------------------- ------------- 4/6 [scikit-image]\n",
      "   -------------------------- ------------- 4/6 [scikit-image]\n",
      "   -------------------------- ------------- 4/6 [scikit-image]\n",
      "   -------------------------- ------------- 4/6 [scikit-image]\n",
      "   -------------------------- ------------- 4/6 [scikit-image]\n",
      "   -------------------------- ------------- 4/6 [scikit-image]\n",
      "   -------------------------- ------------- 4/6 [scikit-image]\n",
      "   -------------------------- ------------- 4/6 [scikit-image]\n",
      "   -------------------------- ------------- 4/6 [scikit-image]\n",
      "   -------------------------- ------------- 4/6 [scikit-image]\n",
      "   -------------------------- ------------- 4/6 [scikit-image]\n",
      "   -------------------------- ------------- 4/6 [scikit-image]\n",
      "   -------------------------- ------------- 4/6 [scikit-image]\n",
      "   --------------------------------- ------ 5/6 [lime]\n",
      "   ---------------------------------------- 6/6 [lime]\n",
      "\n",
      "Successfully installed imageio-2.37.0 lazy-loader-0.4 lime-0.2.0.1 networkx-3.5 scikit-image-0.25.2 tifffile-2025.10.4\n"
     ]
    }
   ],
   "source": [
    "!{sys.executable} -m pip install lime --use-pep517\n"
   ]
  },
  {
   "cell_type": "code",
   "execution_count": 85,
   "id": "7c0ce60c-a0da-4f33-b6f6-0b132717cb15",
   "metadata": {},
   "outputs": [],
   "source": [
    "import lime\n",
    "import lime.lime_tabular"
   ]
  },
  {
   "cell_type": "code",
   "execution_count": 86,
   "id": "1b551d7a-13a9-4fb8-82e6-99458243d085",
   "metadata": {},
   "outputs": [],
   "source": [
    "# --- 4. Create the LIME Explainer ---\n",
    "# The explainer needs to know about your training data and feature/class names.\n",
    "explainer = lime.lime_tabular.LimeTabularExplainer(\n",
    "    training_data=x_train_sme.values,\n",
    "    feature_names=x_train_sme.columns.tolist(),\n",
    "    class_names=['Class 0', 'Class 1'],\n",
    "    mode='classification'\n",
    ")"
   ]
  },
  {
   "cell_type": "code",
   "execution_count": null,
   "id": "64ccb9fb-f57d-4ae0-928e-9bdfbc58229e",
   "metadata": {},
   "outputs": [],
   "source": [
    "# --- 5. Explain a Single Prediction ---\n",
    "# Let's pick a random instance from the test set to explain.\n",
    "instance_to_explain_idx = np.random.randint(0, len(x_test_sme))\n",
    "instance_to_explain = x_test_sme.iloc[instance_to_explain_idx].values # Get values as numpy array for LIME\n",
    "true_label = y_test_sme.iloc[instance_to_explain_idx] # Get true label\n",
    "\n",
    "print(f\"\\n--- Explaining a Prediction for Test Instance {instance_to_explain_idx} ---\")\n",
    "print(f\"True Class: {true_label}\")\n",
    "print(f\"Predicted Class: {np.argmax(predict_proba_for_lime(np.expand_dims(instance_to_explain, axis=0)))}\")\n",
    "\n",
    "# Generate the explanation. The `num_features` argument specifies how many of the\n",
    "# most important features you want to see.\n",
    "explanation = explainer.explain_instance(\n",
    "    data_row=instance_to_explain,\n",
    "    predict_fn=predict_proba_for_lime,\n",
    "    num_features=5\n",
    ")"
   ]
  }
 ],
 "metadata": {
  "kernelspec": {
   "display_name": "Python 3 (ipykernel)",
   "language": "python",
   "name": "python3"
  },
  "language_info": {
   "codemirror_mode": {
    "name": "ipython",
    "version": 3
   },
   "file_extension": ".py",
   "mimetype": "text/x-python",
   "name": "python",
   "nbconvert_exporter": "python",
   "pygments_lexer": "ipython3",
   "version": "3.13.4"
  }
 },
 "nbformat": 4,
 "nbformat_minor": 5
}
